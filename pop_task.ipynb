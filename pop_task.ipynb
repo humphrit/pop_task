{
 "cells": [
  {
   "cell_type": "code",
   "execution_count": 9,
   "id": "2c1e2e46-f80e-4535-bb05-624dc94af932",
   "metadata": {},
   "outputs": [],
   "source": [
    "from typing import List\n",
    "\n",
    "import numpy as np\n",
    "from plotly import graph_objects as go"
   ]
  },
  {
   "cell_type": "code",
   "execution_count": 10,
   "id": "92e7ec22-7f6b-42ab-b443-6c8966bb62e5",
   "metadata": {},
   "outputs": [],
   "source": [
    "class WorldObject:\n",
    "    col = None\n",
    "\n",
    "    def __init__(self, obj_id: int, initx: int, inity: int):\n",
    "        self.obj_id = obj_id\n",
    "        self.posx = initx\n",
    "        self.posy = inity\n",
    "\n",
    "    def move(self, step_x: int, step_y: int):\n",
    "        self.posx += step_x\n",
    "        self.posy += step_y\n",
    "\n",
    "    def update_state(self):\n",
    "        raise NotImplementedError()\n",
    "\n",
    "    def position(self):\n",
    "        return self.posx, self.posy\n",
    "\n",
    "\n",
    "class Bubble(WorldObject):\n",
    "\n",
    "    state = \"floating\"\n",
    "    col = \"green\"\n",
    "\n",
    "    def __init__(self, obj_id: int, initx: int, inity: int):\n",
    "        self.col = \"green\"\n",
    "        self.state = \"floating\"\n",
    "        super().__init__(obj_id, initx, inity)\n",
    "\n",
    "    def move_one_point_in_random_direction(self):\n",
    "        direction = np.random.choice([\"left\", \"right\", \"up\", \"down\", \"stay\"])\n",
    "        if direction == \"left\":\n",
    "            self.move(-1, 0)\n",
    "        elif direction == \"right\":\n",
    "            self.move(1, 0)\n",
    "        elif direction == \"up\":\n",
    "            self.move(0, 1)\n",
    "        elif direction == \"down\":\n",
    "            self.move(0, -1)\n",
    "\n",
    "    def update_state(self):\n",
    "        if self.state == \"floating\":\n",
    "            self.move_one_point_in_random_direction()\n",
    "        else:\n",
    "            self.col = \"blue\"\n",
    "\n",
    "    def draw(self):\n",
    "        return go.Scatter(\n",
    "            x=[self.posx], y=[self.posy], mode=\"markers\", marker={\"color\": self.col}\n",
    "        )\n",
    "\n",
    "    def burst(self):\n",
    "        if self.state == \"floating\":\n",
    "            self.state = \"burst\"\n",
    "            self.col = \"red\"\n",
    "\n",
    "\n",
    "class Rock(WorldObject):\n",
    "    col = \"orange\"\n",
    "\n",
    "    def move(self):\n",
    "        pass\n",
    "\n",
    "    def update_state(self):\n",
    "        pass\n",
    "\n",
    "    def draw(self):\n",
    "        return go.Scatter(\n",
    "            x=[self.posx], y=[self.posy], mode=\"markers\", marker={\"color\": self.col}\n",
    "        )\n",
    "\n",
    "\n",
    "class WorldGrid:\n",
    "    def __init__(self, width: int, height: int, w_objects: List[WorldObject]):\n",
    "        self.width = width\n",
    "        self.height = height\n",
    "        self.w_objects = w_objects\n",
    "        self.rock_positions = [\n",
    "            x.position() for x in self.w_objects if isinstance(x, Rock)\n",
    "        ]\n",
    "\n",
    "    def object_positions(self):\n",
    "        return [\n",
    "            x.position()\n",
    "            for x in self.w_objects\n",
    "            if isinstance(x, Bubble) and x.state == \"floating\"\n",
    "        ] + self.rock_positions\n",
    "\n",
    "    def update_state(self):\n",
    "        for w_object in self.w_objects:\n",
    "            w_object.update_state()\n",
    "        self.burst_bubbles()\n",
    "\n",
    "    def burst_bubbles(self):\n",
    "        positions = self.object_positions()\n",
    "        seen = set()\n",
    "        duplicate_positions = [x for x in positions if x in seen or seen.add(x)]\n",
    "        for w_object in self.w_objects:\n",
    "            if w_object.position() in duplicate_positions and isinstance(\n",
    "                w_object, Bubble\n",
    "            ):\n",
    "                w_object.burst()\n",
    "\n",
    "    def get_frame(self, frame_number: int):\n",
    "        draw_objects = []\n",
    "        for w_object in self.w_objects:\n",
    "            draw_objects.append(w_object.draw())\n",
    "        return go.Frame(\n",
    "            data=draw_objects,\n",
    "            layout=go.Layout(title_text=f\"Simulation frame {frame_number}\"),\n",
    "        )\n",
    "\n",
    "    # TODO: make it show frame 1 before play is hit for first time\n",
    "    def create_simulation(self, steps: int):\n",
    "        frames = []\n",
    "        for i in range(steps):\n",
    "            self.update_state()\n",
    "            frames.append(self.get_frame(i))\n",
    "\n",
    "        fig = go.Figure(\n",
    "            data=[w_obj.draw() for w_obj in self.w_objects],\n",
    "            layout=go.Layout(\n",
    "                xaxis=dict(range=[0, self.width], autorange=False),\n",
    "                yaxis=dict(range=[0, self.height], autorange=False),\n",
    "                title=\"Simulation\",\n",
    "                updatemenus=[\n",
    "                    dict(\n",
    "                        type=\"buttons\",\n",
    "                        buttons=[dict(label=\"Play\", method=\"animate\", args=[None])],\n",
    "                    )\n",
    "                ],\n",
    "            ),\n",
    "            frames=frames,\n",
    "        )\n",
    "        fig.show()"
   ]
  },
  {
   "cell_type": "code",
   "execution_count": 11,
   "outputs": [],
   "source": [
    "def simulate():\n",
    "    bubbles = [\n",
    "        Bubble(f\"bubble_{i}_{j}\", i, j)\n",
    "        for i in range(5, 15, 2)\n",
    "        for j in range(5, 15, 2)\n",
    "    ]\n",
    "    rocks = [\n",
    "        Rock(\"rock_2_2\", 2, 2),\n",
    "        Rock(\"rock_18_18\", 18, 18),\n",
    "        Rock(\"rock_3_15\", 3, 15),\n",
    "    ]\n",
    "    world = WorldGrid(20, 20, bubbles + rocks)\n",
    "    world.create_simulation(steps=50)"
   ],
   "metadata": {
    "collapsed": false,
    "pycharm": {
     "name": "#%%\n"
    }
   }
  },
  {
   "cell_type": "code",
   "execution_count": 12,
   "outputs": [
    {
     "data": {
      "application/vnd.plotly.v1+json": {
       "data": [
        {
         "marker": {
          "color": "green"
         },
         "mode": "markers",
         "x": [
          -2
         ],
         "y": [
          -2
         ],
         "type": "scatter"
        },
        {
         "marker": {
          "color": "green"
         },
         "mode": "markers",
         "x": [
          -4
         ],
         "y": [
          5
         ],
         "type": "scatter"
        },
        {
         "marker": {
          "color": "blue"
         },
         "mode": "markers",
         "x": [
          4
         ],
         "y": [
          12
         ],
         "type": "scatter"
        },
        {
         "marker": {
          "color": "green"
         },
         "mode": "markers",
         "x": [
          3
         ],
         "y": [
          2
         ],
         "type": "scatter"
        },
        {
         "marker": {
          "color": "blue"
         },
         "mode": "markers",
         "x": [
          4
         ],
         "y": [
          12
         ],
         "type": "scatter"
        },
        {
         "marker": {
          "color": "blue"
         },
         "mode": "markers",
         "x": [
          7
         ],
         "y": [
          6
         ],
         "type": "scatter"
        },
        {
         "marker": {
          "color": "blue"
         },
         "mode": "markers",
         "x": [
          7
         ],
         "y": [
          6
         ],
         "type": "scatter"
        },
        {
         "marker": {
          "color": "blue"
         },
         "mode": "markers",
         "x": [
          8
         ],
         "y": [
          9
         ],
         "type": "scatter"
        },
        {
         "marker": {
          "color": "blue"
         },
         "mode": "markers",
         "x": [
          8
         ],
         "y": [
          12
         ],
         "type": "scatter"
        },
        {
         "marker": {
          "color": "green"
         },
         "mode": "markers",
         "x": [
          10
         ],
         "y": [
          7
         ],
         "type": "scatter"
        },
        {
         "marker": {
          "color": "green"
         },
         "mode": "markers",
         "x": [
          3
         ],
         "y": [
          9
         ],
         "type": "scatter"
        },
        {
         "marker": {
          "color": "green"
         },
         "mode": "markers",
         "x": [
          13
         ],
         "y": [
          13
         ],
         "type": "scatter"
        },
        {
         "marker": {
          "color": "blue"
         },
         "mode": "markers",
         "x": [
          8
         ],
         "y": [
          9
         ],
         "type": "scatter"
        },
        {
         "marker": {
          "color": "blue"
         },
         "mode": "markers",
         "x": [
          9
         ],
         "y": [
          12
         ],
         "type": "scatter"
        },
        {
         "marker": {
          "color": "blue"
         },
         "mode": "markers",
         "x": [
          9
         ],
         "y": [
          12
         ],
         "type": "scatter"
        },
        {
         "marker": {
          "color": "blue"
         },
         "mode": "markers",
         "x": [
          13
         ],
         "y": [
          9
         ],
         "type": "scatter"
        },
        {
         "marker": {
          "color": "blue"
         },
         "mode": "markers",
         "x": [
          12
         ],
         "y": [
          6
         ],
         "type": "scatter"
        },
        {
         "marker": {
          "color": "blue"
         },
         "mode": "markers",
         "x": [
          12
         ],
         "y": [
          6
         ],
         "type": "scatter"
        },
        {
         "marker": {
          "color": "blue"
         },
         "mode": "markers",
         "x": [
          8
         ],
         "y": [
          12
         ],
         "type": "scatter"
        },
        {
         "marker": {
          "color": "green"
         },
         "mode": "markers",
         "x": [
          13
         ],
         "y": [
          18
         ],
         "type": "scatter"
        },
        {
         "marker": {
          "color": "blue"
         },
         "mode": "markers",
         "x": [
          13
         ],
         "y": [
          6
         ],
         "type": "scatter"
        },
        {
         "marker": {
          "color": "blue"
         },
         "mode": "markers",
         "x": [
          13
         ],
         "y": [
          6
         ],
         "type": "scatter"
        },
        {
         "marker": {
          "color": "blue"
         },
         "mode": "markers",
         "x": [
          12
         ],
         "y": [
          10
         ],
         "type": "scatter"
        },
        {
         "marker": {
          "color": "blue"
         },
         "mode": "markers",
         "x": [
          12
         ],
         "y": [
          10
         ],
         "type": "scatter"
        },
        {
         "marker": {
          "color": "blue"
         },
         "mode": "markers",
         "x": [
          13
         ],
         "y": [
          9
         ],
         "type": "scatter"
        },
        {
         "marker": {
          "color": "orange"
         },
         "mode": "markers",
         "x": [
          2
         ],
         "y": [
          2
         ],
         "type": "scatter"
        },
        {
         "marker": {
          "color": "orange"
         },
         "mode": "markers",
         "x": [
          18
         ],
         "y": [
          18
         ],
         "type": "scatter"
        },
        {
         "marker": {
          "color": "orange"
         },
         "mode": "markers",
         "x": [
          3
         ],
         "y": [
          15
         ],
         "type": "scatter"
        }
       ],
       "layout": {
        "title": {
         "text": "Simulation"
        },
        "updatemenus": [
         {
          "buttons": [
           {
            "args": [
             null
            ],
            "label": "Play",
            "method": "animate"
           }
          ],
          "type": "buttons"
         }
        ],
        "xaxis": {
         "autorange": false,
         "range": [
          0,
          20
         ]
        },
        "yaxis": {
         "autorange": false,
         "range": [
          0,
          20
         ]
        },
        "template": {
         "data": {
          "histogram2dcontour": [
           {
            "type": "histogram2dcontour",
            "colorbar": {
             "outlinewidth": 0,
             "ticks": ""
            },
            "colorscale": [
             [
              0.0,
              "#0d0887"
             ],
             [
              0.1111111111111111,
              "#46039f"
             ],
             [
              0.2222222222222222,
              "#7201a8"
             ],
             [
              0.3333333333333333,
              "#9c179e"
             ],
             [
              0.4444444444444444,
              "#bd3786"
             ],
             [
              0.5555555555555556,
              "#d8576b"
             ],
             [
              0.6666666666666666,
              "#ed7953"
             ],
             [
              0.7777777777777778,
              "#fb9f3a"
             ],
             [
              0.8888888888888888,
              "#fdca26"
             ],
             [
              1.0,
              "#f0f921"
             ]
            ]
           }
          ],
          "choropleth": [
           {
            "type": "choropleth",
            "colorbar": {
             "outlinewidth": 0,
             "ticks": ""
            }
           }
          ],
          "histogram2d": [
           {
            "type": "histogram2d",
            "colorbar": {
             "outlinewidth": 0,
             "ticks": ""
            },
            "colorscale": [
             [
              0.0,
              "#0d0887"
             ],
             [
              0.1111111111111111,
              "#46039f"
             ],
             [
              0.2222222222222222,
              "#7201a8"
             ],
             [
              0.3333333333333333,
              "#9c179e"
             ],
             [
              0.4444444444444444,
              "#bd3786"
             ],
             [
              0.5555555555555556,
              "#d8576b"
             ],
             [
              0.6666666666666666,
              "#ed7953"
             ],
             [
              0.7777777777777778,
              "#fb9f3a"
             ],
             [
              0.8888888888888888,
              "#fdca26"
             ],
             [
              1.0,
              "#f0f921"
             ]
            ]
           }
          ],
          "heatmap": [
           {
            "type": "heatmap",
            "colorbar": {
             "outlinewidth": 0,
             "ticks": ""
            },
            "colorscale": [
             [
              0.0,
              "#0d0887"
             ],
             [
              0.1111111111111111,
              "#46039f"
             ],
             [
              0.2222222222222222,
              "#7201a8"
             ],
             [
              0.3333333333333333,
              "#9c179e"
             ],
             [
              0.4444444444444444,
              "#bd3786"
             ],
             [
              0.5555555555555556,
              "#d8576b"
             ],
             [
              0.6666666666666666,
              "#ed7953"
             ],
             [
              0.7777777777777778,
              "#fb9f3a"
             ],
             [
              0.8888888888888888,
              "#fdca26"
             ],
             [
              1.0,
              "#f0f921"
             ]
            ]
           }
          ],
          "heatmapgl": [
           {
            "type": "heatmapgl",
            "colorbar": {
             "outlinewidth": 0,
             "ticks": ""
            },
            "colorscale": [
             [
              0.0,
              "#0d0887"
             ],
             [
              0.1111111111111111,
              "#46039f"
             ],
             [
              0.2222222222222222,
              "#7201a8"
             ],
             [
              0.3333333333333333,
              "#9c179e"
             ],
             [
              0.4444444444444444,
              "#bd3786"
             ],
             [
              0.5555555555555556,
              "#d8576b"
             ],
             [
              0.6666666666666666,
              "#ed7953"
             ],
             [
              0.7777777777777778,
              "#fb9f3a"
             ],
             [
              0.8888888888888888,
              "#fdca26"
             ],
             [
              1.0,
              "#f0f921"
             ]
            ]
           }
          ],
          "contourcarpet": [
           {
            "type": "contourcarpet",
            "colorbar": {
             "outlinewidth": 0,
             "ticks": ""
            }
           }
          ],
          "contour": [
           {
            "type": "contour",
            "colorbar": {
             "outlinewidth": 0,
             "ticks": ""
            },
            "colorscale": [
             [
              0.0,
              "#0d0887"
             ],
             [
              0.1111111111111111,
              "#46039f"
             ],
             [
              0.2222222222222222,
              "#7201a8"
             ],
             [
              0.3333333333333333,
              "#9c179e"
             ],
             [
              0.4444444444444444,
              "#bd3786"
             ],
             [
              0.5555555555555556,
              "#d8576b"
             ],
             [
              0.6666666666666666,
              "#ed7953"
             ],
             [
              0.7777777777777778,
              "#fb9f3a"
             ],
             [
              0.8888888888888888,
              "#fdca26"
             ],
             [
              1.0,
              "#f0f921"
             ]
            ]
           }
          ],
          "surface": [
           {
            "type": "surface",
            "colorbar": {
             "outlinewidth": 0,
             "ticks": ""
            },
            "colorscale": [
             [
              0.0,
              "#0d0887"
             ],
             [
              0.1111111111111111,
              "#46039f"
             ],
             [
              0.2222222222222222,
              "#7201a8"
             ],
             [
              0.3333333333333333,
              "#9c179e"
             ],
             [
              0.4444444444444444,
              "#bd3786"
             ],
             [
              0.5555555555555556,
              "#d8576b"
             ],
             [
              0.6666666666666666,
              "#ed7953"
             ],
             [
              0.7777777777777778,
              "#fb9f3a"
             ],
             [
              0.8888888888888888,
              "#fdca26"
             ],
             [
              1.0,
              "#f0f921"
             ]
            ]
           }
          ],
          "mesh3d": [
           {
            "type": "mesh3d",
            "colorbar": {
             "outlinewidth": 0,
             "ticks": ""
            }
           }
          ],
          "scatter": [
           {
            "fillpattern": {
             "fillmode": "overlay",
             "size": 10,
             "solidity": 0.2
            },
            "type": "scatter"
           }
          ],
          "parcoords": [
           {
            "type": "parcoords",
            "line": {
             "colorbar": {
              "outlinewidth": 0,
              "ticks": ""
             }
            }
           }
          ],
          "scatterpolargl": [
           {
            "type": "scatterpolargl",
            "marker": {
             "colorbar": {
              "outlinewidth": 0,
              "ticks": ""
             }
            }
           }
          ],
          "bar": [
           {
            "error_x": {
             "color": "#2a3f5f"
            },
            "error_y": {
             "color": "#2a3f5f"
            },
            "marker": {
             "line": {
              "color": "#E5ECF6",
              "width": 0.5
             },
             "pattern": {
              "fillmode": "overlay",
              "size": 10,
              "solidity": 0.2
             }
            },
            "type": "bar"
           }
          ],
          "scattergeo": [
           {
            "type": "scattergeo",
            "marker": {
             "colorbar": {
              "outlinewidth": 0,
              "ticks": ""
             }
            }
           }
          ],
          "scatterpolar": [
           {
            "type": "scatterpolar",
            "marker": {
             "colorbar": {
              "outlinewidth": 0,
              "ticks": ""
             }
            }
           }
          ],
          "histogram": [
           {
            "marker": {
             "pattern": {
              "fillmode": "overlay",
              "size": 10,
              "solidity": 0.2
             }
            },
            "type": "histogram"
           }
          ],
          "scattergl": [
           {
            "type": "scattergl",
            "marker": {
             "colorbar": {
              "outlinewidth": 0,
              "ticks": ""
             }
            }
           }
          ],
          "scatter3d": [
           {
            "type": "scatter3d",
            "line": {
             "colorbar": {
              "outlinewidth": 0,
              "ticks": ""
             }
            },
            "marker": {
             "colorbar": {
              "outlinewidth": 0,
              "ticks": ""
             }
            }
           }
          ],
          "scattermapbox": [
           {
            "type": "scattermapbox",
            "marker": {
             "colorbar": {
              "outlinewidth": 0,
              "ticks": ""
             }
            }
           }
          ],
          "scatterternary": [
           {
            "type": "scatterternary",
            "marker": {
             "colorbar": {
              "outlinewidth": 0,
              "ticks": ""
             }
            }
           }
          ],
          "scattercarpet": [
           {
            "type": "scattercarpet",
            "marker": {
             "colorbar": {
              "outlinewidth": 0,
              "ticks": ""
             }
            }
           }
          ],
          "carpet": [
           {
            "aaxis": {
             "endlinecolor": "#2a3f5f",
             "gridcolor": "white",
             "linecolor": "white",
             "minorgridcolor": "white",
             "startlinecolor": "#2a3f5f"
            },
            "baxis": {
             "endlinecolor": "#2a3f5f",
             "gridcolor": "white",
             "linecolor": "white",
             "minorgridcolor": "white",
             "startlinecolor": "#2a3f5f"
            },
            "type": "carpet"
           }
          ],
          "table": [
           {
            "cells": {
             "fill": {
              "color": "#EBF0F8"
             },
             "line": {
              "color": "white"
             }
            },
            "header": {
             "fill": {
              "color": "#C8D4E3"
             },
             "line": {
              "color": "white"
             }
            },
            "type": "table"
           }
          ],
          "barpolar": [
           {
            "marker": {
             "line": {
              "color": "#E5ECF6",
              "width": 0.5
             },
             "pattern": {
              "fillmode": "overlay",
              "size": 10,
              "solidity": 0.2
             }
            },
            "type": "barpolar"
           }
          ],
          "pie": [
           {
            "automargin": true,
            "type": "pie"
           }
          ]
         },
         "layout": {
          "autotypenumbers": "strict",
          "colorway": [
           "#636efa",
           "#EF553B",
           "#00cc96",
           "#ab63fa",
           "#FFA15A",
           "#19d3f3",
           "#FF6692",
           "#B6E880",
           "#FF97FF",
           "#FECB52"
          ],
          "font": {
           "color": "#2a3f5f"
          },
          "hovermode": "closest",
          "hoverlabel": {
           "align": "left"
          },
          "paper_bgcolor": "white",
          "plot_bgcolor": "#E5ECF6",
          "polar": {
           "bgcolor": "#E5ECF6",
           "angularaxis": {
            "gridcolor": "white",
            "linecolor": "white",
            "ticks": ""
           },
           "radialaxis": {
            "gridcolor": "white",
            "linecolor": "white",
            "ticks": ""
           }
          },
          "ternary": {
           "bgcolor": "#E5ECF6",
           "aaxis": {
            "gridcolor": "white",
            "linecolor": "white",
            "ticks": ""
           },
           "baxis": {
            "gridcolor": "white",
            "linecolor": "white",
            "ticks": ""
           },
           "caxis": {
            "gridcolor": "white",
            "linecolor": "white",
            "ticks": ""
           }
          },
          "coloraxis": {
           "colorbar": {
            "outlinewidth": 0,
            "ticks": ""
           }
          },
          "colorscale": {
           "sequential": [
            [
             0.0,
             "#0d0887"
            ],
            [
             0.1111111111111111,
             "#46039f"
            ],
            [
             0.2222222222222222,
             "#7201a8"
            ],
            [
             0.3333333333333333,
             "#9c179e"
            ],
            [
             0.4444444444444444,
             "#bd3786"
            ],
            [
             0.5555555555555556,
             "#d8576b"
            ],
            [
             0.6666666666666666,
             "#ed7953"
            ],
            [
             0.7777777777777778,
             "#fb9f3a"
            ],
            [
             0.8888888888888888,
             "#fdca26"
            ],
            [
             1.0,
             "#f0f921"
            ]
           ],
           "sequentialminus": [
            [
             0.0,
             "#0d0887"
            ],
            [
             0.1111111111111111,
             "#46039f"
            ],
            [
             0.2222222222222222,
             "#7201a8"
            ],
            [
             0.3333333333333333,
             "#9c179e"
            ],
            [
             0.4444444444444444,
             "#bd3786"
            ],
            [
             0.5555555555555556,
             "#d8576b"
            ],
            [
             0.6666666666666666,
             "#ed7953"
            ],
            [
             0.7777777777777778,
             "#fb9f3a"
            ],
            [
             0.8888888888888888,
             "#fdca26"
            ],
            [
             1.0,
             "#f0f921"
            ]
           ],
           "diverging": [
            [
             0,
             "#8e0152"
            ],
            [
             0.1,
             "#c51b7d"
            ],
            [
             0.2,
             "#de77ae"
            ],
            [
             0.3,
             "#f1b6da"
            ],
            [
             0.4,
             "#fde0ef"
            ],
            [
             0.5,
             "#f7f7f7"
            ],
            [
             0.6,
             "#e6f5d0"
            ],
            [
             0.7,
             "#b8e186"
            ],
            [
             0.8,
             "#7fbc41"
            ],
            [
             0.9,
             "#4d9221"
            ],
            [
             1,
             "#276419"
            ]
           ]
          },
          "xaxis": {
           "gridcolor": "white",
           "linecolor": "white",
           "ticks": "",
           "title": {
            "standoff": 15
           },
           "zerolinecolor": "white",
           "automargin": true,
           "zerolinewidth": 2
          },
          "yaxis": {
           "gridcolor": "white",
           "linecolor": "white",
           "ticks": "",
           "title": {
            "standoff": 15
           },
           "zerolinecolor": "white",
           "automargin": true,
           "zerolinewidth": 2
          },
          "scene": {
           "xaxis": {
            "backgroundcolor": "#E5ECF6",
            "gridcolor": "white",
            "linecolor": "white",
            "showbackground": true,
            "ticks": "",
            "zerolinecolor": "white",
            "gridwidth": 2
           },
           "yaxis": {
            "backgroundcolor": "#E5ECF6",
            "gridcolor": "white",
            "linecolor": "white",
            "showbackground": true,
            "ticks": "",
            "zerolinecolor": "white",
            "gridwidth": 2
           },
           "zaxis": {
            "backgroundcolor": "#E5ECF6",
            "gridcolor": "white",
            "linecolor": "white",
            "showbackground": true,
            "ticks": "",
            "zerolinecolor": "white",
            "gridwidth": 2
           }
          },
          "shapedefaults": {
           "line": {
            "color": "#2a3f5f"
           }
          },
          "annotationdefaults": {
           "arrowcolor": "#2a3f5f",
           "arrowhead": 0,
           "arrowwidth": 1
          },
          "geo": {
           "bgcolor": "white",
           "landcolor": "#E5ECF6",
           "subunitcolor": "white",
           "showland": true,
           "showlakes": true,
           "lakecolor": "white"
          },
          "title": {
           "x": 0.05
          },
          "mapbox": {
           "style": "light"
          }
         }
        }
       },
       "frames": [
        {
         "data": [
          {
           "marker": {
            "color": "green"
           },
           "mode": "markers",
           "x": [
            4
           ],
           "y": [
            5
           ],
           "type": "scatter"
          },
          {
           "marker": {
            "color": "green"
           },
           "mode": "markers",
           "x": [
            5
           ],
           "y": [
            6
           ],
           "type": "scatter"
          },
          {
           "marker": {
            "color": "green"
           },
           "mode": "markers",
           "x": [
            4
           ],
           "y": [
            9
           ],
           "type": "scatter"
          },
          {
           "marker": {
            "color": "green"
           },
           "mode": "markers",
           "x": [
            4
           ],
           "y": [
            11
           ],
           "type": "scatter"
          },
          {
           "marker": {
            "color": "green"
           },
           "mode": "markers",
           "x": [
            5
           ],
           "y": [
            13
           ],
           "type": "scatter"
          },
          {
           "marker": {
            "color": "red"
           },
           "mode": "markers",
           "x": [
            7
           ],
           "y": [
            6
           ],
           "type": "scatter"
          },
          {
           "marker": {
            "color": "red"
           },
           "mode": "markers",
           "x": [
            7
           ],
           "y": [
            6
           ],
           "type": "scatter"
          },
          {
           "marker": {
            "color": "green"
           },
           "mode": "markers",
           "x": [
            7
           ],
           "y": [
            8
           ],
           "type": "scatter"
          },
          {
           "marker": {
            "color": "green"
           },
           "mode": "markers",
           "x": [
            7
           ],
           "y": [
            11
           ],
           "type": "scatter"
          },
          {
           "marker": {
            "color": "green"
           },
           "mode": "markers",
           "x": [
            7
           ],
           "y": [
            13
           ],
           "type": "scatter"
          },
          {
           "marker": {
            "color": "green"
           },
           "mode": "markers",
           "x": [
            9
           ],
           "y": [
            5
           ],
           "type": "scatter"
          },
          {
           "marker": {
            "color": "green"
           },
           "mode": "markers",
           "x": [
            9
           ],
           "y": [
            8
           ],
           "type": "scatter"
          },
          {
           "marker": {
            "color": "green"
           },
           "mode": "markers",
           "x": [
            8
           ],
           "y": [
            9
           ],
           "type": "scatter"
          },
          {
           "marker": {
            "color": "red"
           },
           "mode": "markers",
           "x": [
            9
           ],
           "y": [
            12
           ],
           "type": "scatter"
          },
          {
           "marker": {
            "color": "red"
           },
           "mode": "markers",
           "x": [
            9
           ],
           "y": [
            12
           ],
           "type": "scatter"
          },
          {
           "marker": {
            "color": "green"
           },
           "mode": "markers",
           "x": [
            11
           ],
           "y": [
            5
           ],
           "type": "scatter"
          },
          {
           "marker": {
            "color": "green"
           },
           "mode": "markers",
           "x": [
            11
           ],
           "y": [
            6
           ],
           "type": "scatter"
          },
          {
           "marker": {
            "color": "green"
           },
           "mode": "markers",
           "x": [
            11
           ],
           "y": [
            8
           ],
           "type": "scatter"
          },
          {
           "marker": {
            "color": "green"
           },
           "mode": "markers",
           "x": [
            11
           ],
           "y": [
            11
           ],
           "type": "scatter"
          },
          {
           "marker": {
            "color": "green"
           },
           "mode": "markers",
           "x": [
            11
           ],
           "y": [
            12
           ],
           "type": "scatter"
          },
          {
           "marker": {
            "color": "red"
           },
           "mode": "markers",
           "x": [
            13
           ],
           "y": [
            6
           ],
           "type": "scatter"
          },
          {
           "marker": {
            "color": "red"
           },
           "mode": "markers",
           "x": [
            13
           ],
           "y": [
            6
           ],
           "type": "scatter"
          },
          {
           "marker": {
            "color": "green"
           },
           "mode": "markers",
           "x": [
            13
           ],
           "y": [
            9
           ],
           "type": "scatter"
          },
          {
           "marker": {
            "color": "green"
           },
           "mode": "markers",
           "x": [
            13
           ],
           "y": [
            10
           ],
           "type": "scatter"
          },
          {
           "marker": {
            "color": "green"
           },
           "mode": "markers",
           "x": [
            13
           ],
           "y": [
            12
           ],
           "type": "scatter"
          },
          {
           "marker": {
            "color": "orange"
           },
           "mode": "markers",
           "x": [
            2
           ],
           "y": [
            2
           ],
           "type": "scatter"
          },
          {
           "marker": {
            "color": "orange"
           },
           "mode": "markers",
           "x": [
            18
           ],
           "y": [
            18
           ],
           "type": "scatter"
          },
          {
           "marker": {
            "color": "orange"
           },
           "mode": "markers",
           "x": [
            3
           ],
           "y": [
            15
           ],
           "type": "scatter"
          }
         ],
         "layout": {
          "title": {
           "text": "Simulation frame 0"
          }
         }
        },
        {
         "data": [
          {
           "marker": {
            "color": "green"
           },
           "mode": "markers",
           "x": [
            4
           ],
           "y": [
            5
           ],
           "type": "scatter"
          },
          {
           "marker": {
            "color": "green"
           },
           "mode": "markers",
           "x": [
            4
           ],
           "y": [
            6
           ],
           "type": "scatter"
          },
          {
           "marker": {
            "color": "green"
           },
           "mode": "markers",
           "x": [
            5
           ],
           "y": [
            9
           ],
           "type": "scatter"
          },
          {
           "marker": {
            "color": "green"
           },
           "mode": "markers",
           "x": [
            3
           ],
           "y": [
            11
           ],
           "type": "scatter"
          },
          {
           "marker": {
            "color": "green"
           },
           "mode": "markers",
           "x": [
            5
           ],
           "y": [
            12
           ],
           "type": "scatter"
          },
          {
           "marker": {
            "color": "blue"
           },
           "mode": "markers",
           "x": [
            7
           ],
           "y": [
            6
           ],
           "type": "scatter"
          },
          {
           "marker": {
            "color": "blue"
           },
           "mode": "markers",
           "x": [
            7
           ],
           "y": [
            6
           ],
           "type": "scatter"
          },
          {
           "marker": {
            "color": "green"
           },
           "mode": "markers",
           "x": [
            7
           ],
           "y": [
            9
           ],
           "type": "scatter"
          },
          {
           "marker": {
            "color": "green"
           },
           "mode": "markers",
           "x": [
            7
           ],
           "y": [
            11
           ],
           "type": "scatter"
          },
          {
           "marker": {
            "color": "green"
           },
           "mode": "markers",
           "x": [
            6
           ],
           "y": [
            13
           ],
           "type": "scatter"
          },
          {
           "marker": {
            "color": "green"
           },
           "mode": "markers",
           "x": [
            9
           ],
           "y": [
            5
           ],
           "type": "scatter"
          },
          {
           "marker": {
            "color": "green"
           },
           "mode": "markers",
           "x": [
            9
           ],
           "y": [
            8
           ],
           "type": "scatter"
          },
          {
           "marker": {
            "color": "green"
           },
           "mode": "markers",
           "x": [
            9
           ],
           "y": [
            9
           ],
           "type": "scatter"
          },
          {
           "marker": {
            "color": "blue"
           },
           "mode": "markers",
           "x": [
            9
           ],
           "y": [
            12
           ],
           "type": "scatter"
          },
          {
           "marker": {
            "color": "blue"
           },
           "mode": "markers",
           "x": [
            9
           ],
           "y": [
            12
           ],
           "type": "scatter"
          },
          {
           "marker": {
            "color": "green"
           },
           "mode": "markers",
           "x": [
            11
           ],
           "y": [
            4
           ],
           "type": "scatter"
          },
          {
           "marker": {
            "color": "green"
           },
           "mode": "markers",
           "x": [
            12
           ],
           "y": [
            6
           ],
           "type": "scatter"
          },
          {
           "marker": {
            "color": "green"
           },
           "mode": "markers",
           "x": [
            11
           ],
           "y": [
            7
           ],
           "type": "scatter"
          },
          {
           "marker": {
            "color": "green"
           },
           "mode": "markers",
           "x": [
            10
           ],
           "y": [
            11
           ],
           "type": "scatter"
          },
          {
           "marker": {
            "color": "green"
           },
           "mode": "markers",
           "x": [
            11
           ],
           "y": [
            13
           ],
           "type": "scatter"
          },
          {
           "marker": {
            "color": "blue"
           },
           "mode": "markers",
           "x": [
            13
           ],
           "y": [
            6
           ],
           "type": "scatter"
          },
          {
           "marker": {
            "color": "blue"
           },
           "mode": "markers",
           "x": [
            13
           ],
           "y": [
            6
           ],
           "type": "scatter"
          },
          {
           "marker": {
            "color": "green"
           },
           "mode": "markers",
           "x": [
            13
           ],
           "y": [
            10
           ],
           "type": "scatter"
          },
          {
           "marker": {
            "color": "green"
           },
           "mode": "markers",
           "x": [
            13
           ],
           "y": [
            9
           ],
           "type": "scatter"
          },
          {
           "marker": {
            "color": "green"
           },
           "mode": "markers",
           "x": [
            13
           ],
           "y": [
            12
           ],
           "type": "scatter"
          },
          {
           "marker": {
            "color": "orange"
           },
           "mode": "markers",
           "x": [
            2
           ],
           "y": [
            2
           ],
           "type": "scatter"
          },
          {
           "marker": {
            "color": "orange"
           },
           "mode": "markers",
           "x": [
            18
           ],
           "y": [
            18
           ],
           "type": "scatter"
          },
          {
           "marker": {
            "color": "orange"
           },
           "mode": "markers",
           "x": [
            3
           ],
           "y": [
            15
           ],
           "type": "scatter"
          }
         ],
         "layout": {
          "title": {
           "text": "Simulation frame 1"
          }
         }
        },
        {
         "data": [
          {
           "marker": {
            "color": "green"
           },
           "mode": "markers",
           "x": [
            3
           ],
           "y": [
            5
           ],
           "type": "scatter"
          },
          {
           "marker": {
            "color": "green"
           },
           "mode": "markers",
           "x": [
            5
           ],
           "y": [
            6
           ],
           "type": "scatter"
          },
          {
           "marker": {
            "color": "green"
           },
           "mode": "markers",
           "x": [
            5
           ],
           "y": [
            9
           ],
           "type": "scatter"
          },
          {
           "marker": {
            "color": "green"
           },
           "mode": "markers",
           "x": [
            3
           ],
           "y": [
            11
           ],
           "type": "scatter"
          },
          {
           "marker": {
            "color": "green"
           },
           "mode": "markers",
           "x": [
            5
           ],
           "y": [
            12
           ],
           "type": "scatter"
          },
          {
           "marker": {
            "color": "blue"
           },
           "mode": "markers",
           "x": [
            7
           ],
           "y": [
            6
           ],
           "type": "scatter"
          },
          {
           "marker": {
            "color": "blue"
           },
           "mode": "markers",
           "x": [
            7
           ],
           "y": [
            6
           ],
           "type": "scatter"
          },
          {
           "marker": {
            "color": "red"
           },
           "mode": "markers",
           "x": [
            8
           ],
           "y": [
            9
           ],
           "type": "scatter"
          },
          {
           "marker": {
            "color": "green"
           },
           "mode": "markers",
           "x": [
            7
           ],
           "y": [
            12
           ],
           "type": "scatter"
          },
          {
           "marker": {
            "color": "green"
           },
           "mode": "markers",
           "x": [
            6
           ],
           "y": [
            12
           ],
           "type": "scatter"
          },
          {
           "marker": {
            "color": "green"
           },
           "mode": "markers",
           "x": [
            8
           ],
           "y": [
            5
           ],
           "type": "scatter"
          },
          {
           "marker": {
            "color": "green"
           },
           "mode": "markers",
           "x": [
            10
           ],
           "y": [
            8
           ],
           "type": "scatter"
          },
          {
           "marker": {
            "color": "red"
           },
           "mode": "markers",
           "x": [
            8
           ],
           "y": [
            9
           ],
           "type": "scatter"
          },
          {
           "marker": {
            "color": "blue"
           },
           "mode": "markers",
           "x": [
            9
           ],
           "y": [
            12
           ],
           "type": "scatter"
          },
          {
           "marker": {
            "color": "blue"
           },
           "mode": "markers",
           "x": [
            9
           ],
           "y": [
            12
           ],
           "type": "scatter"
          },
          {
           "marker": {
            "color": "green"
           },
           "mode": "markers",
           "x": [
            12
           ],
           "y": [
            4
           ],
           "type": "scatter"
          },
          {
           "marker": {
            "color": "green"
           },
           "mode": "markers",
           "x": [
            12
           ],
           "y": [
            5
           ],
           "type": "scatter"
          },
          {
           "marker": {
            "color": "green"
           },
           "mode": "markers",
           "x": [
            11
           ],
           "y": [
            6
           ],
           "type": "scatter"
          },
          {
           "marker": {
            "color": "green"
           },
           "mode": "markers",
           "x": [
            9
           ],
           "y": [
            11
           ],
           "type": "scatter"
          },
          {
           "marker": {
            "color": "green"
           },
           "mode": "markers",
           "x": [
            11
           ],
           "y": [
            14
           ],
           "type": "scatter"
          },
          {
           "marker": {
            "color": "blue"
           },
           "mode": "markers",
           "x": [
            13
           ],
           "y": [
            6
           ],
           "type": "scatter"
          },
          {
           "marker": {
            "color": "blue"
           },
           "mode": "markers",
           "x": [
            13
           ],
           "y": [
            6
           ],
           "type": "scatter"
          },
          {
           "marker": {
            "color": "green"
           },
           "mode": "markers",
           "x": [
            12
           ],
           "y": [
            10
           ],
           "type": "scatter"
          },
          {
           "marker": {
            "color": "green"
           },
           "mode": "markers",
           "x": [
            13
           ],
           "y": [
            10
           ],
           "type": "scatter"
          },
          {
           "marker": {
            "color": "green"
           },
           "mode": "markers",
           "x": [
            12
           ],
           "y": [
            12
           ],
           "type": "scatter"
          },
          {
           "marker": {
            "color": "orange"
           },
           "mode": "markers",
           "x": [
            2
           ],
           "y": [
            2
           ],
           "type": "scatter"
          },
          {
           "marker": {
            "color": "orange"
           },
           "mode": "markers",
           "x": [
            18
           ],
           "y": [
            18
           ],
           "type": "scatter"
          },
          {
           "marker": {
            "color": "orange"
           },
           "mode": "markers",
           "x": [
            3
           ],
           "y": [
            15
           ],
           "type": "scatter"
          }
         ],
         "layout": {
          "title": {
           "text": "Simulation frame 2"
          }
         }
        },
        {
         "data": [
          {
           "marker": {
            "color": "green"
           },
           "mode": "markers",
           "x": [
            2
           ],
           "y": [
            5
           ],
           "type": "scatter"
          },
          {
           "marker": {
            "color": "green"
           },
           "mode": "markers",
           "x": [
            5
           ],
           "y": [
            5
           ],
           "type": "scatter"
          },
          {
           "marker": {
            "color": "green"
           },
           "mode": "markers",
           "x": [
            4
           ],
           "y": [
            9
           ],
           "type": "scatter"
          },
          {
           "marker": {
            "color": "green"
           },
           "mode": "markers",
           "x": [
            2
           ],
           "y": [
            11
           ],
           "type": "scatter"
          },
          {
           "marker": {
            "color": "green"
           },
           "mode": "markers",
           "x": [
            5
           ],
           "y": [
            13
           ],
           "type": "scatter"
          },
          {
           "marker": {
            "color": "blue"
           },
           "mode": "markers",
           "x": [
            7
           ],
           "y": [
            6
           ],
           "type": "scatter"
          },
          {
           "marker": {
            "color": "blue"
           },
           "mode": "markers",
           "x": [
            7
           ],
           "y": [
            6
           ],
           "type": "scatter"
          },
          {
           "marker": {
            "color": "blue"
           },
           "mode": "markers",
           "x": [
            8
           ],
           "y": [
            9
           ],
           "type": "scatter"
          },
          {
           "marker": {
            "color": "green"
           },
           "mode": "markers",
           "x": [
            8
           ],
           "y": [
            12
           ],
           "type": "scatter"
          },
          {
           "marker": {
            "color": "green"
           },
           "mode": "markers",
           "x": [
            6
           ],
           "y": [
            13
           ],
           "type": "scatter"
          },
          {
           "marker": {
            "color": "green"
           },
           "mode": "markers",
           "x": [
            7
           ],
           "y": [
            5
           ],
           "type": "scatter"
          },
          {
           "marker": {
            "color": "green"
           },
           "mode": "markers",
           "x": [
            10
           ],
           "y": [
            8
           ],
           "type": "scatter"
          },
          {
           "marker": {
            "color": "blue"
           },
           "mode": "markers",
           "x": [
            8
           ],
           "y": [
            9
           ],
           "type": "scatter"
          },
          {
           "marker": {
            "color": "blue"
           },
           "mode": "markers",
           "x": [
            9
           ],
           "y": [
            12
           ],
           "type": "scatter"
          },
          {
           "marker": {
            "color": "blue"
           },
           "mode": "markers",
           "x": [
            9
           ],
           "y": [
            12
           ],
           "type": "scatter"
          },
          {
           "marker": {
            "color": "green"
           },
           "mode": "markers",
           "x": [
            11
           ],
           "y": [
            4
           ],
           "type": "scatter"
          },
          {
           "marker": {
            "color": "red"
           },
           "mode": "markers",
           "x": [
            12
           ],
           "y": [
            6
           ],
           "type": "scatter"
          },
          {
           "marker": {
            "color": "red"
           },
           "mode": "markers",
           "x": [
            12
           ],
           "y": [
            6
           ],
           "type": "scatter"
          },
          {
           "marker": {
            "color": "green"
           },
           "mode": "markers",
           "x": [
            9
           ],
           "y": [
            11
           ],
           "type": "scatter"
          },
          {
           "marker": {
            "color": "green"
           },
           "mode": "markers",
           "x": [
            11
           ],
           "y": [
            13
           ],
           "type": "scatter"
          },
          {
           "marker": {
            "color": "blue"
           },
           "mode": "markers",
           "x": [
            13
           ],
           "y": [
            6
           ],
           "type": "scatter"
          },
          {
           "marker": {
            "color": "blue"
           },
           "mode": "markers",
           "x": [
            13
           ],
           "y": [
            6
           ],
           "type": "scatter"
          },
          {
           "marker": {
            "color": "green"
           },
           "mode": "markers",
           "x": [
            13
           ],
           "y": [
            10
           ],
           "type": "scatter"
          },
          {
           "marker": {
            "color": "green"
           },
           "mode": "markers",
           "x": [
            12
           ],
           "y": [
            10
           ],
           "type": "scatter"
          },
          {
           "marker": {
            "color": "green"
           },
           "mode": "markers",
           "x": [
            12
           ],
           "y": [
            11
           ],
           "type": "scatter"
          },
          {
           "marker": {
            "color": "orange"
           },
           "mode": "markers",
           "x": [
            2
           ],
           "y": [
            2
           ],
           "type": "scatter"
          },
          {
           "marker": {
            "color": "orange"
           },
           "mode": "markers",
           "x": [
            18
           ],
           "y": [
            18
           ],
           "type": "scatter"
          },
          {
           "marker": {
            "color": "orange"
           },
           "mode": "markers",
           "x": [
            3
           ],
           "y": [
            15
           ],
           "type": "scatter"
          }
         ],
         "layout": {
          "title": {
           "text": "Simulation frame 3"
          }
         }
        },
        {
         "data": [
          {
           "marker": {
            "color": "green"
           },
           "mode": "markers",
           "x": [
            2
           ],
           "y": [
            4
           ],
           "type": "scatter"
          },
          {
           "marker": {
            "color": "green"
           },
           "mode": "markers",
           "x": [
            4
           ],
           "y": [
            5
           ],
           "type": "scatter"
          },
          {
           "marker": {
            "color": "green"
           },
           "mode": "markers",
           "x": [
            4
           ],
           "y": [
            10
           ],
           "type": "scatter"
          },
          {
           "marker": {
            "color": "green"
           },
           "mode": "markers",
           "x": [
            2
           ],
           "y": [
            11
           ],
           "type": "scatter"
          },
          {
           "marker": {
            "color": "green"
           },
           "mode": "markers",
           "x": [
            4
           ],
           "y": [
            13
           ],
           "type": "scatter"
          },
          {
           "marker": {
            "color": "blue"
           },
           "mode": "markers",
           "x": [
            7
           ],
           "y": [
            6
           ],
           "type": "scatter"
          },
          {
           "marker": {
            "color": "blue"
           },
           "mode": "markers",
           "x": [
            7
           ],
           "y": [
            6
           ],
           "type": "scatter"
          },
          {
           "marker": {
            "color": "blue"
           },
           "mode": "markers",
           "x": [
            8
           ],
           "y": [
            9
           ],
           "type": "scatter"
          },
          {
           "marker": {
            "color": "green"
           },
           "mode": "markers",
           "x": [
            9
           ],
           "y": [
            12
           ],
           "type": "scatter"
          },
          {
           "marker": {
            "color": "green"
           },
           "mode": "markers",
           "x": [
            7
           ],
           "y": [
            13
           ],
           "type": "scatter"
          },
          {
           "marker": {
            "color": "green"
           },
           "mode": "markers",
           "x": [
            8
           ],
           "y": [
            5
           ],
           "type": "scatter"
          },
          {
           "marker": {
            "color": "green"
           },
           "mode": "markers",
           "x": [
            11
           ],
           "y": [
            8
           ],
           "type": "scatter"
          },
          {
           "marker": {
            "color": "blue"
           },
           "mode": "markers",
           "x": [
            8
           ],
           "y": [
            9
           ],
           "type": "scatter"
          },
          {
           "marker": {
            "color": "blue"
           },
           "mode": "markers",
           "x": [
            9
           ],
           "y": [
            12
           ],
           "type": "scatter"
          },
          {
           "marker": {
            "color": "blue"
           },
           "mode": "markers",
           "x": [
            9
           ],
           "y": [
            12
           ],
           "type": "scatter"
          },
          {
           "marker": {
            "color": "green"
           },
           "mode": "markers",
           "x": [
            11
           ],
           "y": [
            5
           ],
           "type": "scatter"
          },
          {
           "marker": {
            "color": "blue"
           },
           "mode": "markers",
           "x": [
            12
           ],
           "y": [
            6
           ],
           "type": "scatter"
          },
          {
           "marker": {
            "color": "blue"
           },
           "mode": "markers",
           "x": [
            12
           ],
           "y": [
            6
           ],
           "type": "scatter"
          },
          {
           "marker": {
            "color": "green"
           },
           "mode": "markers",
           "x": [
            9
           ],
           "y": [
            10
           ],
           "type": "scatter"
          },
          {
           "marker": {
            "color": "green"
           },
           "mode": "markers",
           "x": [
            12
           ],
           "y": [
            13
           ],
           "type": "scatter"
          },
          {
           "marker": {
            "color": "blue"
           },
           "mode": "markers",
           "x": [
            13
           ],
           "y": [
            6
           ],
           "type": "scatter"
          },
          {
           "marker": {
            "color": "blue"
           },
           "mode": "markers",
           "x": [
            13
           ],
           "y": [
            6
           ],
           "type": "scatter"
          },
          {
           "marker": {
            "color": "green"
           },
           "mode": "markers",
           "x": [
            14
           ],
           "y": [
            10
           ],
           "type": "scatter"
          },
          {
           "marker": {
            "color": "green"
           },
           "mode": "markers",
           "x": [
            11
           ],
           "y": [
            10
           ],
           "type": "scatter"
          },
          {
           "marker": {
            "color": "green"
           },
           "mode": "markers",
           "x": [
            12
           ],
           "y": [
            10
           ],
           "type": "scatter"
          },
          {
           "marker": {
            "color": "orange"
           },
           "mode": "markers",
           "x": [
            2
           ],
           "y": [
            2
           ],
           "type": "scatter"
          },
          {
           "marker": {
            "color": "orange"
           },
           "mode": "markers",
           "x": [
            18
           ],
           "y": [
            18
           ],
           "type": "scatter"
          },
          {
           "marker": {
            "color": "orange"
           },
           "mode": "markers",
           "x": [
            3
           ],
           "y": [
            15
           ],
           "type": "scatter"
          }
         ],
         "layout": {
          "title": {
           "text": "Simulation frame 4"
          }
         }
        },
        {
         "data": [
          {
           "marker": {
            "color": "green"
           },
           "mode": "markers",
           "x": [
            1
           ],
           "y": [
            4
           ],
           "type": "scatter"
          },
          {
           "marker": {
            "color": "green"
           },
           "mode": "markers",
           "x": [
            3
           ],
           "y": [
            5
           ],
           "type": "scatter"
          },
          {
           "marker": {
            "color": "green"
           },
           "mode": "markers",
           "x": [
            5
           ],
           "y": [
            10
           ],
           "type": "scatter"
          },
          {
           "marker": {
            "color": "green"
           },
           "mode": "markers",
           "x": [
            3
           ],
           "y": [
            11
           ],
           "type": "scatter"
          },
          {
           "marker": {
            "color": "green"
           },
           "mode": "markers",
           "x": [
            4
           ],
           "y": [
            12
           ],
           "type": "scatter"
          },
          {
           "marker": {
            "color": "blue"
           },
           "mode": "markers",
           "x": [
            7
           ],
           "y": [
            6
           ],
           "type": "scatter"
          },
          {
           "marker": {
            "color": "blue"
           },
           "mode": "markers",
           "x": [
            7
           ],
           "y": [
            6
           ],
           "type": "scatter"
          },
          {
           "marker": {
            "color": "blue"
           },
           "mode": "markers",
           "x": [
            8
           ],
           "y": [
            9
           ],
           "type": "scatter"
          },
          {
           "marker": {
            "color": "green"
           },
           "mode": "markers",
           "x": [
            9
           ],
           "y": [
            13
           ],
           "type": "scatter"
          },
          {
           "marker": {
            "color": "green"
           },
           "mode": "markers",
           "x": [
            7
           ],
           "y": [
            13
           ],
           "type": "scatter"
          },
          {
           "marker": {
            "color": "green"
           },
           "mode": "markers",
           "x": [
            8
           ],
           "y": [
            6
           ],
           "type": "scatter"
          },
          {
           "marker": {
            "color": "green"
           },
           "mode": "markers",
           "x": [
            12
           ],
           "y": [
            8
           ],
           "type": "scatter"
          },
          {
           "marker": {
            "color": "blue"
           },
           "mode": "markers",
           "x": [
            8
           ],
           "y": [
            9
           ],
           "type": "scatter"
          },
          {
           "marker": {
            "color": "blue"
           },
           "mode": "markers",
           "x": [
            9
           ],
           "y": [
            12
           ],
           "type": "scatter"
          },
          {
           "marker": {
            "color": "blue"
           },
           "mode": "markers",
           "x": [
            9
           ],
           "y": [
            12
           ],
           "type": "scatter"
          },
          {
           "marker": {
            "color": "green"
           },
           "mode": "markers",
           "x": [
            11
           ],
           "y": [
            6
           ],
           "type": "scatter"
          },
          {
           "marker": {
            "color": "blue"
           },
           "mode": "markers",
           "x": [
            12
           ],
           "y": [
            6
           ],
           "type": "scatter"
          },
          {
           "marker": {
            "color": "blue"
           },
           "mode": "markers",
           "x": [
            12
           ],
           "y": [
            6
           ],
           "type": "scatter"
          },
          {
           "marker": {
            "color": "green"
           },
           "mode": "markers",
           "x": [
            8
           ],
           "y": [
            10
           ],
           "type": "scatter"
          },
          {
           "marker": {
            "color": "green"
           },
           "mode": "markers",
           "x": [
            12
           ],
           "y": [
            14
           ],
           "type": "scatter"
          },
          {
           "marker": {
            "color": "blue"
           },
           "mode": "markers",
           "x": [
            13
           ],
           "y": [
            6
           ],
           "type": "scatter"
          },
          {
           "marker": {
            "color": "blue"
           },
           "mode": "markers",
           "x": [
            13
           ],
           "y": [
            6
           ],
           "type": "scatter"
          },
          {
           "marker": {
            "color": "green"
           },
           "mode": "markers",
           "x": [
            13
           ],
           "y": [
            10
           ],
           "type": "scatter"
          },
          {
           "marker": {
            "color": "green"
           },
           "mode": "markers",
           "x": [
            12
           ],
           "y": [
            10
           ],
           "type": "scatter"
          },
          {
           "marker": {
            "color": "green"
           },
           "mode": "markers",
           "x": [
            12
           ],
           "y": [
            9
           ],
           "type": "scatter"
          },
          {
           "marker": {
            "color": "orange"
           },
           "mode": "markers",
           "x": [
            2
           ],
           "y": [
            2
           ],
           "type": "scatter"
          },
          {
           "marker": {
            "color": "orange"
           },
           "mode": "markers",
           "x": [
            18
           ],
           "y": [
            18
           ],
           "type": "scatter"
          },
          {
           "marker": {
            "color": "orange"
           },
           "mode": "markers",
           "x": [
            3
           ],
           "y": [
            15
           ],
           "type": "scatter"
          }
         ],
         "layout": {
          "title": {
           "text": "Simulation frame 5"
          }
         }
        },
        {
         "data": [
          {
           "marker": {
            "color": "green"
           },
           "mode": "markers",
           "x": [
            1
           ],
           "y": [
            3
           ],
           "type": "scatter"
          },
          {
           "marker": {
            "color": "green"
           },
           "mode": "markers",
           "x": [
            3
           ],
           "y": [
            6
           ],
           "type": "scatter"
          },
          {
           "marker": {
            "color": "green"
           },
           "mode": "markers",
           "x": [
            5
           ],
           "y": [
            9
           ],
           "type": "scatter"
          },
          {
           "marker": {
            "color": "green"
           },
           "mode": "markers",
           "x": [
            2
           ],
           "y": [
            11
           ],
           "type": "scatter"
          },
          {
           "marker": {
            "color": "green"
           },
           "mode": "markers",
           "x": [
            4
           ],
           "y": [
            12
           ],
           "type": "scatter"
          },
          {
           "marker": {
            "color": "blue"
           },
           "mode": "markers",
           "x": [
            7
           ],
           "y": [
            6
           ],
           "type": "scatter"
          },
          {
           "marker": {
            "color": "blue"
           },
           "mode": "markers",
           "x": [
            7
           ],
           "y": [
            6
           ],
           "type": "scatter"
          },
          {
           "marker": {
            "color": "blue"
           },
           "mode": "markers",
           "x": [
            8
           ],
           "y": [
            9
           ],
           "type": "scatter"
          },
          {
           "marker": {
            "color": "green"
           },
           "mode": "markers",
           "x": [
            9
           ],
           "y": [
            12
           ],
           "type": "scatter"
          },
          {
           "marker": {
            "color": "green"
           },
           "mode": "markers",
           "x": [
            7
           ],
           "y": [
            12
           ],
           "type": "scatter"
          },
          {
           "marker": {
            "color": "green"
           },
           "mode": "markers",
           "x": [
            7
           ],
           "y": [
            6
           ],
           "type": "scatter"
          },
          {
           "marker": {
            "color": "green"
           },
           "mode": "markers",
           "x": [
            13
           ],
           "y": [
            8
           ],
           "type": "scatter"
          },
          {
           "marker": {
            "color": "blue"
           },
           "mode": "markers",
           "x": [
            8
           ],
           "y": [
            9
           ],
           "type": "scatter"
          },
          {
           "marker": {
            "color": "blue"
           },
           "mode": "markers",
           "x": [
            9
           ],
           "y": [
            12
           ],
           "type": "scatter"
          },
          {
           "marker": {
            "color": "blue"
           },
           "mode": "markers",
           "x": [
            9
           ],
           "y": [
            12
           ],
           "type": "scatter"
          },
          {
           "marker": {
            "color": "green"
           },
           "mode": "markers",
           "x": [
            11
           ],
           "y": [
            7
           ],
           "type": "scatter"
          },
          {
           "marker": {
            "color": "blue"
           },
           "mode": "markers",
           "x": [
            12
           ],
           "y": [
            6
           ],
           "type": "scatter"
          },
          {
           "marker": {
            "color": "blue"
           },
           "mode": "markers",
           "x": [
            12
           ],
           "y": [
            6
           ],
           "type": "scatter"
          },
          {
           "marker": {
            "color": "green"
           },
           "mode": "markers",
           "x": [
            8
           ],
           "y": [
            10
           ],
           "type": "scatter"
          },
          {
           "marker": {
            "color": "green"
           },
           "mode": "markers",
           "x": [
            11
           ],
           "y": [
            14
           ],
           "type": "scatter"
          },
          {
           "marker": {
            "color": "blue"
           },
           "mode": "markers",
           "x": [
            13
           ],
           "y": [
            6
           ],
           "type": "scatter"
          },
          {
           "marker": {
            "color": "blue"
           },
           "mode": "markers",
           "x": [
            13
           ],
           "y": [
            6
           ],
           "type": "scatter"
          },
          {
           "marker": {
            "color": "red"
           },
           "mode": "markers",
           "x": [
            12
           ],
           "y": [
            10
           ],
           "type": "scatter"
          },
          {
           "marker": {
            "color": "red"
           },
           "mode": "markers",
           "x": [
            12
           ],
           "y": [
            10
           ],
           "type": "scatter"
          },
          {
           "marker": {
            "color": "green"
           },
           "mode": "markers",
           "x": [
            12
           ],
           "y": [
            8
           ],
           "type": "scatter"
          },
          {
           "marker": {
            "color": "orange"
           },
           "mode": "markers",
           "x": [
            2
           ],
           "y": [
            2
           ],
           "type": "scatter"
          },
          {
           "marker": {
            "color": "orange"
           },
           "mode": "markers",
           "x": [
            18
           ],
           "y": [
            18
           ],
           "type": "scatter"
          },
          {
           "marker": {
            "color": "orange"
           },
           "mode": "markers",
           "x": [
            3
           ],
           "y": [
            15
           ],
           "type": "scatter"
          }
         ],
         "layout": {
          "title": {
           "text": "Simulation frame 6"
          }
         }
        },
        {
         "data": [
          {
           "marker": {
            "color": "green"
           },
           "mode": "markers",
           "x": [
            2
           ],
           "y": [
            3
           ],
           "type": "scatter"
          },
          {
           "marker": {
            "color": "green"
           },
           "mode": "markers",
           "x": [
            2
           ],
           "y": [
            6
           ],
           "type": "scatter"
          },
          {
           "marker": {
            "color": "green"
           },
           "mode": "markers",
           "x": [
            5
           ],
           "y": [
            10
           ],
           "type": "scatter"
          },
          {
           "marker": {
            "color": "green"
           },
           "mode": "markers",
           "x": [
            3
           ],
           "y": [
            11
           ],
           "type": "scatter"
          },
          {
           "marker": {
            "color": "green"
           },
           "mode": "markers",
           "x": [
            3
           ],
           "y": [
            12
           ],
           "type": "scatter"
          },
          {
           "marker": {
            "color": "blue"
           },
           "mode": "markers",
           "x": [
            7
           ],
           "y": [
            6
           ],
           "type": "scatter"
          },
          {
           "marker": {
            "color": "blue"
           },
           "mode": "markers",
           "x": [
            7
           ],
           "y": [
            6
           ],
           "type": "scatter"
          },
          {
           "marker": {
            "color": "blue"
           },
           "mode": "markers",
           "x": [
            8
           ],
           "y": [
            9
           ],
           "type": "scatter"
          },
          {
           "marker": {
            "color": "green"
           },
           "mode": "markers",
           "x": [
            9
           ],
           "y": [
            13
           ],
           "type": "scatter"
          },
          {
           "marker": {
            "color": "green"
           },
           "mode": "markers",
           "x": [
            7
           ],
           "y": [
            12
           ],
           "type": "scatter"
          },
          {
           "marker": {
            "color": "green"
           },
           "mode": "markers",
           "x": [
            7
           ],
           "y": [
            6
           ],
           "type": "scatter"
          },
          {
           "marker": {
            "color": "green"
           },
           "mode": "markers",
           "x": [
            13
           ],
           "y": [
            7
           ],
           "type": "scatter"
          },
          {
           "marker": {
            "color": "blue"
           },
           "mode": "markers",
           "x": [
            8
           ],
           "y": [
            9
           ],
           "type": "scatter"
          },
          {
           "marker": {
            "color": "blue"
           },
           "mode": "markers",
           "x": [
            9
           ],
           "y": [
            12
           ],
           "type": "scatter"
          },
          {
           "marker": {
            "color": "blue"
           },
           "mode": "markers",
           "x": [
            9
           ],
           "y": [
            12
           ],
           "type": "scatter"
          },
          {
           "marker": {
            "color": "green"
           },
           "mode": "markers",
           "x": [
            11
           ],
           "y": [
            8
           ],
           "type": "scatter"
          },
          {
           "marker": {
            "color": "blue"
           },
           "mode": "markers",
           "x": [
            12
           ],
           "y": [
            6
           ],
           "type": "scatter"
          },
          {
           "marker": {
            "color": "blue"
           },
           "mode": "markers",
           "x": [
            12
           ],
           "y": [
            6
           ],
           "type": "scatter"
          },
          {
           "marker": {
            "color": "green"
           },
           "mode": "markers",
           "x": [
            8
           ],
           "y": [
            10
           ],
           "type": "scatter"
          },
          {
           "marker": {
            "color": "green"
           },
           "mode": "markers",
           "x": [
            12
           ],
           "y": [
            14
           ],
           "type": "scatter"
          },
          {
           "marker": {
            "color": "blue"
           },
           "mode": "markers",
           "x": [
            13
           ],
           "y": [
            6
           ],
           "type": "scatter"
          },
          {
           "marker": {
            "color": "blue"
           },
           "mode": "markers",
           "x": [
            13
           ],
           "y": [
            6
           ],
           "type": "scatter"
          },
          {
           "marker": {
            "color": "blue"
           },
           "mode": "markers",
           "x": [
            12
           ],
           "y": [
            10
           ],
           "type": "scatter"
          },
          {
           "marker": {
            "color": "blue"
           },
           "mode": "markers",
           "x": [
            12
           ],
           "y": [
            10
           ],
           "type": "scatter"
          },
          {
           "marker": {
            "color": "green"
           },
           "mode": "markers",
           "x": [
            12
           ],
           "y": [
            9
           ],
           "type": "scatter"
          },
          {
           "marker": {
            "color": "orange"
           },
           "mode": "markers",
           "x": [
            2
           ],
           "y": [
            2
           ],
           "type": "scatter"
          },
          {
           "marker": {
            "color": "orange"
           },
           "mode": "markers",
           "x": [
            18
           ],
           "y": [
            18
           ],
           "type": "scatter"
          },
          {
           "marker": {
            "color": "orange"
           },
           "mode": "markers",
           "x": [
            3
           ],
           "y": [
            15
           ],
           "type": "scatter"
          }
         ],
         "layout": {
          "title": {
           "text": "Simulation frame 7"
          }
         }
        },
        {
         "data": [
          {
           "marker": {
            "color": "green"
           },
           "mode": "markers",
           "x": [
            1
           ],
           "y": [
            3
           ],
           "type": "scatter"
          },
          {
           "marker": {
            "color": "green"
           },
           "mode": "markers",
           "x": [
            1
           ],
           "y": [
            6
           ],
           "type": "scatter"
          },
          {
           "marker": {
            "color": "green"
           },
           "mode": "markers",
           "x": [
            5
           ],
           "y": [
            11
           ],
           "type": "scatter"
          },
          {
           "marker": {
            "color": "green"
           },
           "mode": "markers",
           "x": [
            3
           ],
           "y": [
            10
           ],
           "type": "scatter"
          },
          {
           "marker": {
            "color": "green"
           },
           "mode": "markers",
           "x": [
            3
           ],
           "y": [
            11
           ],
           "type": "scatter"
          },
          {
           "marker": {
            "color": "blue"
           },
           "mode": "markers",
           "x": [
            7
           ],
           "y": [
            6
           ],
           "type": "scatter"
          },
          {
           "marker": {
            "color": "blue"
           },
           "mode": "markers",
           "x": [
            7
           ],
           "y": [
            6
           ],
           "type": "scatter"
          },
          {
           "marker": {
            "color": "blue"
           },
           "mode": "markers",
           "x": [
            8
           ],
           "y": [
            9
           ],
           "type": "scatter"
          },
          {
           "marker": {
            "color": "green"
           },
           "mode": "markers",
           "x": [
            9
           ],
           "y": [
            13
           ],
           "type": "scatter"
          },
          {
           "marker": {
            "color": "green"
           },
           "mode": "markers",
           "x": [
            7
           ],
           "y": [
            12
           ],
           "type": "scatter"
          },
          {
           "marker": {
            "color": "green"
           },
           "mode": "markers",
           "x": [
            8
           ],
           "y": [
            6
           ],
           "type": "scatter"
          },
          {
           "marker": {
            "color": "green"
           },
           "mode": "markers",
           "x": [
            13
           ],
           "y": [
            7
           ],
           "type": "scatter"
          },
          {
           "marker": {
            "color": "blue"
           },
           "mode": "markers",
           "x": [
            8
           ],
           "y": [
            9
           ],
           "type": "scatter"
          },
          {
           "marker": {
            "color": "blue"
           },
           "mode": "markers",
           "x": [
            9
           ],
           "y": [
            12
           ],
           "type": "scatter"
          },
          {
           "marker": {
            "color": "blue"
           },
           "mode": "markers",
           "x": [
            9
           ],
           "y": [
            12
           ],
           "type": "scatter"
          },
          {
           "marker": {
            "color": "green"
           },
           "mode": "markers",
           "x": [
            12
           ],
           "y": [
            8
           ],
           "type": "scatter"
          },
          {
           "marker": {
            "color": "blue"
           },
           "mode": "markers",
           "x": [
            12
           ],
           "y": [
            6
           ],
           "type": "scatter"
          },
          {
           "marker": {
            "color": "blue"
           },
           "mode": "markers",
           "x": [
            12
           ],
           "y": [
            6
           ],
           "type": "scatter"
          },
          {
           "marker": {
            "color": "green"
           },
           "mode": "markers",
           "x": [
            8
           ],
           "y": [
            11
           ],
           "type": "scatter"
          },
          {
           "marker": {
            "color": "green"
           },
           "mode": "markers",
           "x": [
            13
           ],
           "y": [
            14
           ],
           "type": "scatter"
          },
          {
           "marker": {
            "color": "blue"
           },
           "mode": "markers",
           "x": [
            13
           ],
           "y": [
            6
           ],
           "type": "scatter"
          },
          {
           "marker": {
            "color": "blue"
           },
           "mode": "markers",
           "x": [
            13
           ],
           "y": [
            6
           ],
           "type": "scatter"
          },
          {
           "marker": {
            "color": "blue"
           },
           "mode": "markers",
           "x": [
            12
           ],
           "y": [
            10
           ],
           "type": "scatter"
          },
          {
           "marker": {
            "color": "blue"
           },
           "mode": "markers",
           "x": [
            12
           ],
           "y": [
            10
           ],
           "type": "scatter"
          },
          {
           "marker": {
            "color": "green"
           },
           "mode": "markers",
           "x": [
            12
           ],
           "y": [
            10
           ],
           "type": "scatter"
          },
          {
           "marker": {
            "color": "orange"
           },
           "mode": "markers",
           "x": [
            2
           ],
           "y": [
            2
           ],
           "type": "scatter"
          },
          {
           "marker": {
            "color": "orange"
           },
           "mode": "markers",
           "x": [
            18
           ],
           "y": [
            18
           ],
           "type": "scatter"
          },
          {
           "marker": {
            "color": "orange"
           },
           "mode": "markers",
           "x": [
            3
           ],
           "y": [
            15
           ],
           "type": "scatter"
          }
         ],
         "layout": {
          "title": {
           "text": "Simulation frame 8"
          }
         }
        },
        {
         "data": [
          {
           "marker": {
            "color": "green"
           },
           "mode": "markers",
           "x": [
            1
           ],
           "y": [
            2
           ],
           "type": "scatter"
          },
          {
           "marker": {
            "color": "green"
           },
           "mode": "markers",
           "x": [
            2
           ],
           "y": [
            6
           ],
           "type": "scatter"
          },
          {
           "marker": {
            "color": "green"
           },
           "mode": "markers",
           "x": [
            5
           ],
           "y": [
            11
           ],
           "type": "scatter"
          },
          {
           "marker": {
            "color": "green"
           },
           "mode": "markers",
           "x": [
            4
           ],
           "y": [
            10
           ],
           "type": "scatter"
          },
          {
           "marker": {
            "color": "green"
           },
           "mode": "markers",
           "x": [
            3
           ],
           "y": [
            12
           ],
           "type": "scatter"
          },
          {
           "marker": {
            "color": "blue"
           },
           "mode": "markers",
           "x": [
            7
           ],
           "y": [
            6
           ],
           "type": "scatter"
          },
          {
           "marker": {
            "color": "blue"
           },
           "mode": "markers",
           "x": [
            7
           ],
           "y": [
            6
           ],
           "type": "scatter"
          },
          {
           "marker": {
            "color": "blue"
           },
           "mode": "markers",
           "x": [
            8
           ],
           "y": [
            9
           ],
           "type": "scatter"
          },
          {
           "marker": {
            "color": "green"
           },
           "mode": "markers",
           "x": [
            8
           ],
           "y": [
            13
           ],
           "type": "scatter"
          },
          {
           "marker": {
            "color": "green"
           },
           "mode": "markers",
           "x": [
            6
           ],
           "y": [
            12
           ],
           "type": "scatter"
          },
          {
           "marker": {
            "color": "green"
           },
           "mode": "markers",
           "x": [
            8
           ],
           "y": [
            6
           ],
           "type": "scatter"
          },
          {
           "marker": {
            "color": "green"
           },
           "mode": "markers",
           "x": [
            14
           ],
           "y": [
            7
           ],
           "type": "scatter"
          },
          {
           "marker": {
            "color": "blue"
           },
           "mode": "markers",
           "x": [
            8
           ],
           "y": [
            9
           ],
           "type": "scatter"
          },
          {
           "marker": {
            "color": "blue"
           },
           "mode": "markers",
           "x": [
            9
           ],
           "y": [
            12
           ],
           "type": "scatter"
          },
          {
           "marker": {
            "color": "blue"
           },
           "mode": "markers",
           "x": [
            9
           ],
           "y": [
            12
           ],
           "type": "scatter"
          },
          {
           "marker": {
            "color": "green"
           },
           "mode": "markers",
           "x": [
            12
           ],
           "y": [
            9
           ],
           "type": "scatter"
          },
          {
           "marker": {
            "color": "blue"
           },
           "mode": "markers",
           "x": [
            12
           ],
           "y": [
            6
           ],
           "type": "scatter"
          },
          {
           "marker": {
            "color": "blue"
           },
           "mode": "markers",
           "x": [
            12
           ],
           "y": [
            6
           ],
           "type": "scatter"
          },
          {
           "marker": {
            "color": "green"
           },
           "mode": "markers",
           "x": [
            8
           ],
           "y": [
            11
           ],
           "type": "scatter"
          },
          {
           "marker": {
            "color": "green"
           },
           "mode": "markers",
           "x": [
            12
           ],
           "y": [
            14
           ],
           "type": "scatter"
          },
          {
           "marker": {
            "color": "blue"
           },
           "mode": "markers",
           "x": [
            13
           ],
           "y": [
            6
           ],
           "type": "scatter"
          },
          {
           "marker": {
            "color": "blue"
           },
           "mode": "markers",
           "x": [
            13
           ],
           "y": [
            6
           ],
           "type": "scatter"
          },
          {
           "marker": {
            "color": "blue"
           },
           "mode": "markers",
           "x": [
            12
           ],
           "y": [
            10
           ],
           "type": "scatter"
          },
          {
           "marker": {
            "color": "blue"
           },
           "mode": "markers",
           "x": [
            12
           ],
           "y": [
            10
           ],
           "type": "scatter"
          },
          {
           "marker": {
            "color": "green"
           },
           "mode": "markers",
           "x": [
            13
           ],
           "y": [
            10
           ],
           "type": "scatter"
          },
          {
           "marker": {
            "color": "orange"
           },
           "mode": "markers",
           "x": [
            2
           ],
           "y": [
            2
           ],
           "type": "scatter"
          },
          {
           "marker": {
            "color": "orange"
           },
           "mode": "markers",
           "x": [
            18
           ],
           "y": [
            18
           ],
           "type": "scatter"
          },
          {
           "marker": {
            "color": "orange"
           },
           "mode": "markers",
           "x": [
            3
           ],
           "y": [
            15
           ],
           "type": "scatter"
          }
         ],
         "layout": {
          "title": {
           "text": "Simulation frame 9"
          }
         }
        },
        {
         "data": [
          {
           "marker": {
            "color": "green"
           },
           "mode": "markers",
           "x": [
            0
           ],
           "y": [
            2
           ],
           "type": "scatter"
          },
          {
           "marker": {
            "color": "green"
           },
           "mode": "markers",
           "x": [
            1
           ],
           "y": [
            6
           ],
           "type": "scatter"
          },
          {
           "marker": {
            "color": "green"
           },
           "mode": "markers",
           "x": [
            5
           ],
           "y": [
            12
           ],
           "type": "scatter"
          },
          {
           "marker": {
            "color": "green"
           },
           "mode": "markers",
           "x": [
            3
           ],
           "y": [
            10
           ],
           "type": "scatter"
          },
          {
           "marker": {
            "color": "green"
           },
           "mode": "markers",
           "x": [
            3
           ],
           "y": [
            13
           ],
           "type": "scatter"
          },
          {
           "marker": {
            "color": "blue"
           },
           "mode": "markers",
           "x": [
            7
           ],
           "y": [
            6
           ],
           "type": "scatter"
          },
          {
           "marker": {
            "color": "blue"
           },
           "mode": "markers",
           "x": [
            7
           ],
           "y": [
            6
           ],
           "type": "scatter"
          },
          {
           "marker": {
            "color": "blue"
           },
           "mode": "markers",
           "x": [
            8
           ],
           "y": [
            9
           ],
           "type": "scatter"
          },
          {
           "marker": {
            "color": "red"
           },
           "mode": "markers",
           "x": [
            8
           ],
           "y": [
            12
           ],
           "type": "scatter"
          },
          {
           "marker": {
            "color": "green"
           },
           "mode": "markers",
           "x": [
            6
           ],
           "y": [
            13
           ],
           "type": "scatter"
          },
          {
           "marker": {
            "color": "green"
           },
           "mode": "markers",
           "x": [
            7
           ],
           "y": [
            6
           ],
           "type": "scatter"
          },
          {
           "marker": {
            "color": "green"
           },
           "mode": "markers",
           "x": [
            13
           ],
           "y": [
            7
           ],
           "type": "scatter"
          },
          {
           "marker": {
            "color": "blue"
           },
           "mode": "markers",
           "x": [
            8
           ],
           "y": [
            9
           ],
           "type": "scatter"
          },
          {
           "marker": {
            "color": "blue"
           },
           "mode": "markers",
           "x": [
            9
           ],
           "y": [
            12
           ],
           "type": "scatter"
          },
          {
           "marker": {
            "color": "blue"
           },
           "mode": "markers",
           "x": [
            9
           ],
           "y": [
            12
           ],
           "type": "scatter"
          },
          {
           "marker": {
            "color": "green"
           },
           "mode": "markers",
           "x": [
            12
           ],
           "y": [
            9
           ],
           "type": "scatter"
          },
          {
           "marker": {
            "color": "blue"
           },
           "mode": "markers",
           "x": [
            12
           ],
           "y": [
            6
           ],
           "type": "scatter"
          },
          {
           "marker": {
            "color": "blue"
           },
           "mode": "markers",
           "x": [
            12
           ],
           "y": [
            6
           ],
           "type": "scatter"
          },
          {
           "marker": {
            "color": "red"
           },
           "mode": "markers",
           "x": [
            8
           ],
           "y": [
            12
           ],
           "type": "scatter"
          },
          {
           "marker": {
            "color": "green"
           },
           "mode": "markers",
           "x": [
            11
           ],
           "y": [
            14
           ],
           "type": "scatter"
          },
          {
           "marker": {
            "color": "blue"
           },
           "mode": "markers",
           "x": [
            13
           ],
           "y": [
            6
           ],
           "type": "scatter"
          },
          {
           "marker": {
            "color": "blue"
           },
           "mode": "markers",
           "x": [
            13
           ],
           "y": [
            6
           ],
           "type": "scatter"
          },
          {
           "marker": {
            "color": "blue"
           },
           "mode": "markers",
           "x": [
            12
           ],
           "y": [
            10
           ],
           "type": "scatter"
          },
          {
           "marker": {
            "color": "blue"
           },
           "mode": "markers",
           "x": [
            12
           ],
           "y": [
            10
           ],
           "type": "scatter"
          },
          {
           "marker": {
            "color": "green"
           },
           "mode": "markers",
           "x": [
            13
           ],
           "y": [
            9
           ],
           "type": "scatter"
          },
          {
           "marker": {
            "color": "orange"
           },
           "mode": "markers",
           "x": [
            2
           ],
           "y": [
            2
           ],
           "type": "scatter"
          },
          {
           "marker": {
            "color": "orange"
           },
           "mode": "markers",
           "x": [
            18
           ],
           "y": [
            18
           ],
           "type": "scatter"
          },
          {
           "marker": {
            "color": "orange"
           },
           "mode": "markers",
           "x": [
            3
           ],
           "y": [
            15
           ],
           "type": "scatter"
          }
         ],
         "layout": {
          "title": {
           "text": "Simulation frame 10"
          }
         }
        },
        {
         "data": [
          {
           "marker": {
            "color": "green"
           },
           "mode": "markers",
           "x": [
            0
           ],
           "y": [
            2
           ],
           "type": "scatter"
          },
          {
           "marker": {
            "color": "green"
           },
           "mode": "markers",
           "x": [
            0
           ],
           "y": [
            6
           ],
           "type": "scatter"
          },
          {
           "marker": {
            "color": "green"
           },
           "mode": "markers",
           "x": [
            4
           ],
           "y": [
            12
           ],
           "type": "scatter"
          },
          {
           "marker": {
            "color": "green"
           },
           "mode": "markers",
           "x": [
            4
           ],
           "y": [
            10
           ],
           "type": "scatter"
          },
          {
           "marker": {
            "color": "green"
           },
           "mode": "markers",
           "x": [
            4
           ],
           "y": [
            13
           ],
           "type": "scatter"
          },
          {
           "marker": {
            "color": "blue"
           },
           "mode": "markers",
           "x": [
            7
           ],
           "y": [
            6
           ],
           "type": "scatter"
          },
          {
           "marker": {
            "color": "blue"
           },
           "mode": "markers",
           "x": [
            7
           ],
           "y": [
            6
           ],
           "type": "scatter"
          },
          {
           "marker": {
            "color": "blue"
           },
           "mode": "markers",
           "x": [
            8
           ],
           "y": [
            9
           ],
           "type": "scatter"
          },
          {
           "marker": {
            "color": "blue"
           },
           "mode": "markers",
           "x": [
            8
           ],
           "y": [
            12
           ],
           "type": "scatter"
          },
          {
           "marker": {
            "color": "green"
           },
           "mode": "markers",
           "x": [
            7
           ],
           "y": [
            13
           ],
           "type": "scatter"
          },
          {
           "marker": {
            "color": "green"
           },
           "mode": "markers",
           "x": [
            7
           ],
           "y": [
            6
           ],
           "type": "scatter"
          },
          {
           "marker": {
            "color": "green"
           },
           "mode": "markers",
           "x": [
            12
           ],
           "y": [
            7
           ],
           "type": "scatter"
          },
          {
           "marker": {
            "color": "blue"
           },
           "mode": "markers",
           "x": [
            8
           ],
           "y": [
            9
           ],
           "type": "scatter"
          },
          {
           "marker": {
            "color": "blue"
           },
           "mode": "markers",
           "x": [
            9
           ],
           "y": [
            12
           ],
           "type": "scatter"
          },
          {
           "marker": {
            "color": "blue"
           },
           "mode": "markers",
           "x": [
            9
           ],
           "y": [
            12
           ],
           "type": "scatter"
          },
          {
           "marker": {
            "color": "green"
           },
           "mode": "markers",
           "x": [
            12
           ],
           "y": [
            9
           ],
           "type": "scatter"
          },
          {
           "marker": {
            "color": "blue"
           },
           "mode": "markers",
           "x": [
            12
           ],
           "y": [
            6
           ],
           "type": "scatter"
          },
          {
           "marker": {
            "color": "blue"
           },
           "mode": "markers",
           "x": [
            12
           ],
           "y": [
            6
           ],
           "type": "scatter"
          },
          {
           "marker": {
            "color": "blue"
           },
           "mode": "markers",
           "x": [
            8
           ],
           "y": [
            12
           ],
           "type": "scatter"
          },
          {
           "marker": {
            "color": "green"
           },
           "mode": "markers",
           "x": [
            11
           ],
           "y": [
            13
           ],
           "type": "scatter"
          },
          {
           "marker": {
            "color": "blue"
           },
           "mode": "markers",
           "x": [
            13
           ],
           "y": [
            6
           ],
           "type": "scatter"
          },
          {
           "marker": {
            "color": "blue"
           },
           "mode": "markers",
           "x": [
            13
           ],
           "y": [
            6
           ],
           "type": "scatter"
          },
          {
           "marker": {
            "color": "blue"
           },
           "mode": "markers",
           "x": [
            12
           ],
           "y": [
            10
           ],
           "type": "scatter"
          },
          {
           "marker": {
            "color": "blue"
           },
           "mode": "markers",
           "x": [
            12
           ],
           "y": [
            10
           ],
           "type": "scatter"
          },
          {
           "marker": {
            "color": "green"
           },
           "mode": "markers",
           "x": [
            13
           ],
           "y": [
            10
           ],
           "type": "scatter"
          },
          {
           "marker": {
            "color": "orange"
           },
           "mode": "markers",
           "x": [
            2
           ],
           "y": [
            2
           ],
           "type": "scatter"
          },
          {
           "marker": {
            "color": "orange"
           },
           "mode": "markers",
           "x": [
            18
           ],
           "y": [
            18
           ],
           "type": "scatter"
          },
          {
           "marker": {
            "color": "orange"
           },
           "mode": "markers",
           "x": [
            3
           ],
           "y": [
            15
           ],
           "type": "scatter"
          }
         ],
         "layout": {
          "title": {
           "text": "Simulation frame 11"
          }
         }
        },
        {
         "data": [
          {
           "marker": {
            "color": "green"
           },
           "mode": "markers",
           "x": [
            0
           ],
           "y": [
            2
           ],
           "type": "scatter"
          },
          {
           "marker": {
            "color": "green"
           },
           "mode": "markers",
           "x": [
            0
           ],
           "y": [
            7
           ],
           "type": "scatter"
          },
          {
           "marker": {
            "color": "green"
           },
           "mode": "markers",
           "x": [
            5
           ],
           "y": [
            12
           ],
           "type": "scatter"
          },
          {
           "marker": {
            "color": "green"
           },
           "mode": "markers",
           "x": [
            4
           ],
           "y": [
            11
           ],
           "type": "scatter"
          },
          {
           "marker": {
            "color": "green"
           },
           "mode": "markers",
           "x": [
            4
           ],
           "y": [
            14
           ],
           "type": "scatter"
          },
          {
           "marker": {
            "color": "blue"
           },
           "mode": "markers",
           "x": [
            7
           ],
           "y": [
            6
           ],
           "type": "scatter"
          },
          {
           "marker": {
            "color": "blue"
           },
           "mode": "markers",
           "x": [
            7
           ],
           "y": [
            6
           ],
           "type": "scatter"
          },
          {
           "marker": {
            "color": "blue"
           },
           "mode": "markers",
           "x": [
            8
           ],
           "y": [
            9
           ],
           "type": "scatter"
          },
          {
           "marker": {
            "color": "blue"
           },
           "mode": "markers",
           "x": [
            8
           ],
           "y": [
            12
           ],
           "type": "scatter"
          },
          {
           "marker": {
            "color": "green"
           },
           "mode": "markers",
           "x": [
            7
           ],
           "y": [
            12
           ],
           "type": "scatter"
          },
          {
           "marker": {
            "color": "green"
           },
           "mode": "markers",
           "x": [
            7
           ],
           "y": [
            7
           ],
           "type": "scatter"
          },
          {
           "marker": {
            "color": "green"
           },
           "mode": "markers",
           "x": [
            13
           ],
           "y": [
            7
           ],
           "type": "scatter"
          },
          {
           "marker": {
            "color": "blue"
           },
           "mode": "markers",
           "x": [
            8
           ],
           "y": [
            9
           ],
           "type": "scatter"
          },
          {
           "marker": {
            "color": "blue"
           },
           "mode": "markers",
           "x": [
            9
           ],
           "y": [
            12
           ],
           "type": "scatter"
          },
          {
           "marker": {
            "color": "blue"
           },
           "mode": "markers",
           "x": [
            9
           ],
           "y": [
            12
           ],
           "type": "scatter"
          },
          {
           "marker": {
            "color": "red"
           },
           "mode": "markers",
           "x": [
            13
           ],
           "y": [
            9
           ],
           "type": "scatter"
          },
          {
           "marker": {
            "color": "blue"
           },
           "mode": "markers",
           "x": [
            12
           ],
           "y": [
            6
           ],
           "type": "scatter"
          },
          {
           "marker": {
            "color": "blue"
           },
           "mode": "markers",
           "x": [
            12
           ],
           "y": [
            6
           ],
           "type": "scatter"
          },
          {
           "marker": {
            "color": "blue"
           },
           "mode": "markers",
           "x": [
            8
           ],
           "y": [
            12
           ],
           "type": "scatter"
          },
          {
           "marker": {
            "color": "green"
           },
           "mode": "markers",
           "x": [
            10
           ],
           "y": [
            13
           ],
           "type": "scatter"
          },
          {
           "marker": {
            "color": "blue"
           },
           "mode": "markers",
           "x": [
            13
           ],
           "y": [
            6
           ],
           "type": "scatter"
          },
          {
           "marker": {
            "color": "blue"
           },
           "mode": "markers",
           "x": [
            13
           ],
           "y": [
            6
           ],
           "type": "scatter"
          },
          {
           "marker": {
            "color": "blue"
           },
           "mode": "markers",
           "x": [
            12
           ],
           "y": [
            10
           ],
           "type": "scatter"
          },
          {
           "marker": {
            "color": "blue"
           },
           "mode": "markers",
           "x": [
            12
           ],
           "y": [
            10
           ],
           "type": "scatter"
          },
          {
           "marker": {
            "color": "red"
           },
           "mode": "markers",
           "x": [
            13
           ],
           "y": [
            9
           ],
           "type": "scatter"
          },
          {
           "marker": {
            "color": "orange"
           },
           "mode": "markers",
           "x": [
            2
           ],
           "y": [
            2
           ],
           "type": "scatter"
          },
          {
           "marker": {
            "color": "orange"
           },
           "mode": "markers",
           "x": [
            18
           ],
           "y": [
            18
           ],
           "type": "scatter"
          },
          {
           "marker": {
            "color": "orange"
           },
           "mode": "markers",
           "x": [
            3
           ],
           "y": [
            15
           ],
           "type": "scatter"
          }
         ],
         "layout": {
          "title": {
           "text": "Simulation frame 12"
          }
         }
        },
        {
         "data": [
          {
           "marker": {
            "color": "green"
           },
           "mode": "markers",
           "x": [
            0
           ],
           "y": [
            2
           ],
           "type": "scatter"
          },
          {
           "marker": {
            "color": "green"
           },
           "mode": "markers",
           "x": [
            0
           ],
           "y": [
            7
           ],
           "type": "scatter"
          },
          {
           "marker": {
            "color": "green"
           },
           "mode": "markers",
           "x": [
            5
           ],
           "y": [
            13
           ],
           "type": "scatter"
          },
          {
           "marker": {
            "color": "green"
           },
           "mode": "markers",
           "x": [
            4
           ],
           "y": [
            10
           ],
           "type": "scatter"
          },
          {
           "marker": {
            "color": "green"
           },
           "mode": "markers",
           "x": [
            5
           ],
           "y": [
            14
           ],
           "type": "scatter"
          },
          {
           "marker": {
            "color": "blue"
           },
           "mode": "markers",
           "x": [
            7
           ],
           "y": [
            6
           ],
           "type": "scatter"
          },
          {
           "marker": {
            "color": "blue"
           },
           "mode": "markers",
           "x": [
            7
           ],
           "y": [
            6
           ],
           "type": "scatter"
          },
          {
           "marker": {
            "color": "blue"
           },
           "mode": "markers",
           "x": [
            8
           ],
           "y": [
            9
           ],
           "type": "scatter"
          },
          {
           "marker": {
            "color": "blue"
           },
           "mode": "markers",
           "x": [
            8
           ],
           "y": [
            12
           ],
           "type": "scatter"
          },
          {
           "marker": {
            "color": "green"
           },
           "mode": "markers",
           "x": [
            7
           ],
           "y": [
            11
           ],
           "type": "scatter"
          },
          {
           "marker": {
            "color": "green"
           },
           "mode": "markers",
           "x": [
            7
           ],
           "y": [
            7
           ],
           "type": "scatter"
          },
          {
           "marker": {
            "color": "green"
           },
           "mode": "markers",
           "x": [
            13
           ],
           "y": [
            8
           ],
           "type": "scatter"
          },
          {
           "marker": {
            "color": "blue"
           },
           "mode": "markers",
           "x": [
            8
           ],
           "y": [
            9
           ],
           "type": "scatter"
          },
          {
           "marker": {
            "color": "blue"
           },
           "mode": "markers",
           "x": [
            9
           ],
           "y": [
            12
           ],
           "type": "scatter"
          },
          {
           "marker": {
            "color": "blue"
           },
           "mode": "markers",
           "x": [
            9
           ],
           "y": [
            12
           ],
           "type": "scatter"
          },
          {
           "marker": {
            "color": "blue"
           },
           "mode": "markers",
           "x": [
            13
           ],
           "y": [
            9
           ],
           "type": "scatter"
          },
          {
           "marker": {
            "color": "blue"
           },
           "mode": "markers",
           "x": [
            12
           ],
           "y": [
            6
           ],
           "type": "scatter"
          },
          {
           "marker": {
            "color": "blue"
           },
           "mode": "markers",
           "x": [
            12
           ],
           "y": [
            6
           ],
           "type": "scatter"
          },
          {
           "marker": {
            "color": "blue"
           },
           "mode": "markers",
           "x": [
            8
           ],
           "y": [
            12
           ],
           "type": "scatter"
          },
          {
           "marker": {
            "color": "green"
           },
           "mode": "markers",
           "x": [
            11
           ],
           "y": [
            13
           ],
           "type": "scatter"
          },
          {
           "marker": {
            "color": "blue"
           },
           "mode": "markers",
           "x": [
            13
           ],
           "y": [
            6
           ],
           "type": "scatter"
          },
          {
           "marker": {
            "color": "blue"
           },
           "mode": "markers",
           "x": [
            13
           ],
           "y": [
            6
           ],
           "type": "scatter"
          },
          {
           "marker": {
            "color": "blue"
           },
           "mode": "markers",
           "x": [
            12
           ],
           "y": [
            10
           ],
           "type": "scatter"
          },
          {
           "marker": {
            "color": "blue"
           },
           "mode": "markers",
           "x": [
            12
           ],
           "y": [
            10
           ],
           "type": "scatter"
          },
          {
           "marker": {
            "color": "blue"
           },
           "mode": "markers",
           "x": [
            13
           ],
           "y": [
            9
           ],
           "type": "scatter"
          },
          {
           "marker": {
            "color": "orange"
           },
           "mode": "markers",
           "x": [
            2
           ],
           "y": [
            2
           ],
           "type": "scatter"
          },
          {
           "marker": {
            "color": "orange"
           },
           "mode": "markers",
           "x": [
            18
           ],
           "y": [
            18
           ],
           "type": "scatter"
          },
          {
           "marker": {
            "color": "orange"
           },
           "mode": "markers",
           "x": [
            3
           ],
           "y": [
            15
           ],
           "type": "scatter"
          }
         ],
         "layout": {
          "title": {
           "text": "Simulation frame 13"
          }
         }
        },
        {
         "data": [
          {
           "marker": {
            "color": "green"
           },
           "mode": "markers",
           "x": [
            0
           ],
           "y": [
            3
           ],
           "type": "scatter"
          },
          {
           "marker": {
            "color": "green"
           },
           "mode": "markers",
           "x": [
            -1
           ],
           "y": [
            7
           ],
           "type": "scatter"
          },
          {
           "marker": {
            "color": "green"
           },
           "mode": "markers",
           "x": [
            5
           ],
           "y": [
            13
           ],
           "type": "scatter"
          },
          {
           "marker": {
            "color": "green"
           },
           "mode": "markers",
           "x": [
            4
           ],
           "y": [
            10
           ],
           "type": "scatter"
          },
          {
           "marker": {
            "color": "green"
           },
           "mode": "markers",
           "x": [
            4
           ],
           "y": [
            14
           ],
           "type": "scatter"
          },
          {
           "marker": {
            "color": "blue"
           },
           "mode": "markers",
           "x": [
            7
           ],
           "y": [
            6
           ],
           "type": "scatter"
          },
          {
           "marker": {
            "color": "blue"
           },
           "mode": "markers",
           "x": [
            7
           ],
           "y": [
            6
           ],
           "type": "scatter"
          },
          {
           "marker": {
            "color": "blue"
           },
           "mode": "markers",
           "x": [
            8
           ],
           "y": [
            9
           ],
           "type": "scatter"
          },
          {
           "marker": {
            "color": "blue"
           },
           "mode": "markers",
           "x": [
            8
           ],
           "y": [
            12
           ],
           "type": "scatter"
          },
          {
           "marker": {
            "color": "green"
           },
           "mode": "markers",
           "x": [
            7
           ],
           "y": [
            11
           ],
           "type": "scatter"
          },
          {
           "marker": {
            "color": "green"
           },
           "mode": "markers",
           "x": [
            7
           ],
           "y": [
            6
           ],
           "type": "scatter"
          },
          {
           "marker": {
            "color": "green"
           },
           "mode": "markers",
           "x": [
            13
           ],
           "y": [
            9
           ],
           "type": "scatter"
          },
          {
           "marker": {
            "color": "blue"
           },
           "mode": "markers",
           "x": [
            8
           ],
           "y": [
            9
           ],
           "type": "scatter"
          },
          {
           "marker": {
            "color": "blue"
           },
           "mode": "markers",
           "x": [
            9
           ],
           "y": [
            12
           ],
           "type": "scatter"
          },
          {
           "marker": {
            "color": "blue"
           },
           "mode": "markers",
           "x": [
            9
           ],
           "y": [
            12
           ],
           "type": "scatter"
          },
          {
           "marker": {
            "color": "blue"
           },
           "mode": "markers",
           "x": [
            13
           ],
           "y": [
            9
           ],
           "type": "scatter"
          },
          {
           "marker": {
            "color": "blue"
           },
           "mode": "markers",
           "x": [
            12
           ],
           "y": [
            6
           ],
           "type": "scatter"
          },
          {
           "marker": {
            "color": "blue"
           },
           "mode": "markers",
           "x": [
            12
           ],
           "y": [
            6
           ],
           "type": "scatter"
          },
          {
           "marker": {
            "color": "blue"
           },
           "mode": "markers",
           "x": [
            8
           ],
           "y": [
            12
           ],
           "type": "scatter"
          },
          {
           "marker": {
            "color": "green"
           },
           "mode": "markers",
           "x": [
            11
           ],
           "y": [
            13
           ],
           "type": "scatter"
          },
          {
           "marker": {
            "color": "blue"
           },
           "mode": "markers",
           "x": [
            13
           ],
           "y": [
            6
           ],
           "type": "scatter"
          },
          {
           "marker": {
            "color": "blue"
           },
           "mode": "markers",
           "x": [
            13
           ],
           "y": [
            6
           ],
           "type": "scatter"
          },
          {
           "marker": {
            "color": "blue"
           },
           "mode": "markers",
           "x": [
            12
           ],
           "y": [
            10
           ],
           "type": "scatter"
          },
          {
           "marker": {
            "color": "blue"
           },
           "mode": "markers",
           "x": [
            12
           ],
           "y": [
            10
           ],
           "type": "scatter"
          },
          {
           "marker": {
            "color": "blue"
           },
           "mode": "markers",
           "x": [
            13
           ],
           "y": [
            9
           ],
           "type": "scatter"
          },
          {
           "marker": {
            "color": "orange"
           },
           "mode": "markers",
           "x": [
            2
           ],
           "y": [
            2
           ],
           "type": "scatter"
          },
          {
           "marker": {
            "color": "orange"
           },
           "mode": "markers",
           "x": [
            18
           ],
           "y": [
            18
           ],
           "type": "scatter"
          },
          {
           "marker": {
            "color": "orange"
           },
           "mode": "markers",
           "x": [
            3
           ],
           "y": [
            15
           ],
           "type": "scatter"
          }
         ],
         "layout": {
          "title": {
           "text": "Simulation frame 14"
          }
         }
        },
        {
         "data": [
          {
           "marker": {
            "color": "green"
           },
           "mode": "markers",
           "x": [
            -1
           ],
           "y": [
            3
           ],
           "type": "scatter"
          },
          {
           "marker": {
            "color": "green"
           },
           "mode": "markers",
           "x": [
            -2
           ],
           "y": [
            7
           ],
           "type": "scatter"
          },
          {
           "marker": {
            "color": "green"
           },
           "mode": "markers",
           "x": [
            5
           ],
           "y": [
            12
           ],
           "type": "scatter"
          },
          {
           "marker": {
            "color": "green"
           },
           "mode": "markers",
           "x": [
            4
           ],
           "y": [
            9
           ],
           "type": "scatter"
          },
          {
           "marker": {
            "color": "green"
           },
           "mode": "markers",
           "x": [
            4
           ],
           "y": [
            13
           ],
           "type": "scatter"
          },
          {
           "marker": {
            "color": "blue"
           },
           "mode": "markers",
           "x": [
            7
           ],
           "y": [
            6
           ],
           "type": "scatter"
          },
          {
           "marker": {
            "color": "blue"
           },
           "mode": "markers",
           "x": [
            7
           ],
           "y": [
            6
           ],
           "type": "scatter"
          },
          {
           "marker": {
            "color": "blue"
           },
           "mode": "markers",
           "x": [
            8
           ],
           "y": [
            9
           ],
           "type": "scatter"
          },
          {
           "marker": {
            "color": "blue"
           },
           "mode": "markers",
           "x": [
            8
           ],
           "y": [
            12
           ],
           "type": "scatter"
          },
          {
           "marker": {
            "color": "green"
           },
           "mode": "markers",
           "x": [
            8
           ],
           "y": [
            11
           ],
           "type": "scatter"
          },
          {
           "marker": {
            "color": "green"
           },
           "mode": "markers",
           "x": [
            6
           ],
           "y": [
            6
           ],
           "type": "scatter"
          },
          {
           "marker": {
            "color": "green"
           },
           "mode": "markers",
           "x": [
            13
           ],
           "y": [
            9
           ],
           "type": "scatter"
          },
          {
           "marker": {
            "color": "blue"
           },
           "mode": "markers",
           "x": [
            8
           ],
           "y": [
            9
           ],
           "type": "scatter"
          },
          {
           "marker": {
            "color": "blue"
           },
           "mode": "markers",
           "x": [
            9
           ],
           "y": [
            12
           ],
           "type": "scatter"
          },
          {
           "marker": {
            "color": "blue"
           },
           "mode": "markers",
           "x": [
            9
           ],
           "y": [
            12
           ],
           "type": "scatter"
          },
          {
           "marker": {
            "color": "blue"
           },
           "mode": "markers",
           "x": [
            13
           ],
           "y": [
            9
           ],
           "type": "scatter"
          },
          {
           "marker": {
            "color": "blue"
           },
           "mode": "markers",
           "x": [
            12
           ],
           "y": [
            6
           ],
           "type": "scatter"
          },
          {
           "marker": {
            "color": "blue"
           },
           "mode": "markers",
           "x": [
            12
           ],
           "y": [
            6
           ],
           "type": "scatter"
          },
          {
           "marker": {
            "color": "blue"
           },
           "mode": "markers",
           "x": [
            8
           ],
           "y": [
            12
           ],
           "type": "scatter"
          },
          {
           "marker": {
            "color": "green"
           },
           "mode": "markers",
           "x": [
            11
           ],
           "y": [
            14
           ],
           "type": "scatter"
          },
          {
           "marker": {
            "color": "blue"
           },
           "mode": "markers",
           "x": [
            13
           ],
           "y": [
            6
           ],
           "type": "scatter"
          },
          {
           "marker": {
            "color": "blue"
           },
           "mode": "markers",
           "x": [
            13
           ],
           "y": [
            6
           ],
           "type": "scatter"
          },
          {
           "marker": {
            "color": "blue"
           },
           "mode": "markers",
           "x": [
            12
           ],
           "y": [
            10
           ],
           "type": "scatter"
          },
          {
           "marker": {
            "color": "blue"
           },
           "mode": "markers",
           "x": [
            12
           ],
           "y": [
            10
           ],
           "type": "scatter"
          },
          {
           "marker": {
            "color": "blue"
           },
           "mode": "markers",
           "x": [
            13
           ],
           "y": [
            9
           ],
           "type": "scatter"
          },
          {
           "marker": {
            "color": "orange"
           },
           "mode": "markers",
           "x": [
            2
           ],
           "y": [
            2
           ],
           "type": "scatter"
          },
          {
           "marker": {
            "color": "orange"
           },
           "mode": "markers",
           "x": [
            18
           ],
           "y": [
            18
           ],
           "type": "scatter"
          },
          {
           "marker": {
            "color": "orange"
           },
           "mode": "markers",
           "x": [
            3
           ],
           "y": [
            15
           ],
           "type": "scatter"
          }
         ],
         "layout": {
          "title": {
           "text": "Simulation frame 15"
          }
         }
        },
        {
         "data": [
          {
           "marker": {
            "color": "green"
           },
           "mode": "markers",
           "x": [
            -2
           ],
           "y": [
            3
           ],
           "type": "scatter"
          },
          {
           "marker": {
            "color": "green"
           },
           "mode": "markers",
           "x": [
            -1
           ],
           "y": [
            7
           ],
           "type": "scatter"
          },
          {
           "marker": {
            "color": "green"
           },
           "mode": "markers",
           "x": [
            5
           ],
           "y": [
            11
           ],
           "type": "scatter"
          },
          {
           "marker": {
            "color": "green"
           },
           "mode": "markers",
           "x": [
            4
           ],
           "y": [
            8
           ],
           "type": "scatter"
          },
          {
           "marker": {
            "color": "green"
           },
           "mode": "markers",
           "x": [
            4
           ],
           "y": [
            14
           ],
           "type": "scatter"
          },
          {
           "marker": {
            "color": "blue"
           },
           "mode": "markers",
           "x": [
            7
           ],
           "y": [
            6
           ],
           "type": "scatter"
          },
          {
           "marker": {
            "color": "blue"
           },
           "mode": "markers",
           "x": [
            7
           ],
           "y": [
            6
           ],
           "type": "scatter"
          },
          {
           "marker": {
            "color": "blue"
           },
           "mode": "markers",
           "x": [
            8
           ],
           "y": [
            9
           ],
           "type": "scatter"
          },
          {
           "marker": {
            "color": "blue"
           },
           "mode": "markers",
           "x": [
            8
           ],
           "y": [
            12
           ],
           "type": "scatter"
          },
          {
           "marker": {
            "color": "green"
           },
           "mode": "markers",
           "x": [
            9
           ],
           "y": [
            11
           ],
           "type": "scatter"
          },
          {
           "marker": {
            "color": "green"
           },
           "mode": "markers",
           "x": [
            6
           ],
           "y": [
            7
           ],
           "type": "scatter"
          },
          {
           "marker": {
            "color": "green"
           },
           "mode": "markers",
           "x": [
            14
           ],
           "y": [
            9
           ],
           "type": "scatter"
          },
          {
           "marker": {
            "color": "blue"
           },
           "mode": "markers",
           "x": [
            8
           ],
           "y": [
            9
           ],
           "type": "scatter"
          },
          {
           "marker": {
            "color": "blue"
           },
           "mode": "markers",
           "x": [
            9
           ],
           "y": [
            12
           ],
           "type": "scatter"
          },
          {
           "marker": {
            "color": "blue"
           },
           "mode": "markers",
           "x": [
            9
           ],
           "y": [
            12
           ],
           "type": "scatter"
          },
          {
           "marker": {
            "color": "blue"
           },
           "mode": "markers",
           "x": [
            13
           ],
           "y": [
            9
           ],
           "type": "scatter"
          },
          {
           "marker": {
            "color": "blue"
           },
           "mode": "markers",
           "x": [
            12
           ],
           "y": [
            6
           ],
           "type": "scatter"
          },
          {
           "marker": {
            "color": "blue"
           },
           "mode": "markers",
           "x": [
            12
           ],
           "y": [
            6
           ],
           "type": "scatter"
          },
          {
           "marker": {
            "color": "blue"
           },
           "mode": "markers",
           "x": [
            8
           ],
           "y": [
            12
           ],
           "type": "scatter"
          },
          {
           "marker": {
            "color": "green"
           },
           "mode": "markers",
           "x": [
            10
           ],
           "y": [
            14
           ],
           "type": "scatter"
          },
          {
           "marker": {
            "color": "blue"
           },
           "mode": "markers",
           "x": [
            13
           ],
           "y": [
            6
           ],
           "type": "scatter"
          },
          {
           "marker": {
            "color": "blue"
           },
           "mode": "markers",
           "x": [
            13
           ],
           "y": [
            6
           ],
           "type": "scatter"
          },
          {
           "marker": {
            "color": "blue"
           },
           "mode": "markers",
           "x": [
            12
           ],
           "y": [
            10
           ],
           "type": "scatter"
          },
          {
           "marker": {
            "color": "blue"
           },
           "mode": "markers",
           "x": [
            12
           ],
           "y": [
            10
           ],
           "type": "scatter"
          },
          {
           "marker": {
            "color": "blue"
           },
           "mode": "markers",
           "x": [
            13
           ],
           "y": [
            9
           ],
           "type": "scatter"
          },
          {
           "marker": {
            "color": "orange"
           },
           "mode": "markers",
           "x": [
            2
           ],
           "y": [
            2
           ],
           "type": "scatter"
          },
          {
           "marker": {
            "color": "orange"
           },
           "mode": "markers",
           "x": [
            18
           ],
           "y": [
            18
           ],
           "type": "scatter"
          },
          {
           "marker": {
            "color": "orange"
           },
           "mode": "markers",
           "x": [
            3
           ],
           "y": [
            15
           ],
           "type": "scatter"
          }
         ],
         "layout": {
          "title": {
           "text": "Simulation frame 16"
          }
         }
        },
        {
         "data": [
          {
           "marker": {
            "color": "green"
           },
           "mode": "markers",
           "x": [
            -2
           ],
           "y": [
            3
           ],
           "type": "scatter"
          },
          {
           "marker": {
            "color": "green"
           },
           "mode": "markers",
           "x": [
            -1
           ],
           "y": [
            7
           ],
           "type": "scatter"
          },
          {
           "marker": {
            "color": "green"
           },
           "mode": "markers",
           "x": [
            5
           ],
           "y": [
            11
           ],
           "type": "scatter"
          },
          {
           "marker": {
            "color": "green"
           },
           "mode": "markers",
           "x": [
            3
           ],
           "y": [
            8
           ],
           "type": "scatter"
          },
          {
           "marker": {
            "color": "green"
           },
           "mode": "markers",
           "x": [
            3
           ],
           "y": [
            14
           ],
           "type": "scatter"
          },
          {
           "marker": {
            "color": "blue"
           },
           "mode": "markers",
           "x": [
            7
           ],
           "y": [
            6
           ],
           "type": "scatter"
          },
          {
           "marker": {
            "color": "blue"
           },
           "mode": "markers",
           "x": [
            7
           ],
           "y": [
            6
           ],
           "type": "scatter"
          },
          {
           "marker": {
            "color": "blue"
           },
           "mode": "markers",
           "x": [
            8
           ],
           "y": [
            9
           ],
           "type": "scatter"
          },
          {
           "marker": {
            "color": "blue"
           },
           "mode": "markers",
           "x": [
            8
           ],
           "y": [
            12
           ],
           "type": "scatter"
          },
          {
           "marker": {
            "color": "green"
           },
           "mode": "markers",
           "x": [
            9
           ],
           "y": [
            12
           ],
           "type": "scatter"
          },
          {
           "marker": {
            "color": "green"
           },
           "mode": "markers",
           "x": [
            6
           ],
           "y": [
            8
           ],
           "type": "scatter"
          },
          {
           "marker": {
            "color": "green"
           },
           "mode": "markers",
           "x": [
            13
           ],
           "y": [
            9
           ],
           "type": "scatter"
          },
          {
           "marker": {
            "color": "blue"
           },
           "mode": "markers",
           "x": [
            8
           ],
           "y": [
            9
           ],
           "type": "scatter"
          },
          {
           "marker": {
            "color": "blue"
           },
           "mode": "markers",
           "x": [
            9
           ],
           "y": [
            12
           ],
           "type": "scatter"
          },
          {
           "marker": {
            "color": "blue"
           },
           "mode": "markers",
           "x": [
            9
           ],
           "y": [
            12
           ],
           "type": "scatter"
          },
          {
           "marker": {
            "color": "blue"
           },
           "mode": "markers",
           "x": [
            13
           ],
           "y": [
            9
           ],
           "type": "scatter"
          },
          {
           "marker": {
            "color": "blue"
           },
           "mode": "markers",
           "x": [
            12
           ],
           "y": [
            6
           ],
           "type": "scatter"
          },
          {
           "marker": {
            "color": "blue"
           },
           "mode": "markers",
           "x": [
            12
           ],
           "y": [
            6
           ],
           "type": "scatter"
          },
          {
           "marker": {
            "color": "blue"
           },
           "mode": "markers",
           "x": [
            8
           ],
           "y": [
            12
           ],
           "type": "scatter"
          },
          {
           "marker": {
            "color": "green"
           },
           "mode": "markers",
           "x": [
            10
           ],
           "y": [
            14
           ],
           "type": "scatter"
          },
          {
           "marker": {
            "color": "blue"
           },
           "mode": "markers",
           "x": [
            13
           ],
           "y": [
            6
           ],
           "type": "scatter"
          },
          {
           "marker": {
            "color": "blue"
           },
           "mode": "markers",
           "x": [
            13
           ],
           "y": [
            6
           ],
           "type": "scatter"
          },
          {
           "marker": {
            "color": "blue"
           },
           "mode": "markers",
           "x": [
            12
           ],
           "y": [
            10
           ],
           "type": "scatter"
          },
          {
           "marker": {
            "color": "blue"
           },
           "mode": "markers",
           "x": [
            12
           ],
           "y": [
            10
           ],
           "type": "scatter"
          },
          {
           "marker": {
            "color": "blue"
           },
           "mode": "markers",
           "x": [
            13
           ],
           "y": [
            9
           ],
           "type": "scatter"
          },
          {
           "marker": {
            "color": "orange"
           },
           "mode": "markers",
           "x": [
            2
           ],
           "y": [
            2
           ],
           "type": "scatter"
          },
          {
           "marker": {
            "color": "orange"
           },
           "mode": "markers",
           "x": [
            18
           ],
           "y": [
            18
           ],
           "type": "scatter"
          },
          {
           "marker": {
            "color": "orange"
           },
           "mode": "markers",
           "x": [
            3
           ],
           "y": [
            15
           ],
           "type": "scatter"
          }
         ],
         "layout": {
          "title": {
           "text": "Simulation frame 17"
          }
         }
        },
        {
         "data": [
          {
           "marker": {
            "color": "green"
           },
           "mode": "markers",
           "x": [
            -2
           ],
           "y": [
            4
           ],
           "type": "scatter"
          },
          {
           "marker": {
            "color": "green"
           },
           "mode": "markers",
           "x": [
            -1
           ],
           "y": [
            7
           ],
           "type": "scatter"
          },
          {
           "marker": {
            "color": "green"
           },
           "mode": "markers",
           "x": [
            4
           ],
           "y": [
            11
           ],
           "type": "scatter"
          },
          {
           "marker": {
            "color": "green"
           },
           "mode": "markers",
           "x": [
            2
           ],
           "y": [
            8
           ],
           "type": "scatter"
          },
          {
           "marker": {
            "color": "green"
           },
           "mode": "markers",
           "x": [
            3
           ],
           "y": [
            14
           ],
           "type": "scatter"
          },
          {
           "marker": {
            "color": "blue"
           },
           "mode": "markers",
           "x": [
            7
           ],
           "y": [
            6
           ],
           "type": "scatter"
          },
          {
           "marker": {
            "color": "blue"
           },
           "mode": "markers",
           "x": [
            7
           ],
           "y": [
            6
           ],
           "type": "scatter"
          },
          {
           "marker": {
            "color": "blue"
           },
           "mode": "markers",
           "x": [
            8
           ],
           "y": [
            9
           ],
           "type": "scatter"
          },
          {
           "marker": {
            "color": "blue"
           },
           "mode": "markers",
           "x": [
            8
           ],
           "y": [
            12
           ],
           "type": "scatter"
          },
          {
           "marker": {
            "color": "green"
           },
           "mode": "markers",
           "x": [
            9
           ],
           "y": [
            11
           ],
           "type": "scatter"
          },
          {
           "marker": {
            "color": "green"
           },
           "mode": "markers",
           "x": [
            5
           ],
           "y": [
            8
           ],
           "type": "scatter"
          },
          {
           "marker": {
            "color": "green"
           },
           "mode": "markers",
           "x": [
            13
           ],
           "y": [
            10
           ],
           "type": "scatter"
          },
          {
           "marker": {
            "color": "blue"
           },
           "mode": "markers",
           "x": [
            8
           ],
           "y": [
            9
           ],
           "type": "scatter"
          },
          {
           "marker": {
            "color": "blue"
           },
           "mode": "markers",
           "x": [
            9
           ],
           "y": [
            12
           ],
           "type": "scatter"
          },
          {
           "marker": {
            "color": "blue"
           },
           "mode": "markers",
           "x": [
            9
           ],
           "y": [
            12
           ],
           "type": "scatter"
          },
          {
           "marker": {
            "color": "blue"
           },
           "mode": "markers",
           "x": [
            13
           ],
           "y": [
            9
           ],
           "type": "scatter"
          },
          {
           "marker": {
            "color": "blue"
           },
           "mode": "markers",
           "x": [
            12
           ],
           "y": [
            6
           ],
           "type": "scatter"
          },
          {
           "marker": {
            "color": "blue"
           },
           "mode": "markers",
           "x": [
            12
           ],
           "y": [
            6
           ],
           "type": "scatter"
          },
          {
           "marker": {
            "color": "blue"
           },
           "mode": "markers",
           "x": [
            8
           ],
           "y": [
            12
           ],
           "type": "scatter"
          },
          {
           "marker": {
            "color": "green"
           },
           "mode": "markers",
           "x": [
            10
           ],
           "y": [
            15
           ],
           "type": "scatter"
          },
          {
           "marker": {
            "color": "blue"
           },
           "mode": "markers",
           "x": [
            13
           ],
           "y": [
            6
           ],
           "type": "scatter"
          },
          {
           "marker": {
            "color": "blue"
           },
           "mode": "markers",
           "x": [
            13
           ],
           "y": [
            6
           ],
           "type": "scatter"
          },
          {
           "marker": {
            "color": "blue"
           },
           "mode": "markers",
           "x": [
            12
           ],
           "y": [
            10
           ],
           "type": "scatter"
          },
          {
           "marker": {
            "color": "blue"
           },
           "mode": "markers",
           "x": [
            12
           ],
           "y": [
            10
           ],
           "type": "scatter"
          },
          {
           "marker": {
            "color": "blue"
           },
           "mode": "markers",
           "x": [
            13
           ],
           "y": [
            9
           ],
           "type": "scatter"
          },
          {
           "marker": {
            "color": "orange"
           },
           "mode": "markers",
           "x": [
            2
           ],
           "y": [
            2
           ],
           "type": "scatter"
          },
          {
           "marker": {
            "color": "orange"
           },
           "mode": "markers",
           "x": [
            18
           ],
           "y": [
            18
           ],
           "type": "scatter"
          },
          {
           "marker": {
            "color": "orange"
           },
           "mode": "markers",
           "x": [
            3
           ],
           "y": [
            15
           ],
           "type": "scatter"
          }
         ],
         "layout": {
          "title": {
           "text": "Simulation frame 18"
          }
         }
        },
        {
         "data": [
          {
           "marker": {
            "color": "green"
           },
           "mode": "markers",
           "x": [
            -2
           ],
           "y": [
            5
           ],
           "type": "scatter"
          },
          {
           "marker": {
            "color": "green"
           },
           "mode": "markers",
           "x": [
            -1
           ],
           "y": [
            7
           ],
           "type": "scatter"
          },
          {
           "marker": {
            "color": "green"
           },
           "mode": "markers",
           "x": [
            5
           ],
           "y": [
            11
           ],
           "type": "scatter"
          },
          {
           "marker": {
            "color": "green"
           },
           "mode": "markers",
           "x": [
            2
           ],
           "y": [
            8
           ],
           "type": "scatter"
          },
          {
           "marker": {
            "color": "green"
           },
           "mode": "markers",
           "x": [
            3
           ],
           "y": [
            13
           ],
           "type": "scatter"
          },
          {
           "marker": {
            "color": "blue"
           },
           "mode": "markers",
           "x": [
            7
           ],
           "y": [
            6
           ],
           "type": "scatter"
          },
          {
           "marker": {
            "color": "blue"
           },
           "mode": "markers",
           "x": [
            7
           ],
           "y": [
            6
           ],
           "type": "scatter"
          },
          {
           "marker": {
            "color": "blue"
           },
           "mode": "markers",
           "x": [
            8
           ],
           "y": [
            9
           ],
           "type": "scatter"
          },
          {
           "marker": {
            "color": "blue"
           },
           "mode": "markers",
           "x": [
            8
           ],
           "y": [
            12
           ],
           "type": "scatter"
          },
          {
           "marker": {
            "color": "green"
           },
           "mode": "markers",
           "x": [
            9
           ],
           "y": [
            12
           ],
           "type": "scatter"
          },
          {
           "marker": {
            "color": "green"
           },
           "mode": "markers",
           "x": [
            5
           ],
           "y": [
            8
           ],
           "type": "scatter"
          },
          {
           "marker": {
            "color": "green"
           },
           "mode": "markers",
           "x": [
            14
           ],
           "y": [
            10
           ],
           "type": "scatter"
          },
          {
           "marker": {
            "color": "blue"
           },
           "mode": "markers",
           "x": [
            8
           ],
           "y": [
            9
           ],
           "type": "scatter"
          },
          {
           "marker": {
            "color": "blue"
           },
           "mode": "markers",
           "x": [
            9
           ],
           "y": [
            12
           ],
           "type": "scatter"
          },
          {
           "marker": {
            "color": "blue"
           },
           "mode": "markers",
           "x": [
            9
           ],
           "y": [
            12
           ],
           "type": "scatter"
          },
          {
           "marker": {
            "color": "blue"
           },
           "mode": "markers",
           "x": [
            13
           ],
           "y": [
            9
           ],
           "type": "scatter"
          },
          {
           "marker": {
            "color": "blue"
           },
           "mode": "markers",
           "x": [
            12
           ],
           "y": [
            6
           ],
           "type": "scatter"
          },
          {
           "marker": {
            "color": "blue"
           },
           "mode": "markers",
           "x": [
            12
           ],
           "y": [
            6
           ],
           "type": "scatter"
          },
          {
           "marker": {
            "color": "blue"
           },
           "mode": "markers",
           "x": [
            8
           ],
           "y": [
            12
           ],
           "type": "scatter"
          },
          {
           "marker": {
            "color": "green"
           },
           "mode": "markers",
           "x": [
            11
           ],
           "y": [
            15
           ],
           "type": "scatter"
          },
          {
           "marker": {
            "color": "blue"
           },
           "mode": "markers",
           "x": [
            13
           ],
           "y": [
            6
           ],
           "type": "scatter"
          },
          {
           "marker": {
            "color": "blue"
           },
           "mode": "markers",
           "x": [
            13
           ],
           "y": [
            6
           ],
           "type": "scatter"
          },
          {
           "marker": {
            "color": "blue"
           },
           "mode": "markers",
           "x": [
            12
           ],
           "y": [
            10
           ],
           "type": "scatter"
          },
          {
           "marker": {
            "color": "blue"
           },
           "mode": "markers",
           "x": [
            12
           ],
           "y": [
            10
           ],
           "type": "scatter"
          },
          {
           "marker": {
            "color": "blue"
           },
           "mode": "markers",
           "x": [
            13
           ],
           "y": [
            9
           ],
           "type": "scatter"
          },
          {
           "marker": {
            "color": "orange"
           },
           "mode": "markers",
           "x": [
            2
           ],
           "y": [
            2
           ],
           "type": "scatter"
          },
          {
           "marker": {
            "color": "orange"
           },
           "mode": "markers",
           "x": [
            18
           ],
           "y": [
            18
           ],
           "type": "scatter"
          },
          {
           "marker": {
            "color": "orange"
           },
           "mode": "markers",
           "x": [
            3
           ],
           "y": [
            15
           ],
           "type": "scatter"
          }
         ],
         "layout": {
          "title": {
           "text": "Simulation frame 19"
          }
         }
        },
        {
         "data": [
          {
           "marker": {
            "color": "green"
           },
           "mode": "markers",
           "x": [
            -2
           ],
           "y": [
            4
           ],
           "type": "scatter"
          },
          {
           "marker": {
            "color": "green"
           },
           "mode": "markers",
           "x": [
            -2
           ],
           "y": [
            7
           ],
           "type": "scatter"
          },
          {
           "marker": {
            "color": "green"
           },
           "mode": "markers",
           "x": [
            5
           ],
           "y": [
            11
           ],
           "type": "scatter"
          },
          {
           "marker": {
            "color": "green"
           },
           "mode": "markers",
           "x": [
            1
           ],
           "y": [
            8
           ],
           "type": "scatter"
          },
          {
           "marker": {
            "color": "green"
           },
           "mode": "markers",
           "x": [
            3
           ],
           "y": [
            12
           ],
           "type": "scatter"
          },
          {
           "marker": {
            "color": "blue"
           },
           "mode": "markers",
           "x": [
            7
           ],
           "y": [
            6
           ],
           "type": "scatter"
          },
          {
           "marker": {
            "color": "blue"
           },
           "mode": "markers",
           "x": [
            7
           ],
           "y": [
            6
           ],
           "type": "scatter"
          },
          {
           "marker": {
            "color": "blue"
           },
           "mode": "markers",
           "x": [
            8
           ],
           "y": [
            9
           ],
           "type": "scatter"
          },
          {
           "marker": {
            "color": "blue"
           },
           "mode": "markers",
           "x": [
            8
           ],
           "y": [
            12
           ],
           "type": "scatter"
          },
          {
           "marker": {
            "color": "green"
           },
           "mode": "markers",
           "x": [
            8
           ],
           "y": [
            12
           ],
           "type": "scatter"
          },
          {
           "marker": {
            "color": "green"
           },
           "mode": "markers",
           "x": [
            5
           ],
           "y": [
            9
           ],
           "type": "scatter"
          },
          {
           "marker": {
            "color": "green"
           },
           "mode": "markers",
           "x": [
            15
           ],
           "y": [
            10
           ],
           "type": "scatter"
          },
          {
           "marker": {
            "color": "blue"
           },
           "mode": "markers",
           "x": [
            8
           ],
           "y": [
            9
           ],
           "type": "scatter"
          },
          {
           "marker": {
            "color": "blue"
           },
           "mode": "markers",
           "x": [
            9
           ],
           "y": [
            12
           ],
           "type": "scatter"
          },
          {
           "marker": {
            "color": "blue"
           },
           "mode": "markers",
           "x": [
            9
           ],
           "y": [
            12
           ],
           "type": "scatter"
          },
          {
           "marker": {
            "color": "blue"
           },
           "mode": "markers",
           "x": [
            13
           ],
           "y": [
            9
           ],
           "type": "scatter"
          },
          {
           "marker": {
            "color": "blue"
           },
           "mode": "markers",
           "x": [
            12
           ],
           "y": [
            6
           ],
           "type": "scatter"
          },
          {
           "marker": {
            "color": "blue"
           },
           "mode": "markers",
           "x": [
            12
           ],
           "y": [
            6
           ],
           "type": "scatter"
          },
          {
           "marker": {
            "color": "blue"
           },
           "mode": "markers",
           "x": [
            8
           ],
           "y": [
            12
           ],
           "type": "scatter"
          },
          {
           "marker": {
            "color": "green"
           },
           "mode": "markers",
           "x": [
            11
           ],
           "y": [
            15
           ],
           "type": "scatter"
          },
          {
           "marker": {
            "color": "blue"
           },
           "mode": "markers",
           "x": [
            13
           ],
           "y": [
            6
           ],
           "type": "scatter"
          },
          {
           "marker": {
            "color": "blue"
           },
           "mode": "markers",
           "x": [
            13
           ],
           "y": [
            6
           ],
           "type": "scatter"
          },
          {
           "marker": {
            "color": "blue"
           },
           "mode": "markers",
           "x": [
            12
           ],
           "y": [
            10
           ],
           "type": "scatter"
          },
          {
           "marker": {
            "color": "blue"
           },
           "mode": "markers",
           "x": [
            12
           ],
           "y": [
            10
           ],
           "type": "scatter"
          },
          {
           "marker": {
            "color": "blue"
           },
           "mode": "markers",
           "x": [
            13
           ],
           "y": [
            9
           ],
           "type": "scatter"
          },
          {
           "marker": {
            "color": "orange"
           },
           "mode": "markers",
           "x": [
            2
           ],
           "y": [
            2
           ],
           "type": "scatter"
          },
          {
           "marker": {
            "color": "orange"
           },
           "mode": "markers",
           "x": [
            18
           ],
           "y": [
            18
           ],
           "type": "scatter"
          },
          {
           "marker": {
            "color": "orange"
           },
           "mode": "markers",
           "x": [
            3
           ],
           "y": [
            15
           ],
           "type": "scatter"
          }
         ],
         "layout": {
          "title": {
           "text": "Simulation frame 20"
          }
         }
        },
        {
         "data": [
          {
           "marker": {
            "color": "green"
           },
           "mode": "markers",
           "x": [
            -1
           ],
           "y": [
            4
           ],
           "type": "scatter"
          },
          {
           "marker": {
            "color": "green"
           },
           "mode": "markers",
           "x": [
            -3
           ],
           "y": [
            7
           ],
           "type": "scatter"
          },
          {
           "marker": {
            "color": "green"
           },
           "mode": "markers",
           "x": [
            5
           ],
           "y": [
            12
           ],
           "type": "scatter"
          },
          {
           "marker": {
            "color": "green"
           },
           "mode": "markers",
           "x": [
            2
           ],
           "y": [
            8
           ],
           "type": "scatter"
          },
          {
           "marker": {
            "color": "green"
           },
           "mode": "markers",
           "x": [
            4
           ],
           "y": [
            12
           ],
           "type": "scatter"
          },
          {
           "marker": {
            "color": "blue"
           },
           "mode": "markers",
           "x": [
            7
           ],
           "y": [
            6
           ],
           "type": "scatter"
          },
          {
           "marker": {
            "color": "blue"
           },
           "mode": "markers",
           "x": [
            7
           ],
           "y": [
            6
           ],
           "type": "scatter"
          },
          {
           "marker": {
            "color": "blue"
           },
           "mode": "markers",
           "x": [
            8
           ],
           "y": [
            9
           ],
           "type": "scatter"
          },
          {
           "marker": {
            "color": "blue"
           },
           "mode": "markers",
           "x": [
            8
           ],
           "y": [
            12
           ],
           "type": "scatter"
          },
          {
           "marker": {
            "color": "green"
           },
           "mode": "markers",
           "x": [
            8
           ],
           "y": [
            12
           ],
           "type": "scatter"
          },
          {
           "marker": {
            "color": "green"
           },
           "mode": "markers",
           "x": [
            5
           ],
           "y": [
            8
           ],
           "type": "scatter"
          },
          {
           "marker": {
            "color": "green"
           },
           "mode": "markers",
           "x": [
            14
           ],
           "y": [
            10
           ],
           "type": "scatter"
          },
          {
           "marker": {
            "color": "blue"
           },
           "mode": "markers",
           "x": [
            8
           ],
           "y": [
            9
           ],
           "type": "scatter"
          },
          {
           "marker": {
            "color": "blue"
           },
           "mode": "markers",
           "x": [
            9
           ],
           "y": [
            12
           ],
           "type": "scatter"
          },
          {
           "marker": {
            "color": "blue"
           },
           "mode": "markers",
           "x": [
            9
           ],
           "y": [
            12
           ],
           "type": "scatter"
          },
          {
           "marker": {
            "color": "blue"
           },
           "mode": "markers",
           "x": [
            13
           ],
           "y": [
            9
           ],
           "type": "scatter"
          },
          {
           "marker": {
            "color": "blue"
           },
           "mode": "markers",
           "x": [
            12
           ],
           "y": [
            6
           ],
           "type": "scatter"
          },
          {
           "marker": {
            "color": "blue"
           },
           "mode": "markers",
           "x": [
            12
           ],
           "y": [
            6
           ],
           "type": "scatter"
          },
          {
           "marker": {
            "color": "blue"
           },
           "mode": "markers",
           "x": [
            8
           ],
           "y": [
            12
           ],
           "type": "scatter"
          },
          {
           "marker": {
            "color": "green"
           },
           "mode": "markers",
           "x": [
            11
           ],
           "y": [
            16
           ],
           "type": "scatter"
          },
          {
           "marker": {
            "color": "blue"
           },
           "mode": "markers",
           "x": [
            13
           ],
           "y": [
            6
           ],
           "type": "scatter"
          },
          {
           "marker": {
            "color": "blue"
           },
           "mode": "markers",
           "x": [
            13
           ],
           "y": [
            6
           ],
           "type": "scatter"
          },
          {
           "marker": {
            "color": "blue"
           },
           "mode": "markers",
           "x": [
            12
           ],
           "y": [
            10
           ],
           "type": "scatter"
          },
          {
           "marker": {
            "color": "blue"
           },
           "mode": "markers",
           "x": [
            12
           ],
           "y": [
            10
           ],
           "type": "scatter"
          },
          {
           "marker": {
            "color": "blue"
           },
           "mode": "markers",
           "x": [
            13
           ],
           "y": [
            9
           ],
           "type": "scatter"
          },
          {
           "marker": {
            "color": "orange"
           },
           "mode": "markers",
           "x": [
            2
           ],
           "y": [
            2
           ],
           "type": "scatter"
          },
          {
           "marker": {
            "color": "orange"
           },
           "mode": "markers",
           "x": [
            18
           ],
           "y": [
            18
           ],
           "type": "scatter"
          },
          {
           "marker": {
            "color": "orange"
           },
           "mode": "markers",
           "x": [
            3
           ],
           "y": [
            15
           ],
           "type": "scatter"
          }
         ],
         "layout": {
          "title": {
           "text": "Simulation frame 21"
          }
         }
        },
        {
         "data": [
          {
           "marker": {
            "color": "green"
           },
           "mode": "markers",
           "x": [
            0
           ],
           "y": [
            4
           ],
           "type": "scatter"
          },
          {
           "marker": {
            "color": "green"
           },
           "mode": "markers",
           "x": [
            -3
           ],
           "y": [
            7
           ],
           "type": "scatter"
          },
          {
           "marker": {
            "color": "green"
           },
           "mode": "markers",
           "x": [
            5
           ],
           "y": [
            12
           ],
           "type": "scatter"
          },
          {
           "marker": {
            "color": "green"
           },
           "mode": "markers",
           "x": [
            3
           ],
           "y": [
            8
           ],
           "type": "scatter"
          },
          {
           "marker": {
            "color": "green"
           },
           "mode": "markers",
           "x": [
            4
           ],
           "y": [
            13
           ],
           "type": "scatter"
          },
          {
           "marker": {
            "color": "blue"
           },
           "mode": "markers",
           "x": [
            7
           ],
           "y": [
            6
           ],
           "type": "scatter"
          },
          {
           "marker": {
            "color": "blue"
           },
           "mode": "markers",
           "x": [
            7
           ],
           "y": [
            6
           ],
           "type": "scatter"
          },
          {
           "marker": {
            "color": "blue"
           },
           "mode": "markers",
           "x": [
            8
           ],
           "y": [
            9
           ],
           "type": "scatter"
          },
          {
           "marker": {
            "color": "blue"
           },
           "mode": "markers",
           "x": [
            8
           ],
           "y": [
            12
           ],
           "type": "scatter"
          },
          {
           "marker": {
            "color": "green"
           },
           "mode": "markers",
           "x": [
            8
           ],
           "y": [
            12
           ],
           "type": "scatter"
          },
          {
           "marker": {
            "color": "green"
           },
           "mode": "markers",
           "x": [
            4
           ],
           "y": [
            8
           ],
           "type": "scatter"
          },
          {
           "marker": {
            "color": "green"
           },
           "mode": "markers",
           "x": [
            14
           ],
           "y": [
            11
           ],
           "type": "scatter"
          },
          {
           "marker": {
            "color": "blue"
           },
           "mode": "markers",
           "x": [
            8
           ],
           "y": [
            9
           ],
           "type": "scatter"
          },
          {
           "marker": {
            "color": "blue"
           },
           "mode": "markers",
           "x": [
            9
           ],
           "y": [
            12
           ],
           "type": "scatter"
          },
          {
           "marker": {
            "color": "blue"
           },
           "mode": "markers",
           "x": [
            9
           ],
           "y": [
            12
           ],
           "type": "scatter"
          },
          {
           "marker": {
            "color": "blue"
           },
           "mode": "markers",
           "x": [
            13
           ],
           "y": [
            9
           ],
           "type": "scatter"
          },
          {
           "marker": {
            "color": "blue"
           },
           "mode": "markers",
           "x": [
            12
           ],
           "y": [
            6
           ],
           "type": "scatter"
          },
          {
           "marker": {
            "color": "blue"
           },
           "mode": "markers",
           "x": [
            12
           ],
           "y": [
            6
           ],
           "type": "scatter"
          },
          {
           "marker": {
            "color": "blue"
           },
           "mode": "markers",
           "x": [
            8
           ],
           "y": [
            12
           ],
           "type": "scatter"
          },
          {
           "marker": {
            "color": "green"
           },
           "mode": "markers",
           "x": [
            10
           ],
           "y": [
            16
           ],
           "type": "scatter"
          },
          {
           "marker": {
            "color": "blue"
           },
           "mode": "markers",
           "x": [
            13
           ],
           "y": [
            6
           ],
           "type": "scatter"
          },
          {
           "marker": {
            "color": "blue"
           },
           "mode": "markers",
           "x": [
            13
           ],
           "y": [
            6
           ],
           "type": "scatter"
          },
          {
           "marker": {
            "color": "blue"
           },
           "mode": "markers",
           "x": [
            12
           ],
           "y": [
            10
           ],
           "type": "scatter"
          },
          {
           "marker": {
            "color": "blue"
           },
           "mode": "markers",
           "x": [
            12
           ],
           "y": [
            10
           ],
           "type": "scatter"
          },
          {
           "marker": {
            "color": "blue"
           },
           "mode": "markers",
           "x": [
            13
           ],
           "y": [
            9
           ],
           "type": "scatter"
          },
          {
           "marker": {
            "color": "orange"
           },
           "mode": "markers",
           "x": [
            2
           ],
           "y": [
            2
           ],
           "type": "scatter"
          },
          {
           "marker": {
            "color": "orange"
           },
           "mode": "markers",
           "x": [
            18
           ],
           "y": [
            18
           ],
           "type": "scatter"
          },
          {
           "marker": {
            "color": "orange"
           },
           "mode": "markers",
           "x": [
            3
           ],
           "y": [
            15
           ],
           "type": "scatter"
          }
         ],
         "layout": {
          "title": {
           "text": "Simulation frame 22"
          }
         }
        },
        {
         "data": [
          {
           "marker": {
            "color": "green"
           },
           "mode": "markers",
           "x": [
            0
           ],
           "y": [
            5
           ],
           "type": "scatter"
          },
          {
           "marker": {
            "color": "green"
           },
           "mode": "markers",
           "x": [
            -3
           ],
           "y": [
            7
           ],
           "type": "scatter"
          },
          {
           "marker": {
            "color": "red"
           },
           "mode": "markers",
           "x": [
            4
           ],
           "y": [
            12
           ],
           "type": "scatter"
          },
          {
           "marker": {
            "color": "green"
           },
           "mode": "markers",
           "x": [
            3
           ],
           "y": [
            7
           ],
           "type": "scatter"
          },
          {
           "marker": {
            "color": "red"
           },
           "mode": "markers",
           "x": [
            4
           ],
           "y": [
            12
           ],
           "type": "scatter"
          },
          {
           "marker": {
            "color": "blue"
           },
           "mode": "markers",
           "x": [
            7
           ],
           "y": [
            6
           ],
           "type": "scatter"
          },
          {
           "marker": {
            "color": "blue"
           },
           "mode": "markers",
           "x": [
            7
           ],
           "y": [
            6
           ],
           "type": "scatter"
          },
          {
           "marker": {
            "color": "blue"
           },
           "mode": "markers",
           "x": [
            8
           ],
           "y": [
            9
           ],
           "type": "scatter"
          },
          {
           "marker": {
            "color": "blue"
           },
           "mode": "markers",
           "x": [
            8
           ],
           "y": [
            12
           ],
           "type": "scatter"
          },
          {
           "marker": {
            "color": "green"
           },
           "mode": "markers",
           "x": [
            8
           ],
           "y": [
            11
           ],
           "type": "scatter"
          },
          {
           "marker": {
            "color": "green"
           },
           "mode": "markers",
           "x": [
            5
           ],
           "y": [
            8
           ],
           "type": "scatter"
          },
          {
           "marker": {
            "color": "green"
           },
           "mode": "markers",
           "x": [
            14
           ],
           "y": [
            11
           ],
           "type": "scatter"
          },
          {
           "marker": {
            "color": "blue"
           },
           "mode": "markers",
           "x": [
            8
           ],
           "y": [
            9
           ],
           "type": "scatter"
          },
          {
           "marker": {
            "color": "blue"
           },
           "mode": "markers",
           "x": [
            9
           ],
           "y": [
            12
           ],
           "type": "scatter"
          },
          {
           "marker": {
            "color": "blue"
           },
           "mode": "markers",
           "x": [
            9
           ],
           "y": [
            12
           ],
           "type": "scatter"
          },
          {
           "marker": {
            "color": "blue"
           },
           "mode": "markers",
           "x": [
            13
           ],
           "y": [
            9
           ],
           "type": "scatter"
          },
          {
           "marker": {
            "color": "blue"
           },
           "mode": "markers",
           "x": [
            12
           ],
           "y": [
            6
           ],
           "type": "scatter"
          },
          {
           "marker": {
            "color": "blue"
           },
           "mode": "markers",
           "x": [
            12
           ],
           "y": [
            6
           ],
           "type": "scatter"
          },
          {
           "marker": {
            "color": "blue"
           },
           "mode": "markers",
           "x": [
            8
           ],
           "y": [
            12
           ],
           "type": "scatter"
          },
          {
           "marker": {
            "color": "green"
           },
           "mode": "markers",
           "x": [
            10
           ],
           "y": [
            16
           ],
           "type": "scatter"
          },
          {
           "marker": {
            "color": "blue"
           },
           "mode": "markers",
           "x": [
            13
           ],
           "y": [
            6
           ],
           "type": "scatter"
          },
          {
           "marker": {
            "color": "blue"
           },
           "mode": "markers",
           "x": [
            13
           ],
           "y": [
            6
           ],
           "type": "scatter"
          },
          {
           "marker": {
            "color": "blue"
           },
           "mode": "markers",
           "x": [
            12
           ],
           "y": [
            10
           ],
           "type": "scatter"
          },
          {
           "marker": {
            "color": "blue"
           },
           "mode": "markers",
           "x": [
            12
           ],
           "y": [
            10
           ],
           "type": "scatter"
          },
          {
           "marker": {
            "color": "blue"
           },
           "mode": "markers",
           "x": [
            13
           ],
           "y": [
            9
           ],
           "type": "scatter"
          },
          {
           "marker": {
            "color": "orange"
           },
           "mode": "markers",
           "x": [
            2
           ],
           "y": [
            2
           ],
           "type": "scatter"
          },
          {
           "marker": {
            "color": "orange"
           },
           "mode": "markers",
           "x": [
            18
           ],
           "y": [
            18
           ],
           "type": "scatter"
          },
          {
           "marker": {
            "color": "orange"
           },
           "mode": "markers",
           "x": [
            3
           ],
           "y": [
            15
           ],
           "type": "scatter"
          }
         ],
         "layout": {
          "title": {
           "text": "Simulation frame 23"
          }
         }
        },
        {
         "data": [
          {
           "marker": {
            "color": "green"
           },
           "mode": "markers",
           "x": [
            0
           ],
           "y": [
            4
           ],
           "type": "scatter"
          },
          {
           "marker": {
            "color": "green"
           },
           "mode": "markers",
           "x": [
            -2
           ],
           "y": [
            7
           ],
           "type": "scatter"
          },
          {
           "marker": {
            "color": "blue"
           },
           "mode": "markers",
           "x": [
            4
           ],
           "y": [
            12
           ],
           "type": "scatter"
          },
          {
           "marker": {
            "color": "green"
           },
           "mode": "markers",
           "x": [
            3
           ],
           "y": [
            6
           ],
           "type": "scatter"
          },
          {
           "marker": {
            "color": "blue"
           },
           "mode": "markers",
           "x": [
            4
           ],
           "y": [
            12
           ],
           "type": "scatter"
          },
          {
           "marker": {
            "color": "blue"
           },
           "mode": "markers",
           "x": [
            7
           ],
           "y": [
            6
           ],
           "type": "scatter"
          },
          {
           "marker": {
            "color": "blue"
           },
           "mode": "markers",
           "x": [
            7
           ],
           "y": [
            6
           ],
           "type": "scatter"
          },
          {
           "marker": {
            "color": "blue"
           },
           "mode": "markers",
           "x": [
            8
           ],
           "y": [
            9
           ],
           "type": "scatter"
          },
          {
           "marker": {
            "color": "blue"
           },
           "mode": "markers",
           "x": [
            8
           ],
           "y": [
            12
           ],
           "type": "scatter"
          },
          {
           "marker": {
            "color": "green"
           },
           "mode": "markers",
           "x": [
            8
           ],
           "y": [
            10
           ],
           "type": "scatter"
          },
          {
           "marker": {
            "color": "green"
           },
           "mode": "markers",
           "x": [
            6
           ],
           "y": [
            8
           ],
           "type": "scatter"
          },
          {
           "marker": {
            "color": "green"
           },
           "mode": "markers",
           "x": [
            15
           ],
           "y": [
            11
           ],
           "type": "scatter"
          },
          {
           "marker": {
            "color": "blue"
           },
           "mode": "markers",
           "x": [
            8
           ],
           "y": [
            9
           ],
           "type": "scatter"
          },
          {
           "marker": {
            "color": "blue"
           },
           "mode": "markers",
           "x": [
            9
           ],
           "y": [
            12
           ],
           "type": "scatter"
          },
          {
           "marker": {
            "color": "blue"
           },
           "mode": "markers",
           "x": [
            9
           ],
           "y": [
            12
           ],
           "type": "scatter"
          },
          {
           "marker": {
            "color": "blue"
           },
           "mode": "markers",
           "x": [
            13
           ],
           "y": [
            9
           ],
           "type": "scatter"
          },
          {
           "marker": {
            "color": "blue"
           },
           "mode": "markers",
           "x": [
            12
           ],
           "y": [
            6
           ],
           "type": "scatter"
          },
          {
           "marker": {
            "color": "blue"
           },
           "mode": "markers",
           "x": [
            12
           ],
           "y": [
            6
           ],
           "type": "scatter"
          },
          {
           "marker": {
            "color": "blue"
           },
           "mode": "markers",
           "x": [
            8
           ],
           "y": [
            12
           ],
           "type": "scatter"
          },
          {
           "marker": {
            "color": "green"
           },
           "mode": "markers",
           "x": [
            11
           ],
           "y": [
            16
           ],
           "type": "scatter"
          },
          {
           "marker": {
            "color": "blue"
           },
           "mode": "markers",
           "x": [
            13
           ],
           "y": [
            6
           ],
           "type": "scatter"
          },
          {
           "marker": {
            "color": "blue"
           },
           "mode": "markers",
           "x": [
            13
           ],
           "y": [
            6
           ],
           "type": "scatter"
          },
          {
           "marker": {
            "color": "blue"
           },
           "mode": "markers",
           "x": [
            12
           ],
           "y": [
            10
           ],
           "type": "scatter"
          },
          {
           "marker": {
            "color": "blue"
           },
           "mode": "markers",
           "x": [
            12
           ],
           "y": [
            10
           ],
           "type": "scatter"
          },
          {
           "marker": {
            "color": "blue"
           },
           "mode": "markers",
           "x": [
            13
           ],
           "y": [
            9
           ],
           "type": "scatter"
          },
          {
           "marker": {
            "color": "orange"
           },
           "mode": "markers",
           "x": [
            2
           ],
           "y": [
            2
           ],
           "type": "scatter"
          },
          {
           "marker": {
            "color": "orange"
           },
           "mode": "markers",
           "x": [
            18
           ],
           "y": [
            18
           ],
           "type": "scatter"
          },
          {
           "marker": {
            "color": "orange"
           },
           "mode": "markers",
           "x": [
            3
           ],
           "y": [
            15
           ],
           "type": "scatter"
          }
         ],
         "layout": {
          "title": {
           "text": "Simulation frame 24"
          }
         }
        },
        {
         "data": [
          {
           "marker": {
            "color": "green"
           },
           "mode": "markers",
           "x": [
            0
           ],
           "y": [
            3
           ],
           "type": "scatter"
          },
          {
           "marker": {
            "color": "green"
           },
           "mode": "markers",
           "x": [
            -2
           ],
           "y": [
            7
           ],
           "type": "scatter"
          },
          {
           "marker": {
            "color": "blue"
           },
           "mode": "markers",
           "x": [
            4
           ],
           "y": [
            12
           ],
           "type": "scatter"
          },
          {
           "marker": {
            "color": "green"
           },
           "mode": "markers",
           "x": [
            2
           ],
           "y": [
            6
           ],
           "type": "scatter"
          },
          {
           "marker": {
            "color": "blue"
           },
           "mode": "markers",
           "x": [
            4
           ],
           "y": [
            12
           ],
           "type": "scatter"
          },
          {
           "marker": {
            "color": "blue"
           },
           "mode": "markers",
           "x": [
            7
           ],
           "y": [
            6
           ],
           "type": "scatter"
          },
          {
           "marker": {
            "color": "blue"
           },
           "mode": "markers",
           "x": [
            7
           ],
           "y": [
            6
           ],
           "type": "scatter"
          },
          {
           "marker": {
            "color": "blue"
           },
           "mode": "markers",
           "x": [
            8
           ],
           "y": [
            9
           ],
           "type": "scatter"
          },
          {
           "marker": {
            "color": "blue"
           },
           "mode": "markers",
           "x": [
            8
           ],
           "y": [
            12
           ],
           "type": "scatter"
          },
          {
           "marker": {
            "color": "green"
           },
           "mode": "markers",
           "x": [
            9
           ],
           "y": [
            10
           ],
           "type": "scatter"
          },
          {
           "marker": {
            "color": "green"
           },
           "mode": "markers",
           "x": [
            5
           ],
           "y": [
            8
           ],
           "type": "scatter"
          },
          {
           "marker": {
            "color": "green"
           },
           "mode": "markers",
           "x": [
            15
           ],
           "y": [
            12
           ],
           "type": "scatter"
          },
          {
           "marker": {
            "color": "blue"
           },
           "mode": "markers",
           "x": [
            8
           ],
           "y": [
            9
           ],
           "type": "scatter"
          },
          {
           "marker": {
            "color": "blue"
           },
           "mode": "markers",
           "x": [
            9
           ],
           "y": [
            12
           ],
           "type": "scatter"
          },
          {
           "marker": {
            "color": "blue"
           },
           "mode": "markers",
           "x": [
            9
           ],
           "y": [
            12
           ],
           "type": "scatter"
          },
          {
           "marker": {
            "color": "blue"
           },
           "mode": "markers",
           "x": [
            13
           ],
           "y": [
            9
           ],
           "type": "scatter"
          },
          {
           "marker": {
            "color": "blue"
           },
           "mode": "markers",
           "x": [
            12
           ],
           "y": [
            6
           ],
           "type": "scatter"
          },
          {
           "marker": {
            "color": "blue"
           },
           "mode": "markers",
           "x": [
            12
           ],
           "y": [
            6
           ],
           "type": "scatter"
          },
          {
           "marker": {
            "color": "blue"
           },
           "mode": "markers",
           "x": [
            8
           ],
           "y": [
            12
           ],
           "type": "scatter"
          },
          {
           "marker": {
            "color": "green"
           },
           "mode": "markers",
           "x": [
            11
           ],
           "y": [
            17
           ],
           "type": "scatter"
          },
          {
           "marker": {
            "color": "blue"
           },
           "mode": "markers",
           "x": [
            13
           ],
           "y": [
            6
           ],
           "type": "scatter"
          },
          {
           "marker": {
            "color": "blue"
           },
           "mode": "markers",
           "x": [
            13
           ],
           "y": [
            6
           ],
           "type": "scatter"
          },
          {
           "marker": {
            "color": "blue"
           },
           "mode": "markers",
           "x": [
            12
           ],
           "y": [
            10
           ],
           "type": "scatter"
          },
          {
           "marker": {
            "color": "blue"
           },
           "mode": "markers",
           "x": [
            12
           ],
           "y": [
            10
           ],
           "type": "scatter"
          },
          {
           "marker": {
            "color": "blue"
           },
           "mode": "markers",
           "x": [
            13
           ],
           "y": [
            9
           ],
           "type": "scatter"
          },
          {
           "marker": {
            "color": "orange"
           },
           "mode": "markers",
           "x": [
            2
           ],
           "y": [
            2
           ],
           "type": "scatter"
          },
          {
           "marker": {
            "color": "orange"
           },
           "mode": "markers",
           "x": [
            18
           ],
           "y": [
            18
           ],
           "type": "scatter"
          },
          {
           "marker": {
            "color": "orange"
           },
           "mode": "markers",
           "x": [
            3
           ],
           "y": [
            15
           ],
           "type": "scatter"
          }
         ],
         "layout": {
          "title": {
           "text": "Simulation frame 25"
          }
         }
        },
        {
         "data": [
          {
           "marker": {
            "color": "green"
           },
           "mode": "markers",
           "x": [
            0
           ],
           "y": [
            2
           ],
           "type": "scatter"
          },
          {
           "marker": {
            "color": "green"
           },
           "mode": "markers",
           "x": [
            -2
           ],
           "y": [
            6
           ],
           "type": "scatter"
          },
          {
           "marker": {
            "color": "blue"
           },
           "mode": "markers",
           "x": [
            4
           ],
           "y": [
            12
           ],
           "type": "scatter"
          },
          {
           "marker": {
            "color": "green"
           },
           "mode": "markers",
           "x": [
            3
           ],
           "y": [
            6
           ],
           "type": "scatter"
          },
          {
           "marker": {
            "color": "blue"
           },
           "mode": "markers",
           "x": [
            4
           ],
           "y": [
            12
           ],
           "type": "scatter"
          },
          {
           "marker": {
            "color": "blue"
           },
           "mode": "markers",
           "x": [
            7
           ],
           "y": [
            6
           ],
           "type": "scatter"
          },
          {
           "marker": {
            "color": "blue"
           },
           "mode": "markers",
           "x": [
            7
           ],
           "y": [
            6
           ],
           "type": "scatter"
          },
          {
           "marker": {
            "color": "blue"
           },
           "mode": "markers",
           "x": [
            8
           ],
           "y": [
            9
           ],
           "type": "scatter"
          },
          {
           "marker": {
            "color": "blue"
           },
           "mode": "markers",
           "x": [
            8
           ],
           "y": [
            12
           ],
           "type": "scatter"
          },
          {
           "marker": {
            "color": "green"
           },
           "mode": "markers",
           "x": [
            10
           ],
           "y": [
            10
           ],
           "type": "scatter"
          },
          {
           "marker": {
            "color": "green"
           },
           "mode": "markers",
           "x": [
            5
           ],
           "y": [
            8
           ],
           "type": "scatter"
          },
          {
           "marker": {
            "color": "green"
           },
           "mode": "markers",
           "x": [
            16
           ],
           "y": [
            12
           ],
           "type": "scatter"
          },
          {
           "marker": {
            "color": "blue"
           },
           "mode": "markers",
           "x": [
            8
           ],
           "y": [
            9
           ],
           "type": "scatter"
          },
          {
           "marker": {
            "color": "blue"
           },
           "mode": "markers",
           "x": [
            9
           ],
           "y": [
            12
           ],
           "type": "scatter"
          },
          {
           "marker": {
            "color": "blue"
           },
           "mode": "markers",
           "x": [
            9
           ],
           "y": [
            12
           ],
           "type": "scatter"
          },
          {
           "marker": {
            "color": "blue"
           },
           "mode": "markers",
           "x": [
            13
           ],
           "y": [
            9
           ],
           "type": "scatter"
          },
          {
           "marker": {
            "color": "blue"
           },
           "mode": "markers",
           "x": [
            12
           ],
           "y": [
            6
           ],
           "type": "scatter"
          },
          {
           "marker": {
            "color": "blue"
           },
           "mode": "markers",
           "x": [
            12
           ],
           "y": [
            6
           ],
           "type": "scatter"
          },
          {
           "marker": {
            "color": "blue"
           },
           "mode": "markers",
           "x": [
            8
           ],
           "y": [
            12
           ],
           "type": "scatter"
          },
          {
           "marker": {
            "color": "green"
           },
           "mode": "markers",
           "x": [
            12
           ],
           "y": [
            17
           ],
           "type": "scatter"
          },
          {
           "marker": {
            "color": "blue"
           },
           "mode": "markers",
           "x": [
            13
           ],
           "y": [
            6
           ],
           "type": "scatter"
          },
          {
           "marker": {
            "color": "blue"
           },
           "mode": "markers",
           "x": [
            13
           ],
           "y": [
            6
           ],
           "type": "scatter"
          },
          {
           "marker": {
            "color": "blue"
           },
           "mode": "markers",
           "x": [
            12
           ],
           "y": [
            10
           ],
           "type": "scatter"
          },
          {
           "marker": {
            "color": "blue"
           },
           "mode": "markers",
           "x": [
            12
           ],
           "y": [
            10
           ],
           "type": "scatter"
          },
          {
           "marker": {
            "color": "blue"
           },
           "mode": "markers",
           "x": [
            13
           ],
           "y": [
            9
           ],
           "type": "scatter"
          },
          {
           "marker": {
            "color": "orange"
           },
           "mode": "markers",
           "x": [
            2
           ],
           "y": [
            2
           ],
           "type": "scatter"
          },
          {
           "marker": {
            "color": "orange"
           },
           "mode": "markers",
           "x": [
            18
           ],
           "y": [
            18
           ],
           "type": "scatter"
          },
          {
           "marker": {
            "color": "orange"
           },
           "mode": "markers",
           "x": [
            3
           ],
           "y": [
            15
           ],
           "type": "scatter"
          }
         ],
         "layout": {
          "title": {
           "text": "Simulation frame 26"
          }
         }
        },
        {
         "data": [
          {
           "marker": {
            "color": "green"
           },
           "mode": "markers",
           "x": [
            -1
           ],
           "y": [
            2
           ],
           "type": "scatter"
          },
          {
           "marker": {
            "color": "green"
           },
           "mode": "markers",
           "x": [
            -3
           ],
           "y": [
            6
           ],
           "type": "scatter"
          },
          {
           "marker": {
            "color": "blue"
           },
           "mode": "markers",
           "x": [
            4
           ],
           "y": [
            12
           ],
           "type": "scatter"
          },
          {
           "marker": {
            "color": "green"
           },
           "mode": "markers",
           "x": [
            3
           ],
           "y": [
            6
           ],
           "type": "scatter"
          },
          {
           "marker": {
            "color": "blue"
           },
           "mode": "markers",
           "x": [
            4
           ],
           "y": [
            12
           ],
           "type": "scatter"
          },
          {
           "marker": {
            "color": "blue"
           },
           "mode": "markers",
           "x": [
            7
           ],
           "y": [
            6
           ],
           "type": "scatter"
          },
          {
           "marker": {
            "color": "blue"
           },
           "mode": "markers",
           "x": [
            7
           ],
           "y": [
            6
           ],
           "type": "scatter"
          },
          {
           "marker": {
            "color": "blue"
           },
           "mode": "markers",
           "x": [
            8
           ],
           "y": [
            9
           ],
           "type": "scatter"
          },
          {
           "marker": {
            "color": "blue"
           },
           "mode": "markers",
           "x": [
            8
           ],
           "y": [
            12
           ],
           "type": "scatter"
          },
          {
           "marker": {
            "color": "green"
           },
           "mode": "markers",
           "x": [
            10
           ],
           "y": [
            9
           ],
           "type": "scatter"
          },
          {
           "marker": {
            "color": "green"
           },
           "mode": "markers",
           "x": [
            6
           ],
           "y": [
            8
           ],
           "type": "scatter"
          },
          {
           "marker": {
            "color": "green"
           },
           "mode": "markers",
           "x": [
            15
           ],
           "y": [
            12
           ],
           "type": "scatter"
          },
          {
           "marker": {
            "color": "blue"
           },
           "mode": "markers",
           "x": [
            8
           ],
           "y": [
            9
           ],
           "type": "scatter"
          },
          {
           "marker": {
            "color": "blue"
           },
           "mode": "markers",
           "x": [
            9
           ],
           "y": [
            12
           ],
           "type": "scatter"
          },
          {
           "marker": {
            "color": "blue"
           },
           "mode": "markers",
           "x": [
            9
           ],
           "y": [
            12
           ],
           "type": "scatter"
          },
          {
           "marker": {
            "color": "blue"
           },
           "mode": "markers",
           "x": [
            13
           ],
           "y": [
            9
           ],
           "type": "scatter"
          },
          {
           "marker": {
            "color": "blue"
           },
           "mode": "markers",
           "x": [
            12
           ],
           "y": [
            6
           ],
           "type": "scatter"
          },
          {
           "marker": {
            "color": "blue"
           },
           "mode": "markers",
           "x": [
            12
           ],
           "y": [
            6
           ],
           "type": "scatter"
          },
          {
           "marker": {
            "color": "blue"
           },
           "mode": "markers",
           "x": [
            8
           ],
           "y": [
            12
           ],
           "type": "scatter"
          },
          {
           "marker": {
            "color": "green"
           },
           "mode": "markers",
           "x": [
            13
           ],
           "y": [
            17
           ],
           "type": "scatter"
          },
          {
           "marker": {
            "color": "blue"
           },
           "mode": "markers",
           "x": [
            13
           ],
           "y": [
            6
           ],
           "type": "scatter"
          },
          {
           "marker": {
            "color": "blue"
           },
           "mode": "markers",
           "x": [
            13
           ],
           "y": [
            6
           ],
           "type": "scatter"
          },
          {
           "marker": {
            "color": "blue"
           },
           "mode": "markers",
           "x": [
            12
           ],
           "y": [
            10
           ],
           "type": "scatter"
          },
          {
           "marker": {
            "color": "blue"
           },
           "mode": "markers",
           "x": [
            12
           ],
           "y": [
            10
           ],
           "type": "scatter"
          },
          {
           "marker": {
            "color": "blue"
           },
           "mode": "markers",
           "x": [
            13
           ],
           "y": [
            9
           ],
           "type": "scatter"
          },
          {
           "marker": {
            "color": "orange"
           },
           "mode": "markers",
           "x": [
            2
           ],
           "y": [
            2
           ],
           "type": "scatter"
          },
          {
           "marker": {
            "color": "orange"
           },
           "mode": "markers",
           "x": [
            18
           ],
           "y": [
            18
           ],
           "type": "scatter"
          },
          {
           "marker": {
            "color": "orange"
           },
           "mode": "markers",
           "x": [
            3
           ],
           "y": [
            15
           ],
           "type": "scatter"
          }
         ],
         "layout": {
          "title": {
           "text": "Simulation frame 27"
          }
         }
        },
        {
         "data": [
          {
           "marker": {
            "color": "green"
           },
           "mode": "markers",
           "x": [
            -1
           ],
           "y": [
            1
           ],
           "type": "scatter"
          },
          {
           "marker": {
            "color": "green"
           },
           "mode": "markers",
           "x": [
            -2
           ],
           "y": [
            6
           ],
           "type": "scatter"
          },
          {
           "marker": {
            "color": "blue"
           },
           "mode": "markers",
           "x": [
            4
           ],
           "y": [
            12
           ],
           "type": "scatter"
          },
          {
           "marker": {
            "color": "green"
           },
           "mode": "markers",
           "x": [
            4
           ],
           "y": [
            6
           ],
           "type": "scatter"
          },
          {
           "marker": {
            "color": "blue"
           },
           "mode": "markers",
           "x": [
            4
           ],
           "y": [
            12
           ],
           "type": "scatter"
          },
          {
           "marker": {
            "color": "blue"
           },
           "mode": "markers",
           "x": [
            7
           ],
           "y": [
            6
           ],
           "type": "scatter"
          },
          {
           "marker": {
            "color": "blue"
           },
           "mode": "markers",
           "x": [
            7
           ],
           "y": [
            6
           ],
           "type": "scatter"
          },
          {
           "marker": {
            "color": "blue"
           },
           "mode": "markers",
           "x": [
            8
           ],
           "y": [
            9
           ],
           "type": "scatter"
          },
          {
           "marker": {
            "color": "blue"
           },
           "mode": "markers",
           "x": [
            8
           ],
           "y": [
            12
           ],
           "type": "scatter"
          },
          {
           "marker": {
            "color": "green"
           },
           "mode": "markers",
           "x": [
            10
           ],
           "y": [
            10
           ],
           "type": "scatter"
          },
          {
           "marker": {
            "color": "green"
           },
           "mode": "markers",
           "x": [
            5
           ],
           "y": [
            8
           ],
           "type": "scatter"
          },
          {
           "marker": {
            "color": "green"
           },
           "mode": "markers",
           "x": [
            15
           ],
           "y": [
            11
           ],
           "type": "scatter"
          },
          {
           "marker": {
            "color": "blue"
           },
           "mode": "markers",
           "x": [
            8
           ],
           "y": [
            9
           ],
           "type": "scatter"
          },
          {
           "marker": {
            "color": "blue"
           },
           "mode": "markers",
           "x": [
            9
           ],
           "y": [
            12
           ],
           "type": "scatter"
          },
          {
           "marker": {
            "color": "blue"
           },
           "mode": "markers",
           "x": [
            9
           ],
           "y": [
            12
           ],
           "type": "scatter"
          },
          {
           "marker": {
            "color": "blue"
           },
           "mode": "markers",
           "x": [
            13
           ],
           "y": [
            9
           ],
           "type": "scatter"
          },
          {
           "marker": {
            "color": "blue"
           },
           "mode": "markers",
           "x": [
            12
           ],
           "y": [
            6
           ],
           "type": "scatter"
          },
          {
           "marker": {
            "color": "blue"
           },
           "mode": "markers",
           "x": [
            12
           ],
           "y": [
            6
           ],
           "type": "scatter"
          },
          {
           "marker": {
            "color": "blue"
           },
           "mode": "markers",
           "x": [
            8
           ],
           "y": [
            12
           ],
           "type": "scatter"
          },
          {
           "marker": {
            "color": "green"
           },
           "mode": "markers",
           "x": [
            12
           ],
           "y": [
            17
           ],
           "type": "scatter"
          },
          {
           "marker": {
            "color": "blue"
           },
           "mode": "markers",
           "x": [
            13
           ],
           "y": [
            6
           ],
           "type": "scatter"
          },
          {
           "marker": {
            "color": "blue"
           },
           "mode": "markers",
           "x": [
            13
           ],
           "y": [
            6
           ],
           "type": "scatter"
          },
          {
           "marker": {
            "color": "blue"
           },
           "mode": "markers",
           "x": [
            12
           ],
           "y": [
            10
           ],
           "type": "scatter"
          },
          {
           "marker": {
            "color": "blue"
           },
           "mode": "markers",
           "x": [
            12
           ],
           "y": [
            10
           ],
           "type": "scatter"
          },
          {
           "marker": {
            "color": "blue"
           },
           "mode": "markers",
           "x": [
            13
           ],
           "y": [
            9
           ],
           "type": "scatter"
          },
          {
           "marker": {
            "color": "orange"
           },
           "mode": "markers",
           "x": [
            2
           ],
           "y": [
            2
           ],
           "type": "scatter"
          },
          {
           "marker": {
            "color": "orange"
           },
           "mode": "markers",
           "x": [
            18
           ],
           "y": [
            18
           ],
           "type": "scatter"
          },
          {
           "marker": {
            "color": "orange"
           },
           "mode": "markers",
           "x": [
            3
           ],
           "y": [
            15
           ],
           "type": "scatter"
          }
         ],
         "layout": {
          "title": {
           "text": "Simulation frame 28"
          }
         }
        },
        {
         "data": [
          {
           "marker": {
            "color": "green"
           },
           "mode": "markers",
           "x": [
            -1
           ],
           "y": [
            0
           ],
           "type": "scatter"
          },
          {
           "marker": {
            "color": "green"
           },
           "mode": "markers",
           "x": [
            -1
           ],
           "y": [
            6
           ],
           "type": "scatter"
          },
          {
           "marker": {
            "color": "blue"
           },
           "mode": "markers",
           "x": [
            4
           ],
           "y": [
            12
           ],
           "type": "scatter"
          },
          {
           "marker": {
            "color": "green"
           },
           "mode": "markers",
           "x": [
            4
           ],
           "y": [
            5
           ],
           "type": "scatter"
          },
          {
           "marker": {
            "color": "blue"
           },
           "mode": "markers",
           "x": [
            4
           ],
           "y": [
            12
           ],
           "type": "scatter"
          },
          {
           "marker": {
            "color": "blue"
           },
           "mode": "markers",
           "x": [
            7
           ],
           "y": [
            6
           ],
           "type": "scatter"
          },
          {
           "marker": {
            "color": "blue"
           },
           "mode": "markers",
           "x": [
            7
           ],
           "y": [
            6
           ],
           "type": "scatter"
          },
          {
           "marker": {
            "color": "blue"
           },
           "mode": "markers",
           "x": [
            8
           ],
           "y": [
            9
           ],
           "type": "scatter"
          },
          {
           "marker": {
            "color": "blue"
           },
           "mode": "markers",
           "x": [
            8
           ],
           "y": [
            12
           ],
           "type": "scatter"
          },
          {
           "marker": {
            "color": "green"
           },
           "mode": "markers",
           "x": [
            9
           ],
           "y": [
            10
           ],
           "type": "scatter"
          },
          {
           "marker": {
            "color": "green"
           },
           "mode": "markers",
           "x": [
            5
           ],
           "y": [
            9
           ],
           "type": "scatter"
          },
          {
           "marker": {
            "color": "green"
           },
           "mode": "markers",
           "x": [
            15
           ],
           "y": [
            12
           ],
           "type": "scatter"
          },
          {
           "marker": {
            "color": "blue"
           },
           "mode": "markers",
           "x": [
            8
           ],
           "y": [
            9
           ],
           "type": "scatter"
          },
          {
           "marker": {
            "color": "blue"
           },
           "mode": "markers",
           "x": [
            9
           ],
           "y": [
            12
           ],
           "type": "scatter"
          },
          {
           "marker": {
            "color": "blue"
           },
           "mode": "markers",
           "x": [
            9
           ],
           "y": [
            12
           ],
           "type": "scatter"
          },
          {
           "marker": {
            "color": "blue"
           },
           "mode": "markers",
           "x": [
            13
           ],
           "y": [
            9
           ],
           "type": "scatter"
          },
          {
           "marker": {
            "color": "blue"
           },
           "mode": "markers",
           "x": [
            12
           ],
           "y": [
            6
           ],
           "type": "scatter"
          },
          {
           "marker": {
            "color": "blue"
           },
           "mode": "markers",
           "x": [
            12
           ],
           "y": [
            6
           ],
           "type": "scatter"
          },
          {
           "marker": {
            "color": "blue"
           },
           "mode": "markers",
           "x": [
            8
           ],
           "y": [
            12
           ],
           "type": "scatter"
          },
          {
           "marker": {
            "color": "green"
           },
           "mode": "markers",
           "x": [
            12
           ],
           "y": [
            18
           ],
           "type": "scatter"
          },
          {
           "marker": {
            "color": "blue"
           },
           "mode": "markers",
           "x": [
            13
           ],
           "y": [
            6
           ],
           "type": "scatter"
          },
          {
           "marker": {
            "color": "blue"
           },
           "mode": "markers",
           "x": [
            13
           ],
           "y": [
            6
           ],
           "type": "scatter"
          },
          {
           "marker": {
            "color": "blue"
           },
           "mode": "markers",
           "x": [
            12
           ],
           "y": [
            10
           ],
           "type": "scatter"
          },
          {
           "marker": {
            "color": "blue"
           },
           "mode": "markers",
           "x": [
            12
           ],
           "y": [
            10
           ],
           "type": "scatter"
          },
          {
           "marker": {
            "color": "blue"
           },
           "mode": "markers",
           "x": [
            13
           ],
           "y": [
            9
           ],
           "type": "scatter"
          },
          {
           "marker": {
            "color": "orange"
           },
           "mode": "markers",
           "x": [
            2
           ],
           "y": [
            2
           ],
           "type": "scatter"
          },
          {
           "marker": {
            "color": "orange"
           },
           "mode": "markers",
           "x": [
            18
           ],
           "y": [
            18
           ],
           "type": "scatter"
          },
          {
           "marker": {
            "color": "orange"
           },
           "mode": "markers",
           "x": [
            3
           ],
           "y": [
            15
           ],
           "type": "scatter"
          }
         ],
         "layout": {
          "title": {
           "text": "Simulation frame 29"
          }
         }
        },
        {
         "data": [
          {
           "marker": {
            "color": "green"
           },
           "mode": "markers",
           "x": [
            -1
           ],
           "y": [
            -1
           ],
           "type": "scatter"
          },
          {
           "marker": {
            "color": "green"
           },
           "mode": "markers",
           "x": [
            -1
           ],
           "y": [
            5
           ],
           "type": "scatter"
          },
          {
           "marker": {
            "color": "blue"
           },
           "mode": "markers",
           "x": [
            4
           ],
           "y": [
            12
           ],
           "type": "scatter"
          },
          {
           "marker": {
            "color": "green"
           },
           "mode": "markers",
           "x": [
            4
           ],
           "y": [
            6
           ],
           "type": "scatter"
          },
          {
           "marker": {
            "color": "blue"
           },
           "mode": "markers",
           "x": [
            4
           ],
           "y": [
            12
           ],
           "type": "scatter"
          },
          {
           "marker": {
            "color": "blue"
           },
           "mode": "markers",
           "x": [
            7
           ],
           "y": [
            6
           ],
           "type": "scatter"
          },
          {
           "marker": {
            "color": "blue"
           },
           "mode": "markers",
           "x": [
            7
           ],
           "y": [
            6
           ],
           "type": "scatter"
          },
          {
           "marker": {
            "color": "blue"
           },
           "mode": "markers",
           "x": [
            8
           ],
           "y": [
            9
           ],
           "type": "scatter"
          },
          {
           "marker": {
            "color": "blue"
           },
           "mode": "markers",
           "x": [
            8
           ],
           "y": [
            12
           ],
           "type": "scatter"
          },
          {
           "marker": {
            "color": "green"
           },
           "mode": "markers",
           "x": [
            8
           ],
           "y": [
            10
           ],
           "type": "scatter"
          },
          {
           "marker": {
            "color": "green"
           },
           "mode": "markers",
           "x": [
            5
           ],
           "y": [
            9
           ],
           "type": "scatter"
          },
          {
           "marker": {
            "color": "green"
           },
           "mode": "markers",
           "x": [
            15
           ],
           "y": [
            12
           ],
           "type": "scatter"
          },
          {
           "marker": {
            "color": "blue"
           },
           "mode": "markers",
           "x": [
            8
           ],
           "y": [
            9
           ],
           "type": "scatter"
          },
          {
           "marker": {
            "color": "blue"
           },
           "mode": "markers",
           "x": [
            9
           ],
           "y": [
            12
           ],
           "type": "scatter"
          },
          {
           "marker": {
            "color": "blue"
           },
           "mode": "markers",
           "x": [
            9
           ],
           "y": [
            12
           ],
           "type": "scatter"
          },
          {
           "marker": {
            "color": "blue"
           },
           "mode": "markers",
           "x": [
            13
           ],
           "y": [
            9
           ],
           "type": "scatter"
          },
          {
           "marker": {
            "color": "blue"
           },
           "mode": "markers",
           "x": [
            12
           ],
           "y": [
            6
           ],
           "type": "scatter"
          },
          {
           "marker": {
            "color": "blue"
           },
           "mode": "markers",
           "x": [
            12
           ],
           "y": [
            6
           ],
           "type": "scatter"
          },
          {
           "marker": {
            "color": "blue"
           },
           "mode": "markers",
           "x": [
            8
           ],
           "y": [
            12
           ],
           "type": "scatter"
          },
          {
           "marker": {
            "color": "green"
           },
           "mode": "markers",
           "x": [
            12
           ],
           "y": [
            19
           ],
           "type": "scatter"
          },
          {
           "marker": {
            "color": "blue"
           },
           "mode": "markers",
           "x": [
            13
           ],
           "y": [
            6
           ],
           "type": "scatter"
          },
          {
           "marker": {
            "color": "blue"
           },
           "mode": "markers",
           "x": [
            13
           ],
           "y": [
            6
           ],
           "type": "scatter"
          },
          {
           "marker": {
            "color": "blue"
           },
           "mode": "markers",
           "x": [
            12
           ],
           "y": [
            10
           ],
           "type": "scatter"
          },
          {
           "marker": {
            "color": "blue"
           },
           "mode": "markers",
           "x": [
            12
           ],
           "y": [
            10
           ],
           "type": "scatter"
          },
          {
           "marker": {
            "color": "blue"
           },
           "mode": "markers",
           "x": [
            13
           ],
           "y": [
            9
           ],
           "type": "scatter"
          },
          {
           "marker": {
            "color": "orange"
           },
           "mode": "markers",
           "x": [
            2
           ],
           "y": [
            2
           ],
           "type": "scatter"
          },
          {
           "marker": {
            "color": "orange"
           },
           "mode": "markers",
           "x": [
            18
           ],
           "y": [
            18
           ],
           "type": "scatter"
          },
          {
           "marker": {
            "color": "orange"
           },
           "mode": "markers",
           "x": [
            3
           ],
           "y": [
            15
           ],
           "type": "scatter"
          }
         ],
         "layout": {
          "title": {
           "text": "Simulation frame 30"
          }
         }
        },
        {
         "data": [
          {
           "marker": {
            "color": "green"
           },
           "mode": "markers",
           "x": [
            -2
           ],
           "y": [
            -1
           ],
           "type": "scatter"
          },
          {
           "marker": {
            "color": "green"
           },
           "mode": "markers",
           "x": [
            -1
           ],
           "y": [
            6
           ],
           "type": "scatter"
          },
          {
           "marker": {
            "color": "blue"
           },
           "mode": "markers",
           "x": [
            4
           ],
           "y": [
            12
           ],
           "type": "scatter"
          },
          {
           "marker": {
            "color": "green"
           },
           "mode": "markers",
           "x": [
            4
           ],
           "y": [
            6
           ],
           "type": "scatter"
          },
          {
           "marker": {
            "color": "blue"
           },
           "mode": "markers",
           "x": [
            4
           ],
           "y": [
            12
           ],
           "type": "scatter"
          },
          {
           "marker": {
            "color": "blue"
           },
           "mode": "markers",
           "x": [
            7
           ],
           "y": [
            6
           ],
           "type": "scatter"
          },
          {
           "marker": {
            "color": "blue"
           },
           "mode": "markers",
           "x": [
            7
           ],
           "y": [
            6
           ],
           "type": "scatter"
          },
          {
           "marker": {
            "color": "blue"
           },
           "mode": "markers",
           "x": [
            8
           ],
           "y": [
            9
           ],
           "type": "scatter"
          },
          {
           "marker": {
            "color": "blue"
           },
           "mode": "markers",
           "x": [
            8
           ],
           "y": [
            12
           ],
           "type": "scatter"
          },
          {
           "marker": {
            "color": "green"
           },
           "mode": "markers",
           "x": [
            8
           ],
           "y": [
            9
           ],
           "type": "scatter"
          },
          {
           "marker": {
            "color": "green"
           },
           "mode": "markers",
           "x": [
            5
           ],
           "y": [
            10
           ],
           "type": "scatter"
          },
          {
           "marker": {
            "color": "green"
           },
           "mode": "markers",
           "x": [
            14
           ],
           "y": [
            12
           ],
           "type": "scatter"
          },
          {
           "marker": {
            "color": "blue"
           },
           "mode": "markers",
           "x": [
            8
           ],
           "y": [
            9
           ],
           "type": "scatter"
          },
          {
           "marker": {
            "color": "blue"
           },
           "mode": "markers",
           "x": [
            9
           ],
           "y": [
            12
           ],
           "type": "scatter"
          },
          {
           "marker": {
            "color": "blue"
           },
           "mode": "markers",
           "x": [
            9
           ],
           "y": [
            12
           ],
           "type": "scatter"
          },
          {
           "marker": {
            "color": "blue"
           },
           "mode": "markers",
           "x": [
            13
           ],
           "y": [
            9
           ],
           "type": "scatter"
          },
          {
           "marker": {
            "color": "blue"
           },
           "mode": "markers",
           "x": [
            12
           ],
           "y": [
            6
           ],
           "type": "scatter"
          },
          {
           "marker": {
            "color": "blue"
           },
           "mode": "markers",
           "x": [
            12
           ],
           "y": [
            6
           ],
           "type": "scatter"
          },
          {
           "marker": {
            "color": "blue"
           },
           "mode": "markers",
           "x": [
            8
           ],
           "y": [
            12
           ],
           "type": "scatter"
          },
          {
           "marker": {
            "color": "green"
           },
           "mode": "markers",
           "x": [
            11
           ],
           "y": [
            19
           ],
           "type": "scatter"
          },
          {
           "marker": {
            "color": "blue"
           },
           "mode": "markers",
           "x": [
            13
           ],
           "y": [
            6
           ],
           "type": "scatter"
          },
          {
           "marker": {
            "color": "blue"
           },
           "mode": "markers",
           "x": [
            13
           ],
           "y": [
            6
           ],
           "type": "scatter"
          },
          {
           "marker": {
            "color": "blue"
           },
           "mode": "markers",
           "x": [
            12
           ],
           "y": [
            10
           ],
           "type": "scatter"
          },
          {
           "marker": {
            "color": "blue"
           },
           "mode": "markers",
           "x": [
            12
           ],
           "y": [
            10
           ],
           "type": "scatter"
          },
          {
           "marker": {
            "color": "blue"
           },
           "mode": "markers",
           "x": [
            13
           ],
           "y": [
            9
           ],
           "type": "scatter"
          },
          {
           "marker": {
            "color": "orange"
           },
           "mode": "markers",
           "x": [
            2
           ],
           "y": [
            2
           ],
           "type": "scatter"
          },
          {
           "marker": {
            "color": "orange"
           },
           "mode": "markers",
           "x": [
            18
           ],
           "y": [
            18
           ],
           "type": "scatter"
          },
          {
           "marker": {
            "color": "orange"
           },
           "mode": "markers",
           "x": [
            3
           ],
           "y": [
            15
           ],
           "type": "scatter"
          }
         ],
         "layout": {
          "title": {
           "text": "Simulation frame 31"
          }
         }
        },
        {
         "data": [
          {
           "marker": {
            "color": "green"
           },
           "mode": "markers",
           "x": [
            -3
           ],
           "y": [
            -1
           ],
           "type": "scatter"
          },
          {
           "marker": {
            "color": "green"
           },
           "mode": "markers",
           "x": [
            -1
           ],
           "y": [
            7
           ],
           "type": "scatter"
          },
          {
           "marker": {
            "color": "blue"
           },
           "mode": "markers",
           "x": [
            4
           ],
           "y": [
            12
           ],
           "type": "scatter"
          },
          {
           "marker": {
            "color": "green"
           },
           "mode": "markers",
           "x": [
            5
           ],
           "y": [
            6
           ],
           "type": "scatter"
          },
          {
           "marker": {
            "color": "blue"
           },
           "mode": "markers",
           "x": [
            4
           ],
           "y": [
            12
           ],
           "type": "scatter"
          },
          {
           "marker": {
            "color": "blue"
           },
           "mode": "markers",
           "x": [
            7
           ],
           "y": [
            6
           ],
           "type": "scatter"
          },
          {
           "marker": {
            "color": "blue"
           },
           "mode": "markers",
           "x": [
            7
           ],
           "y": [
            6
           ],
           "type": "scatter"
          },
          {
           "marker": {
            "color": "blue"
           },
           "mode": "markers",
           "x": [
            8
           ],
           "y": [
            9
           ],
           "type": "scatter"
          },
          {
           "marker": {
            "color": "blue"
           },
           "mode": "markers",
           "x": [
            8
           ],
           "y": [
            12
           ],
           "type": "scatter"
          },
          {
           "marker": {
            "color": "green"
           },
           "mode": "markers",
           "x": [
            9
           ],
           "y": [
            9
           ],
           "type": "scatter"
          },
          {
           "marker": {
            "color": "green"
           },
           "mode": "markers",
           "x": [
            6
           ],
           "y": [
            10
           ],
           "type": "scatter"
          },
          {
           "marker": {
            "color": "green"
           },
           "mode": "markers",
           "x": [
            14
           ],
           "y": [
            13
           ],
           "type": "scatter"
          },
          {
           "marker": {
            "color": "blue"
           },
           "mode": "markers",
           "x": [
            8
           ],
           "y": [
            9
           ],
           "type": "scatter"
          },
          {
           "marker": {
            "color": "blue"
           },
           "mode": "markers",
           "x": [
            9
           ],
           "y": [
            12
           ],
           "type": "scatter"
          },
          {
           "marker": {
            "color": "blue"
           },
           "mode": "markers",
           "x": [
            9
           ],
           "y": [
            12
           ],
           "type": "scatter"
          },
          {
           "marker": {
            "color": "blue"
           },
           "mode": "markers",
           "x": [
            13
           ],
           "y": [
            9
           ],
           "type": "scatter"
          },
          {
           "marker": {
            "color": "blue"
           },
           "mode": "markers",
           "x": [
            12
           ],
           "y": [
            6
           ],
           "type": "scatter"
          },
          {
           "marker": {
            "color": "blue"
           },
           "mode": "markers",
           "x": [
            12
           ],
           "y": [
            6
           ],
           "type": "scatter"
          },
          {
           "marker": {
            "color": "blue"
           },
           "mode": "markers",
           "x": [
            8
           ],
           "y": [
            12
           ],
           "type": "scatter"
          },
          {
           "marker": {
            "color": "green"
           },
           "mode": "markers",
           "x": [
            12
           ],
           "y": [
            19
           ],
           "type": "scatter"
          },
          {
           "marker": {
            "color": "blue"
           },
           "mode": "markers",
           "x": [
            13
           ],
           "y": [
            6
           ],
           "type": "scatter"
          },
          {
           "marker": {
            "color": "blue"
           },
           "mode": "markers",
           "x": [
            13
           ],
           "y": [
            6
           ],
           "type": "scatter"
          },
          {
           "marker": {
            "color": "blue"
           },
           "mode": "markers",
           "x": [
            12
           ],
           "y": [
            10
           ],
           "type": "scatter"
          },
          {
           "marker": {
            "color": "blue"
           },
           "mode": "markers",
           "x": [
            12
           ],
           "y": [
            10
           ],
           "type": "scatter"
          },
          {
           "marker": {
            "color": "blue"
           },
           "mode": "markers",
           "x": [
            13
           ],
           "y": [
            9
           ],
           "type": "scatter"
          },
          {
           "marker": {
            "color": "orange"
           },
           "mode": "markers",
           "x": [
            2
           ],
           "y": [
            2
           ],
           "type": "scatter"
          },
          {
           "marker": {
            "color": "orange"
           },
           "mode": "markers",
           "x": [
            18
           ],
           "y": [
            18
           ],
           "type": "scatter"
          },
          {
           "marker": {
            "color": "orange"
           },
           "mode": "markers",
           "x": [
            3
           ],
           "y": [
            15
           ],
           "type": "scatter"
          }
         ],
         "layout": {
          "title": {
           "text": "Simulation frame 32"
          }
         }
        },
        {
         "data": [
          {
           "marker": {
            "color": "green"
           },
           "mode": "markers",
           "x": [
            -3
           ],
           "y": [
            0
           ],
           "type": "scatter"
          },
          {
           "marker": {
            "color": "green"
           },
           "mode": "markers",
           "x": [
            -1
           ],
           "y": [
            7
           ],
           "type": "scatter"
          },
          {
           "marker": {
            "color": "blue"
           },
           "mode": "markers",
           "x": [
            4
           ],
           "y": [
            12
           ],
           "type": "scatter"
          },
          {
           "marker": {
            "color": "green"
           },
           "mode": "markers",
           "x": [
            5
           ],
           "y": [
            5
           ],
           "type": "scatter"
          },
          {
           "marker": {
            "color": "blue"
           },
           "mode": "markers",
           "x": [
            4
           ],
           "y": [
            12
           ],
           "type": "scatter"
          },
          {
           "marker": {
            "color": "blue"
           },
           "mode": "markers",
           "x": [
            7
           ],
           "y": [
            6
           ],
           "type": "scatter"
          },
          {
           "marker": {
            "color": "blue"
           },
           "mode": "markers",
           "x": [
            7
           ],
           "y": [
            6
           ],
           "type": "scatter"
          },
          {
           "marker": {
            "color": "blue"
           },
           "mode": "markers",
           "x": [
            8
           ],
           "y": [
            9
           ],
           "type": "scatter"
          },
          {
           "marker": {
            "color": "blue"
           },
           "mode": "markers",
           "x": [
            8
           ],
           "y": [
            12
           ],
           "type": "scatter"
          },
          {
           "marker": {
            "color": "green"
           },
           "mode": "markers",
           "x": [
            10
           ],
           "y": [
            9
           ],
           "type": "scatter"
          },
          {
           "marker": {
            "color": "green"
           },
           "mode": "markers",
           "x": [
            5
           ],
           "y": [
            10
           ],
           "type": "scatter"
          },
          {
           "marker": {
            "color": "green"
           },
           "mode": "markers",
           "x": [
            13
           ],
           "y": [
            13
           ],
           "type": "scatter"
          },
          {
           "marker": {
            "color": "blue"
           },
           "mode": "markers",
           "x": [
            8
           ],
           "y": [
            9
           ],
           "type": "scatter"
          },
          {
           "marker": {
            "color": "blue"
           },
           "mode": "markers",
           "x": [
            9
           ],
           "y": [
            12
           ],
           "type": "scatter"
          },
          {
           "marker": {
            "color": "blue"
           },
           "mode": "markers",
           "x": [
            9
           ],
           "y": [
            12
           ],
           "type": "scatter"
          },
          {
           "marker": {
            "color": "blue"
           },
           "mode": "markers",
           "x": [
            13
           ],
           "y": [
            9
           ],
           "type": "scatter"
          },
          {
           "marker": {
            "color": "blue"
           },
           "mode": "markers",
           "x": [
            12
           ],
           "y": [
            6
           ],
           "type": "scatter"
          },
          {
           "marker": {
            "color": "blue"
           },
           "mode": "markers",
           "x": [
            12
           ],
           "y": [
            6
           ],
           "type": "scatter"
          },
          {
           "marker": {
            "color": "blue"
           },
           "mode": "markers",
           "x": [
            8
           ],
           "y": [
            12
           ],
           "type": "scatter"
          },
          {
           "marker": {
            "color": "green"
           },
           "mode": "markers",
           "x": [
            12
           ],
           "y": [
            20
           ],
           "type": "scatter"
          },
          {
           "marker": {
            "color": "blue"
           },
           "mode": "markers",
           "x": [
            13
           ],
           "y": [
            6
           ],
           "type": "scatter"
          },
          {
           "marker": {
            "color": "blue"
           },
           "mode": "markers",
           "x": [
            13
           ],
           "y": [
            6
           ],
           "type": "scatter"
          },
          {
           "marker": {
            "color": "blue"
           },
           "mode": "markers",
           "x": [
            12
           ],
           "y": [
            10
           ],
           "type": "scatter"
          },
          {
           "marker": {
            "color": "blue"
           },
           "mode": "markers",
           "x": [
            12
           ],
           "y": [
            10
           ],
           "type": "scatter"
          },
          {
           "marker": {
            "color": "blue"
           },
           "mode": "markers",
           "x": [
            13
           ],
           "y": [
            9
           ],
           "type": "scatter"
          },
          {
           "marker": {
            "color": "orange"
           },
           "mode": "markers",
           "x": [
            2
           ],
           "y": [
            2
           ],
           "type": "scatter"
          },
          {
           "marker": {
            "color": "orange"
           },
           "mode": "markers",
           "x": [
            18
           ],
           "y": [
            18
           ],
           "type": "scatter"
          },
          {
           "marker": {
            "color": "orange"
           },
           "mode": "markers",
           "x": [
            3
           ],
           "y": [
            15
           ],
           "type": "scatter"
          }
         ],
         "layout": {
          "title": {
           "text": "Simulation frame 33"
          }
         }
        },
        {
         "data": [
          {
           "marker": {
            "color": "green"
           },
           "mode": "markers",
           "x": [
            -3
           ],
           "y": [
            0
           ],
           "type": "scatter"
          },
          {
           "marker": {
            "color": "green"
           },
           "mode": "markers",
           "x": [
            -2
           ],
           "y": [
            7
           ],
           "type": "scatter"
          },
          {
           "marker": {
            "color": "blue"
           },
           "mode": "markers",
           "x": [
            4
           ],
           "y": [
            12
           ],
           "type": "scatter"
          },
          {
           "marker": {
            "color": "green"
           },
           "mode": "markers",
           "x": [
            4
           ],
           "y": [
            5
           ],
           "type": "scatter"
          },
          {
           "marker": {
            "color": "blue"
           },
           "mode": "markers",
           "x": [
            4
           ],
           "y": [
            12
           ],
           "type": "scatter"
          },
          {
           "marker": {
            "color": "blue"
           },
           "mode": "markers",
           "x": [
            7
           ],
           "y": [
            6
           ],
           "type": "scatter"
          },
          {
           "marker": {
            "color": "blue"
           },
           "mode": "markers",
           "x": [
            7
           ],
           "y": [
            6
           ],
           "type": "scatter"
          },
          {
           "marker": {
            "color": "blue"
           },
           "mode": "markers",
           "x": [
            8
           ],
           "y": [
            9
           ],
           "type": "scatter"
          },
          {
           "marker": {
            "color": "blue"
           },
           "mode": "markers",
           "x": [
            8
           ],
           "y": [
            12
           ],
           "type": "scatter"
          },
          {
           "marker": {
            "color": "green"
           },
           "mode": "markers",
           "x": [
            10
           ],
           "y": [
            8
           ],
           "type": "scatter"
          },
          {
           "marker": {
            "color": "green"
           },
           "mode": "markers",
           "x": [
            4
           ],
           "y": [
            10
           ],
           "type": "scatter"
          },
          {
           "marker": {
            "color": "green"
           },
           "mode": "markers",
           "x": [
            12
           ],
           "y": [
            13
           ],
           "type": "scatter"
          },
          {
           "marker": {
            "color": "blue"
           },
           "mode": "markers",
           "x": [
            8
           ],
           "y": [
            9
           ],
           "type": "scatter"
          },
          {
           "marker": {
            "color": "blue"
           },
           "mode": "markers",
           "x": [
            9
           ],
           "y": [
            12
           ],
           "type": "scatter"
          },
          {
           "marker": {
            "color": "blue"
           },
           "mode": "markers",
           "x": [
            9
           ],
           "y": [
            12
           ],
           "type": "scatter"
          },
          {
           "marker": {
            "color": "blue"
           },
           "mode": "markers",
           "x": [
            13
           ],
           "y": [
            9
           ],
           "type": "scatter"
          },
          {
           "marker": {
            "color": "blue"
           },
           "mode": "markers",
           "x": [
            12
           ],
           "y": [
            6
           ],
           "type": "scatter"
          },
          {
           "marker": {
            "color": "blue"
           },
           "mode": "markers",
           "x": [
            12
           ],
           "y": [
            6
           ],
           "type": "scatter"
          },
          {
           "marker": {
            "color": "blue"
           },
           "mode": "markers",
           "x": [
            8
           ],
           "y": [
            12
           ],
           "type": "scatter"
          },
          {
           "marker": {
            "color": "green"
           },
           "mode": "markers",
           "x": [
            12
           ],
           "y": [
            21
           ],
           "type": "scatter"
          },
          {
           "marker": {
            "color": "blue"
           },
           "mode": "markers",
           "x": [
            13
           ],
           "y": [
            6
           ],
           "type": "scatter"
          },
          {
           "marker": {
            "color": "blue"
           },
           "mode": "markers",
           "x": [
            13
           ],
           "y": [
            6
           ],
           "type": "scatter"
          },
          {
           "marker": {
            "color": "blue"
           },
           "mode": "markers",
           "x": [
            12
           ],
           "y": [
            10
           ],
           "type": "scatter"
          },
          {
           "marker": {
            "color": "blue"
           },
           "mode": "markers",
           "x": [
            12
           ],
           "y": [
            10
           ],
           "type": "scatter"
          },
          {
           "marker": {
            "color": "blue"
           },
           "mode": "markers",
           "x": [
            13
           ],
           "y": [
            9
           ],
           "type": "scatter"
          },
          {
           "marker": {
            "color": "orange"
           },
           "mode": "markers",
           "x": [
            2
           ],
           "y": [
            2
           ],
           "type": "scatter"
          },
          {
           "marker": {
            "color": "orange"
           },
           "mode": "markers",
           "x": [
            18
           ],
           "y": [
            18
           ],
           "type": "scatter"
          },
          {
           "marker": {
            "color": "orange"
           },
           "mode": "markers",
           "x": [
            3
           ],
           "y": [
            15
           ],
           "type": "scatter"
          }
         ],
         "layout": {
          "title": {
           "text": "Simulation frame 34"
          }
         }
        },
        {
         "data": [
          {
           "marker": {
            "color": "green"
           },
           "mode": "markers",
           "x": [
            -3
           ],
           "y": [
            -1
           ],
           "type": "scatter"
          },
          {
           "marker": {
            "color": "green"
           },
           "mode": "markers",
           "x": [
            -3
           ],
           "y": [
            7
           ],
           "type": "scatter"
          },
          {
           "marker": {
            "color": "blue"
           },
           "mode": "markers",
           "x": [
            4
           ],
           "y": [
            12
           ],
           "type": "scatter"
          },
          {
           "marker": {
            "color": "green"
           },
           "mode": "markers",
           "x": [
            4
           ],
           "y": [
            5
           ],
           "type": "scatter"
          },
          {
           "marker": {
            "color": "blue"
           },
           "mode": "markers",
           "x": [
            4
           ],
           "y": [
            12
           ],
           "type": "scatter"
          },
          {
           "marker": {
            "color": "blue"
           },
           "mode": "markers",
           "x": [
            7
           ],
           "y": [
            6
           ],
           "type": "scatter"
          },
          {
           "marker": {
            "color": "blue"
           },
           "mode": "markers",
           "x": [
            7
           ],
           "y": [
            6
           ],
           "type": "scatter"
          },
          {
           "marker": {
            "color": "blue"
           },
           "mode": "markers",
           "x": [
            8
           ],
           "y": [
            9
           ],
           "type": "scatter"
          },
          {
           "marker": {
            "color": "blue"
           },
           "mode": "markers",
           "x": [
            8
           ],
           "y": [
            12
           ],
           "type": "scatter"
          },
          {
           "marker": {
            "color": "green"
           },
           "mode": "markers",
           "x": [
            10
           ],
           "y": [
            9
           ],
           "type": "scatter"
          },
          {
           "marker": {
            "color": "green"
           },
           "mode": "markers",
           "x": [
            4
           ],
           "y": [
            9
           ],
           "type": "scatter"
          },
          {
           "marker": {
            "color": "green"
           },
           "mode": "markers",
           "x": [
            12
           ],
           "y": [
            13
           ],
           "type": "scatter"
          },
          {
           "marker": {
            "color": "blue"
           },
           "mode": "markers",
           "x": [
            8
           ],
           "y": [
            9
           ],
           "type": "scatter"
          },
          {
           "marker": {
            "color": "blue"
           },
           "mode": "markers",
           "x": [
            9
           ],
           "y": [
            12
           ],
           "type": "scatter"
          },
          {
           "marker": {
            "color": "blue"
           },
           "mode": "markers",
           "x": [
            9
           ],
           "y": [
            12
           ],
           "type": "scatter"
          },
          {
           "marker": {
            "color": "blue"
           },
           "mode": "markers",
           "x": [
            13
           ],
           "y": [
            9
           ],
           "type": "scatter"
          },
          {
           "marker": {
            "color": "blue"
           },
           "mode": "markers",
           "x": [
            12
           ],
           "y": [
            6
           ],
           "type": "scatter"
          },
          {
           "marker": {
            "color": "blue"
           },
           "mode": "markers",
           "x": [
            12
           ],
           "y": [
            6
           ],
           "type": "scatter"
          },
          {
           "marker": {
            "color": "blue"
           },
           "mode": "markers",
           "x": [
            8
           ],
           "y": [
            12
           ],
           "type": "scatter"
          },
          {
           "marker": {
            "color": "green"
           },
           "mode": "markers",
           "x": [
            12
           ],
           "y": [
            21
           ],
           "type": "scatter"
          },
          {
           "marker": {
            "color": "blue"
           },
           "mode": "markers",
           "x": [
            13
           ],
           "y": [
            6
           ],
           "type": "scatter"
          },
          {
           "marker": {
            "color": "blue"
           },
           "mode": "markers",
           "x": [
            13
           ],
           "y": [
            6
           ],
           "type": "scatter"
          },
          {
           "marker": {
            "color": "blue"
           },
           "mode": "markers",
           "x": [
            12
           ],
           "y": [
            10
           ],
           "type": "scatter"
          },
          {
           "marker": {
            "color": "blue"
           },
           "mode": "markers",
           "x": [
            12
           ],
           "y": [
            10
           ],
           "type": "scatter"
          },
          {
           "marker": {
            "color": "blue"
           },
           "mode": "markers",
           "x": [
            13
           ],
           "y": [
            9
           ],
           "type": "scatter"
          },
          {
           "marker": {
            "color": "orange"
           },
           "mode": "markers",
           "x": [
            2
           ],
           "y": [
            2
           ],
           "type": "scatter"
          },
          {
           "marker": {
            "color": "orange"
           },
           "mode": "markers",
           "x": [
            18
           ],
           "y": [
            18
           ],
           "type": "scatter"
          },
          {
           "marker": {
            "color": "orange"
           },
           "mode": "markers",
           "x": [
            3
           ],
           "y": [
            15
           ],
           "type": "scatter"
          }
         ],
         "layout": {
          "title": {
           "text": "Simulation frame 35"
          }
         }
        },
        {
         "data": [
          {
           "marker": {
            "color": "green"
           },
           "mode": "markers",
           "x": [
            -4
           ],
           "y": [
            -1
           ],
           "type": "scatter"
          },
          {
           "marker": {
            "color": "green"
           },
           "mode": "markers",
           "x": [
            -3
           ],
           "y": [
            6
           ],
           "type": "scatter"
          },
          {
           "marker": {
            "color": "blue"
           },
           "mode": "markers",
           "x": [
            4
           ],
           "y": [
            12
           ],
           "type": "scatter"
          },
          {
           "marker": {
            "color": "green"
           },
           "mode": "markers",
           "x": [
            5
           ],
           "y": [
            5
           ],
           "type": "scatter"
          },
          {
           "marker": {
            "color": "blue"
           },
           "mode": "markers",
           "x": [
            4
           ],
           "y": [
            12
           ],
           "type": "scatter"
          },
          {
           "marker": {
            "color": "blue"
           },
           "mode": "markers",
           "x": [
            7
           ],
           "y": [
            6
           ],
           "type": "scatter"
          },
          {
           "marker": {
            "color": "blue"
           },
           "mode": "markers",
           "x": [
            7
           ],
           "y": [
            6
           ],
           "type": "scatter"
          },
          {
           "marker": {
            "color": "blue"
           },
           "mode": "markers",
           "x": [
            8
           ],
           "y": [
            9
           ],
           "type": "scatter"
          },
          {
           "marker": {
            "color": "blue"
           },
           "mode": "markers",
           "x": [
            8
           ],
           "y": [
            12
           ],
           "type": "scatter"
          },
          {
           "marker": {
            "color": "green"
           },
           "mode": "markers",
           "x": [
            10
           ],
           "y": [
            8
           ],
           "type": "scatter"
          },
          {
           "marker": {
            "color": "green"
           },
           "mode": "markers",
           "x": [
            3
           ],
           "y": [
            9
           ],
           "type": "scatter"
          },
          {
           "marker": {
            "color": "green"
           },
           "mode": "markers",
           "x": [
            12
           ],
           "y": [
            13
           ],
           "type": "scatter"
          },
          {
           "marker": {
            "color": "blue"
           },
           "mode": "markers",
           "x": [
            8
           ],
           "y": [
            9
           ],
           "type": "scatter"
          },
          {
           "marker": {
            "color": "blue"
           },
           "mode": "markers",
           "x": [
            9
           ],
           "y": [
            12
           ],
           "type": "scatter"
          },
          {
           "marker": {
            "color": "blue"
           },
           "mode": "markers",
           "x": [
            9
           ],
           "y": [
            12
           ],
           "type": "scatter"
          },
          {
           "marker": {
            "color": "blue"
           },
           "mode": "markers",
           "x": [
            13
           ],
           "y": [
            9
           ],
           "type": "scatter"
          },
          {
           "marker": {
            "color": "blue"
           },
           "mode": "markers",
           "x": [
            12
           ],
           "y": [
            6
           ],
           "type": "scatter"
          },
          {
           "marker": {
            "color": "blue"
           },
           "mode": "markers",
           "x": [
            12
           ],
           "y": [
            6
           ],
           "type": "scatter"
          },
          {
           "marker": {
            "color": "blue"
           },
           "mode": "markers",
           "x": [
            8
           ],
           "y": [
            12
           ],
           "type": "scatter"
          },
          {
           "marker": {
            "color": "green"
           },
           "mode": "markers",
           "x": [
            11
           ],
           "y": [
            21
           ],
           "type": "scatter"
          },
          {
           "marker": {
            "color": "blue"
           },
           "mode": "markers",
           "x": [
            13
           ],
           "y": [
            6
           ],
           "type": "scatter"
          },
          {
           "marker": {
            "color": "blue"
           },
           "mode": "markers",
           "x": [
            13
           ],
           "y": [
            6
           ],
           "type": "scatter"
          },
          {
           "marker": {
            "color": "blue"
           },
           "mode": "markers",
           "x": [
            12
           ],
           "y": [
            10
           ],
           "type": "scatter"
          },
          {
           "marker": {
            "color": "blue"
           },
           "mode": "markers",
           "x": [
            12
           ],
           "y": [
            10
           ],
           "type": "scatter"
          },
          {
           "marker": {
            "color": "blue"
           },
           "mode": "markers",
           "x": [
            13
           ],
           "y": [
            9
           ],
           "type": "scatter"
          },
          {
           "marker": {
            "color": "orange"
           },
           "mode": "markers",
           "x": [
            2
           ],
           "y": [
            2
           ],
           "type": "scatter"
          },
          {
           "marker": {
            "color": "orange"
           },
           "mode": "markers",
           "x": [
            18
           ],
           "y": [
            18
           ],
           "type": "scatter"
          },
          {
           "marker": {
            "color": "orange"
           },
           "mode": "markers",
           "x": [
            3
           ],
           "y": [
            15
           ],
           "type": "scatter"
          }
         ],
         "layout": {
          "title": {
           "text": "Simulation frame 36"
          }
         }
        },
        {
         "data": [
          {
           "marker": {
            "color": "green"
           },
           "mode": "markers",
           "x": [
            -5
           ],
           "y": [
            -1
           ],
           "type": "scatter"
          },
          {
           "marker": {
            "color": "green"
           },
           "mode": "markers",
           "x": [
            -3
           ],
           "y": [
            5
           ],
           "type": "scatter"
          },
          {
           "marker": {
            "color": "blue"
           },
           "mode": "markers",
           "x": [
            4
           ],
           "y": [
            12
           ],
           "type": "scatter"
          },
          {
           "marker": {
            "color": "green"
           },
           "mode": "markers",
           "x": [
            4
           ],
           "y": [
            5
           ],
           "type": "scatter"
          },
          {
           "marker": {
            "color": "blue"
           },
           "mode": "markers",
           "x": [
            4
           ],
           "y": [
            12
           ],
           "type": "scatter"
          },
          {
           "marker": {
            "color": "blue"
           },
           "mode": "markers",
           "x": [
            7
           ],
           "y": [
            6
           ],
           "type": "scatter"
          },
          {
           "marker": {
            "color": "blue"
           },
           "mode": "markers",
           "x": [
            7
           ],
           "y": [
            6
           ],
           "type": "scatter"
          },
          {
           "marker": {
            "color": "blue"
           },
           "mode": "markers",
           "x": [
            8
           ],
           "y": [
            9
           ],
           "type": "scatter"
          },
          {
           "marker": {
            "color": "blue"
           },
           "mode": "markers",
           "x": [
            8
           ],
           "y": [
            12
           ],
           "type": "scatter"
          },
          {
           "marker": {
            "color": "green"
           },
           "mode": "markers",
           "x": [
            10
           ],
           "y": [
            7
           ],
           "type": "scatter"
          },
          {
           "marker": {
            "color": "green"
           },
           "mode": "markers",
           "x": [
            4
           ],
           "y": [
            9
           ],
           "type": "scatter"
          },
          {
           "marker": {
            "color": "green"
           },
           "mode": "markers",
           "x": [
            12
           ],
           "y": [
            14
           ],
           "type": "scatter"
          },
          {
           "marker": {
            "color": "blue"
           },
           "mode": "markers",
           "x": [
            8
           ],
           "y": [
            9
           ],
           "type": "scatter"
          },
          {
           "marker": {
            "color": "blue"
           },
           "mode": "markers",
           "x": [
            9
           ],
           "y": [
            12
           ],
           "type": "scatter"
          },
          {
           "marker": {
            "color": "blue"
           },
           "mode": "markers",
           "x": [
            9
           ],
           "y": [
            12
           ],
           "type": "scatter"
          },
          {
           "marker": {
            "color": "blue"
           },
           "mode": "markers",
           "x": [
            13
           ],
           "y": [
            9
           ],
           "type": "scatter"
          },
          {
           "marker": {
            "color": "blue"
           },
           "mode": "markers",
           "x": [
            12
           ],
           "y": [
            6
           ],
           "type": "scatter"
          },
          {
           "marker": {
            "color": "blue"
           },
           "mode": "markers",
           "x": [
            12
           ],
           "y": [
            6
           ],
           "type": "scatter"
          },
          {
           "marker": {
            "color": "blue"
           },
           "mode": "markers",
           "x": [
            8
           ],
           "y": [
            12
           ],
           "type": "scatter"
          },
          {
           "marker": {
            "color": "green"
           },
           "mode": "markers",
           "x": [
            11
           ],
           "y": [
            20
           ],
           "type": "scatter"
          },
          {
           "marker": {
            "color": "blue"
           },
           "mode": "markers",
           "x": [
            13
           ],
           "y": [
            6
           ],
           "type": "scatter"
          },
          {
           "marker": {
            "color": "blue"
           },
           "mode": "markers",
           "x": [
            13
           ],
           "y": [
            6
           ],
           "type": "scatter"
          },
          {
           "marker": {
            "color": "blue"
           },
           "mode": "markers",
           "x": [
            12
           ],
           "y": [
            10
           ],
           "type": "scatter"
          },
          {
           "marker": {
            "color": "blue"
           },
           "mode": "markers",
           "x": [
            12
           ],
           "y": [
            10
           ],
           "type": "scatter"
          },
          {
           "marker": {
            "color": "blue"
           },
           "mode": "markers",
           "x": [
            13
           ],
           "y": [
            9
           ],
           "type": "scatter"
          },
          {
           "marker": {
            "color": "orange"
           },
           "mode": "markers",
           "x": [
            2
           ],
           "y": [
            2
           ],
           "type": "scatter"
          },
          {
           "marker": {
            "color": "orange"
           },
           "mode": "markers",
           "x": [
            18
           ],
           "y": [
            18
           ],
           "type": "scatter"
          },
          {
           "marker": {
            "color": "orange"
           },
           "mode": "markers",
           "x": [
            3
           ],
           "y": [
            15
           ],
           "type": "scatter"
          }
         ],
         "layout": {
          "title": {
           "text": "Simulation frame 37"
          }
         }
        },
        {
         "data": [
          {
           "marker": {
            "color": "green"
           },
           "mode": "markers",
           "x": [
            -5
           ],
           "y": [
            -2
           ],
           "type": "scatter"
          },
          {
           "marker": {
            "color": "green"
           },
           "mode": "markers",
           "x": [
            -2
           ],
           "y": [
            5
           ],
           "type": "scatter"
          },
          {
           "marker": {
            "color": "blue"
           },
           "mode": "markers",
           "x": [
            4
           ],
           "y": [
            12
           ],
           "type": "scatter"
          },
          {
           "marker": {
            "color": "green"
           },
           "mode": "markers",
           "x": [
            4
           ],
           "y": [
            4
           ],
           "type": "scatter"
          },
          {
           "marker": {
            "color": "blue"
           },
           "mode": "markers",
           "x": [
            4
           ],
           "y": [
            12
           ],
           "type": "scatter"
          },
          {
           "marker": {
            "color": "blue"
           },
           "mode": "markers",
           "x": [
            7
           ],
           "y": [
            6
           ],
           "type": "scatter"
          },
          {
           "marker": {
            "color": "blue"
           },
           "mode": "markers",
           "x": [
            7
           ],
           "y": [
            6
           ],
           "type": "scatter"
          },
          {
           "marker": {
            "color": "blue"
           },
           "mode": "markers",
           "x": [
            8
           ],
           "y": [
            9
           ],
           "type": "scatter"
          },
          {
           "marker": {
            "color": "blue"
           },
           "mode": "markers",
           "x": [
            8
           ],
           "y": [
            12
           ],
           "type": "scatter"
          },
          {
           "marker": {
            "color": "green"
           },
           "mode": "markers",
           "x": [
            10
           ],
           "y": [
            7
           ],
           "type": "scatter"
          },
          {
           "marker": {
            "color": "green"
           },
           "mode": "markers",
           "x": [
            3
           ],
           "y": [
            9
           ],
           "type": "scatter"
          },
          {
           "marker": {
            "color": "green"
           },
           "mode": "markers",
           "x": [
            13
           ],
           "y": [
            14
           ],
           "type": "scatter"
          },
          {
           "marker": {
            "color": "blue"
           },
           "mode": "markers",
           "x": [
            8
           ],
           "y": [
            9
           ],
           "type": "scatter"
          },
          {
           "marker": {
            "color": "blue"
           },
           "mode": "markers",
           "x": [
            9
           ],
           "y": [
            12
           ],
           "type": "scatter"
          },
          {
           "marker": {
            "color": "blue"
           },
           "mode": "markers",
           "x": [
            9
           ],
           "y": [
            12
           ],
           "type": "scatter"
          },
          {
           "marker": {
            "color": "blue"
           },
           "mode": "markers",
           "x": [
            13
           ],
           "y": [
            9
           ],
           "type": "scatter"
          },
          {
           "marker": {
            "color": "blue"
           },
           "mode": "markers",
           "x": [
            12
           ],
           "y": [
            6
           ],
           "type": "scatter"
          },
          {
           "marker": {
            "color": "blue"
           },
           "mode": "markers",
           "x": [
            12
           ],
           "y": [
            6
           ],
           "type": "scatter"
          },
          {
           "marker": {
            "color": "blue"
           },
           "mode": "markers",
           "x": [
            8
           ],
           "y": [
            12
           ],
           "type": "scatter"
          },
          {
           "marker": {
            "color": "green"
           },
           "mode": "markers",
           "x": [
            11
           ],
           "y": [
            19
           ],
           "type": "scatter"
          },
          {
           "marker": {
            "color": "blue"
           },
           "mode": "markers",
           "x": [
            13
           ],
           "y": [
            6
           ],
           "type": "scatter"
          },
          {
           "marker": {
            "color": "blue"
           },
           "mode": "markers",
           "x": [
            13
           ],
           "y": [
            6
           ],
           "type": "scatter"
          },
          {
           "marker": {
            "color": "blue"
           },
           "mode": "markers",
           "x": [
            12
           ],
           "y": [
            10
           ],
           "type": "scatter"
          },
          {
           "marker": {
            "color": "blue"
           },
           "mode": "markers",
           "x": [
            12
           ],
           "y": [
            10
           ],
           "type": "scatter"
          },
          {
           "marker": {
            "color": "blue"
           },
           "mode": "markers",
           "x": [
            13
           ],
           "y": [
            9
           ],
           "type": "scatter"
          },
          {
           "marker": {
            "color": "orange"
           },
           "mode": "markers",
           "x": [
            2
           ],
           "y": [
            2
           ],
           "type": "scatter"
          },
          {
           "marker": {
            "color": "orange"
           },
           "mode": "markers",
           "x": [
            18
           ],
           "y": [
            18
           ],
           "type": "scatter"
          },
          {
           "marker": {
            "color": "orange"
           },
           "mode": "markers",
           "x": [
            3
           ],
           "y": [
            15
           ],
           "type": "scatter"
          }
         ],
         "layout": {
          "title": {
           "text": "Simulation frame 38"
          }
         }
        },
        {
         "data": [
          {
           "marker": {
            "color": "green"
           },
           "mode": "markers",
           "x": [
            -6
           ],
           "y": [
            -2
           ],
           "type": "scatter"
          },
          {
           "marker": {
            "color": "green"
           },
           "mode": "markers",
           "x": [
            -2
           ],
           "y": [
            4
           ],
           "type": "scatter"
          },
          {
           "marker": {
            "color": "blue"
           },
           "mode": "markers",
           "x": [
            4
           ],
           "y": [
            12
           ],
           "type": "scatter"
          },
          {
           "marker": {
            "color": "green"
           },
           "mode": "markers",
           "x": [
            4
           ],
           "y": [
            3
           ],
           "type": "scatter"
          },
          {
           "marker": {
            "color": "blue"
           },
           "mode": "markers",
           "x": [
            4
           ],
           "y": [
            12
           ],
           "type": "scatter"
          },
          {
           "marker": {
            "color": "blue"
           },
           "mode": "markers",
           "x": [
            7
           ],
           "y": [
            6
           ],
           "type": "scatter"
          },
          {
           "marker": {
            "color": "blue"
           },
           "mode": "markers",
           "x": [
            7
           ],
           "y": [
            6
           ],
           "type": "scatter"
          },
          {
           "marker": {
            "color": "blue"
           },
           "mode": "markers",
           "x": [
            8
           ],
           "y": [
            9
           ],
           "type": "scatter"
          },
          {
           "marker": {
            "color": "blue"
           },
           "mode": "markers",
           "x": [
            8
           ],
           "y": [
            12
           ],
           "type": "scatter"
          },
          {
           "marker": {
            "color": "green"
           },
           "mode": "markers",
           "x": [
            11
           ],
           "y": [
            7
           ],
           "type": "scatter"
          },
          {
           "marker": {
            "color": "green"
           },
           "mode": "markers",
           "x": [
            3
           ],
           "y": [
            10
           ],
           "type": "scatter"
          },
          {
           "marker": {
            "color": "green"
           },
           "mode": "markers",
           "x": [
            12
           ],
           "y": [
            14
           ],
           "type": "scatter"
          },
          {
           "marker": {
            "color": "blue"
           },
           "mode": "markers",
           "x": [
            8
           ],
           "y": [
            9
           ],
           "type": "scatter"
          },
          {
           "marker": {
            "color": "blue"
           },
           "mode": "markers",
           "x": [
            9
           ],
           "y": [
            12
           ],
           "type": "scatter"
          },
          {
           "marker": {
            "color": "blue"
           },
           "mode": "markers",
           "x": [
            9
           ],
           "y": [
            12
           ],
           "type": "scatter"
          },
          {
           "marker": {
            "color": "blue"
           },
           "mode": "markers",
           "x": [
            13
           ],
           "y": [
            9
           ],
           "type": "scatter"
          },
          {
           "marker": {
            "color": "blue"
           },
           "mode": "markers",
           "x": [
            12
           ],
           "y": [
            6
           ],
           "type": "scatter"
          },
          {
           "marker": {
            "color": "blue"
           },
           "mode": "markers",
           "x": [
            12
           ],
           "y": [
            6
           ],
           "type": "scatter"
          },
          {
           "marker": {
            "color": "blue"
           },
           "mode": "markers",
           "x": [
            8
           ],
           "y": [
            12
           ],
           "type": "scatter"
          },
          {
           "marker": {
            "color": "green"
           },
           "mode": "markers",
           "x": [
            11
           ],
           "y": [
            19
           ],
           "type": "scatter"
          },
          {
           "marker": {
            "color": "blue"
           },
           "mode": "markers",
           "x": [
            13
           ],
           "y": [
            6
           ],
           "type": "scatter"
          },
          {
           "marker": {
            "color": "blue"
           },
           "mode": "markers",
           "x": [
            13
           ],
           "y": [
            6
           ],
           "type": "scatter"
          },
          {
           "marker": {
            "color": "blue"
           },
           "mode": "markers",
           "x": [
            12
           ],
           "y": [
            10
           ],
           "type": "scatter"
          },
          {
           "marker": {
            "color": "blue"
           },
           "mode": "markers",
           "x": [
            12
           ],
           "y": [
            10
           ],
           "type": "scatter"
          },
          {
           "marker": {
            "color": "blue"
           },
           "mode": "markers",
           "x": [
            13
           ],
           "y": [
            9
           ],
           "type": "scatter"
          },
          {
           "marker": {
            "color": "orange"
           },
           "mode": "markers",
           "x": [
            2
           ],
           "y": [
            2
           ],
           "type": "scatter"
          },
          {
           "marker": {
            "color": "orange"
           },
           "mode": "markers",
           "x": [
            18
           ],
           "y": [
            18
           ],
           "type": "scatter"
          },
          {
           "marker": {
            "color": "orange"
           },
           "mode": "markers",
           "x": [
            3
           ],
           "y": [
            15
           ],
           "type": "scatter"
          }
         ],
         "layout": {
          "title": {
           "text": "Simulation frame 39"
          }
         }
        },
        {
         "data": [
          {
           "marker": {
            "color": "green"
           },
           "mode": "markers",
           "x": [
            -6
           ],
           "y": [
            -2
           ],
           "type": "scatter"
          },
          {
           "marker": {
            "color": "green"
           },
           "mode": "markers",
           "x": [
            -2
           ],
           "y": [
            5
           ],
           "type": "scatter"
          },
          {
           "marker": {
            "color": "blue"
           },
           "mode": "markers",
           "x": [
            4
           ],
           "y": [
            12
           ],
           "type": "scatter"
          },
          {
           "marker": {
            "color": "green"
           },
           "mode": "markers",
           "x": [
            4
           ],
           "y": [
            2
           ],
           "type": "scatter"
          },
          {
           "marker": {
            "color": "blue"
           },
           "mode": "markers",
           "x": [
            4
           ],
           "y": [
            12
           ],
           "type": "scatter"
          },
          {
           "marker": {
            "color": "blue"
           },
           "mode": "markers",
           "x": [
            7
           ],
           "y": [
            6
           ],
           "type": "scatter"
          },
          {
           "marker": {
            "color": "blue"
           },
           "mode": "markers",
           "x": [
            7
           ],
           "y": [
            6
           ],
           "type": "scatter"
          },
          {
           "marker": {
            "color": "blue"
           },
           "mode": "markers",
           "x": [
            8
           ],
           "y": [
            9
           ],
           "type": "scatter"
          },
          {
           "marker": {
            "color": "blue"
           },
           "mode": "markers",
           "x": [
            8
           ],
           "y": [
            12
           ],
           "type": "scatter"
          },
          {
           "marker": {
            "color": "green"
           },
           "mode": "markers",
           "x": [
            11
           ],
           "y": [
            8
           ],
           "type": "scatter"
          },
          {
           "marker": {
            "color": "green"
           },
           "mode": "markers",
           "x": [
            3
           ],
           "y": [
            9
           ],
           "type": "scatter"
          },
          {
           "marker": {
            "color": "green"
           },
           "mode": "markers",
           "x": [
            12
           ],
           "y": [
            14
           ],
           "type": "scatter"
          },
          {
           "marker": {
            "color": "blue"
           },
           "mode": "markers",
           "x": [
            8
           ],
           "y": [
            9
           ],
           "type": "scatter"
          },
          {
           "marker": {
            "color": "blue"
           },
           "mode": "markers",
           "x": [
            9
           ],
           "y": [
            12
           ],
           "type": "scatter"
          },
          {
           "marker": {
            "color": "blue"
           },
           "mode": "markers",
           "x": [
            9
           ],
           "y": [
            12
           ],
           "type": "scatter"
          },
          {
           "marker": {
            "color": "blue"
           },
           "mode": "markers",
           "x": [
            13
           ],
           "y": [
            9
           ],
           "type": "scatter"
          },
          {
           "marker": {
            "color": "blue"
           },
           "mode": "markers",
           "x": [
            12
           ],
           "y": [
            6
           ],
           "type": "scatter"
          },
          {
           "marker": {
            "color": "blue"
           },
           "mode": "markers",
           "x": [
            12
           ],
           "y": [
            6
           ],
           "type": "scatter"
          },
          {
           "marker": {
            "color": "blue"
           },
           "mode": "markers",
           "x": [
            8
           ],
           "y": [
            12
           ],
           "type": "scatter"
          },
          {
           "marker": {
            "color": "green"
           },
           "mode": "markers",
           "x": [
            11
           ],
           "y": [
            19
           ],
           "type": "scatter"
          },
          {
           "marker": {
            "color": "blue"
           },
           "mode": "markers",
           "x": [
            13
           ],
           "y": [
            6
           ],
           "type": "scatter"
          },
          {
           "marker": {
            "color": "blue"
           },
           "mode": "markers",
           "x": [
            13
           ],
           "y": [
            6
           ],
           "type": "scatter"
          },
          {
           "marker": {
            "color": "blue"
           },
           "mode": "markers",
           "x": [
            12
           ],
           "y": [
            10
           ],
           "type": "scatter"
          },
          {
           "marker": {
            "color": "blue"
           },
           "mode": "markers",
           "x": [
            12
           ],
           "y": [
            10
           ],
           "type": "scatter"
          },
          {
           "marker": {
            "color": "blue"
           },
           "mode": "markers",
           "x": [
            13
           ],
           "y": [
            9
           ],
           "type": "scatter"
          },
          {
           "marker": {
            "color": "orange"
           },
           "mode": "markers",
           "x": [
            2
           ],
           "y": [
            2
           ],
           "type": "scatter"
          },
          {
           "marker": {
            "color": "orange"
           },
           "mode": "markers",
           "x": [
            18
           ],
           "y": [
            18
           ],
           "type": "scatter"
          },
          {
           "marker": {
            "color": "orange"
           },
           "mode": "markers",
           "x": [
            3
           ],
           "y": [
            15
           ],
           "type": "scatter"
          }
         ],
         "layout": {
          "title": {
           "text": "Simulation frame 40"
          }
         }
        },
        {
         "data": [
          {
           "marker": {
            "color": "green"
           },
           "mode": "markers",
           "x": [
            -7
           ],
           "y": [
            -2
           ],
           "type": "scatter"
          },
          {
           "marker": {
            "color": "green"
           },
           "mode": "markers",
           "x": [
            -3
           ],
           "y": [
            5
           ],
           "type": "scatter"
          },
          {
           "marker": {
            "color": "blue"
           },
           "mode": "markers",
           "x": [
            4
           ],
           "y": [
            12
           ],
           "type": "scatter"
          },
          {
           "marker": {
            "color": "green"
           },
           "mode": "markers",
           "x": [
            4
           ],
           "y": [
            2
           ],
           "type": "scatter"
          },
          {
           "marker": {
            "color": "blue"
           },
           "mode": "markers",
           "x": [
            4
           ],
           "y": [
            12
           ],
           "type": "scatter"
          },
          {
           "marker": {
            "color": "blue"
           },
           "mode": "markers",
           "x": [
            7
           ],
           "y": [
            6
           ],
           "type": "scatter"
          },
          {
           "marker": {
            "color": "blue"
           },
           "mode": "markers",
           "x": [
            7
           ],
           "y": [
            6
           ],
           "type": "scatter"
          },
          {
           "marker": {
            "color": "blue"
           },
           "mode": "markers",
           "x": [
            8
           ],
           "y": [
            9
           ],
           "type": "scatter"
          },
          {
           "marker": {
            "color": "blue"
           },
           "mode": "markers",
           "x": [
            8
           ],
           "y": [
            12
           ],
           "type": "scatter"
          },
          {
           "marker": {
            "color": "green"
           },
           "mode": "markers",
           "x": [
            11
           ],
           "y": [
            7
           ],
           "type": "scatter"
          },
          {
           "marker": {
            "color": "green"
           },
           "mode": "markers",
           "x": [
            2
           ],
           "y": [
            9
           ],
           "type": "scatter"
          },
          {
           "marker": {
            "color": "green"
           },
           "mode": "markers",
           "x": [
            12
           ],
           "y": [
            13
           ],
           "type": "scatter"
          },
          {
           "marker": {
            "color": "blue"
           },
           "mode": "markers",
           "x": [
            8
           ],
           "y": [
            9
           ],
           "type": "scatter"
          },
          {
           "marker": {
            "color": "blue"
           },
           "mode": "markers",
           "x": [
            9
           ],
           "y": [
            12
           ],
           "type": "scatter"
          },
          {
           "marker": {
            "color": "blue"
           },
           "mode": "markers",
           "x": [
            9
           ],
           "y": [
            12
           ],
           "type": "scatter"
          },
          {
           "marker": {
            "color": "blue"
           },
           "mode": "markers",
           "x": [
            13
           ],
           "y": [
            9
           ],
           "type": "scatter"
          },
          {
           "marker": {
            "color": "blue"
           },
           "mode": "markers",
           "x": [
            12
           ],
           "y": [
            6
           ],
           "type": "scatter"
          },
          {
           "marker": {
            "color": "blue"
           },
           "mode": "markers",
           "x": [
            12
           ],
           "y": [
            6
           ],
           "type": "scatter"
          },
          {
           "marker": {
            "color": "blue"
           },
           "mode": "markers",
           "x": [
            8
           ],
           "y": [
            12
           ],
           "type": "scatter"
          },
          {
           "marker": {
            "color": "green"
           },
           "mode": "markers",
           "x": [
            11
           ],
           "y": [
            18
           ],
           "type": "scatter"
          },
          {
           "marker": {
            "color": "blue"
           },
           "mode": "markers",
           "x": [
            13
           ],
           "y": [
            6
           ],
           "type": "scatter"
          },
          {
           "marker": {
            "color": "blue"
           },
           "mode": "markers",
           "x": [
            13
           ],
           "y": [
            6
           ],
           "type": "scatter"
          },
          {
           "marker": {
            "color": "blue"
           },
           "mode": "markers",
           "x": [
            12
           ],
           "y": [
            10
           ],
           "type": "scatter"
          },
          {
           "marker": {
            "color": "blue"
           },
           "mode": "markers",
           "x": [
            12
           ],
           "y": [
            10
           ],
           "type": "scatter"
          },
          {
           "marker": {
            "color": "blue"
           },
           "mode": "markers",
           "x": [
            13
           ],
           "y": [
            9
           ],
           "type": "scatter"
          },
          {
           "marker": {
            "color": "orange"
           },
           "mode": "markers",
           "x": [
            2
           ],
           "y": [
            2
           ],
           "type": "scatter"
          },
          {
           "marker": {
            "color": "orange"
           },
           "mode": "markers",
           "x": [
            18
           ],
           "y": [
            18
           ],
           "type": "scatter"
          },
          {
           "marker": {
            "color": "orange"
           },
           "mode": "markers",
           "x": [
            3
           ],
           "y": [
            15
           ],
           "type": "scatter"
          }
         ],
         "layout": {
          "title": {
           "text": "Simulation frame 41"
          }
         }
        },
        {
         "data": [
          {
           "marker": {
            "color": "green"
           },
           "mode": "markers",
           "x": [
            -7
           ],
           "y": [
            -2
           ],
           "type": "scatter"
          },
          {
           "marker": {
            "color": "green"
           },
           "mode": "markers",
           "x": [
            -3
           ],
           "y": [
            5
           ],
           "type": "scatter"
          },
          {
           "marker": {
            "color": "blue"
           },
           "mode": "markers",
           "x": [
            4
           ],
           "y": [
            12
           ],
           "type": "scatter"
          },
          {
           "marker": {
            "color": "green"
           },
           "mode": "markers",
           "x": [
            4
           ],
           "y": [
            1
           ],
           "type": "scatter"
          },
          {
           "marker": {
            "color": "blue"
           },
           "mode": "markers",
           "x": [
            4
           ],
           "y": [
            12
           ],
           "type": "scatter"
          },
          {
           "marker": {
            "color": "blue"
           },
           "mode": "markers",
           "x": [
            7
           ],
           "y": [
            6
           ],
           "type": "scatter"
          },
          {
           "marker": {
            "color": "blue"
           },
           "mode": "markers",
           "x": [
            7
           ],
           "y": [
            6
           ],
           "type": "scatter"
          },
          {
           "marker": {
            "color": "blue"
           },
           "mode": "markers",
           "x": [
            8
           ],
           "y": [
            9
           ],
           "type": "scatter"
          },
          {
           "marker": {
            "color": "blue"
           },
           "mode": "markers",
           "x": [
            8
           ],
           "y": [
            12
           ],
           "type": "scatter"
          },
          {
           "marker": {
            "color": "green"
           },
           "mode": "markers",
           "x": [
            10
           ],
           "y": [
            7
           ],
           "type": "scatter"
          },
          {
           "marker": {
            "color": "green"
           },
           "mode": "markers",
           "x": [
            2
           ],
           "y": [
            9
           ],
           "type": "scatter"
          },
          {
           "marker": {
            "color": "green"
           },
           "mode": "markers",
           "x": [
            12
           ],
           "y": [
            12
           ],
           "type": "scatter"
          },
          {
           "marker": {
            "color": "blue"
           },
           "mode": "markers",
           "x": [
            8
           ],
           "y": [
            9
           ],
           "type": "scatter"
          },
          {
           "marker": {
            "color": "blue"
           },
           "mode": "markers",
           "x": [
            9
           ],
           "y": [
            12
           ],
           "type": "scatter"
          },
          {
           "marker": {
            "color": "blue"
           },
           "mode": "markers",
           "x": [
            9
           ],
           "y": [
            12
           ],
           "type": "scatter"
          },
          {
           "marker": {
            "color": "blue"
           },
           "mode": "markers",
           "x": [
            13
           ],
           "y": [
            9
           ],
           "type": "scatter"
          },
          {
           "marker": {
            "color": "blue"
           },
           "mode": "markers",
           "x": [
            12
           ],
           "y": [
            6
           ],
           "type": "scatter"
          },
          {
           "marker": {
            "color": "blue"
           },
           "mode": "markers",
           "x": [
            12
           ],
           "y": [
            6
           ],
           "type": "scatter"
          },
          {
           "marker": {
            "color": "blue"
           },
           "mode": "markers",
           "x": [
            8
           ],
           "y": [
            12
           ],
           "type": "scatter"
          },
          {
           "marker": {
            "color": "green"
           },
           "mode": "markers",
           "x": [
            12
           ],
           "y": [
            18
           ],
           "type": "scatter"
          },
          {
           "marker": {
            "color": "blue"
           },
           "mode": "markers",
           "x": [
            13
           ],
           "y": [
            6
           ],
           "type": "scatter"
          },
          {
           "marker": {
            "color": "blue"
           },
           "mode": "markers",
           "x": [
            13
           ],
           "y": [
            6
           ],
           "type": "scatter"
          },
          {
           "marker": {
            "color": "blue"
           },
           "mode": "markers",
           "x": [
            12
           ],
           "y": [
            10
           ],
           "type": "scatter"
          },
          {
           "marker": {
            "color": "blue"
           },
           "mode": "markers",
           "x": [
            12
           ],
           "y": [
            10
           ],
           "type": "scatter"
          },
          {
           "marker": {
            "color": "blue"
           },
           "mode": "markers",
           "x": [
            13
           ],
           "y": [
            9
           ],
           "type": "scatter"
          },
          {
           "marker": {
            "color": "orange"
           },
           "mode": "markers",
           "x": [
            2
           ],
           "y": [
            2
           ],
           "type": "scatter"
          },
          {
           "marker": {
            "color": "orange"
           },
           "mode": "markers",
           "x": [
            18
           ],
           "y": [
            18
           ],
           "type": "scatter"
          },
          {
           "marker": {
            "color": "orange"
           },
           "mode": "markers",
           "x": [
            3
           ],
           "y": [
            15
           ],
           "type": "scatter"
          }
         ],
         "layout": {
          "title": {
           "text": "Simulation frame 42"
          }
         }
        },
        {
         "data": [
          {
           "marker": {
            "color": "green"
           },
           "mode": "markers",
           "x": [
            -6
           ],
           "y": [
            -2
           ],
           "type": "scatter"
          },
          {
           "marker": {
            "color": "green"
           },
           "mode": "markers",
           "x": [
            -2
           ],
           "y": [
            5
           ],
           "type": "scatter"
          },
          {
           "marker": {
            "color": "blue"
           },
           "mode": "markers",
           "x": [
            4
           ],
           "y": [
            12
           ],
           "type": "scatter"
          },
          {
           "marker": {
            "color": "green"
           },
           "mode": "markers",
           "x": [
            4
           ],
           "y": [
            1
           ],
           "type": "scatter"
          },
          {
           "marker": {
            "color": "blue"
           },
           "mode": "markers",
           "x": [
            4
           ],
           "y": [
            12
           ],
           "type": "scatter"
          },
          {
           "marker": {
            "color": "blue"
           },
           "mode": "markers",
           "x": [
            7
           ],
           "y": [
            6
           ],
           "type": "scatter"
          },
          {
           "marker": {
            "color": "blue"
           },
           "mode": "markers",
           "x": [
            7
           ],
           "y": [
            6
           ],
           "type": "scatter"
          },
          {
           "marker": {
            "color": "blue"
           },
           "mode": "markers",
           "x": [
            8
           ],
           "y": [
            9
           ],
           "type": "scatter"
          },
          {
           "marker": {
            "color": "blue"
           },
           "mode": "markers",
           "x": [
            8
           ],
           "y": [
            12
           ],
           "type": "scatter"
          },
          {
           "marker": {
            "color": "green"
           },
           "mode": "markers",
           "x": [
            9
           ],
           "y": [
            7
           ],
           "type": "scatter"
          },
          {
           "marker": {
            "color": "green"
           },
           "mode": "markers",
           "x": [
            1
           ],
           "y": [
            9
           ],
           "type": "scatter"
          },
          {
           "marker": {
            "color": "green"
           },
           "mode": "markers",
           "x": [
            12
           ],
           "y": [
            12
           ],
           "type": "scatter"
          },
          {
           "marker": {
            "color": "blue"
           },
           "mode": "markers",
           "x": [
            8
           ],
           "y": [
            9
           ],
           "type": "scatter"
          },
          {
           "marker": {
            "color": "blue"
           },
           "mode": "markers",
           "x": [
            9
           ],
           "y": [
            12
           ],
           "type": "scatter"
          },
          {
           "marker": {
            "color": "blue"
           },
           "mode": "markers",
           "x": [
            9
           ],
           "y": [
            12
           ],
           "type": "scatter"
          },
          {
           "marker": {
            "color": "blue"
           },
           "mode": "markers",
           "x": [
            13
           ],
           "y": [
            9
           ],
           "type": "scatter"
          },
          {
           "marker": {
            "color": "blue"
           },
           "mode": "markers",
           "x": [
            12
           ],
           "y": [
            6
           ],
           "type": "scatter"
          },
          {
           "marker": {
            "color": "blue"
           },
           "mode": "markers",
           "x": [
            12
           ],
           "y": [
            6
           ],
           "type": "scatter"
          },
          {
           "marker": {
            "color": "blue"
           },
           "mode": "markers",
           "x": [
            8
           ],
           "y": [
            12
           ],
           "type": "scatter"
          },
          {
           "marker": {
            "color": "green"
           },
           "mode": "markers",
           "x": [
            12
           ],
           "y": [
            17
           ],
           "type": "scatter"
          },
          {
           "marker": {
            "color": "blue"
           },
           "mode": "markers",
           "x": [
            13
           ],
           "y": [
            6
           ],
           "type": "scatter"
          },
          {
           "marker": {
            "color": "blue"
           },
           "mode": "markers",
           "x": [
            13
           ],
           "y": [
            6
           ],
           "type": "scatter"
          },
          {
           "marker": {
            "color": "blue"
           },
           "mode": "markers",
           "x": [
            12
           ],
           "y": [
            10
           ],
           "type": "scatter"
          },
          {
           "marker": {
            "color": "blue"
           },
           "mode": "markers",
           "x": [
            12
           ],
           "y": [
            10
           ],
           "type": "scatter"
          },
          {
           "marker": {
            "color": "blue"
           },
           "mode": "markers",
           "x": [
            13
           ],
           "y": [
            9
           ],
           "type": "scatter"
          },
          {
           "marker": {
            "color": "orange"
           },
           "mode": "markers",
           "x": [
            2
           ],
           "y": [
            2
           ],
           "type": "scatter"
          },
          {
           "marker": {
            "color": "orange"
           },
           "mode": "markers",
           "x": [
            18
           ],
           "y": [
            18
           ],
           "type": "scatter"
          },
          {
           "marker": {
            "color": "orange"
           },
           "mode": "markers",
           "x": [
            3
           ],
           "y": [
            15
           ],
           "type": "scatter"
          }
         ],
         "layout": {
          "title": {
           "text": "Simulation frame 43"
          }
         }
        },
        {
         "data": [
          {
           "marker": {
            "color": "green"
           },
           "mode": "markers",
           "x": [
            -5
           ],
           "y": [
            -2
           ],
           "type": "scatter"
          },
          {
           "marker": {
            "color": "green"
           },
           "mode": "markers",
           "x": [
            -2
           ],
           "y": [
            4
           ],
           "type": "scatter"
          },
          {
           "marker": {
            "color": "blue"
           },
           "mode": "markers",
           "x": [
            4
           ],
           "y": [
            12
           ],
           "type": "scatter"
          },
          {
           "marker": {
            "color": "green"
           },
           "mode": "markers",
           "x": [
            4
           ],
           "y": [
            2
           ],
           "type": "scatter"
          },
          {
           "marker": {
            "color": "blue"
           },
           "mode": "markers",
           "x": [
            4
           ],
           "y": [
            12
           ],
           "type": "scatter"
          },
          {
           "marker": {
            "color": "blue"
           },
           "mode": "markers",
           "x": [
            7
           ],
           "y": [
            6
           ],
           "type": "scatter"
          },
          {
           "marker": {
            "color": "blue"
           },
           "mode": "markers",
           "x": [
            7
           ],
           "y": [
            6
           ],
           "type": "scatter"
          },
          {
           "marker": {
            "color": "blue"
           },
           "mode": "markers",
           "x": [
            8
           ],
           "y": [
            9
           ],
           "type": "scatter"
          },
          {
           "marker": {
            "color": "blue"
           },
           "mode": "markers",
           "x": [
            8
           ],
           "y": [
            12
           ],
           "type": "scatter"
          },
          {
           "marker": {
            "color": "green"
           },
           "mode": "markers",
           "x": [
            8
           ],
           "y": [
            7
           ],
           "type": "scatter"
          },
          {
           "marker": {
            "color": "green"
           },
           "mode": "markers",
           "x": [
            1
           ],
           "y": [
            9
           ],
           "type": "scatter"
          },
          {
           "marker": {
            "color": "green"
           },
           "mode": "markers",
           "x": [
            11
           ],
           "y": [
            12
           ],
           "type": "scatter"
          },
          {
           "marker": {
            "color": "blue"
           },
           "mode": "markers",
           "x": [
            8
           ],
           "y": [
            9
           ],
           "type": "scatter"
          },
          {
           "marker": {
            "color": "blue"
           },
           "mode": "markers",
           "x": [
            9
           ],
           "y": [
            12
           ],
           "type": "scatter"
          },
          {
           "marker": {
            "color": "blue"
           },
           "mode": "markers",
           "x": [
            9
           ],
           "y": [
            12
           ],
           "type": "scatter"
          },
          {
           "marker": {
            "color": "blue"
           },
           "mode": "markers",
           "x": [
            13
           ],
           "y": [
            9
           ],
           "type": "scatter"
          },
          {
           "marker": {
            "color": "blue"
           },
           "mode": "markers",
           "x": [
            12
           ],
           "y": [
            6
           ],
           "type": "scatter"
          },
          {
           "marker": {
            "color": "blue"
           },
           "mode": "markers",
           "x": [
            12
           ],
           "y": [
            6
           ],
           "type": "scatter"
          },
          {
           "marker": {
            "color": "blue"
           },
           "mode": "markers",
           "x": [
            8
           ],
           "y": [
            12
           ],
           "type": "scatter"
          },
          {
           "marker": {
            "color": "green"
           },
           "mode": "markers",
           "x": [
            11
           ],
           "y": [
            17
           ],
           "type": "scatter"
          },
          {
           "marker": {
            "color": "blue"
           },
           "mode": "markers",
           "x": [
            13
           ],
           "y": [
            6
           ],
           "type": "scatter"
          },
          {
           "marker": {
            "color": "blue"
           },
           "mode": "markers",
           "x": [
            13
           ],
           "y": [
            6
           ],
           "type": "scatter"
          },
          {
           "marker": {
            "color": "blue"
           },
           "mode": "markers",
           "x": [
            12
           ],
           "y": [
            10
           ],
           "type": "scatter"
          },
          {
           "marker": {
            "color": "blue"
           },
           "mode": "markers",
           "x": [
            12
           ],
           "y": [
            10
           ],
           "type": "scatter"
          },
          {
           "marker": {
            "color": "blue"
           },
           "mode": "markers",
           "x": [
            13
           ],
           "y": [
            9
           ],
           "type": "scatter"
          },
          {
           "marker": {
            "color": "orange"
           },
           "mode": "markers",
           "x": [
            2
           ],
           "y": [
            2
           ],
           "type": "scatter"
          },
          {
           "marker": {
            "color": "orange"
           },
           "mode": "markers",
           "x": [
            18
           ],
           "y": [
            18
           ],
           "type": "scatter"
          },
          {
           "marker": {
            "color": "orange"
           },
           "mode": "markers",
           "x": [
            3
           ],
           "y": [
            15
           ],
           "type": "scatter"
          }
         ],
         "layout": {
          "title": {
           "text": "Simulation frame 44"
          }
         }
        },
        {
         "data": [
          {
           "marker": {
            "color": "green"
           },
           "mode": "markers",
           "x": [
            -4
           ],
           "y": [
            -2
           ],
           "type": "scatter"
          },
          {
           "marker": {
            "color": "green"
           },
           "mode": "markers",
           "x": [
            -2
           ],
           "y": [
            4
           ],
           "type": "scatter"
          },
          {
           "marker": {
            "color": "blue"
           },
           "mode": "markers",
           "x": [
            4
           ],
           "y": [
            12
           ],
           "type": "scatter"
          },
          {
           "marker": {
            "color": "green"
           },
           "mode": "markers",
           "x": [
            4
           ],
           "y": [
            2
           ],
           "type": "scatter"
          },
          {
           "marker": {
            "color": "blue"
           },
           "mode": "markers",
           "x": [
            4
           ],
           "y": [
            12
           ],
           "type": "scatter"
          },
          {
           "marker": {
            "color": "blue"
           },
           "mode": "markers",
           "x": [
            7
           ],
           "y": [
            6
           ],
           "type": "scatter"
          },
          {
           "marker": {
            "color": "blue"
           },
           "mode": "markers",
           "x": [
            7
           ],
           "y": [
            6
           ],
           "type": "scatter"
          },
          {
           "marker": {
            "color": "blue"
           },
           "mode": "markers",
           "x": [
            8
           ],
           "y": [
            9
           ],
           "type": "scatter"
          },
          {
           "marker": {
            "color": "blue"
           },
           "mode": "markers",
           "x": [
            8
           ],
           "y": [
            12
           ],
           "type": "scatter"
          },
          {
           "marker": {
            "color": "green"
           },
           "mode": "markers",
           "x": [
            9
           ],
           "y": [
            7
           ],
           "type": "scatter"
          },
          {
           "marker": {
            "color": "green"
           },
           "mode": "markers",
           "x": [
            1
           ],
           "y": [
            9
           ],
           "type": "scatter"
          },
          {
           "marker": {
            "color": "green"
           },
           "mode": "markers",
           "x": [
            11
           ],
           "y": [
            13
           ],
           "type": "scatter"
          },
          {
           "marker": {
            "color": "blue"
           },
           "mode": "markers",
           "x": [
            8
           ],
           "y": [
            9
           ],
           "type": "scatter"
          },
          {
           "marker": {
            "color": "blue"
           },
           "mode": "markers",
           "x": [
            9
           ],
           "y": [
            12
           ],
           "type": "scatter"
          },
          {
           "marker": {
            "color": "blue"
           },
           "mode": "markers",
           "x": [
            9
           ],
           "y": [
            12
           ],
           "type": "scatter"
          },
          {
           "marker": {
            "color": "blue"
           },
           "mode": "markers",
           "x": [
            13
           ],
           "y": [
            9
           ],
           "type": "scatter"
          },
          {
           "marker": {
            "color": "blue"
           },
           "mode": "markers",
           "x": [
            12
           ],
           "y": [
            6
           ],
           "type": "scatter"
          },
          {
           "marker": {
            "color": "blue"
           },
           "mode": "markers",
           "x": [
            12
           ],
           "y": [
            6
           ],
           "type": "scatter"
          },
          {
           "marker": {
            "color": "blue"
           },
           "mode": "markers",
           "x": [
            8
           ],
           "y": [
            12
           ],
           "type": "scatter"
          },
          {
           "marker": {
            "color": "green"
           },
           "mode": "markers",
           "x": [
            11
           ],
           "y": [
            18
           ],
           "type": "scatter"
          },
          {
           "marker": {
            "color": "blue"
           },
           "mode": "markers",
           "x": [
            13
           ],
           "y": [
            6
           ],
           "type": "scatter"
          },
          {
           "marker": {
            "color": "blue"
           },
           "mode": "markers",
           "x": [
            13
           ],
           "y": [
            6
           ],
           "type": "scatter"
          },
          {
           "marker": {
            "color": "blue"
           },
           "mode": "markers",
           "x": [
            12
           ],
           "y": [
            10
           ],
           "type": "scatter"
          },
          {
           "marker": {
            "color": "blue"
           },
           "mode": "markers",
           "x": [
            12
           ],
           "y": [
            10
           ],
           "type": "scatter"
          },
          {
           "marker": {
            "color": "blue"
           },
           "mode": "markers",
           "x": [
            13
           ],
           "y": [
            9
           ],
           "type": "scatter"
          },
          {
           "marker": {
            "color": "orange"
           },
           "mode": "markers",
           "x": [
            2
           ],
           "y": [
            2
           ],
           "type": "scatter"
          },
          {
           "marker": {
            "color": "orange"
           },
           "mode": "markers",
           "x": [
            18
           ],
           "y": [
            18
           ],
           "type": "scatter"
          },
          {
           "marker": {
            "color": "orange"
           },
           "mode": "markers",
           "x": [
            3
           ],
           "y": [
            15
           ],
           "type": "scatter"
          }
         ],
         "layout": {
          "title": {
           "text": "Simulation frame 45"
          }
         }
        },
        {
         "data": [
          {
           "marker": {
            "color": "green"
           },
           "mode": "markers",
           "x": [
            -5
           ],
           "y": [
            -2
           ],
           "type": "scatter"
          },
          {
           "marker": {
            "color": "green"
           },
           "mode": "markers",
           "x": [
            -3
           ],
           "y": [
            4
           ],
           "type": "scatter"
          },
          {
           "marker": {
            "color": "blue"
           },
           "mode": "markers",
           "x": [
            4
           ],
           "y": [
            12
           ],
           "type": "scatter"
          },
          {
           "marker": {
            "color": "green"
           },
           "mode": "markers",
           "x": [
            4
           ],
           "y": [
            1
           ],
           "type": "scatter"
          },
          {
           "marker": {
            "color": "blue"
           },
           "mode": "markers",
           "x": [
            4
           ],
           "y": [
            12
           ],
           "type": "scatter"
          },
          {
           "marker": {
            "color": "blue"
           },
           "mode": "markers",
           "x": [
            7
           ],
           "y": [
            6
           ],
           "type": "scatter"
          },
          {
           "marker": {
            "color": "blue"
           },
           "mode": "markers",
           "x": [
            7
           ],
           "y": [
            6
           ],
           "type": "scatter"
          },
          {
           "marker": {
            "color": "blue"
           },
           "mode": "markers",
           "x": [
            8
           ],
           "y": [
            9
           ],
           "type": "scatter"
          },
          {
           "marker": {
            "color": "blue"
           },
           "mode": "markers",
           "x": [
            8
           ],
           "y": [
            12
           ],
           "type": "scatter"
          },
          {
           "marker": {
            "color": "green"
           },
           "mode": "markers",
           "x": [
            9
           ],
           "y": [
            6
           ],
           "type": "scatter"
          },
          {
           "marker": {
            "color": "green"
           },
           "mode": "markers",
           "x": [
            2
           ],
           "y": [
            9
           ],
           "type": "scatter"
          },
          {
           "marker": {
            "color": "green"
           },
           "mode": "markers",
           "x": [
            11
           ],
           "y": [
            13
           ],
           "type": "scatter"
          },
          {
           "marker": {
            "color": "blue"
           },
           "mode": "markers",
           "x": [
            8
           ],
           "y": [
            9
           ],
           "type": "scatter"
          },
          {
           "marker": {
            "color": "blue"
           },
           "mode": "markers",
           "x": [
            9
           ],
           "y": [
            12
           ],
           "type": "scatter"
          },
          {
           "marker": {
            "color": "blue"
           },
           "mode": "markers",
           "x": [
            9
           ],
           "y": [
            12
           ],
           "type": "scatter"
          },
          {
           "marker": {
            "color": "blue"
           },
           "mode": "markers",
           "x": [
            13
           ],
           "y": [
            9
           ],
           "type": "scatter"
          },
          {
           "marker": {
            "color": "blue"
           },
           "mode": "markers",
           "x": [
            12
           ],
           "y": [
            6
           ],
           "type": "scatter"
          },
          {
           "marker": {
            "color": "blue"
           },
           "mode": "markers",
           "x": [
            12
           ],
           "y": [
            6
           ],
           "type": "scatter"
          },
          {
           "marker": {
            "color": "blue"
           },
           "mode": "markers",
           "x": [
            8
           ],
           "y": [
            12
           ],
           "type": "scatter"
          },
          {
           "marker": {
            "color": "green"
           },
           "mode": "markers",
           "x": [
            11
           ],
           "y": [
            18
           ],
           "type": "scatter"
          },
          {
           "marker": {
            "color": "blue"
           },
           "mode": "markers",
           "x": [
            13
           ],
           "y": [
            6
           ],
           "type": "scatter"
          },
          {
           "marker": {
            "color": "blue"
           },
           "mode": "markers",
           "x": [
            13
           ],
           "y": [
            6
           ],
           "type": "scatter"
          },
          {
           "marker": {
            "color": "blue"
           },
           "mode": "markers",
           "x": [
            12
           ],
           "y": [
            10
           ],
           "type": "scatter"
          },
          {
           "marker": {
            "color": "blue"
           },
           "mode": "markers",
           "x": [
            12
           ],
           "y": [
            10
           ],
           "type": "scatter"
          },
          {
           "marker": {
            "color": "blue"
           },
           "mode": "markers",
           "x": [
            13
           ],
           "y": [
            9
           ],
           "type": "scatter"
          },
          {
           "marker": {
            "color": "orange"
           },
           "mode": "markers",
           "x": [
            2
           ],
           "y": [
            2
           ],
           "type": "scatter"
          },
          {
           "marker": {
            "color": "orange"
           },
           "mode": "markers",
           "x": [
            18
           ],
           "y": [
            18
           ],
           "type": "scatter"
          },
          {
           "marker": {
            "color": "orange"
           },
           "mode": "markers",
           "x": [
            3
           ],
           "y": [
            15
           ],
           "type": "scatter"
          }
         ],
         "layout": {
          "title": {
           "text": "Simulation frame 46"
          }
         }
        },
        {
         "data": [
          {
           "marker": {
            "color": "green"
           },
           "mode": "markers",
           "x": [
            -4
           ],
           "y": [
            -2
           ],
           "type": "scatter"
          },
          {
           "marker": {
            "color": "green"
           },
           "mode": "markers",
           "x": [
            -4
           ],
           "y": [
            4
           ],
           "type": "scatter"
          },
          {
           "marker": {
            "color": "blue"
           },
           "mode": "markers",
           "x": [
            4
           ],
           "y": [
            12
           ],
           "type": "scatter"
          },
          {
           "marker": {
            "color": "green"
           },
           "mode": "markers",
           "x": [
            4
           ],
           "y": [
            2
           ],
           "type": "scatter"
          },
          {
           "marker": {
            "color": "blue"
           },
           "mode": "markers",
           "x": [
            4
           ],
           "y": [
            12
           ],
           "type": "scatter"
          },
          {
           "marker": {
            "color": "blue"
           },
           "mode": "markers",
           "x": [
            7
           ],
           "y": [
            6
           ],
           "type": "scatter"
          },
          {
           "marker": {
            "color": "blue"
           },
           "mode": "markers",
           "x": [
            7
           ],
           "y": [
            6
           ],
           "type": "scatter"
          },
          {
           "marker": {
            "color": "blue"
           },
           "mode": "markers",
           "x": [
            8
           ],
           "y": [
            9
           ],
           "type": "scatter"
          },
          {
           "marker": {
            "color": "blue"
           },
           "mode": "markers",
           "x": [
            8
           ],
           "y": [
            12
           ],
           "type": "scatter"
          },
          {
           "marker": {
            "color": "green"
           },
           "mode": "markers",
           "x": [
            9
           ],
           "y": [
            7
           ],
           "type": "scatter"
          },
          {
           "marker": {
            "color": "green"
           },
           "mode": "markers",
           "x": [
            3
           ],
           "y": [
            9
           ],
           "type": "scatter"
          },
          {
           "marker": {
            "color": "green"
           },
           "mode": "markers",
           "x": [
            12
           ],
           "y": [
            13
           ],
           "type": "scatter"
          },
          {
           "marker": {
            "color": "blue"
           },
           "mode": "markers",
           "x": [
            8
           ],
           "y": [
            9
           ],
           "type": "scatter"
          },
          {
           "marker": {
            "color": "blue"
           },
           "mode": "markers",
           "x": [
            9
           ],
           "y": [
            12
           ],
           "type": "scatter"
          },
          {
           "marker": {
            "color": "blue"
           },
           "mode": "markers",
           "x": [
            9
           ],
           "y": [
            12
           ],
           "type": "scatter"
          },
          {
           "marker": {
            "color": "blue"
           },
           "mode": "markers",
           "x": [
            13
           ],
           "y": [
            9
           ],
           "type": "scatter"
          },
          {
           "marker": {
            "color": "blue"
           },
           "mode": "markers",
           "x": [
            12
           ],
           "y": [
            6
           ],
           "type": "scatter"
          },
          {
           "marker": {
            "color": "blue"
           },
           "mode": "markers",
           "x": [
            12
           ],
           "y": [
            6
           ],
           "type": "scatter"
          },
          {
           "marker": {
            "color": "blue"
           },
           "mode": "markers",
           "x": [
            8
           ],
           "y": [
            12
           ],
           "type": "scatter"
          },
          {
           "marker": {
            "color": "green"
           },
           "mode": "markers",
           "x": [
            12
           ],
           "y": [
            18
           ],
           "type": "scatter"
          },
          {
           "marker": {
            "color": "blue"
           },
           "mode": "markers",
           "x": [
            13
           ],
           "y": [
            6
           ],
           "type": "scatter"
          },
          {
           "marker": {
            "color": "blue"
           },
           "mode": "markers",
           "x": [
            13
           ],
           "y": [
            6
           ],
           "type": "scatter"
          },
          {
           "marker": {
            "color": "blue"
           },
           "mode": "markers",
           "x": [
            12
           ],
           "y": [
            10
           ],
           "type": "scatter"
          },
          {
           "marker": {
            "color": "blue"
           },
           "mode": "markers",
           "x": [
            12
           ],
           "y": [
            10
           ],
           "type": "scatter"
          },
          {
           "marker": {
            "color": "blue"
           },
           "mode": "markers",
           "x": [
            13
           ],
           "y": [
            9
           ],
           "type": "scatter"
          },
          {
           "marker": {
            "color": "orange"
           },
           "mode": "markers",
           "x": [
            2
           ],
           "y": [
            2
           ],
           "type": "scatter"
          },
          {
           "marker": {
            "color": "orange"
           },
           "mode": "markers",
           "x": [
            18
           ],
           "y": [
            18
           ],
           "type": "scatter"
          },
          {
           "marker": {
            "color": "orange"
           },
           "mode": "markers",
           "x": [
            3
           ],
           "y": [
            15
           ],
           "type": "scatter"
          }
         ],
         "layout": {
          "title": {
           "text": "Simulation frame 47"
          }
         }
        },
        {
         "data": [
          {
           "marker": {
            "color": "green"
           },
           "mode": "markers",
           "x": [
            -3
           ],
           "y": [
            -2
           ],
           "type": "scatter"
          },
          {
           "marker": {
            "color": "green"
           },
           "mode": "markers",
           "x": [
            -4
           ],
           "y": [
            5
           ],
           "type": "scatter"
          },
          {
           "marker": {
            "color": "blue"
           },
           "mode": "markers",
           "x": [
            4
           ],
           "y": [
            12
           ],
           "type": "scatter"
          },
          {
           "marker": {
            "color": "green"
           },
           "mode": "markers",
           "x": [
            3
           ],
           "y": [
            2
           ],
           "type": "scatter"
          },
          {
           "marker": {
            "color": "blue"
           },
           "mode": "markers",
           "x": [
            4
           ],
           "y": [
            12
           ],
           "type": "scatter"
          },
          {
           "marker": {
            "color": "blue"
           },
           "mode": "markers",
           "x": [
            7
           ],
           "y": [
            6
           ],
           "type": "scatter"
          },
          {
           "marker": {
            "color": "blue"
           },
           "mode": "markers",
           "x": [
            7
           ],
           "y": [
            6
           ],
           "type": "scatter"
          },
          {
           "marker": {
            "color": "blue"
           },
           "mode": "markers",
           "x": [
            8
           ],
           "y": [
            9
           ],
           "type": "scatter"
          },
          {
           "marker": {
            "color": "blue"
           },
           "mode": "markers",
           "x": [
            8
           ],
           "y": [
            12
           ],
           "type": "scatter"
          },
          {
           "marker": {
            "color": "green"
           },
           "mode": "markers",
           "x": [
            10
           ],
           "y": [
            7
           ],
           "type": "scatter"
          },
          {
           "marker": {
            "color": "green"
           },
           "mode": "markers",
           "x": [
            3
           ],
           "y": [
            9
           ],
           "type": "scatter"
          },
          {
           "marker": {
            "color": "green"
           },
           "mode": "markers",
           "x": [
            12
           ],
           "y": [
            13
           ],
           "type": "scatter"
          },
          {
           "marker": {
            "color": "blue"
           },
           "mode": "markers",
           "x": [
            8
           ],
           "y": [
            9
           ],
           "type": "scatter"
          },
          {
           "marker": {
            "color": "blue"
           },
           "mode": "markers",
           "x": [
            9
           ],
           "y": [
            12
           ],
           "type": "scatter"
          },
          {
           "marker": {
            "color": "blue"
           },
           "mode": "markers",
           "x": [
            9
           ],
           "y": [
            12
           ],
           "type": "scatter"
          },
          {
           "marker": {
            "color": "blue"
           },
           "mode": "markers",
           "x": [
            13
           ],
           "y": [
            9
           ],
           "type": "scatter"
          },
          {
           "marker": {
            "color": "blue"
           },
           "mode": "markers",
           "x": [
            12
           ],
           "y": [
            6
           ],
           "type": "scatter"
          },
          {
           "marker": {
            "color": "blue"
           },
           "mode": "markers",
           "x": [
            12
           ],
           "y": [
            6
           ],
           "type": "scatter"
          },
          {
           "marker": {
            "color": "blue"
           },
           "mode": "markers",
           "x": [
            8
           ],
           "y": [
            12
           ],
           "type": "scatter"
          },
          {
           "marker": {
            "color": "green"
           },
           "mode": "markers",
           "x": [
            12
           ],
           "y": [
            18
           ],
           "type": "scatter"
          },
          {
           "marker": {
            "color": "blue"
           },
           "mode": "markers",
           "x": [
            13
           ],
           "y": [
            6
           ],
           "type": "scatter"
          },
          {
           "marker": {
            "color": "blue"
           },
           "mode": "markers",
           "x": [
            13
           ],
           "y": [
            6
           ],
           "type": "scatter"
          },
          {
           "marker": {
            "color": "blue"
           },
           "mode": "markers",
           "x": [
            12
           ],
           "y": [
            10
           ],
           "type": "scatter"
          },
          {
           "marker": {
            "color": "blue"
           },
           "mode": "markers",
           "x": [
            12
           ],
           "y": [
            10
           ],
           "type": "scatter"
          },
          {
           "marker": {
            "color": "blue"
           },
           "mode": "markers",
           "x": [
            13
           ],
           "y": [
            9
           ],
           "type": "scatter"
          },
          {
           "marker": {
            "color": "orange"
           },
           "mode": "markers",
           "x": [
            2
           ],
           "y": [
            2
           ],
           "type": "scatter"
          },
          {
           "marker": {
            "color": "orange"
           },
           "mode": "markers",
           "x": [
            18
           ],
           "y": [
            18
           ],
           "type": "scatter"
          },
          {
           "marker": {
            "color": "orange"
           },
           "mode": "markers",
           "x": [
            3
           ],
           "y": [
            15
           ],
           "type": "scatter"
          }
         ],
         "layout": {
          "title": {
           "text": "Simulation frame 48"
          }
         }
        },
        {
         "data": [
          {
           "marker": {
            "color": "green"
           },
           "mode": "markers",
           "x": [
            -2
           ],
           "y": [
            -2
           ],
           "type": "scatter"
          },
          {
           "marker": {
            "color": "green"
           },
           "mode": "markers",
           "x": [
            -4
           ],
           "y": [
            5
           ],
           "type": "scatter"
          },
          {
           "marker": {
            "color": "blue"
           },
           "mode": "markers",
           "x": [
            4
           ],
           "y": [
            12
           ],
           "type": "scatter"
          },
          {
           "marker": {
            "color": "green"
           },
           "mode": "markers",
           "x": [
            3
           ],
           "y": [
            2
           ],
           "type": "scatter"
          },
          {
           "marker": {
            "color": "blue"
           },
           "mode": "markers",
           "x": [
            4
           ],
           "y": [
            12
           ],
           "type": "scatter"
          },
          {
           "marker": {
            "color": "blue"
           },
           "mode": "markers",
           "x": [
            7
           ],
           "y": [
            6
           ],
           "type": "scatter"
          },
          {
           "marker": {
            "color": "blue"
           },
           "mode": "markers",
           "x": [
            7
           ],
           "y": [
            6
           ],
           "type": "scatter"
          },
          {
           "marker": {
            "color": "blue"
           },
           "mode": "markers",
           "x": [
            8
           ],
           "y": [
            9
           ],
           "type": "scatter"
          },
          {
           "marker": {
            "color": "blue"
           },
           "mode": "markers",
           "x": [
            8
           ],
           "y": [
            12
           ],
           "type": "scatter"
          },
          {
           "marker": {
            "color": "green"
           },
           "mode": "markers",
           "x": [
            10
           ],
           "y": [
            7
           ],
           "type": "scatter"
          },
          {
           "marker": {
            "color": "green"
           },
           "mode": "markers",
           "x": [
            3
           ],
           "y": [
            9
           ],
           "type": "scatter"
          },
          {
           "marker": {
            "color": "green"
           },
           "mode": "markers",
           "x": [
            13
           ],
           "y": [
            13
           ],
           "type": "scatter"
          },
          {
           "marker": {
            "color": "blue"
           },
           "mode": "markers",
           "x": [
            8
           ],
           "y": [
            9
           ],
           "type": "scatter"
          },
          {
           "marker": {
            "color": "blue"
           },
           "mode": "markers",
           "x": [
            9
           ],
           "y": [
            12
           ],
           "type": "scatter"
          },
          {
           "marker": {
            "color": "blue"
           },
           "mode": "markers",
           "x": [
            9
           ],
           "y": [
            12
           ],
           "type": "scatter"
          },
          {
           "marker": {
            "color": "blue"
           },
           "mode": "markers",
           "x": [
            13
           ],
           "y": [
            9
           ],
           "type": "scatter"
          },
          {
           "marker": {
            "color": "blue"
           },
           "mode": "markers",
           "x": [
            12
           ],
           "y": [
            6
           ],
           "type": "scatter"
          },
          {
           "marker": {
            "color": "blue"
           },
           "mode": "markers",
           "x": [
            12
           ],
           "y": [
            6
           ],
           "type": "scatter"
          },
          {
           "marker": {
            "color": "blue"
           },
           "mode": "markers",
           "x": [
            8
           ],
           "y": [
            12
           ],
           "type": "scatter"
          },
          {
           "marker": {
            "color": "green"
           },
           "mode": "markers",
           "x": [
            13
           ],
           "y": [
            18
           ],
           "type": "scatter"
          },
          {
           "marker": {
            "color": "blue"
           },
           "mode": "markers",
           "x": [
            13
           ],
           "y": [
            6
           ],
           "type": "scatter"
          },
          {
           "marker": {
            "color": "blue"
           },
           "mode": "markers",
           "x": [
            13
           ],
           "y": [
            6
           ],
           "type": "scatter"
          },
          {
           "marker": {
            "color": "blue"
           },
           "mode": "markers",
           "x": [
            12
           ],
           "y": [
            10
           ],
           "type": "scatter"
          },
          {
           "marker": {
            "color": "blue"
           },
           "mode": "markers",
           "x": [
            12
           ],
           "y": [
            10
           ],
           "type": "scatter"
          },
          {
           "marker": {
            "color": "blue"
           },
           "mode": "markers",
           "x": [
            13
           ],
           "y": [
            9
           ],
           "type": "scatter"
          },
          {
           "marker": {
            "color": "orange"
           },
           "mode": "markers",
           "x": [
            2
           ],
           "y": [
            2
           ],
           "type": "scatter"
          },
          {
           "marker": {
            "color": "orange"
           },
           "mode": "markers",
           "x": [
            18
           ],
           "y": [
            18
           ],
           "type": "scatter"
          },
          {
           "marker": {
            "color": "orange"
           },
           "mode": "markers",
           "x": [
            3
           ],
           "y": [
            15
           ],
           "type": "scatter"
          }
         ],
         "layout": {
          "title": {
           "text": "Simulation frame 49"
          }
         }
        }
       ],
       "config": {
        "plotlyServerURL": "https://plot.ly"
       }
      },
      "text/html": "<div>                            <div id=\"d25f662d-f624-4de7-8718-24b6963dfae6\" class=\"plotly-graph-div\" style=\"height:525px; width:100%;\"></div>            <script type=\"text/javascript\">                require([\"plotly\"], function(Plotly) {                    window.PLOTLYENV=window.PLOTLYENV || {};                                    if (document.getElementById(\"d25f662d-f624-4de7-8718-24b6963dfae6\")) {                    Plotly.newPlot(                        \"d25f662d-f624-4de7-8718-24b6963dfae6\",                        [{\"marker\":{\"color\":\"green\"},\"mode\":\"markers\",\"x\":[-2],\"y\":[-2],\"type\":\"scatter\"},{\"marker\":{\"color\":\"green\"},\"mode\":\"markers\",\"x\":[-4],\"y\":[5],\"type\":\"scatter\"},{\"marker\":{\"color\":\"blue\"},\"mode\":\"markers\",\"x\":[4],\"y\":[12],\"type\":\"scatter\"},{\"marker\":{\"color\":\"green\"},\"mode\":\"markers\",\"x\":[3],\"y\":[2],\"type\":\"scatter\"},{\"marker\":{\"color\":\"blue\"},\"mode\":\"markers\",\"x\":[4],\"y\":[12],\"type\":\"scatter\"},{\"marker\":{\"color\":\"blue\"},\"mode\":\"markers\",\"x\":[7],\"y\":[6],\"type\":\"scatter\"},{\"marker\":{\"color\":\"blue\"},\"mode\":\"markers\",\"x\":[7],\"y\":[6],\"type\":\"scatter\"},{\"marker\":{\"color\":\"blue\"},\"mode\":\"markers\",\"x\":[8],\"y\":[9],\"type\":\"scatter\"},{\"marker\":{\"color\":\"blue\"},\"mode\":\"markers\",\"x\":[8],\"y\":[12],\"type\":\"scatter\"},{\"marker\":{\"color\":\"green\"},\"mode\":\"markers\",\"x\":[10],\"y\":[7],\"type\":\"scatter\"},{\"marker\":{\"color\":\"green\"},\"mode\":\"markers\",\"x\":[3],\"y\":[9],\"type\":\"scatter\"},{\"marker\":{\"color\":\"green\"},\"mode\":\"markers\",\"x\":[13],\"y\":[13],\"type\":\"scatter\"},{\"marker\":{\"color\":\"blue\"},\"mode\":\"markers\",\"x\":[8],\"y\":[9],\"type\":\"scatter\"},{\"marker\":{\"color\":\"blue\"},\"mode\":\"markers\",\"x\":[9],\"y\":[12],\"type\":\"scatter\"},{\"marker\":{\"color\":\"blue\"},\"mode\":\"markers\",\"x\":[9],\"y\":[12],\"type\":\"scatter\"},{\"marker\":{\"color\":\"blue\"},\"mode\":\"markers\",\"x\":[13],\"y\":[9],\"type\":\"scatter\"},{\"marker\":{\"color\":\"blue\"},\"mode\":\"markers\",\"x\":[12],\"y\":[6],\"type\":\"scatter\"},{\"marker\":{\"color\":\"blue\"},\"mode\":\"markers\",\"x\":[12],\"y\":[6],\"type\":\"scatter\"},{\"marker\":{\"color\":\"blue\"},\"mode\":\"markers\",\"x\":[8],\"y\":[12],\"type\":\"scatter\"},{\"marker\":{\"color\":\"green\"},\"mode\":\"markers\",\"x\":[13],\"y\":[18],\"type\":\"scatter\"},{\"marker\":{\"color\":\"blue\"},\"mode\":\"markers\",\"x\":[13],\"y\":[6],\"type\":\"scatter\"},{\"marker\":{\"color\":\"blue\"},\"mode\":\"markers\",\"x\":[13],\"y\":[6],\"type\":\"scatter\"},{\"marker\":{\"color\":\"blue\"},\"mode\":\"markers\",\"x\":[12],\"y\":[10],\"type\":\"scatter\"},{\"marker\":{\"color\":\"blue\"},\"mode\":\"markers\",\"x\":[12],\"y\":[10],\"type\":\"scatter\"},{\"marker\":{\"color\":\"blue\"},\"mode\":\"markers\",\"x\":[13],\"y\":[9],\"type\":\"scatter\"},{\"marker\":{\"color\":\"orange\"},\"mode\":\"markers\",\"x\":[2],\"y\":[2],\"type\":\"scatter\"},{\"marker\":{\"color\":\"orange\"},\"mode\":\"markers\",\"x\":[18],\"y\":[18],\"type\":\"scatter\"},{\"marker\":{\"color\":\"orange\"},\"mode\":\"markers\",\"x\":[3],\"y\":[15],\"type\":\"scatter\"}],                        {\"title\":{\"text\":\"Simulation\"},\"updatemenus\":[{\"buttons\":[{\"args\":[null],\"label\":\"Play\",\"method\":\"animate\"}],\"type\":\"buttons\"}],\"xaxis\":{\"autorange\":false,\"range\":[0,20]},\"yaxis\":{\"autorange\":false,\"range\":[0,20]},\"template\":{\"data\":{\"histogram2dcontour\":[{\"type\":\"histogram2dcontour\",\"colorbar\":{\"outlinewidth\":0,\"ticks\":\"\"},\"colorscale\":[[0.0,\"#0d0887\"],[0.1111111111111111,\"#46039f\"],[0.2222222222222222,\"#7201a8\"],[0.3333333333333333,\"#9c179e\"],[0.4444444444444444,\"#bd3786\"],[0.5555555555555556,\"#d8576b\"],[0.6666666666666666,\"#ed7953\"],[0.7777777777777778,\"#fb9f3a\"],[0.8888888888888888,\"#fdca26\"],[1.0,\"#f0f921\"]]}],\"choropleth\":[{\"type\":\"choropleth\",\"colorbar\":{\"outlinewidth\":0,\"ticks\":\"\"}}],\"histogram2d\":[{\"type\":\"histogram2d\",\"colorbar\":{\"outlinewidth\":0,\"ticks\":\"\"},\"colorscale\":[[0.0,\"#0d0887\"],[0.1111111111111111,\"#46039f\"],[0.2222222222222222,\"#7201a8\"],[0.3333333333333333,\"#9c179e\"],[0.4444444444444444,\"#bd3786\"],[0.5555555555555556,\"#d8576b\"],[0.6666666666666666,\"#ed7953\"],[0.7777777777777778,\"#fb9f3a\"],[0.8888888888888888,\"#fdca26\"],[1.0,\"#f0f921\"]]}],\"heatmap\":[{\"type\":\"heatmap\",\"colorbar\":{\"outlinewidth\":0,\"ticks\":\"\"},\"colorscale\":[[0.0,\"#0d0887\"],[0.1111111111111111,\"#46039f\"],[0.2222222222222222,\"#7201a8\"],[0.3333333333333333,\"#9c179e\"],[0.4444444444444444,\"#bd3786\"],[0.5555555555555556,\"#d8576b\"],[0.6666666666666666,\"#ed7953\"],[0.7777777777777778,\"#fb9f3a\"],[0.8888888888888888,\"#fdca26\"],[1.0,\"#f0f921\"]]}],\"heatmapgl\":[{\"type\":\"heatmapgl\",\"colorbar\":{\"outlinewidth\":0,\"ticks\":\"\"},\"colorscale\":[[0.0,\"#0d0887\"],[0.1111111111111111,\"#46039f\"],[0.2222222222222222,\"#7201a8\"],[0.3333333333333333,\"#9c179e\"],[0.4444444444444444,\"#bd3786\"],[0.5555555555555556,\"#d8576b\"],[0.6666666666666666,\"#ed7953\"],[0.7777777777777778,\"#fb9f3a\"],[0.8888888888888888,\"#fdca26\"],[1.0,\"#f0f921\"]]}],\"contourcarpet\":[{\"type\":\"contourcarpet\",\"colorbar\":{\"outlinewidth\":0,\"ticks\":\"\"}}],\"contour\":[{\"type\":\"contour\",\"colorbar\":{\"outlinewidth\":0,\"ticks\":\"\"},\"colorscale\":[[0.0,\"#0d0887\"],[0.1111111111111111,\"#46039f\"],[0.2222222222222222,\"#7201a8\"],[0.3333333333333333,\"#9c179e\"],[0.4444444444444444,\"#bd3786\"],[0.5555555555555556,\"#d8576b\"],[0.6666666666666666,\"#ed7953\"],[0.7777777777777778,\"#fb9f3a\"],[0.8888888888888888,\"#fdca26\"],[1.0,\"#f0f921\"]]}],\"surface\":[{\"type\":\"surface\",\"colorbar\":{\"outlinewidth\":0,\"ticks\":\"\"},\"colorscale\":[[0.0,\"#0d0887\"],[0.1111111111111111,\"#46039f\"],[0.2222222222222222,\"#7201a8\"],[0.3333333333333333,\"#9c179e\"],[0.4444444444444444,\"#bd3786\"],[0.5555555555555556,\"#d8576b\"],[0.6666666666666666,\"#ed7953\"],[0.7777777777777778,\"#fb9f3a\"],[0.8888888888888888,\"#fdca26\"],[1.0,\"#f0f921\"]]}],\"mesh3d\":[{\"type\":\"mesh3d\",\"colorbar\":{\"outlinewidth\":0,\"ticks\":\"\"}}],\"scatter\":[{\"fillpattern\":{\"fillmode\":\"overlay\",\"size\":10,\"solidity\":0.2},\"type\":\"scatter\"}],\"parcoords\":[{\"type\":\"parcoords\",\"line\":{\"colorbar\":{\"outlinewidth\":0,\"ticks\":\"\"}}}],\"scatterpolargl\":[{\"type\":\"scatterpolargl\",\"marker\":{\"colorbar\":{\"outlinewidth\":0,\"ticks\":\"\"}}}],\"bar\":[{\"error_x\":{\"color\":\"#2a3f5f\"},\"error_y\":{\"color\":\"#2a3f5f\"},\"marker\":{\"line\":{\"color\":\"#E5ECF6\",\"width\":0.5},\"pattern\":{\"fillmode\":\"overlay\",\"size\":10,\"solidity\":0.2}},\"type\":\"bar\"}],\"scattergeo\":[{\"type\":\"scattergeo\",\"marker\":{\"colorbar\":{\"outlinewidth\":0,\"ticks\":\"\"}}}],\"scatterpolar\":[{\"type\":\"scatterpolar\",\"marker\":{\"colorbar\":{\"outlinewidth\":0,\"ticks\":\"\"}}}],\"histogram\":[{\"marker\":{\"pattern\":{\"fillmode\":\"overlay\",\"size\":10,\"solidity\":0.2}},\"type\":\"histogram\"}],\"scattergl\":[{\"type\":\"scattergl\",\"marker\":{\"colorbar\":{\"outlinewidth\":0,\"ticks\":\"\"}}}],\"scatter3d\":[{\"type\":\"scatter3d\",\"line\":{\"colorbar\":{\"outlinewidth\":0,\"ticks\":\"\"}},\"marker\":{\"colorbar\":{\"outlinewidth\":0,\"ticks\":\"\"}}}],\"scattermapbox\":[{\"type\":\"scattermapbox\",\"marker\":{\"colorbar\":{\"outlinewidth\":0,\"ticks\":\"\"}}}],\"scatterternary\":[{\"type\":\"scatterternary\",\"marker\":{\"colorbar\":{\"outlinewidth\":0,\"ticks\":\"\"}}}],\"scattercarpet\":[{\"type\":\"scattercarpet\",\"marker\":{\"colorbar\":{\"outlinewidth\":0,\"ticks\":\"\"}}}],\"carpet\":[{\"aaxis\":{\"endlinecolor\":\"#2a3f5f\",\"gridcolor\":\"white\",\"linecolor\":\"white\",\"minorgridcolor\":\"white\",\"startlinecolor\":\"#2a3f5f\"},\"baxis\":{\"endlinecolor\":\"#2a3f5f\",\"gridcolor\":\"white\",\"linecolor\":\"white\",\"minorgridcolor\":\"white\",\"startlinecolor\":\"#2a3f5f\"},\"type\":\"carpet\"}],\"table\":[{\"cells\":{\"fill\":{\"color\":\"#EBF0F8\"},\"line\":{\"color\":\"white\"}},\"header\":{\"fill\":{\"color\":\"#C8D4E3\"},\"line\":{\"color\":\"white\"}},\"type\":\"table\"}],\"barpolar\":[{\"marker\":{\"line\":{\"color\":\"#E5ECF6\",\"width\":0.5},\"pattern\":{\"fillmode\":\"overlay\",\"size\":10,\"solidity\":0.2}},\"type\":\"barpolar\"}],\"pie\":[{\"automargin\":true,\"type\":\"pie\"}]},\"layout\":{\"autotypenumbers\":\"strict\",\"colorway\":[\"#636efa\",\"#EF553B\",\"#00cc96\",\"#ab63fa\",\"#FFA15A\",\"#19d3f3\",\"#FF6692\",\"#B6E880\",\"#FF97FF\",\"#FECB52\"],\"font\":{\"color\":\"#2a3f5f\"},\"hovermode\":\"closest\",\"hoverlabel\":{\"align\":\"left\"},\"paper_bgcolor\":\"white\",\"plot_bgcolor\":\"#E5ECF6\",\"polar\":{\"bgcolor\":\"#E5ECF6\",\"angularaxis\":{\"gridcolor\":\"white\",\"linecolor\":\"white\",\"ticks\":\"\"},\"radialaxis\":{\"gridcolor\":\"white\",\"linecolor\":\"white\",\"ticks\":\"\"}},\"ternary\":{\"bgcolor\":\"#E5ECF6\",\"aaxis\":{\"gridcolor\":\"white\",\"linecolor\":\"white\",\"ticks\":\"\"},\"baxis\":{\"gridcolor\":\"white\",\"linecolor\":\"white\",\"ticks\":\"\"},\"caxis\":{\"gridcolor\":\"white\",\"linecolor\":\"white\",\"ticks\":\"\"}},\"coloraxis\":{\"colorbar\":{\"outlinewidth\":0,\"ticks\":\"\"}},\"colorscale\":{\"sequential\":[[0.0,\"#0d0887\"],[0.1111111111111111,\"#46039f\"],[0.2222222222222222,\"#7201a8\"],[0.3333333333333333,\"#9c179e\"],[0.4444444444444444,\"#bd3786\"],[0.5555555555555556,\"#d8576b\"],[0.6666666666666666,\"#ed7953\"],[0.7777777777777778,\"#fb9f3a\"],[0.8888888888888888,\"#fdca26\"],[1.0,\"#f0f921\"]],\"sequentialminus\":[[0.0,\"#0d0887\"],[0.1111111111111111,\"#46039f\"],[0.2222222222222222,\"#7201a8\"],[0.3333333333333333,\"#9c179e\"],[0.4444444444444444,\"#bd3786\"],[0.5555555555555556,\"#d8576b\"],[0.6666666666666666,\"#ed7953\"],[0.7777777777777778,\"#fb9f3a\"],[0.8888888888888888,\"#fdca26\"],[1.0,\"#f0f921\"]],\"diverging\":[[0,\"#8e0152\"],[0.1,\"#c51b7d\"],[0.2,\"#de77ae\"],[0.3,\"#f1b6da\"],[0.4,\"#fde0ef\"],[0.5,\"#f7f7f7\"],[0.6,\"#e6f5d0\"],[0.7,\"#b8e186\"],[0.8,\"#7fbc41\"],[0.9,\"#4d9221\"],[1,\"#276419\"]]},\"xaxis\":{\"gridcolor\":\"white\",\"linecolor\":\"white\",\"ticks\":\"\",\"title\":{\"standoff\":15},\"zerolinecolor\":\"white\",\"automargin\":true,\"zerolinewidth\":2},\"yaxis\":{\"gridcolor\":\"white\",\"linecolor\":\"white\",\"ticks\":\"\",\"title\":{\"standoff\":15},\"zerolinecolor\":\"white\",\"automargin\":true,\"zerolinewidth\":2},\"scene\":{\"xaxis\":{\"backgroundcolor\":\"#E5ECF6\",\"gridcolor\":\"white\",\"linecolor\":\"white\",\"showbackground\":true,\"ticks\":\"\",\"zerolinecolor\":\"white\",\"gridwidth\":2},\"yaxis\":{\"backgroundcolor\":\"#E5ECF6\",\"gridcolor\":\"white\",\"linecolor\":\"white\",\"showbackground\":true,\"ticks\":\"\",\"zerolinecolor\":\"white\",\"gridwidth\":2},\"zaxis\":{\"backgroundcolor\":\"#E5ECF6\",\"gridcolor\":\"white\",\"linecolor\":\"white\",\"showbackground\":true,\"ticks\":\"\",\"zerolinecolor\":\"white\",\"gridwidth\":2}},\"shapedefaults\":{\"line\":{\"color\":\"#2a3f5f\"}},\"annotationdefaults\":{\"arrowcolor\":\"#2a3f5f\",\"arrowhead\":0,\"arrowwidth\":1},\"geo\":{\"bgcolor\":\"white\",\"landcolor\":\"#E5ECF6\",\"subunitcolor\":\"white\",\"showland\":true,\"showlakes\":true,\"lakecolor\":\"white\"},\"title\":{\"x\":0.05},\"mapbox\":{\"style\":\"light\"}}}},                        {\"responsive\": true}                    ).then(function(){\n                            Plotly.addFrames('d25f662d-f624-4de7-8718-24b6963dfae6', [{\"data\":[{\"marker\":{\"color\":\"green\"},\"mode\":\"markers\",\"x\":[4],\"y\":[5],\"type\":\"scatter\"},{\"marker\":{\"color\":\"green\"},\"mode\":\"markers\",\"x\":[5],\"y\":[6],\"type\":\"scatter\"},{\"marker\":{\"color\":\"green\"},\"mode\":\"markers\",\"x\":[4],\"y\":[9],\"type\":\"scatter\"},{\"marker\":{\"color\":\"green\"},\"mode\":\"markers\",\"x\":[4],\"y\":[11],\"type\":\"scatter\"},{\"marker\":{\"color\":\"green\"},\"mode\":\"markers\",\"x\":[5],\"y\":[13],\"type\":\"scatter\"},{\"marker\":{\"color\":\"red\"},\"mode\":\"markers\",\"x\":[7],\"y\":[6],\"type\":\"scatter\"},{\"marker\":{\"color\":\"red\"},\"mode\":\"markers\",\"x\":[7],\"y\":[6],\"type\":\"scatter\"},{\"marker\":{\"color\":\"green\"},\"mode\":\"markers\",\"x\":[7],\"y\":[8],\"type\":\"scatter\"},{\"marker\":{\"color\":\"green\"},\"mode\":\"markers\",\"x\":[7],\"y\":[11],\"type\":\"scatter\"},{\"marker\":{\"color\":\"green\"},\"mode\":\"markers\",\"x\":[7],\"y\":[13],\"type\":\"scatter\"},{\"marker\":{\"color\":\"green\"},\"mode\":\"markers\",\"x\":[9],\"y\":[5],\"type\":\"scatter\"},{\"marker\":{\"color\":\"green\"},\"mode\":\"markers\",\"x\":[9],\"y\":[8],\"type\":\"scatter\"},{\"marker\":{\"color\":\"green\"},\"mode\":\"markers\",\"x\":[8],\"y\":[9],\"type\":\"scatter\"},{\"marker\":{\"color\":\"red\"},\"mode\":\"markers\",\"x\":[9],\"y\":[12],\"type\":\"scatter\"},{\"marker\":{\"color\":\"red\"},\"mode\":\"markers\",\"x\":[9],\"y\":[12],\"type\":\"scatter\"},{\"marker\":{\"color\":\"green\"},\"mode\":\"markers\",\"x\":[11],\"y\":[5],\"type\":\"scatter\"},{\"marker\":{\"color\":\"green\"},\"mode\":\"markers\",\"x\":[11],\"y\":[6],\"type\":\"scatter\"},{\"marker\":{\"color\":\"green\"},\"mode\":\"markers\",\"x\":[11],\"y\":[8],\"type\":\"scatter\"},{\"marker\":{\"color\":\"green\"},\"mode\":\"markers\",\"x\":[11],\"y\":[11],\"type\":\"scatter\"},{\"marker\":{\"color\":\"green\"},\"mode\":\"markers\",\"x\":[11],\"y\":[12],\"type\":\"scatter\"},{\"marker\":{\"color\":\"red\"},\"mode\":\"markers\",\"x\":[13],\"y\":[6],\"type\":\"scatter\"},{\"marker\":{\"color\":\"red\"},\"mode\":\"markers\",\"x\":[13],\"y\":[6],\"type\":\"scatter\"},{\"marker\":{\"color\":\"green\"},\"mode\":\"markers\",\"x\":[13],\"y\":[9],\"type\":\"scatter\"},{\"marker\":{\"color\":\"green\"},\"mode\":\"markers\",\"x\":[13],\"y\":[10],\"type\":\"scatter\"},{\"marker\":{\"color\":\"green\"},\"mode\":\"markers\",\"x\":[13],\"y\":[12],\"type\":\"scatter\"},{\"marker\":{\"color\":\"orange\"},\"mode\":\"markers\",\"x\":[2],\"y\":[2],\"type\":\"scatter\"},{\"marker\":{\"color\":\"orange\"},\"mode\":\"markers\",\"x\":[18],\"y\":[18],\"type\":\"scatter\"},{\"marker\":{\"color\":\"orange\"},\"mode\":\"markers\",\"x\":[3],\"y\":[15],\"type\":\"scatter\"}],\"layout\":{\"title\":{\"text\":\"Simulation frame 0\"}}},{\"data\":[{\"marker\":{\"color\":\"green\"},\"mode\":\"markers\",\"x\":[4],\"y\":[5],\"type\":\"scatter\"},{\"marker\":{\"color\":\"green\"},\"mode\":\"markers\",\"x\":[4],\"y\":[6],\"type\":\"scatter\"},{\"marker\":{\"color\":\"green\"},\"mode\":\"markers\",\"x\":[5],\"y\":[9],\"type\":\"scatter\"},{\"marker\":{\"color\":\"green\"},\"mode\":\"markers\",\"x\":[3],\"y\":[11],\"type\":\"scatter\"},{\"marker\":{\"color\":\"green\"},\"mode\":\"markers\",\"x\":[5],\"y\":[12],\"type\":\"scatter\"},{\"marker\":{\"color\":\"blue\"},\"mode\":\"markers\",\"x\":[7],\"y\":[6],\"type\":\"scatter\"},{\"marker\":{\"color\":\"blue\"},\"mode\":\"markers\",\"x\":[7],\"y\":[6],\"type\":\"scatter\"},{\"marker\":{\"color\":\"green\"},\"mode\":\"markers\",\"x\":[7],\"y\":[9],\"type\":\"scatter\"},{\"marker\":{\"color\":\"green\"},\"mode\":\"markers\",\"x\":[7],\"y\":[11],\"type\":\"scatter\"},{\"marker\":{\"color\":\"green\"},\"mode\":\"markers\",\"x\":[6],\"y\":[13],\"type\":\"scatter\"},{\"marker\":{\"color\":\"green\"},\"mode\":\"markers\",\"x\":[9],\"y\":[5],\"type\":\"scatter\"},{\"marker\":{\"color\":\"green\"},\"mode\":\"markers\",\"x\":[9],\"y\":[8],\"type\":\"scatter\"},{\"marker\":{\"color\":\"green\"},\"mode\":\"markers\",\"x\":[9],\"y\":[9],\"type\":\"scatter\"},{\"marker\":{\"color\":\"blue\"},\"mode\":\"markers\",\"x\":[9],\"y\":[12],\"type\":\"scatter\"},{\"marker\":{\"color\":\"blue\"},\"mode\":\"markers\",\"x\":[9],\"y\":[12],\"type\":\"scatter\"},{\"marker\":{\"color\":\"green\"},\"mode\":\"markers\",\"x\":[11],\"y\":[4],\"type\":\"scatter\"},{\"marker\":{\"color\":\"green\"},\"mode\":\"markers\",\"x\":[12],\"y\":[6],\"type\":\"scatter\"},{\"marker\":{\"color\":\"green\"},\"mode\":\"markers\",\"x\":[11],\"y\":[7],\"type\":\"scatter\"},{\"marker\":{\"color\":\"green\"},\"mode\":\"markers\",\"x\":[10],\"y\":[11],\"type\":\"scatter\"},{\"marker\":{\"color\":\"green\"},\"mode\":\"markers\",\"x\":[11],\"y\":[13],\"type\":\"scatter\"},{\"marker\":{\"color\":\"blue\"},\"mode\":\"markers\",\"x\":[13],\"y\":[6],\"type\":\"scatter\"},{\"marker\":{\"color\":\"blue\"},\"mode\":\"markers\",\"x\":[13],\"y\":[6],\"type\":\"scatter\"},{\"marker\":{\"color\":\"green\"},\"mode\":\"markers\",\"x\":[13],\"y\":[10],\"type\":\"scatter\"},{\"marker\":{\"color\":\"green\"},\"mode\":\"markers\",\"x\":[13],\"y\":[9],\"type\":\"scatter\"},{\"marker\":{\"color\":\"green\"},\"mode\":\"markers\",\"x\":[13],\"y\":[12],\"type\":\"scatter\"},{\"marker\":{\"color\":\"orange\"},\"mode\":\"markers\",\"x\":[2],\"y\":[2],\"type\":\"scatter\"},{\"marker\":{\"color\":\"orange\"},\"mode\":\"markers\",\"x\":[18],\"y\":[18],\"type\":\"scatter\"},{\"marker\":{\"color\":\"orange\"},\"mode\":\"markers\",\"x\":[3],\"y\":[15],\"type\":\"scatter\"}],\"layout\":{\"title\":{\"text\":\"Simulation frame 1\"}}},{\"data\":[{\"marker\":{\"color\":\"green\"},\"mode\":\"markers\",\"x\":[3],\"y\":[5],\"type\":\"scatter\"},{\"marker\":{\"color\":\"green\"},\"mode\":\"markers\",\"x\":[5],\"y\":[6],\"type\":\"scatter\"},{\"marker\":{\"color\":\"green\"},\"mode\":\"markers\",\"x\":[5],\"y\":[9],\"type\":\"scatter\"},{\"marker\":{\"color\":\"green\"},\"mode\":\"markers\",\"x\":[3],\"y\":[11],\"type\":\"scatter\"},{\"marker\":{\"color\":\"green\"},\"mode\":\"markers\",\"x\":[5],\"y\":[12],\"type\":\"scatter\"},{\"marker\":{\"color\":\"blue\"},\"mode\":\"markers\",\"x\":[7],\"y\":[6],\"type\":\"scatter\"},{\"marker\":{\"color\":\"blue\"},\"mode\":\"markers\",\"x\":[7],\"y\":[6],\"type\":\"scatter\"},{\"marker\":{\"color\":\"red\"},\"mode\":\"markers\",\"x\":[8],\"y\":[9],\"type\":\"scatter\"},{\"marker\":{\"color\":\"green\"},\"mode\":\"markers\",\"x\":[7],\"y\":[12],\"type\":\"scatter\"},{\"marker\":{\"color\":\"green\"},\"mode\":\"markers\",\"x\":[6],\"y\":[12],\"type\":\"scatter\"},{\"marker\":{\"color\":\"green\"},\"mode\":\"markers\",\"x\":[8],\"y\":[5],\"type\":\"scatter\"},{\"marker\":{\"color\":\"green\"},\"mode\":\"markers\",\"x\":[10],\"y\":[8],\"type\":\"scatter\"},{\"marker\":{\"color\":\"red\"},\"mode\":\"markers\",\"x\":[8],\"y\":[9],\"type\":\"scatter\"},{\"marker\":{\"color\":\"blue\"},\"mode\":\"markers\",\"x\":[9],\"y\":[12],\"type\":\"scatter\"},{\"marker\":{\"color\":\"blue\"},\"mode\":\"markers\",\"x\":[9],\"y\":[12],\"type\":\"scatter\"},{\"marker\":{\"color\":\"green\"},\"mode\":\"markers\",\"x\":[12],\"y\":[4],\"type\":\"scatter\"},{\"marker\":{\"color\":\"green\"},\"mode\":\"markers\",\"x\":[12],\"y\":[5],\"type\":\"scatter\"},{\"marker\":{\"color\":\"green\"},\"mode\":\"markers\",\"x\":[11],\"y\":[6],\"type\":\"scatter\"},{\"marker\":{\"color\":\"green\"},\"mode\":\"markers\",\"x\":[9],\"y\":[11],\"type\":\"scatter\"},{\"marker\":{\"color\":\"green\"},\"mode\":\"markers\",\"x\":[11],\"y\":[14],\"type\":\"scatter\"},{\"marker\":{\"color\":\"blue\"},\"mode\":\"markers\",\"x\":[13],\"y\":[6],\"type\":\"scatter\"},{\"marker\":{\"color\":\"blue\"},\"mode\":\"markers\",\"x\":[13],\"y\":[6],\"type\":\"scatter\"},{\"marker\":{\"color\":\"green\"},\"mode\":\"markers\",\"x\":[12],\"y\":[10],\"type\":\"scatter\"},{\"marker\":{\"color\":\"green\"},\"mode\":\"markers\",\"x\":[13],\"y\":[10],\"type\":\"scatter\"},{\"marker\":{\"color\":\"green\"},\"mode\":\"markers\",\"x\":[12],\"y\":[12],\"type\":\"scatter\"},{\"marker\":{\"color\":\"orange\"},\"mode\":\"markers\",\"x\":[2],\"y\":[2],\"type\":\"scatter\"},{\"marker\":{\"color\":\"orange\"},\"mode\":\"markers\",\"x\":[18],\"y\":[18],\"type\":\"scatter\"},{\"marker\":{\"color\":\"orange\"},\"mode\":\"markers\",\"x\":[3],\"y\":[15],\"type\":\"scatter\"}],\"layout\":{\"title\":{\"text\":\"Simulation frame 2\"}}},{\"data\":[{\"marker\":{\"color\":\"green\"},\"mode\":\"markers\",\"x\":[2],\"y\":[5],\"type\":\"scatter\"},{\"marker\":{\"color\":\"green\"},\"mode\":\"markers\",\"x\":[5],\"y\":[5],\"type\":\"scatter\"},{\"marker\":{\"color\":\"green\"},\"mode\":\"markers\",\"x\":[4],\"y\":[9],\"type\":\"scatter\"},{\"marker\":{\"color\":\"green\"},\"mode\":\"markers\",\"x\":[2],\"y\":[11],\"type\":\"scatter\"},{\"marker\":{\"color\":\"green\"},\"mode\":\"markers\",\"x\":[5],\"y\":[13],\"type\":\"scatter\"},{\"marker\":{\"color\":\"blue\"},\"mode\":\"markers\",\"x\":[7],\"y\":[6],\"type\":\"scatter\"},{\"marker\":{\"color\":\"blue\"},\"mode\":\"markers\",\"x\":[7],\"y\":[6],\"type\":\"scatter\"},{\"marker\":{\"color\":\"blue\"},\"mode\":\"markers\",\"x\":[8],\"y\":[9],\"type\":\"scatter\"},{\"marker\":{\"color\":\"green\"},\"mode\":\"markers\",\"x\":[8],\"y\":[12],\"type\":\"scatter\"},{\"marker\":{\"color\":\"green\"},\"mode\":\"markers\",\"x\":[6],\"y\":[13],\"type\":\"scatter\"},{\"marker\":{\"color\":\"green\"},\"mode\":\"markers\",\"x\":[7],\"y\":[5],\"type\":\"scatter\"},{\"marker\":{\"color\":\"green\"},\"mode\":\"markers\",\"x\":[10],\"y\":[8],\"type\":\"scatter\"},{\"marker\":{\"color\":\"blue\"},\"mode\":\"markers\",\"x\":[8],\"y\":[9],\"type\":\"scatter\"},{\"marker\":{\"color\":\"blue\"},\"mode\":\"markers\",\"x\":[9],\"y\":[12],\"type\":\"scatter\"},{\"marker\":{\"color\":\"blue\"},\"mode\":\"markers\",\"x\":[9],\"y\":[12],\"type\":\"scatter\"},{\"marker\":{\"color\":\"green\"},\"mode\":\"markers\",\"x\":[11],\"y\":[4],\"type\":\"scatter\"},{\"marker\":{\"color\":\"red\"},\"mode\":\"markers\",\"x\":[12],\"y\":[6],\"type\":\"scatter\"},{\"marker\":{\"color\":\"red\"},\"mode\":\"markers\",\"x\":[12],\"y\":[6],\"type\":\"scatter\"},{\"marker\":{\"color\":\"green\"},\"mode\":\"markers\",\"x\":[9],\"y\":[11],\"type\":\"scatter\"},{\"marker\":{\"color\":\"green\"},\"mode\":\"markers\",\"x\":[11],\"y\":[13],\"type\":\"scatter\"},{\"marker\":{\"color\":\"blue\"},\"mode\":\"markers\",\"x\":[13],\"y\":[6],\"type\":\"scatter\"},{\"marker\":{\"color\":\"blue\"},\"mode\":\"markers\",\"x\":[13],\"y\":[6],\"type\":\"scatter\"},{\"marker\":{\"color\":\"green\"},\"mode\":\"markers\",\"x\":[13],\"y\":[10],\"type\":\"scatter\"},{\"marker\":{\"color\":\"green\"},\"mode\":\"markers\",\"x\":[12],\"y\":[10],\"type\":\"scatter\"},{\"marker\":{\"color\":\"green\"},\"mode\":\"markers\",\"x\":[12],\"y\":[11],\"type\":\"scatter\"},{\"marker\":{\"color\":\"orange\"},\"mode\":\"markers\",\"x\":[2],\"y\":[2],\"type\":\"scatter\"},{\"marker\":{\"color\":\"orange\"},\"mode\":\"markers\",\"x\":[18],\"y\":[18],\"type\":\"scatter\"},{\"marker\":{\"color\":\"orange\"},\"mode\":\"markers\",\"x\":[3],\"y\":[15],\"type\":\"scatter\"}],\"layout\":{\"title\":{\"text\":\"Simulation frame 3\"}}},{\"data\":[{\"marker\":{\"color\":\"green\"},\"mode\":\"markers\",\"x\":[2],\"y\":[4],\"type\":\"scatter\"},{\"marker\":{\"color\":\"green\"},\"mode\":\"markers\",\"x\":[4],\"y\":[5],\"type\":\"scatter\"},{\"marker\":{\"color\":\"green\"},\"mode\":\"markers\",\"x\":[4],\"y\":[10],\"type\":\"scatter\"},{\"marker\":{\"color\":\"green\"},\"mode\":\"markers\",\"x\":[2],\"y\":[11],\"type\":\"scatter\"},{\"marker\":{\"color\":\"green\"},\"mode\":\"markers\",\"x\":[4],\"y\":[13],\"type\":\"scatter\"},{\"marker\":{\"color\":\"blue\"},\"mode\":\"markers\",\"x\":[7],\"y\":[6],\"type\":\"scatter\"},{\"marker\":{\"color\":\"blue\"},\"mode\":\"markers\",\"x\":[7],\"y\":[6],\"type\":\"scatter\"},{\"marker\":{\"color\":\"blue\"},\"mode\":\"markers\",\"x\":[8],\"y\":[9],\"type\":\"scatter\"},{\"marker\":{\"color\":\"green\"},\"mode\":\"markers\",\"x\":[9],\"y\":[12],\"type\":\"scatter\"},{\"marker\":{\"color\":\"green\"},\"mode\":\"markers\",\"x\":[7],\"y\":[13],\"type\":\"scatter\"},{\"marker\":{\"color\":\"green\"},\"mode\":\"markers\",\"x\":[8],\"y\":[5],\"type\":\"scatter\"},{\"marker\":{\"color\":\"green\"},\"mode\":\"markers\",\"x\":[11],\"y\":[8],\"type\":\"scatter\"},{\"marker\":{\"color\":\"blue\"},\"mode\":\"markers\",\"x\":[8],\"y\":[9],\"type\":\"scatter\"},{\"marker\":{\"color\":\"blue\"},\"mode\":\"markers\",\"x\":[9],\"y\":[12],\"type\":\"scatter\"},{\"marker\":{\"color\":\"blue\"},\"mode\":\"markers\",\"x\":[9],\"y\":[12],\"type\":\"scatter\"},{\"marker\":{\"color\":\"green\"},\"mode\":\"markers\",\"x\":[11],\"y\":[5],\"type\":\"scatter\"},{\"marker\":{\"color\":\"blue\"},\"mode\":\"markers\",\"x\":[12],\"y\":[6],\"type\":\"scatter\"},{\"marker\":{\"color\":\"blue\"},\"mode\":\"markers\",\"x\":[12],\"y\":[6],\"type\":\"scatter\"},{\"marker\":{\"color\":\"green\"},\"mode\":\"markers\",\"x\":[9],\"y\":[10],\"type\":\"scatter\"},{\"marker\":{\"color\":\"green\"},\"mode\":\"markers\",\"x\":[12],\"y\":[13],\"type\":\"scatter\"},{\"marker\":{\"color\":\"blue\"},\"mode\":\"markers\",\"x\":[13],\"y\":[6],\"type\":\"scatter\"},{\"marker\":{\"color\":\"blue\"},\"mode\":\"markers\",\"x\":[13],\"y\":[6],\"type\":\"scatter\"},{\"marker\":{\"color\":\"green\"},\"mode\":\"markers\",\"x\":[14],\"y\":[10],\"type\":\"scatter\"},{\"marker\":{\"color\":\"green\"},\"mode\":\"markers\",\"x\":[11],\"y\":[10],\"type\":\"scatter\"},{\"marker\":{\"color\":\"green\"},\"mode\":\"markers\",\"x\":[12],\"y\":[10],\"type\":\"scatter\"},{\"marker\":{\"color\":\"orange\"},\"mode\":\"markers\",\"x\":[2],\"y\":[2],\"type\":\"scatter\"},{\"marker\":{\"color\":\"orange\"},\"mode\":\"markers\",\"x\":[18],\"y\":[18],\"type\":\"scatter\"},{\"marker\":{\"color\":\"orange\"},\"mode\":\"markers\",\"x\":[3],\"y\":[15],\"type\":\"scatter\"}],\"layout\":{\"title\":{\"text\":\"Simulation frame 4\"}}},{\"data\":[{\"marker\":{\"color\":\"green\"},\"mode\":\"markers\",\"x\":[1],\"y\":[4],\"type\":\"scatter\"},{\"marker\":{\"color\":\"green\"},\"mode\":\"markers\",\"x\":[3],\"y\":[5],\"type\":\"scatter\"},{\"marker\":{\"color\":\"green\"},\"mode\":\"markers\",\"x\":[5],\"y\":[10],\"type\":\"scatter\"},{\"marker\":{\"color\":\"green\"},\"mode\":\"markers\",\"x\":[3],\"y\":[11],\"type\":\"scatter\"},{\"marker\":{\"color\":\"green\"},\"mode\":\"markers\",\"x\":[4],\"y\":[12],\"type\":\"scatter\"},{\"marker\":{\"color\":\"blue\"},\"mode\":\"markers\",\"x\":[7],\"y\":[6],\"type\":\"scatter\"},{\"marker\":{\"color\":\"blue\"},\"mode\":\"markers\",\"x\":[7],\"y\":[6],\"type\":\"scatter\"},{\"marker\":{\"color\":\"blue\"},\"mode\":\"markers\",\"x\":[8],\"y\":[9],\"type\":\"scatter\"},{\"marker\":{\"color\":\"green\"},\"mode\":\"markers\",\"x\":[9],\"y\":[13],\"type\":\"scatter\"},{\"marker\":{\"color\":\"green\"},\"mode\":\"markers\",\"x\":[7],\"y\":[13],\"type\":\"scatter\"},{\"marker\":{\"color\":\"green\"},\"mode\":\"markers\",\"x\":[8],\"y\":[6],\"type\":\"scatter\"},{\"marker\":{\"color\":\"green\"},\"mode\":\"markers\",\"x\":[12],\"y\":[8],\"type\":\"scatter\"},{\"marker\":{\"color\":\"blue\"},\"mode\":\"markers\",\"x\":[8],\"y\":[9],\"type\":\"scatter\"},{\"marker\":{\"color\":\"blue\"},\"mode\":\"markers\",\"x\":[9],\"y\":[12],\"type\":\"scatter\"},{\"marker\":{\"color\":\"blue\"},\"mode\":\"markers\",\"x\":[9],\"y\":[12],\"type\":\"scatter\"},{\"marker\":{\"color\":\"green\"},\"mode\":\"markers\",\"x\":[11],\"y\":[6],\"type\":\"scatter\"},{\"marker\":{\"color\":\"blue\"},\"mode\":\"markers\",\"x\":[12],\"y\":[6],\"type\":\"scatter\"},{\"marker\":{\"color\":\"blue\"},\"mode\":\"markers\",\"x\":[12],\"y\":[6],\"type\":\"scatter\"},{\"marker\":{\"color\":\"green\"},\"mode\":\"markers\",\"x\":[8],\"y\":[10],\"type\":\"scatter\"},{\"marker\":{\"color\":\"green\"},\"mode\":\"markers\",\"x\":[12],\"y\":[14],\"type\":\"scatter\"},{\"marker\":{\"color\":\"blue\"},\"mode\":\"markers\",\"x\":[13],\"y\":[6],\"type\":\"scatter\"},{\"marker\":{\"color\":\"blue\"},\"mode\":\"markers\",\"x\":[13],\"y\":[6],\"type\":\"scatter\"},{\"marker\":{\"color\":\"green\"},\"mode\":\"markers\",\"x\":[13],\"y\":[10],\"type\":\"scatter\"},{\"marker\":{\"color\":\"green\"},\"mode\":\"markers\",\"x\":[12],\"y\":[10],\"type\":\"scatter\"},{\"marker\":{\"color\":\"green\"},\"mode\":\"markers\",\"x\":[12],\"y\":[9],\"type\":\"scatter\"},{\"marker\":{\"color\":\"orange\"},\"mode\":\"markers\",\"x\":[2],\"y\":[2],\"type\":\"scatter\"},{\"marker\":{\"color\":\"orange\"},\"mode\":\"markers\",\"x\":[18],\"y\":[18],\"type\":\"scatter\"},{\"marker\":{\"color\":\"orange\"},\"mode\":\"markers\",\"x\":[3],\"y\":[15],\"type\":\"scatter\"}],\"layout\":{\"title\":{\"text\":\"Simulation frame 5\"}}},{\"data\":[{\"marker\":{\"color\":\"green\"},\"mode\":\"markers\",\"x\":[1],\"y\":[3],\"type\":\"scatter\"},{\"marker\":{\"color\":\"green\"},\"mode\":\"markers\",\"x\":[3],\"y\":[6],\"type\":\"scatter\"},{\"marker\":{\"color\":\"green\"},\"mode\":\"markers\",\"x\":[5],\"y\":[9],\"type\":\"scatter\"},{\"marker\":{\"color\":\"green\"},\"mode\":\"markers\",\"x\":[2],\"y\":[11],\"type\":\"scatter\"},{\"marker\":{\"color\":\"green\"},\"mode\":\"markers\",\"x\":[4],\"y\":[12],\"type\":\"scatter\"},{\"marker\":{\"color\":\"blue\"},\"mode\":\"markers\",\"x\":[7],\"y\":[6],\"type\":\"scatter\"},{\"marker\":{\"color\":\"blue\"},\"mode\":\"markers\",\"x\":[7],\"y\":[6],\"type\":\"scatter\"},{\"marker\":{\"color\":\"blue\"},\"mode\":\"markers\",\"x\":[8],\"y\":[9],\"type\":\"scatter\"},{\"marker\":{\"color\":\"green\"},\"mode\":\"markers\",\"x\":[9],\"y\":[12],\"type\":\"scatter\"},{\"marker\":{\"color\":\"green\"},\"mode\":\"markers\",\"x\":[7],\"y\":[12],\"type\":\"scatter\"},{\"marker\":{\"color\":\"green\"},\"mode\":\"markers\",\"x\":[7],\"y\":[6],\"type\":\"scatter\"},{\"marker\":{\"color\":\"green\"},\"mode\":\"markers\",\"x\":[13],\"y\":[8],\"type\":\"scatter\"},{\"marker\":{\"color\":\"blue\"},\"mode\":\"markers\",\"x\":[8],\"y\":[9],\"type\":\"scatter\"},{\"marker\":{\"color\":\"blue\"},\"mode\":\"markers\",\"x\":[9],\"y\":[12],\"type\":\"scatter\"},{\"marker\":{\"color\":\"blue\"},\"mode\":\"markers\",\"x\":[9],\"y\":[12],\"type\":\"scatter\"},{\"marker\":{\"color\":\"green\"},\"mode\":\"markers\",\"x\":[11],\"y\":[7],\"type\":\"scatter\"},{\"marker\":{\"color\":\"blue\"},\"mode\":\"markers\",\"x\":[12],\"y\":[6],\"type\":\"scatter\"},{\"marker\":{\"color\":\"blue\"},\"mode\":\"markers\",\"x\":[12],\"y\":[6],\"type\":\"scatter\"},{\"marker\":{\"color\":\"green\"},\"mode\":\"markers\",\"x\":[8],\"y\":[10],\"type\":\"scatter\"},{\"marker\":{\"color\":\"green\"},\"mode\":\"markers\",\"x\":[11],\"y\":[14],\"type\":\"scatter\"},{\"marker\":{\"color\":\"blue\"},\"mode\":\"markers\",\"x\":[13],\"y\":[6],\"type\":\"scatter\"},{\"marker\":{\"color\":\"blue\"},\"mode\":\"markers\",\"x\":[13],\"y\":[6],\"type\":\"scatter\"},{\"marker\":{\"color\":\"red\"},\"mode\":\"markers\",\"x\":[12],\"y\":[10],\"type\":\"scatter\"},{\"marker\":{\"color\":\"red\"},\"mode\":\"markers\",\"x\":[12],\"y\":[10],\"type\":\"scatter\"},{\"marker\":{\"color\":\"green\"},\"mode\":\"markers\",\"x\":[12],\"y\":[8],\"type\":\"scatter\"},{\"marker\":{\"color\":\"orange\"},\"mode\":\"markers\",\"x\":[2],\"y\":[2],\"type\":\"scatter\"},{\"marker\":{\"color\":\"orange\"},\"mode\":\"markers\",\"x\":[18],\"y\":[18],\"type\":\"scatter\"},{\"marker\":{\"color\":\"orange\"},\"mode\":\"markers\",\"x\":[3],\"y\":[15],\"type\":\"scatter\"}],\"layout\":{\"title\":{\"text\":\"Simulation frame 6\"}}},{\"data\":[{\"marker\":{\"color\":\"green\"},\"mode\":\"markers\",\"x\":[2],\"y\":[3],\"type\":\"scatter\"},{\"marker\":{\"color\":\"green\"},\"mode\":\"markers\",\"x\":[2],\"y\":[6],\"type\":\"scatter\"},{\"marker\":{\"color\":\"green\"},\"mode\":\"markers\",\"x\":[5],\"y\":[10],\"type\":\"scatter\"},{\"marker\":{\"color\":\"green\"},\"mode\":\"markers\",\"x\":[3],\"y\":[11],\"type\":\"scatter\"},{\"marker\":{\"color\":\"green\"},\"mode\":\"markers\",\"x\":[3],\"y\":[12],\"type\":\"scatter\"},{\"marker\":{\"color\":\"blue\"},\"mode\":\"markers\",\"x\":[7],\"y\":[6],\"type\":\"scatter\"},{\"marker\":{\"color\":\"blue\"},\"mode\":\"markers\",\"x\":[7],\"y\":[6],\"type\":\"scatter\"},{\"marker\":{\"color\":\"blue\"},\"mode\":\"markers\",\"x\":[8],\"y\":[9],\"type\":\"scatter\"},{\"marker\":{\"color\":\"green\"},\"mode\":\"markers\",\"x\":[9],\"y\":[13],\"type\":\"scatter\"},{\"marker\":{\"color\":\"green\"},\"mode\":\"markers\",\"x\":[7],\"y\":[12],\"type\":\"scatter\"},{\"marker\":{\"color\":\"green\"},\"mode\":\"markers\",\"x\":[7],\"y\":[6],\"type\":\"scatter\"},{\"marker\":{\"color\":\"green\"},\"mode\":\"markers\",\"x\":[13],\"y\":[7],\"type\":\"scatter\"},{\"marker\":{\"color\":\"blue\"},\"mode\":\"markers\",\"x\":[8],\"y\":[9],\"type\":\"scatter\"},{\"marker\":{\"color\":\"blue\"},\"mode\":\"markers\",\"x\":[9],\"y\":[12],\"type\":\"scatter\"},{\"marker\":{\"color\":\"blue\"},\"mode\":\"markers\",\"x\":[9],\"y\":[12],\"type\":\"scatter\"},{\"marker\":{\"color\":\"green\"},\"mode\":\"markers\",\"x\":[11],\"y\":[8],\"type\":\"scatter\"},{\"marker\":{\"color\":\"blue\"},\"mode\":\"markers\",\"x\":[12],\"y\":[6],\"type\":\"scatter\"},{\"marker\":{\"color\":\"blue\"},\"mode\":\"markers\",\"x\":[12],\"y\":[6],\"type\":\"scatter\"},{\"marker\":{\"color\":\"green\"},\"mode\":\"markers\",\"x\":[8],\"y\":[10],\"type\":\"scatter\"},{\"marker\":{\"color\":\"green\"},\"mode\":\"markers\",\"x\":[12],\"y\":[14],\"type\":\"scatter\"},{\"marker\":{\"color\":\"blue\"},\"mode\":\"markers\",\"x\":[13],\"y\":[6],\"type\":\"scatter\"},{\"marker\":{\"color\":\"blue\"},\"mode\":\"markers\",\"x\":[13],\"y\":[6],\"type\":\"scatter\"},{\"marker\":{\"color\":\"blue\"},\"mode\":\"markers\",\"x\":[12],\"y\":[10],\"type\":\"scatter\"},{\"marker\":{\"color\":\"blue\"},\"mode\":\"markers\",\"x\":[12],\"y\":[10],\"type\":\"scatter\"},{\"marker\":{\"color\":\"green\"},\"mode\":\"markers\",\"x\":[12],\"y\":[9],\"type\":\"scatter\"},{\"marker\":{\"color\":\"orange\"},\"mode\":\"markers\",\"x\":[2],\"y\":[2],\"type\":\"scatter\"},{\"marker\":{\"color\":\"orange\"},\"mode\":\"markers\",\"x\":[18],\"y\":[18],\"type\":\"scatter\"},{\"marker\":{\"color\":\"orange\"},\"mode\":\"markers\",\"x\":[3],\"y\":[15],\"type\":\"scatter\"}],\"layout\":{\"title\":{\"text\":\"Simulation frame 7\"}}},{\"data\":[{\"marker\":{\"color\":\"green\"},\"mode\":\"markers\",\"x\":[1],\"y\":[3],\"type\":\"scatter\"},{\"marker\":{\"color\":\"green\"},\"mode\":\"markers\",\"x\":[1],\"y\":[6],\"type\":\"scatter\"},{\"marker\":{\"color\":\"green\"},\"mode\":\"markers\",\"x\":[5],\"y\":[11],\"type\":\"scatter\"},{\"marker\":{\"color\":\"green\"},\"mode\":\"markers\",\"x\":[3],\"y\":[10],\"type\":\"scatter\"},{\"marker\":{\"color\":\"green\"},\"mode\":\"markers\",\"x\":[3],\"y\":[11],\"type\":\"scatter\"},{\"marker\":{\"color\":\"blue\"},\"mode\":\"markers\",\"x\":[7],\"y\":[6],\"type\":\"scatter\"},{\"marker\":{\"color\":\"blue\"},\"mode\":\"markers\",\"x\":[7],\"y\":[6],\"type\":\"scatter\"},{\"marker\":{\"color\":\"blue\"},\"mode\":\"markers\",\"x\":[8],\"y\":[9],\"type\":\"scatter\"},{\"marker\":{\"color\":\"green\"},\"mode\":\"markers\",\"x\":[9],\"y\":[13],\"type\":\"scatter\"},{\"marker\":{\"color\":\"green\"},\"mode\":\"markers\",\"x\":[7],\"y\":[12],\"type\":\"scatter\"},{\"marker\":{\"color\":\"green\"},\"mode\":\"markers\",\"x\":[8],\"y\":[6],\"type\":\"scatter\"},{\"marker\":{\"color\":\"green\"},\"mode\":\"markers\",\"x\":[13],\"y\":[7],\"type\":\"scatter\"},{\"marker\":{\"color\":\"blue\"},\"mode\":\"markers\",\"x\":[8],\"y\":[9],\"type\":\"scatter\"},{\"marker\":{\"color\":\"blue\"},\"mode\":\"markers\",\"x\":[9],\"y\":[12],\"type\":\"scatter\"},{\"marker\":{\"color\":\"blue\"},\"mode\":\"markers\",\"x\":[9],\"y\":[12],\"type\":\"scatter\"},{\"marker\":{\"color\":\"green\"},\"mode\":\"markers\",\"x\":[12],\"y\":[8],\"type\":\"scatter\"},{\"marker\":{\"color\":\"blue\"},\"mode\":\"markers\",\"x\":[12],\"y\":[6],\"type\":\"scatter\"},{\"marker\":{\"color\":\"blue\"},\"mode\":\"markers\",\"x\":[12],\"y\":[6],\"type\":\"scatter\"},{\"marker\":{\"color\":\"green\"},\"mode\":\"markers\",\"x\":[8],\"y\":[11],\"type\":\"scatter\"},{\"marker\":{\"color\":\"green\"},\"mode\":\"markers\",\"x\":[13],\"y\":[14],\"type\":\"scatter\"},{\"marker\":{\"color\":\"blue\"},\"mode\":\"markers\",\"x\":[13],\"y\":[6],\"type\":\"scatter\"},{\"marker\":{\"color\":\"blue\"},\"mode\":\"markers\",\"x\":[13],\"y\":[6],\"type\":\"scatter\"},{\"marker\":{\"color\":\"blue\"},\"mode\":\"markers\",\"x\":[12],\"y\":[10],\"type\":\"scatter\"},{\"marker\":{\"color\":\"blue\"},\"mode\":\"markers\",\"x\":[12],\"y\":[10],\"type\":\"scatter\"},{\"marker\":{\"color\":\"green\"},\"mode\":\"markers\",\"x\":[12],\"y\":[10],\"type\":\"scatter\"},{\"marker\":{\"color\":\"orange\"},\"mode\":\"markers\",\"x\":[2],\"y\":[2],\"type\":\"scatter\"},{\"marker\":{\"color\":\"orange\"},\"mode\":\"markers\",\"x\":[18],\"y\":[18],\"type\":\"scatter\"},{\"marker\":{\"color\":\"orange\"},\"mode\":\"markers\",\"x\":[3],\"y\":[15],\"type\":\"scatter\"}],\"layout\":{\"title\":{\"text\":\"Simulation frame 8\"}}},{\"data\":[{\"marker\":{\"color\":\"green\"},\"mode\":\"markers\",\"x\":[1],\"y\":[2],\"type\":\"scatter\"},{\"marker\":{\"color\":\"green\"},\"mode\":\"markers\",\"x\":[2],\"y\":[6],\"type\":\"scatter\"},{\"marker\":{\"color\":\"green\"},\"mode\":\"markers\",\"x\":[5],\"y\":[11],\"type\":\"scatter\"},{\"marker\":{\"color\":\"green\"},\"mode\":\"markers\",\"x\":[4],\"y\":[10],\"type\":\"scatter\"},{\"marker\":{\"color\":\"green\"},\"mode\":\"markers\",\"x\":[3],\"y\":[12],\"type\":\"scatter\"},{\"marker\":{\"color\":\"blue\"},\"mode\":\"markers\",\"x\":[7],\"y\":[6],\"type\":\"scatter\"},{\"marker\":{\"color\":\"blue\"},\"mode\":\"markers\",\"x\":[7],\"y\":[6],\"type\":\"scatter\"},{\"marker\":{\"color\":\"blue\"},\"mode\":\"markers\",\"x\":[8],\"y\":[9],\"type\":\"scatter\"},{\"marker\":{\"color\":\"green\"},\"mode\":\"markers\",\"x\":[8],\"y\":[13],\"type\":\"scatter\"},{\"marker\":{\"color\":\"green\"},\"mode\":\"markers\",\"x\":[6],\"y\":[12],\"type\":\"scatter\"},{\"marker\":{\"color\":\"green\"},\"mode\":\"markers\",\"x\":[8],\"y\":[6],\"type\":\"scatter\"},{\"marker\":{\"color\":\"green\"},\"mode\":\"markers\",\"x\":[14],\"y\":[7],\"type\":\"scatter\"},{\"marker\":{\"color\":\"blue\"},\"mode\":\"markers\",\"x\":[8],\"y\":[9],\"type\":\"scatter\"},{\"marker\":{\"color\":\"blue\"},\"mode\":\"markers\",\"x\":[9],\"y\":[12],\"type\":\"scatter\"},{\"marker\":{\"color\":\"blue\"},\"mode\":\"markers\",\"x\":[9],\"y\":[12],\"type\":\"scatter\"},{\"marker\":{\"color\":\"green\"},\"mode\":\"markers\",\"x\":[12],\"y\":[9],\"type\":\"scatter\"},{\"marker\":{\"color\":\"blue\"},\"mode\":\"markers\",\"x\":[12],\"y\":[6],\"type\":\"scatter\"},{\"marker\":{\"color\":\"blue\"},\"mode\":\"markers\",\"x\":[12],\"y\":[6],\"type\":\"scatter\"},{\"marker\":{\"color\":\"green\"},\"mode\":\"markers\",\"x\":[8],\"y\":[11],\"type\":\"scatter\"},{\"marker\":{\"color\":\"green\"},\"mode\":\"markers\",\"x\":[12],\"y\":[14],\"type\":\"scatter\"},{\"marker\":{\"color\":\"blue\"},\"mode\":\"markers\",\"x\":[13],\"y\":[6],\"type\":\"scatter\"},{\"marker\":{\"color\":\"blue\"},\"mode\":\"markers\",\"x\":[13],\"y\":[6],\"type\":\"scatter\"},{\"marker\":{\"color\":\"blue\"},\"mode\":\"markers\",\"x\":[12],\"y\":[10],\"type\":\"scatter\"},{\"marker\":{\"color\":\"blue\"},\"mode\":\"markers\",\"x\":[12],\"y\":[10],\"type\":\"scatter\"},{\"marker\":{\"color\":\"green\"},\"mode\":\"markers\",\"x\":[13],\"y\":[10],\"type\":\"scatter\"},{\"marker\":{\"color\":\"orange\"},\"mode\":\"markers\",\"x\":[2],\"y\":[2],\"type\":\"scatter\"},{\"marker\":{\"color\":\"orange\"},\"mode\":\"markers\",\"x\":[18],\"y\":[18],\"type\":\"scatter\"},{\"marker\":{\"color\":\"orange\"},\"mode\":\"markers\",\"x\":[3],\"y\":[15],\"type\":\"scatter\"}],\"layout\":{\"title\":{\"text\":\"Simulation frame 9\"}}},{\"data\":[{\"marker\":{\"color\":\"green\"},\"mode\":\"markers\",\"x\":[0],\"y\":[2],\"type\":\"scatter\"},{\"marker\":{\"color\":\"green\"},\"mode\":\"markers\",\"x\":[1],\"y\":[6],\"type\":\"scatter\"},{\"marker\":{\"color\":\"green\"},\"mode\":\"markers\",\"x\":[5],\"y\":[12],\"type\":\"scatter\"},{\"marker\":{\"color\":\"green\"},\"mode\":\"markers\",\"x\":[3],\"y\":[10],\"type\":\"scatter\"},{\"marker\":{\"color\":\"green\"},\"mode\":\"markers\",\"x\":[3],\"y\":[13],\"type\":\"scatter\"},{\"marker\":{\"color\":\"blue\"},\"mode\":\"markers\",\"x\":[7],\"y\":[6],\"type\":\"scatter\"},{\"marker\":{\"color\":\"blue\"},\"mode\":\"markers\",\"x\":[7],\"y\":[6],\"type\":\"scatter\"},{\"marker\":{\"color\":\"blue\"},\"mode\":\"markers\",\"x\":[8],\"y\":[9],\"type\":\"scatter\"},{\"marker\":{\"color\":\"red\"},\"mode\":\"markers\",\"x\":[8],\"y\":[12],\"type\":\"scatter\"},{\"marker\":{\"color\":\"green\"},\"mode\":\"markers\",\"x\":[6],\"y\":[13],\"type\":\"scatter\"},{\"marker\":{\"color\":\"green\"},\"mode\":\"markers\",\"x\":[7],\"y\":[6],\"type\":\"scatter\"},{\"marker\":{\"color\":\"green\"},\"mode\":\"markers\",\"x\":[13],\"y\":[7],\"type\":\"scatter\"},{\"marker\":{\"color\":\"blue\"},\"mode\":\"markers\",\"x\":[8],\"y\":[9],\"type\":\"scatter\"},{\"marker\":{\"color\":\"blue\"},\"mode\":\"markers\",\"x\":[9],\"y\":[12],\"type\":\"scatter\"},{\"marker\":{\"color\":\"blue\"},\"mode\":\"markers\",\"x\":[9],\"y\":[12],\"type\":\"scatter\"},{\"marker\":{\"color\":\"green\"},\"mode\":\"markers\",\"x\":[12],\"y\":[9],\"type\":\"scatter\"},{\"marker\":{\"color\":\"blue\"},\"mode\":\"markers\",\"x\":[12],\"y\":[6],\"type\":\"scatter\"},{\"marker\":{\"color\":\"blue\"},\"mode\":\"markers\",\"x\":[12],\"y\":[6],\"type\":\"scatter\"},{\"marker\":{\"color\":\"red\"},\"mode\":\"markers\",\"x\":[8],\"y\":[12],\"type\":\"scatter\"},{\"marker\":{\"color\":\"green\"},\"mode\":\"markers\",\"x\":[11],\"y\":[14],\"type\":\"scatter\"},{\"marker\":{\"color\":\"blue\"},\"mode\":\"markers\",\"x\":[13],\"y\":[6],\"type\":\"scatter\"},{\"marker\":{\"color\":\"blue\"},\"mode\":\"markers\",\"x\":[13],\"y\":[6],\"type\":\"scatter\"},{\"marker\":{\"color\":\"blue\"},\"mode\":\"markers\",\"x\":[12],\"y\":[10],\"type\":\"scatter\"},{\"marker\":{\"color\":\"blue\"},\"mode\":\"markers\",\"x\":[12],\"y\":[10],\"type\":\"scatter\"},{\"marker\":{\"color\":\"green\"},\"mode\":\"markers\",\"x\":[13],\"y\":[9],\"type\":\"scatter\"},{\"marker\":{\"color\":\"orange\"},\"mode\":\"markers\",\"x\":[2],\"y\":[2],\"type\":\"scatter\"},{\"marker\":{\"color\":\"orange\"},\"mode\":\"markers\",\"x\":[18],\"y\":[18],\"type\":\"scatter\"},{\"marker\":{\"color\":\"orange\"},\"mode\":\"markers\",\"x\":[3],\"y\":[15],\"type\":\"scatter\"}],\"layout\":{\"title\":{\"text\":\"Simulation frame 10\"}}},{\"data\":[{\"marker\":{\"color\":\"green\"},\"mode\":\"markers\",\"x\":[0],\"y\":[2],\"type\":\"scatter\"},{\"marker\":{\"color\":\"green\"},\"mode\":\"markers\",\"x\":[0],\"y\":[6],\"type\":\"scatter\"},{\"marker\":{\"color\":\"green\"},\"mode\":\"markers\",\"x\":[4],\"y\":[12],\"type\":\"scatter\"},{\"marker\":{\"color\":\"green\"},\"mode\":\"markers\",\"x\":[4],\"y\":[10],\"type\":\"scatter\"},{\"marker\":{\"color\":\"green\"},\"mode\":\"markers\",\"x\":[4],\"y\":[13],\"type\":\"scatter\"},{\"marker\":{\"color\":\"blue\"},\"mode\":\"markers\",\"x\":[7],\"y\":[6],\"type\":\"scatter\"},{\"marker\":{\"color\":\"blue\"},\"mode\":\"markers\",\"x\":[7],\"y\":[6],\"type\":\"scatter\"},{\"marker\":{\"color\":\"blue\"},\"mode\":\"markers\",\"x\":[8],\"y\":[9],\"type\":\"scatter\"},{\"marker\":{\"color\":\"blue\"},\"mode\":\"markers\",\"x\":[8],\"y\":[12],\"type\":\"scatter\"},{\"marker\":{\"color\":\"green\"},\"mode\":\"markers\",\"x\":[7],\"y\":[13],\"type\":\"scatter\"},{\"marker\":{\"color\":\"green\"},\"mode\":\"markers\",\"x\":[7],\"y\":[6],\"type\":\"scatter\"},{\"marker\":{\"color\":\"green\"},\"mode\":\"markers\",\"x\":[12],\"y\":[7],\"type\":\"scatter\"},{\"marker\":{\"color\":\"blue\"},\"mode\":\"markers\",\"x\":[8],\"y\":[9],\"type\":\"scatter\"},{\"marker\":{\"color\":\"blue\"},\"mode\":\"markers\",\"x\":[9],\"y\":[12],\"type\":\"scatter\"},{\"marker\":{\"color\":\"blue\"},\"mode\":\"markers\",\"x\":[9],\"y\":[12],\"type\":\"scatter\"},{\"marker\":{\"color\":\"green\"},\"mode\":\"markers\",\"x\":[12],\"y\":[9],\"type\":\"scatter\"},{\"marker\":{\"color\":\"blue\"},\"mode\":\"markers\",\"x\":[12],\"y\":[6],\"type\":\"scatter\"},{\"marker\":{\"color\":\"blue\"},\"mode\":\"markers\",\"x\":[12],\"y\":[6],\"type\":\"scatter\"},{\"marker\":{\"color\":\"blue\"},\"mode\":\"markers\",\"x\":[8],\"y\":[12],\"type\":\"scatter\"},{\"marker\":{\"color\":\"green\"},\"mode\":\"markers\",\"x\":[11],\"y\":[13],\"type\":\"scatter\"},{\"marker\":{\"color\":\"blue\"},\"mode\":\"markers\",\"x\":[13],\"y\":[6],\"type\":\"scatter\"},{\"marker\":{\"color\":\"blue\"},\"mode\":\"markers\",\"x\":[13],\"y\":[6],\"type\":\"scatter\"},{\"marker\":{\"color\":\"blue\"},\"mode\":\"markers\",\"x\":[12],\"y\":[10],\"type\":\"scatter\"},{\"marker\":{\"color\":\"blue\"},\"mode\":\"markers\",\"x\":[12],\"y\":[10],\"type\":\"scatter\"},{\"marker\":{\"color\":\"green\"},\"mode\":\"markers\",\"x\":[13],\"y\":[10],\"type\":\"scatter\"},{\"marker\":{\"color\":\"orange\"},\"mode\":\"markers\",\"x\":[2],\"y\":[2],\"type\":\"scatter\"},{\"marker\":{\"color\":\"orange\"},\"mode\":\"markers\",\"x\":[18],\"y\":[18],\"type\":\"scatter\"},{\"marker\":{\"color\":\"orange\"},\"mode\":\"markers\",\"x\":[3],\"y\":[15],\"type\":\"scatter\"}],\"layout\":{\"title\":{\"text\":\"Simulation frame 11\"}}},{\"data\":[{\"marker\":{\"color\":\"green\"},\"mode\":\"markers\",\"x\":[0],\"y\":[2],\"type\":\"scatter\"},{\"marker\":{\"color\":\"green\"},\"mode\":\"markers\",\"x\":[0],\"y\":[7],\"type\":\"scatter\"},{\"marker\":{\"color\":\"green\"},\"mode\":\"markers\",\"x\":[5],\"y\":[12],\"type\":\"scatter\"},{\"marker\":{\"color\":\"green\"},\"mode\":\"markers\",\"x\":[4],\"y\":[11],\"type\":\"scatter\"},{\"marker\":{\"color\":\"green\"},\"mode\":\"markers\",\"x\":[4],\"y\":[14],\"type\":\"scatter\"},{\"marker\":{\"color\":\"blue\"},\"mode\":\"markers\",\"x\":[7],\"y\":[6],\"type\":\"scatter\"},{\"marker\":{\"color\":\"blue\"},\"mode\":\"markers\",\"x\":[7],\"y\":[6],\"type\":\"scatter\"},{\"marker\":{\"color\":\"blue\"},\"mode\":\"markers\",\"x\":[8],\"y\":[9],\"type\":\"scatter\"},{\"marker\":{\"color\":\"blue\"},\"mode\":\"markers\",\"x\":[8],\"y\":[12],\"type\":\"scatter\"},{\"marker\":{\"color\":\"green\"},\"mode\":\"markers\",\"x\":[7],\"y\":[12],\"type\":\"scatter\"},{\"marker\":{\"color\":\"green\"},\"mode\":\"markers\",\"x\":[7],\"y\":[7],\"type\":\"scatter\"},{\"marker\":{\"color\":\"green\"},\"mode\":\"markers\",\"x\":[13],\"y\":[7],\"type\":\"scatter\"},{\"marker\":{\"color\":\"blue\"},\"mode\":\"markers\",\"x\":[8],\"y\":[9],\"type\":\"scatter\"},{\"marker\":{\"color\":\"blue\"},\"mode\":\"markers\",\"x\":[9],\"y\":[12],\"type\":\"scatter\"},{\"marker\":{\"color\":\"blue\"},\"mode\":\"markers\",\"x\":[9],\"y\":[12],\"type\":\"scatter\"},{\"marker\":{\"color\":\"red\"},\"mode\":\"markers\",\"x\":[13],\"y\":[9],\"type\":\"scatter\"},{\"marker\":{\"color\":\"blue\"},\"mode\":\"markers\",\"x\":[12],\"y\":[6],\"type\":\"scatter\"},{\"marker\":{\"color\":\"blue\"},\"mode\":\"markers\",\"x\":[12],\"y\":[6],\"type\":\"scatter\"},{\"marker\":{\"color\":\"blue\"},\"mode\":\"markers\",\"x\":[8],\"y\":[12],\"type\":\"scatter\"},{\"marker\":{\"color\":\"green\"},\"mode\":\"markers\",\"x\":[10],\"y\":[13],\"type\":\"scatter\"},{\"marker\":{\"color\":\"blue\"},\"mode\":\"markers\",\"x\":[13],\"y\":[6],\"type\":\"scatter\"},{\"marker\":{\"color\":\"blue\"},\"mode\":\"markers\",\"x\":[13],\"y\":[6],\"type\":\"scatter\"},{\"marker\":{\"color\":\"blue\"},\"mode\":\"markers\",\"x\":[12],\"y\":[10],\"type\":\"scatter\"},{\"marker\":{\"color\":\"blue\"},\"mode\":\"markers\",\"x\":[12],\"y\":[10],\"type\":\"scatter\"},{\"marker\":{\"color\":\"red\"},\"mode\":\"markers\",\"x\":[13],\"y\":[9],\"type\":\"scatter\"},{\"marker\":{\"color\":\"orange\"},\"mode\":\"markers\",\"x\":[2],\"y\":[2],\"type\":\"scatter\"},{\"marker\":{\"color\":\"orange\"},\"mode\":\"markers\",\"x\":[18],\"y\":[18],\"type\":\"scatter\"},{\"marker\":{\"color\":\"orange\"},\"mode\":\"markers\",\"x\":[3],\"y\":[15],\"type\":\"scatter\"}],\"layout\":{\"title\":{\"text\":\"Simulation frame 12\"}}},{\"data\":[{\"marker\":{\"color\":\"green\"},\"mode\":\"markers\",\"x\":[0],\"y\":[2],\"type\":\"scatter\"},{\"marker\":{\"color\":\"green\"},\"mode\":\"markers\",\"x\":[0],\"y\":[7],\"type\":\"scatter\"},{\"marker\":{\"color\":\"green\"},\"mode\":\"markers\",\"x\":[5],\"y\":[13],\"type\":\"scatter\"},{\"marker\":{\"color\":\"green\"},\"mode\":\"markers\",\"x\":[4],\"y\":[10],\"type\":\"scatter\"},{\"marker\":{\"color\":\"green\"},\"mode\":\"markers\",\"x\":[5],\"y\":[14],\"type\":\"scatter\"},{\"marker\":{\"color\":\"blue\"},\"mode\":\"markers\",\"x\":[7],\"y\":[6],\"type\":\"scatter\"},{\"marker\":{\"color\":\"blue\"},\"mode\":\"markers\",\"x\":[7],\"y\":[6],\"type\":\"scatter\"},{\"marker\":{\"color\":\"blue\"},\"mode\":\"markers\",\"x\":[8],\"y\":[9],\"type\":\"scatter\"},{\"marker\":{\"color\":\"blue\"},\"mode\":\"markers\",\"x\":[8],\"y\":[12],\"type\":\"scatter\"},{\"marker\":{\"color\":\"green\"},\"mode\":\"markers\",\"x\":[7],\"y\":[11],\"type\":\"scatter\"},{\"marker\":{\"color\":\"green\"},\"mode\":\"markers\",\"x\":[7],\"y\":[7],\"type\":\"scatter\"},{\"marker\":{\"color\":\"green\"},\"mode\":\"markers\",\"x\":[13],\"y\":[8],\"type\":\"scatter\"},{\"marker\":{\"color\":\"blue\"},\"mode\":\"markers\",\"x\":[8],\"y\":[9],\"type\":\"scatter\"},{\"marker\":{\"color\":\"blue\"},\"mode\":\"markers\",\"x\":[9],\"y\":[12],\"type\":\"scatter\"},{\"marker\":{\"color\":\"blue\"},\"mode\":\"markers\",\"x\":[9],\"y\":[12],\"type\":\"scatter\"},{\"marker\":{\"color\":\"blue\"},\"mode\":\"markers\",\"x\":[13],\"y\":[9],\"type\":\"scatter\"},{\"marker\":{\"color\":\"blue\"},\"mode\":\"markers\",\"x\":[12],\"y\":[6],\"type\":\"scatter\"},{\"marker\":{\"color\":\"blue\"},\"mode\":\"markers\",\"x\":[12],\"y\":[6],\"type\":\"scatter\"},{\"marker\":{\"color\":\"blue\"},\"mode\":\"markers\",\"x\":[8],\"y\":[12],\"type\":\"scatter\"},{\"marker\":{\"color\":\"green\"},\"mode\":\"markers\",\"x\":[11],\"y\":[13],\"type\":\"scatter\"},{\"marker\":{\"color\":\"blue\"},\"mode\":\"markers\",\"x\":[13],\"y\":[6],\"type\":\"scatter\"},{\"marker\":{\"color\":\"blue\"},\"mode\":\"markers\",\"x\":[13],\"y\":[6],\"type\":\"scatter\"},{\"marker\":{\"color\":\"blue\"},\"mode\":\"markers\",\"x\":[12],\"y\":[10],\"type\":\"scatter\"},{\"marker\":{\"color\":\"blue\"},\"mode\":\"markers\",\"x\":[12],\"y\":[10],\"type\":\"scatter\"},{\"marker\":{\"color\":\"blue\"},\"mode\":\"markers\",\"x\":[13],\"y\":[9],\"type\":\"scatter\"},{\"marker\":{\"color\":\"orange\"},\"mode\":\"markers\",\"x\":[2],\"y\":[2],\"type\":\"scatter\"},{\"marker\":{\"color\":\"orange\"},\"mode\":\"markers\",\"x\":[18],\"y\":[18],\"type\":\"scatter\"},{\"marker\":{\"color\":\"orange\"},\"mode\":\"markers\",\"x\":[3],\"y\":[15],\"type\":\"scatter\"}],\"layout\":{\"title\":{\"text\":\"Simulation frame 13\"}}},{\"data\":[{\"marker\":{\"color\":\"green\"},\"mode\":\"markers\",\"x\":[0],\"y\":[3],\"type\":\"scatter\"},{\"marker\":{\"color\":\"green\"},\"mode\":\"markers\",\"x\":[-1],\"y\":[7],\"type\":\"scatter\"},{\"marker\":{\"color\":\"green\"},\"mode\":\"markers\",\"x\":[5],\"y\":[13],\"type\":\"scatter\"},{\"marker\":{\"color\":\"green\"},\"mode\":\"markers\",\"x\":[4],\"y\":[10],\"type\":\"scatter\"},{\"marker\":{\"color\":\"green\"},\"mode\":\"markers\",\"x\":[4],\"y\":[14],\"type\":\"scatter\"},{\"marker\":{\"color\":\"blue\"},\"mode\":\"markers\",\"x\":[7],\"y\":[6],\"type\":\"scatter\"},{\"marker\":{\"color\":\"blue\"},\"mode\":\"markers\",\"x\":[7],\"y\":[6],\"type\":\"scatter\"},{\"marker\":{\"color\":\"blue\"},\"mode\":\"markers\",\"x\":[8],\"y\":[9],\"type\":\"scatter\"},{\"marker\":{\"color\":\"blue\"},\"mode\":\"markers\",\"x\":[8],\"y\":[12],\"type\":\"scatter\"},{\"marker\":{\"color\":\"green\"},\"mode\":\"markers\",\"x\":[7],\"y\":[11],\"type\":\"scatter\"},{\"marker\":{\"color\":\"green\"},\"mode\":\"markers\",\"x\":[7],\"y\":[6],\"type\":\"scatter\"},{\"marker\":{\"color\":\"green\"},\"mode\":\"markers\",\"x\":[13],\"y\":[9],\"type\":\"scatter\"},{\"marker\":{\"color\":\"blue\"},\"mode\":\"markers\",\"x\":[8],\"y\":[9],\"type\":\"scatter\"},{\"marker\":{\"color\":\"blue\"},\"mode\":\"markers\",\"x\":[9],\"y\":[12],\"type\":\"scatter\"},{\"marker\":{\"color\":\"blue\"},\"mode\":\"markers\",\"x\":[9],\"y\":[12],\"type\":\"scatter\"},{\"marker\":{\"color\":\"blue\"},\"mode\":\"markers\",\"x\":[13],\"y\":[9],\"type\":\"scatter\"},{\"marker\":{\"color\":\"blue\"},\"mode\":\"markers\",\"x\":[12],\"y\":[6],\"type\":\"scatter\"},{\"marker\":{\"color\":\"blue\"},\"mode\":\"markers\",\"x\":[12],\"y\":[6],\"type\":\"scatter\"},{\"marker\":{\"color\":\"blue\"},\"mode\":\"markers\",\"x\":[8],\"y\":[12],\"type\":\"scatter\"},{\"marker\":{\"color\":\"green\"},\"mode\":\"markers\",\"x\":[11],\"y\":[13],\"type\":\"scatter\"},{\"marker\":{\"color\":\"blue\"},\"mode\":\"markers\",\"x\":[13],\"y\":[6],\"type\":\"scatter\"},{\"marker\":{\"color\":\"blue\"},\"mode\":\"markers\",\"x\":[13],\"y\":[6],\"type\":\"scatter\"},{\"marker\":{\"color\":\"blue\"},\"mode\":\"markers\",\"x\":[12],\"y\":[10],\"type\":\"scatter\"},{\"marker\":{\"color\":\"blue\"},\"mode\":\"markers\",\"x\":[12],\"y\":[10],\"type\":\"scatter\"},{\"marker\":{\"color\":\"blue\"},\"mode\":\"markers\",\"x\":[13],\"y\":[9],\"type\":\"scatter\"},{\"marker\":{\"color\":\"orange\"},\"mode\":\"markers\",\"x\":[2],\"y\":[2],\"type\":\"scatter\"},{\"marker\":{\"color\":\"orange\"},\"mode\":\"markers\",\"x\":[18],\"y\":[18],\"type\":\"scatter\"},{\"marker\":{\"color\":\"orange\"},\"mode\":\"markers\",\"x\":[3],\"y\":[15],\"type\":\"scatter\"}],\"layout\":{\"title\":{\"text\":\"Simulation frame 14\"}}},{\"data\":[{\"marker\":{\"color\":\"green\"},\"mode\":\"markers\",\"x\":[-1],\"y\":[3],\"type\":\"scatter\"},{\"marker\":{\"color\":\"green\"},\"mode\":\"markers\",\"x\":[-2],\"y\":[7],\"type\":\"scatter\"},{\"marker\":{\"color\":\"green\"},\"mode\":\"markers\",\"x\":[5],\"y\":[12],\"type\":\"scatter\"},{\"marker\":{\"color\":\"green\"},\"mode\":\"markers\",\"x\":[4],\"y\":[9],\"type\":\"scatter\"},{\"marker\":{\"color\":\"green\"},\"mode\":\"markers\",\"x\":[4],\"y\":[13],\"type\":\"scatter\"},{\"marker\":{\"color\":\"blue\"},\"mode\":\"markers\",\"x\":[7],\"y\":[6],\"type\":\"scatter\"},{\"marker\":{\"color\":\"blue\"},\"mode\":\"markers\",\"x\":[7],\"y\":[6],\"type\":\"scatter\"},{\"marker\":{\"color\":\"blue\"},\"mode\":\"markers\",\"x\":[8],\"y\":[9],\"type\":\"scatter\"},{\"marker\":{\"color\":\"blue\"},\"mode\":\"markers\",\"x\":[8],\"y\":[12],\"type\":\"scatter\"},{\"marker\":{\"color\":\"green\"},\"mode\":\"markers\",\"x\":[8],\"y\":[11],\"type\":\"scatter\"},{\"marker\":{\"color\":\"green\"},\"mode\":\"markers\",\"x\":[6],\"y\":[6],\"type\":\"scatter\"},{\"marker\":{\"color\":\"green\"},\"mode\":\"markers\",\"x\":[13],\"y\":[9],\"type\":\"scatter\"},{\"marker\":{\"color\":\"blue\"},\"mode\":\"markers\",\"x\":[8],\"y\":[9],\"type\":\"scatter\"},{\"marker\":{\"color\":\"blue\"},\"mode\":\"markers\",\"x\":[9],\"y\":[12],\"type\":\"scatter\"},{\"marker\":{\"color\":\"blue\"},\"mode\":\"markers\",\"x\":[9],\"y\":[12],\"type\":\"scatter\"},{\"marker\":{\"color\":\"blue\"},\"mode\":\"markers\",\"x\":[13],\"y\":[9],\"type\":\"scatter\"},{\"marker\":{\"color\":\"blue\"},\"mode\":\"markers\",\"x\":[12],\"y\":[6],\"type\":\"scatter\"},{\"marker\":{\"color\":\"blue\"},\"mode\":\"markers\",\"x\":[12],\"y\":[6],\"type\":\"scatter\"},{\"marker\":{\"color\":\"blue\"},\"mode\":\"markers\",\"x\":[8],\"y\":[12],\"type\":\"scatter\"},{\"marker\":{\"color\":\"green\"},\"mode\":\"markers\",\"x\":[11],\"y\":[14],\"type\":\"scatter\"},{\"marker\":{\"color\":\"blue\"},\"mode\":\"markers\",\"x\":[13],\"y\":[6],\"type\":\"scatter\"},{\"marker\":{\"color\":\"blue\"},\"mode\":\"markers\",\"x\":[13],\"y\":[6],\"type\":\"scatter\"},{\"marker\":{\"color\":\"blue\"},\"mode\":\"markers\",\"x\":[12],\"y\":[10],\"type\":\"scatter\"},{\"marker\":{\"color\":\"blue\"},\"mode\":\"markers\",\"x\":[12],\"y\":[10],\"type\":\"scatter\"},{\"marker\":{\"color\":\"blue\"},\"mode\":\"markers\",\"x\":[13],\"y\":[9],\"type\":\"scatter\"},{\"marker\":{\"color\":\"orange\"},\"mode\":\"markers\",\"x\":[2],\"y\":[2],\"type\":\"scatter\"},{\"marker\":{\"color\":\"orange\"},\"mode\":\"markers\",\"x\":[18],\"y\":[18],\"type\":\"scatter\"},{\"marker\":{\"color\":\"orange\"},\"mode\":\"markers\",\"x\":[3],\"y\":[15],\"type\":\"scatter\"}],\"layout\":{\"title\":{\"text\":\"Simulation frame 15\"}}},{\"data\":[{\"marker\":{\"color\":\"green\"},\"mode\":\"markers\",\"x\":[-2],\"y\":[3],\"type\":\"scatter\"},{\"marker\":{\"color\":\"green\"},\"mode\":\"markers\",\"x\":[-1],\"y\":[7],\"type\":\"scatter\"},{\"marker\":{\"color\":\"green\"},\"mode\":\"markers\",\"x\":[5],\"y\":[11],\"type\":\"scatter\"},{\"marker\":{\"color\":\"green\"},\"mode\":\"markers\",\"x\":[4],\"y\":[8],\"type\":\"scatter\"},{\"marker\":{\"color\":\"green\"},\"mode\":\"markers\",\"x\":[4],\"y\":[14],\"type\":\"scatter\"},{\"marker\":{\"color\":\"blue\"},\"mode\":\"markers\",\"x\":[7],\"y\":[6],\"type\":\"scatter\"},{\"marker\":{\"color\":\"blue\"},\"mode\":\"markers\",\"x\":[7],\"y\":[6],\"type\":\"scatter\"},{\"marker\":{\"color\":\"blue\"},\"mode\":\"markers\",\"x\":[8],\"y\":[9],\"type\":\"scatter\"},{\"marker\":{\"color\":\"blue\"},\"mode\":\"markers\",\"x\":[8],\"y\":[12],\"type\":\"scatter\"},{\"marker\":{\"color\":\"green\"},\"mode\":\"markers\",\"x\":[9],\"y\":[11],\"type\":\"scatter\"},{\"marker\":{\"color\":\"green\"},\"mode\":\"markers\",\"x\":[6],\"y\":[7],\"type\":\"scatter\"},{\"marker\":{\"color\":\"green\"},\"mode\":\"markers\",\"x\":[14],\"y\":[9],\"type\":\"scatter\"},{\"marker\":{\"color\":\"blue\"},\"mode\":\"markers\",\"x\":[8],\"y\":[9],\"type\":\"scatter\"},{\"marker\":{\"color\":\"blue\"},\"mode\":\"markers\",\"x\":[9],\"y\":[12],\"type\":\"scatter\"},{\"marker\":{\"color\":\"blue\"},\"mode\":\"markers\",\"x\":[9],\"y\":[12],\"type\":\"scatter\"},{\"marker\":{\"color\":\"blue\"},\"mode\":\"markers\",\"x\":[13],\"y\":[9],\"type\":\"scatter\"},{\"marker\":{\"color\":\"blue\"},\"mode\":\"markers\",\"x\":[12],\"y\":[6],\"type\":\"scatter\"},{\"marker\":{\"color\":\"blue\"},\"mode\":\"markers\",\"x\":[12],\"y\":[6],\"type\":\"scatter\"},{\"marker\":{\"color\":\"blue\"},\"mode\":\"markers\",\"x\":[8],\"y\":[12],\"type\":\"scatter\"},{\"marker\":{\"color\":\"green\"},\"mode\":\"markers\",\"x\":[10],\"y\":[14],\"type\":\"scatter\"},{\"marker\":{\"color\":\"blue\"},\"mode\":\"markers\",\"x\":[13],\"y\":[6],\"type\":\"scatter\"},{\"marker\":{\"color\":\"blue\"},\"mode\":\"markers\",\"x\":[13],\"y\":[6],\"type\":\"scatter\"},{\"marker\":{\"color\":\"blue\"},\"mode\":\"markers\",\"x\":[12],\"y\":[10],\"type\":\"scatter\"},{\"marker\":{\"color\":\"blue\"},\"mode\":\"markers\",\"x\":[12],\"y\":[10],\"type\":\"scatter\"},{\"marker\":{\"color\":\"blue\"},\"mode\":\"markers\",\"x\":[13],\"y\":[9],\"type\":\"scatter\"},{\"marker\":{\"color\":\"orange\"},\"mode\":\"markers\",\"x\":[2],\"y\":[2],\"type\":\"scatter\"},{\"marker\":{\"color\":\"orange\"},\"mode\":\"markers\",\"x\":[18],\"y\":[18],\"type\":\"scatter\"},{\"marker\":{\"color\":\"orange\"},\"mode\":\"markers\",\"x\":[3],\"y\":[15],\"type\":\"scatter\"}],\"layout\":{\"title\":{\"text\":\"Simulation frame 16\"}}},{\"data\":[{\"marker\":{\"color\":\"green\"},\"mode\":\"markers\",\"x\":[-2],\"y\":[3],\"type\":\"scatter\"},{\"marker\":{\"color\":\"green\"},\"mode\":\"markers\",\"x\":[-1],\"y\":[7],\"type\":\"scatter\"},{\"marker\":{\"color\":\"green\"},\"mode\":\"markers\",\"x\":[5],\"y\":[11],\"type\":\"scatter\"},{\"marker\":{\"color\":\"green\"},\"mode\":\"markers\",\"x\":[3],\"y\":[8],\"type\":\"scatter\"},{\"marker\":{\"color\":\"green\"},\"mode\":\"markers\",\"x\":[3],\"y\":[14],\"type\":\"scatter\"},{\"marker\":{\"color\":\"blue\"},\"mode\":\"markers\",\"x\":[7],\"y\":[6],\"type\":\"scatter\"},{\"marker\":{\"color\":\"blue\"},\"mode\":\"markers\",\"x\":[7],\"y\":[6],\"type\":\"scatter\"},{\"marker\":{\"color\":\"blue\"},\"mode\":\"markers\",\"x\":[8],\"y\":[9],\"type\":\"scatter\"},{\"marker\":{\"color\":\"blue\"},\"mode\":\"markers\",\"x\":[8],\"y\":[12],\"type\":\"scatter\"},{\"marker\":{\"color\":\"green\"},\"mode\":\"markers\",\"x\":[9],\"y\":[12],\"type\":\"scatter\"},{\"marker\":{\"color\":\"green\"},\"mode\":\"markers\",\"x\":[6],\"y\":[8],\"type\":\"scatter\"},{\"marker\":{\"color\":\"green\"},\"mode\":\"markers\",\"x\":[13],\"y\":[9],\"type\":\"scatter\"},{\"marker\":{\"color\":\"blue\"},\"mode\":\"markers\",\"x\":[8],\"y\":[9],\"type\":\"scatter\"},{\"marker\":{\"color\":\"blue\"},\"mode\":\"markers\",\"x\":[9],\"y\":[12],\"type\":\"scatter\"},{\"marker\":{\"color\":\"blue\"},\"mode\":\"markers\",\"x\":[9],\"y\":[12],\"type\":\"scatter\"},{\"marker\":{\"color\":\"blue\"},\"mode\":\"markers\",\"x\":[13],\"y\":[9],\"type\":\"scatter\"},{\"marker\":{\"color\":\"blue\"},\"mode\":\"markers\",\"x\":[12],\"y\":[6],\"type\":\"scatter\"},{\"marker\":{\"color\":\"blue\"},\"mode\":\"markers\",\"x\":[12],\"y\":[6],\"type\":\"scatter\"},{\"marker\":{\"color\":\"blue\"},\"mode\":\"markers\",\"x\":[8],\"y\":[12],\"type\":\"scatter\"},{\"marker\":{\"color\":\"green\"},\"mode\":\"markers\",\"x\":[10],\"y\":[14],\"type\":\"scatter\"},{\"marker\":{\"color\":\"blue\"},\"mode\":\"markers\",\"x\":[13],\"y\":[6],\"type\":\"scatter\"},{\"marker\":{\"color\":\"blue\"},\"mode\":\"markers\",\"x\":[13],\"y\":[6],\"type\":\"scatter\"},{\"marker\":{\"color\":\"blue\"},\"mode\":\"markers\",\"x\":[12],\"y\":[10],\"type\":\"scatter\"},{\"marker\":{\"color\":\"blue\"},\"mode\":\"markers\",\"x\":[12],\"y\":[10],\"type\":\"scatter\"},{\"marker\":{\"color\":\"blue\"},\"mode\":\"markers\",\"x\":[13],\"y\":[9],\"type\":\"scatter\"},{\"marker\":{\"color\":\"orange\"},\"mode\":\"markers\",\"x\":[2],\"y\":[2],\"type\":\"scatter\"},{\"marker\":{\"color\":\"orange\"},\"mode\":\"markers\",\"x\":[18],\"y\":[18],\"type\":\"scatter\"},{\"marker\":{\"color\":\"orange\"},\"mode\":\"markers\",\"x\":[3],\"y\":[15],\"type\":\"scatter\"}],\"layout\":{\"title\":{\"text\":\"Simulation frame 17\"}}},{\"data\":[{\"marker\":{\"color\":\"green\"},\"mode\":\"markers\",\"x\":[-2],\"y\":[4],\"type\":\"scatter\"},{\"marker\":{\"color\":\"green\"},\"mode\":\"markers\",\"x\":[-1],\"y\":[7],\"type\":\"scatter\"},{\"marker\":{\"color\":\"green\"},\"mode\":\"markers\",\"x\":[4],\"y\":[11],\"type\":\"scatter\"},{\"marker\":{\"color\":\"green\"},\"mode\":\"markers\",\"x\":[2],\"y\":[8],\"type\":\"scatter\"},{\"marker\":{\"color\":\"green\"},\"mode\":\"markers\",\"x\":[3],\"y\":[14],\"type\":\"scatter\"},{\"marker\":{\"color\":\"blue\"},\"mode\":\"markers\",\"x\":[7],\"y\":[6],\"type\":\"scatter\"},{\"marker\":{\"color\":\"blue\"},\"mode\":\"markers\",\"x\":[7],\"y\":[6],\"type\":\"scatter\"},{\"marker\":{\"color\":\"blue\"},\"mode\":\"markers\",\"x\":[8],\"y\":[9],\"type\":\"scatter\"},{\"marker\":{\"color\":\"blue\"},\"mode\":\"markers\",\"x\":[8],\"y\":[12],\"type\":\"scatter\"},{\"marker\":{\"color\":\"green\"},\"mode\":\"markers\",\"x\":[9],\"y\":[11],\"type\":\"scatter\"},{\"marker\":{\"color\":\"green\"},\"mode\":\"markers\",\"x\":[5],\"y\":[8],\"type\":\"scatter\"},{\"marker\":{\"color\":\"green\"},\"mode\":\"markers\",\"x\":[13],\"y\":[10],\"type\":\"scatter\"},{\"marker\":{\"color\":\"blue\"},\"mode\":\"markers\",\"x\":[8],\"y\":[9],\"type\":\"scatter\"},{\"marker\":{\"color\":\"blue\"},\"mode\":\"markers\",\"x\":[9],\"y\":[12],\"type\":\"scatter\"},{\"marker\":{\"color\":\"blue\"},\"mode\":\"markers\",\"x\":[9],\"y\":[12],\"type\":\"scatter\"},{\"marker\":{\"color\":\"blue\"},\"mode\":\"markers\",\"x\":[13],\"y\":[9],\"type\":\"scatter\"},{\"marker\":{\"color\":\"blue\"},\"mode\":\"markers\",\"x\":[12],\"y\":[6],\"type\":\"scatter\"},{\"marker\":{\"color\":\"blue\"},\"mode\":\"markers\",\"x\":[12],\"y\":[6],\"type\":\"scatter\"},{\"marker\":{\"color\":\"blue\"},\"mode\":\"markers\",\"x\":[8],\"y\":[12],\"type\":\"scatter\"},{\"marker\":{\"color\":\"green\"},\"mode\":\"markers\",\"x\":[10],\"y\":[15],\"type\":\"scatter\"},{\"marker\":{\"color\":\"blue\"},\"mode\":\"markers\",\"x\":[13],\"y\":[6],\"type\":\"scatter\"},{\"marker\":{\"color\":\"blue\"},\"mode\":\"markers\",\"x\":[13],\"y\":[6],\"type\":\"scatter\"},{\"marker\":{\"color\":\"blue\"},\"mode\":\"markers\",\"x\":[12],\"y\":[10],\"type\":\"scatter\"},{\"marker\":{\"color\":\"blue\"},\"mode\":\"markers\",\"x\":[12],\"y\":[10],\"type\":\"scatter\"},{\"marker\":{\"color\":\"blue\"},\"mode\":\"markers\",\"x\":[13],\"y\":[9],\"type\":\"scatter\"},{\"marker\":{\"color\":\"orange\"},\"mode\":\"markers\",\"x\":[2],\"y\":[2],\"type\":\"scatter\"},{\"marker\":{\"color\":\"orange\"},\"mode\":\"markers\",\"x\":[18],\"y\":[18],\"type\":\"scatter\"},{\"marker\":{\"color\":\"orange\"},\"mode\":\"markers\",\"x\":[3],\"y\":[15],\"type\":\"scatter\"}],\"layout\":{\"title\":{\"text\":\"Simulation frame 18\"}}},{\"data\":[{\"marker\":{\"color\":\"green\"},\"mode\":\"markers\",\"x\":[-2],\"y\":[5],\"type\":\"scatter\"},{\"marker\":{\"color\":\"green\"},\"mode\":\"markers\",\"x\":[-1],\"y\":[7],\"type\":\"scatter\"},{\"marker\":{\"color\":\"green\"},\"mode\":\"markers\",\"x\":[5],\"y\":[11],\"type\":\"scatter\"},{\"marker\":{\"color\":\"green\"},\"mode\":\"markers\",\"x\":[2],\"y\":[8],\"type\":\"scatter\"},{\"marker\":{\"color\":\"green\"},\"mode\":\"markers\",\"x\":[3],\"y\":[13],\"type\":\"scatter\"},{\"marker\":{\"color\":\"blue\"},\"mode\":\"markers\",\"x\":[7],\"y\":[6],\"type\":\"scatter\"},{\"marker\":{\"color\":\"blue\"},\"mode\":\"markers\",\"x\":[7],\"y\":[6],\"type\":\"scatter\"},{\"marker\":{\"color\":\"blue\"},\"mode\":\"markers\",\"x\":[8],\"y\":[9],\"type\":\"scatter\"},{\"marker\":{\"color\":\"blue\"},\"mode\":\"markers\",\"x\":[8],\"y\":[12],\"type\":\"scatter\"},{\"marker\":{\"color\":\"green\"},\"mode\":\"markers\",\"x\":[9],\"y\":[12],\"type\":\"scatter\"},{\"marker\":{\"color\":\"green\"},\"mode\":\"markers\",\"x\":[5],\"y\":[8],\"type\":\"scatter\"},{\"marker\":{\"color\":\"green\"},\"mode\":\"markers\",\"x\":[14],\"y\":[10],\"type\":\"scatter\"},{\"marker\":{\"color\":\"blue\"},\"mode\":\"markers\",\"x\":[8],\"y\":[9],\"type\":\"scatter\"},{\"marker\":{\"color\":\"blue\"},\"mode\":\"markers\",\"x\":[9],\"y\":[12],\"type\":\"scatter\"},{\"marker\":{\"color\":\"blue\"},\"mode\":\"markers\",\"x\":[9],\"y\":[12],\"type\":\"scatter\"},{\"marker\":{\"color\":\"blue\"},\"mode\":\"markers\",\"x\":[13],\"y\":[9],\"type\":\"scatter\"},{\"marker\":{\"color\":\"blue\"},\"mode\":\"markers\",\"x\":[12],\"y\":[6],\"type\":\"scatter\"},{\"marker\":{\"color\":\"blue\"},\"mode\":\"markers\",\"x\":[12],\"y\":[6],\"type\":\"scatter\"},{\"marker\":{\"color\":\"blue\"},\"mode\":\"markers\",\"x\":[8],\"y\":[12],\"type\":\"scatter\"},{\"marker\":{\"color\":\"green\"},\"mode\":\"markers\",\"x\":[11],\"y\":[15],\"type\":\"scatter\"},{\"marker\":{\"color\":\"blue\"},\"mode\":\"markers\",\"x\":[13],\"y\":[6],\"type\":\"scatter\"},{\"marker\":{\"color\":\"blue\"},\"mode\":\"markers\",\"x\":[13],\"y\":[6],\"type\":\"scatter\"},{\"marker\":{\"color\":\"blue\"},\"mode\":\"markers\",\"x\":[12],\"y\":[10],\"type\":\"scatter\"},{\"marker\":{\"color\":\"blue\"},\"mode\":\"markers\",\"x\":[12],\"y\":[10],\"type\":\"scatter\"},{\"marker\":{\"color\":\"blue\"},\"mode\":\"markers\",\"x\":[13],\"y\":[9],\"type\":\"scatter\"},{\"marker\":{\"color\":\"orange\"},\"mode\":\"markers\",\"x\":[2],\"y\":[2],\"type\":\"scatter\"},{\"marker\":{\"color\":\"orange\"},\"mode\":\"markers\",\"x\":[18],\"y\":[18],\"type\":\"scatter\"},{\"marker\":{\"color\":\"orange\"},\"mode\":\"markers\",\"x\":[3],\"y\":[15],\"type\":\"scatter\"}],\"layout\":{\"title\":{\"text\":\"Simulation frame 19\"}}},{\"data\":[{\"marker\":{\"color\":\"green\"},\"mode\":\"markers\",\"x\":[-2],\"y\":[4],\"type\":\"scatter\"},{\"marker\":{\"color\":\"green\"},\"mode\":\"markers\",\"x\":[-2],\"y\":[7],\"type\":\"scatter\"},{\"marker\":{\"color\":\"green\"},\"mode\":\"markers\",\"x\":[5],\"y\":[11],\"type\":\"scatter\"},{\"marker\":{\"color\":\"green\"},\"mode\":\"markers\",\"x\":[1],\"y\":[8],\"type\":\"scatter\"},{\"marker\":{\"color\":\"green\"},\"mode\":\"markers\",\"x\":[3],\"y\":[12],\"type\":\"scatter\"},{\"marker\":{\"color\":\"blue\"},\"mode\":\"markers\",\"x\":[7],\"y\":[6],\"type\":\"scatter\"},{\"marker\":{\"color\":\"blue\"},\"mode\":\"markers\",\"x\":[7],\"y\":[6],\"type\":\"scatter\"},{\"marker\":{\"color\":\"blue\"},\"mode\":\"markers\",\"x\":[8],\"y\":[9],\"type\":\"scatter\"},{\"marker\":{\"color\":\"blue\"},\"mode\":\"markers\",\"x\":[8],\"y\":[12],\"type\":\"scatter\"},{\"marker\":{\"color\":\"green\"},\"mode\":\"markers\",\"x\":[8],\"y\":[12],\"type\":\"scatter\"},{\"marker\":{\"color\":\"green\"},\"mode\":\"markers\",\"x\":[5],\"y\":[9],\"type\":\"scatter\"},{\"marker\":{\"color\":\"green\"},\"mode\":\"markers\",\"x\":[15],\"y\":[10],\"type\":\"scatter\"},{\"marker\":{\"color\":\"blue\"},\"mode\":\"markers\",\"x\":[8],\"y\":[9],\"type\":\"scatter\"},{\"marker\":{\"color\":\"blue\"},\"mode\":\"markers\",\"x\":[9],\"y\":[12],\"type\":\"scatter\"},{\"marker\":{\"color\":\"blue\"},\"mode\":\"markers\",\"x\":[9],\"y\":[12],\"type\":\"scatter\"},{\"marker\":{\"color\":\"blue\"},\"mode\":\"markers\",\"x\":[13],\"y\":[9],\"type\":\"scatter\"},{\"marker\":{\"color\":\"blue\"},\"mode\":\"markers\",\"x\":[12],\"y\":[6],\"type\":\"scatter\"},{\"marker\":{\"color\":\"blue\"},\"mode\":\"markers\",\"x\":[12],\"y\":[6],\"type\":\"scatter\"},{\"marker\":{\"color\":\"blue\"},\"mode\":\"markers\",\"x\":[8],\"y\":[12],\"type\":\"scatter\"},{\"marker\":{\"color\":\"green\"},\"mode\":\"markers\",\"x\":[11],\"y\":[15],\"type\":\"scatter\"},{\"marker\":{\"color\":\"blue\"},\"mode\":\"markers\",\"x\":[13],\"y\":[6],\"type\":\"scatter\"},{\"marker\":{\"color\":\"blue\"},\"mode\":\"markers\",\"x\":[13],\"y\":[6],\"type\":\"scatter\"},{\"marker\":{\"color\":\"blue\"},\"mode\":\"markers\",\"x\":[12],\"y\":[10],\"type\":\"scatter\"},{\"marker\":{\"color\":\"blue\"},\"mode\":\"markers\",\"x\":[12],\"y\":[10],\"type\":\"scatter\"},{\"marker\":{\"color\":\"blue\"},\"mode\":\"markers\",\"x\":[13],\"y\":[9],\"type\":\"scatter\"},{\"marker\":{\"color\":\"orange\"},\"mode\":\"markers\",\"x\":[2],\"y\":[2],\"type\":\"scatter\"},{\"marker\":{\"color\":\"orange\"},\"mode\":\"markers\",\"x\":[18],\"y\":[18],\"type\":\"scatter\"},{\"marker\":{\"color\":\"orange\"},\"mode\":\"markers\",\"x\":[3],\"y\":[15],\"type\":\"scatter\"}],\"layout\":{\"title\":{\"text\":\"Simulation frame 20\"}}},{\"data\":[{\"marker\":{\"color\":\"green\"},\"mode\":\"markers\",\"x\":[-1],\"y\":[4],\"type\":\"scatter\"},{\"marker\":{\"color\":\"green\"},\"mode\":\"markers\",\"x\":[-3],\"y\":[7],\"type\":\"scatter\"},{\"marker\":{\"color\":\"green\"},\"mode\":\"markers\",\"x\":[5],\"y\":[12],\"type\":\"scatter\"},{\"marker\":{\"color\":\"green\"},\"mode\":\"markers\",\"x\":[2],\"y\":[8],\"type\":\"scatter\"},{\"marker\":{\"color\":\"green\"},\"mode\":\"markers\",\"x\":[4],\"y\":[12],\"type\":\"scatter\"},{\"marker\":{\"color\":\"blue\"},\"mode\":\"markers\",\"x\":[7],\"y\":[6],\"type\":\"scatter\"},{\"marker\":{\"color\":\"blue\"},\"mode\":\"markers\",\"x\":[7],\"y\":[6],\"type\":\"scatter\"},{\"marker\":{\"color\":\"blue\"},\"mode\":\"markers\",\"x\":[8],\"y\":[9],\"type\":\"scatter\"},{\"marker\":{\"color\":\"blue\"},\"mode\":\"markers\",\"x\":[8],\"y\":[12],\"type\":\"scatter\"},{\"marker\":{\"color\":\"green\"},\"mode\":\"markers\",\"x\":[8],\"y\":[12],\"type\":\"scatter\"},{\"marker\":{\"color\":\"green\"},\"mode\":\"markers\",\"x\":[5],\"y\":[8],\"type\":\"scatter\"},{\"marker\":{\"color\":\"green\"},\"mode\":\"markers\",\"x\":[14],\"y\":[10],\"type\":\"scatter\"},{\"marker\":{\"color\":\"blue\"},\"mode\":\"markers\",\"x\":[8],\"y\":[9],\"type\":\"scatter\"},{\"marker\":{\"color\":\"blue\"},\"mode\":\"markers\",\"x\":[9],\"y\":[12],\"type\":\"scatter\"},{\"marker\":{\"color\":\"blue\"},\"mode\":\"markers\",\"x\":[9],\"y\":[12],\"type\":\"scatter\"},{\"marker\":{\"color\":\"blue\"},\"mode\":\"markers\",\"x\":[13],\"y\":[9],\"type\":\"scatter\"},{\"marker\":{\"color\":\"blue\"},\"mode\":\"markers\",\"x\":[12],\"y\":[6],\"type\":\"scatter\"},{\"marker\":{\"color\":\"blue\"},\"mode\":\"markers\",\"x\":[12],\"y\":[6],\"type\":\"scatter\"},{\"marker\":{\"color\":\"blue\"},\"mode\":\"markers\",\"x\":[8],\"y\":[12],\"type\":\"scatter\"},{\"marker\":{\"color\":\"green\"},\"mode\":\"markers\",\"x\":[11],\"y\":[16],\"type\":\"scatter\"},{\"marker\":{\"color\":\"blue\"},\"mode\":\"markers\",\"x\":[13],\"y\":[6],\"type\":\"scatter\"},{\"marker\":{\"color\":\"blue\"},\"mode\":\"markers\",\"x\":[13],\"y\":[6],\"type\":\"scatter\"},{\"marker\":{\"color\":\"blue\"},\"mode\":\"markers\",\"x\":[12],\"y\":[10],\"type\":\"scatter\"},{\"marker\":{\"color\":\"blue\"},\"mode\":\"markers\",\"x\":[12],\"y\":[10],\"type\":\"scatter\"},{\"marker\":{\"color\":\"blue\"},\"mode\":\"markers\",\"x\":[13],\"y\":[9],\"type\":\"scatter\"},{\"marker\":{\"color\":\"orange\"},\"mode\":\"markers\",\"x\":[2],\"y\":[2],\"type\":\"scatter\"},{\"marker\":{\"color\":\"orange\"},\"mode\":\"markers\",\"x\":[18],\"y\":[18],\"type\":\"scatter\"},{\"marker\":{\"color\":\"orange\"},\"mode\":\"markers\",\"x\":[3],\"y\":[15],\"type\":\"scatter\"}],\"layout\":{\"title\":{\"text\":\"Simulation frame 21\"}}},{\"data\":[{\"marker\":{\"color\":\"green\"},\"mode\":\"markers\",\"x\":[0],\"y\":[4],\"type\":\"scatter\"},{\"marker\":{\"color\":\"green\"},\"mode\":\"markers\",\"x\":[-3],\"y\":[7],\"type\":\"scatter\"},{\"marker\":{\"color\":\"green\"},\"mode\":\"markers\",\"x\":[5],\"y\":[12],\"type\":\"scatter\"},{\"marker\":{\"color\":\"green\"},\"mode\":\"markers\",\"x\":[3],\"y\":[8],\"type\":\"scatter\"},{\"marker\":{\"color\":\"green\"},\"mode\":\"markers\",\"x\":[4],\"y\":[13],\"type\":\"scatter\"},{\"marker\":{\"color\":\"blue\"},\"mode\":\"markers\",\"x\":[7],\"y\":[6],\"type\":\"scatter\"},{\"marker\":{\"color\":\"blue\"},\"mode\":\"markers\",\"x\":[7],\"y\":[6],\"type\":\"scatter\"},{\"marker\":{\"color\":\"blue\"},\"mode\":\"markers\",\"x\":[8],\"y\":[9],\"type\":\"scatter\"},{\"marker\":{\"color\":\"blue\"},\"mode\":\"markers\",\"x\":[8],\"y\":[12],\"type\":\"scatter\"},{\"marker\":{\"color\":\"green\"},\"mode\":\"markers\",\"x\":[8],\"y\":[12],\"type\":\"scatter\"},{\"marker\":{\"color\":\"green\"},\"mode\":\"markers\",\"x\":[4],\"y\":[8],\"type\":\"scatter\"},{\"marker\":{\"color\":\"green\"},\"mode\":\"markers\",\"x\":[14],\"y\":[11],\"type\":\"scatter\"},{\"marker\":{\"color\":\"blue\"},\"mode\":\"markers\",\"x\":[8],\"y\":[9],\"type\":\"scatter\"},{\"marker\":{\"color\":\"blue\"},\"mode\":\"markers\",\"x\":[9],\"y\":[12],\"type\":\"scatter\"},{\"marker\":{\"color\":\"blue\"},\"mode\":\"markers\",\"x\":[9],\"y\":[12],\"type\":\"scatter\"},{\"marker\":{\"color\":\"blue\"},\"mode\":\"markers\",\"x\":[13],\"y\":[9],\"type\":\"scatter\"},{\"marker\":{\"color\":\"blue\"},\"mode\":\"markers\",\"x\":[12],\"y\":[6],\"type\":\"scatter\"},{\"marker\":{\"color\":\"blue\"},\"mode\":\"markers\",\"x\":[12],\"y\":[6],\"type\":\"scatter\"},{\"marker\":{\"color\":\"blue\"},\"mode\":\"markers\",\"x\":[8],\"y\":[12],\"type\":\"scatter\"},{\"marker\":{\"color\":\"green\"},\"mode\":\"markers\",\"x\":[10],\"y\":[16],\"type\":\"scatter\"},{\"marker\":{\"color\":\"blue\"},\"mode\":\"markers\",\"x\":[13],\"y\":[6],\"type\":\"scatter\"},{\"marker\":{\"color\":\"blue\"},\"mode\":\"markers\",\"x\":[13],\"y\":[6],\"type\":\"scatter\"},{\"marker\":{\"color\":\"blue\"},\"mode\":\"markers\",\"x\":[12],\"y\":[10],\"type\":\"scatter\"},{\"marker\":{\"color\":\"blue\"},\"mode\":\"markers\",\"x\":[12],\"y\":[10],\"type\":\"scatter\"},{\"marker\":{\"color\":\"blue\"},\"mode\":\"markers\",\"x\":[13],\"y\":[9],\"type\":\"scatter\"},{\"marker\":{\"color\":\"orange\"},\"mode\":\"markers\",\"x\":[2],\"y\":[2],\"type\":\"scatter\"},{\"marker\":{\"color\":\"orange\"},\"mode\":\"markers\",\"x\":[18],\"y\":[18],\"type\":\"scatter\"},{\"marker\":{\"color\":\"orange\"},\"mode\":\"markers\",\"x\":[3],\"y\":[15],\"type\":\"scatter\"}],\"layout\":{\"title\":{\"text\":\"Simulation frame 22\"}}},{\"data\":[{\"marker\":{\"color\":\"green\"},\"mode\":\"markers\",\"x\":[0],\"y\":[5],\"type\":\"scatter\"},{\"marker\":{\"color\":\"green\"},\"mode\":\"markers\",\"x\":[-3],\"y\":[7],\"type\":\"scatter\"},{\"marker\":{\"color\":\"red\"},\"mode\":\"markers\",\"x\":[4],\"y\":[12],\"type\":\"scatter\"},{\"marker\":{\"color\":\"green\"},\"mode\":\"markers\",\"x\":[3],\"y\":[7],\"type\":\"scatter\"},{\"marker\":{\"color\":\"red\"},\"mode\":\"markers\",\"x\":[4],\"y\":[12],\"type\":\"scatter\"},{\"marker\":{\"color\":\"blue\"},\"mode\":\"markers\",\"x\":[7],\"y\":[6],\"type\":\"scatter\"},{\"marker\":{\"color\":\"blue\"},\"mode\":\"markers\",\"x\":[7],\"y\":[6],\"type\":\"scatter\"},{\"marker\":{\"color\":\"blue\"},\"mode\":\"markers\",\"x\":[8],\"y\":[9],\"type\":\"scatter\"},{\"marker\":{\"color\":\"blue\"},\"mode\":\"markers\",\"x\":[8],\"y\":[12],\"type\":\"scatter\"},{\"marker\":{\"color\":\"green\"},\"mode\":\"markers\",\"x\":[8],\"y\":[11],\"type\":\"scatter\"},{\"marker\":{\"color\":\"green\"},\"mode\":\"markers\",\"x\":[5],\"y\":[8],\"type\":\"scatter\"},{\"marker\":{\"color\":\"green\"},\"mode\":\"markers\",\"x\":[14],\"y\":[11],\"type\":\"scatter\"},{\"marker\":{\"color\":\"blue\"},\"mode\":\"markers\",\"x\":[8],\"y\":[9],\"type\":\"scatter\"},{\"marker\":{\"color\":\"blue\"},\"mode\":\"markers\",\"x\":[9],\"y\":[12],\"type\":\"scatter\"},{\"marker\":{\"color\":\"blue\"},\"mode\":\"markers\",\"x\":[9],\"y\":[12],\"type\":\"scatter\"},{\"marker\":{\"color\":\"blue\"},\"mode\":\"markers\",\"x\":[13],\"y\":[9],\"type\":\"scatter\"},{\"marker\":{\"color\":\"blue\"},\"mode\":\"markers\",\"x\":[12],\"y\":[6],\"type\":\"scatter\"},{\"marker\":{\"color\":\"blue\"},\"mode\":\"markers\",\"x\":[12],\"y\":[6],\"type\":\"scatter\"},{\"marker\":{\"color\":\"blue\"},\"mode\":\"markers\",\"x\":[8],\"y\":[12],\"type\":\"scatter\"},{\"marker\":{\"color\":\"green\"},\"mode\":\"markers\",\"x\":[10],\"y\":[16],\"type\":\"scatter\"},{\"marker\":{\"color\":\"blue\"},\"mode\":\"markers\",\"x\":[13],\"y\":[6],\"type\":\"scatter\"},{\"marker\":{\"color\":\"blue\"},\"mode\":\"markers\",\"x\":[13],\"y\":[6],\"type\":\"scatter\"},{\"marker\":{\"color\":\"blue\"},\"mode\":\"markers\",\"x\":[12],\"y\":[10],\"type\":\"scatter\"},{\"marker\":{\"color\":\"blue\"},\"mode\":\"markers\",\"x\":[12],\"y\":[10],\"type\":\"scatter\"},{\"marker\":{\"color\":\"blue\"},\"mode\":\"markers\",\"x\":[13],\"y\":[9],\"type\":\"scatter\"},{\"marker\":{\"color\":\"orange\"},\"mode\":\"markers\",\"x\":[2],\"y\":[2],\"type\":\"scatter\"},{\"marker\":{\"color\":\"orange\"},\"mode\":\"markers\",\"x\":[18],\"y\":[18],\"type\":\"scatter\"},{\"marker\":{\"color\":\"orange\"},\"mode\":\"markers\",\"x\":[3],\"y\":[15],\"type\":\"scatter\"}],\"layout\":{\"title\":{\"text\":\"Simulation frame 23\"}}},{\"data\":[{\"marker\":{\"color\":\"green\"},\"mode\":\"markers\",\"x\":[0],\"y\":[4],\"type\":\"scatter\"},{\"marker\":{\"color\":\"green\"},\"mode\":\"markers\",\"x\":[-2],\"y\":[7],\"type\":\"scatter\"},{\"marker\":{\"color\":\"blue\"},\"mode\":\"markers\",\"x\":[4],\"y\":[12],\"type\":\"scatter\"},{\"marker\":{\"color\":\"green\"},\"mode\":\"markers\",\"x\":[3],\"y\":[6],\"type\":\"scatter\"},{\"marker\":{\"color\":\"blue\"},\"mode\":\"markers\",\"x\":[4],\"y\":[12],\"type\":\"scatter\"},{\"marker\":{\"color\":\"blue\"},\"mode\":\"markers\",\"x\":[7],\"y\":[6],\"type\":\"scatter\"},{\"marker\":{\"color\":\"blue\"},\"mode\":\"markers\",\"x\":[7],\"y\":[6],\"type\":\"scatter\"},{\"marker\":{\"color\":\"blue\"},\"mode\":\"markers\",\"x\":[8],\"y\":[9],\"type\":\"scatter\"},{\"marker\":{\"color\":\"blue\"},\"mode\":\"markers\",\"x\":[8],\"y\":[12],\"type\":\"scatter\"},{\"marker\":{\"color\":\"green\"},\"mode\":\"markers\",\"x\":[8],\"y\":[10],\"type\":\"scatter\"},{\"marker\":{\"color\":\"green\"},\"mode\":\"markers\",\"x\":[6],\"y\":[8],\"type\":\"scatter\"},{\"marker\":{\"color\":\"green\"},\"mode\":\"markers\",\"x\":[15],\"y\":[11],\"type\":\"scatter\"},{\"marker\":{\"color\":\"blue\"},\"mode\":\"markers\",\"x\":[8],\"y\":[9],\"type\":\"scatter\"},{\"marker\":{\"color\":\"blue\"},\"mode\":\"markers\",\"x\":[9],\"y\":[12],\"type\":\"scatter\"},{\"marker\":{\"color\":\"blue\"},\"mode\":\"markers\",\"x\":[9],\"y\":[12],\"type\":\"scatter\"},{\"marker\":{\"color\":\"blue\"},\"mode\":\"markers\",\"x\":[13],\"y\":[9],\"type\":\"scatter\"},{\"marker\":{\"color\":\"blue\"},\"mode\":\"markers\",\"x\":[12],\"y\":[6],\"type\":\"scatter\"},{\"marker\":{\"color\":\"blue\"},\"mode\":\"markers\",\"x\":[12],\"y\":[6],\"type\":\"scatter\"},{\"marker\":{\"color\":\"blue\"},\"mode\":\"markers\",\"x\":[8],\"y\":[12],\"type\":\"scatter\"},{\"marker\":{\"color\":\"green\"},\"mode\":\"markers\",\"x\":[11],\"y\":[16],\"type\":\"scatter\"},{\"marker\":{\"color\":\"blue\"},\"mode\":\"markers\",\"x\":[13],\"y\":[6],\"type\":\"scatter\"},{\"marker\":{\"color\":\"blue\"},\"mode\":\"markers\",\"x\":[13],\"y\":[6],\"type\":\"scatter\"},{\"marker\":{\"color\":\"blue\"},\"mode\":\"markers\",\"x\":[12],\"y\":[10],\"type\":\"scatter\"},{\"marker\":{\"color\":\"blue\"},\"mode\":\"markers\",\"x\":[12],\"y\":[10],\"type\":\"scatter\"},{\"marker\":{\"color\":\"blue\"},\"mode\":\"markers\",\"x\":[13],\"y\":[9],\"type\":\"scatter\"},{\"marker\":{\"color\":\"orange\"},\"mode\":\"markers\",\"x\":[2],\"y\":[2],\"type\":\"scatter\"},{\"marker\":{\"color\":\"orange\"},\"mode\":\"markers\",\"x\":[18],\"y\":[18],\"type\":\"scatter\"},{\"marker\":{\"color\":\"orange\"},\"mode\":\"markers\",\"x\":[3],\"y\":[15],\"type\":\"scatter\"}],\"layout\":{\"title\":{\"text\":\"Simulation frame 24\"}}},{\"data\":[{\"marker\":{\"color\":\"green\"},\"mode\":\"markers\",\"x\":[0],\"y\":[3],\"type\":\"scatter\"},{\"marker\":{\"color\":\"green\"},\"mode\":\"markers\",\"x\":[-2],\"y\":[7],\"type\":\"scatter\"},{\"marker\":{\"color\":\"blue\"},\"mode\":\"markers\",\"x\":[4],\"y\":[12],\"type\":\"scatter\"},{\"marker\":{\"color\":\"green\"},\"mode\":\"markers\",\"x\":[2],\"y\":[6],\"type\":\"scatter\"},{\"marker\":{\"color\":\"blue\"},\"mode\":\"markers\",\"x\":[4],\"y\":[12],\"type\":\"scatter\"},{\"marker\":{\"color\":\"blue\"},\"mode\":\"markers\",\"x\":[7],\"y\":[6],\"type\":\"scatter\"},{\"marker\":{\"color\":\"blue\"},\"mode\":\"markers\",\"x\":[7],\"y\":[6],\"type\":\"scatter\"},{\"marker\":{\"color\":\"blue\"},\"mode\":\"markers\",\"x\":[8],\"y\":[9],\"type\":\"scatter\"},{\"marker\":{\"color\":\"blue\"},\"mode\":\"markers\",\"x\":[8],\"y\":[12],\"type\":\"scatter\"},{\"marker\":{\"color\":\"green\"},\"mode\":\"markers\",\"x\":[9],\"y\":[10],\"type\":\"scatter\"},{\"marker\":{\"color\":\"green\"},\"mode\":\"markers\",\"x\":[5],\"y\":[8],\"type\":\"scatter\"},{\"marker\":{\"color\":\"green\"},\"mode\":\"markers\",\"x\":[15],\"y\":[12],\"type\":\"scatter\"},{\"marker\":{\"color\":\"blue\"},\"mode\":\"markers\",\"x\":[8],\"y\":[9],\"type\":\"scatter\"},{\"marker\":{\"color\":\"blue\"},\"mode\":\"markers\",\"x\":[9],\"y\":[12],\"type\":\"scatter\"},{\"marker\":{\"color\":\"blue\"},\"mode\":\"markers\",\"x\":[9],\"y\":[12],\"type\":\"scatter\"},{\"marker\":{\"color\":\"blue\"},\"mode\":\"markers\",\"x\":[13],\"y\":[9],\"type\":\"scatter\"},{\"marker\":{\"color\":\"blue\"},\"mode\":\"markers\",\"x\":[12],\"y\":[6],\"type\":\"scatter\"},{\"marker\":{\"color\":\"blue\"},\"mode\":\"markers\",\"x\":[12],\"y\":[6],\"type\":\"scatter\"},{\"marker\":{\"color\":\"blue\"},\"mode\":\"markers\",\"x\":[8],\"y\":[12],\"type\":\"scatter\"},{\"marker\":{\"color\":\"green\"},\"mode\":\"markers\",\"x\":[11],\"y\":[17],\"type\":\"scatter\"},{\"marker\":{\"color\":\"blue\"},\"mode\":\"markers\",\"x\":[13],\"y\":[6],\"type\":\"scatter\"},{\"marker\":{\"color\":\"blue\"},\"mode\":\"markers\",\"x\":[13],\"y\":[6],\"type\":\"scatter\"},{\"marker\":{\"color\":\"blue\"},\"mode\":\"markers\",\"x\":[12],\"y\":[10],\"type\":\"scatter\"},{\"marker\":{\"color\":\"blue\"},\"mode\":\"markers\",\"x\":[12],\"y\":[10],\"type\":\"scatter\"},{\"marker\":{\"color\":\"blue\"},\"mode\":\"markers\",\"x\":[13],\"y\":[9],\"type\":\"scatter\"},{\"marker\":{\"color\":\"orange\"},\"mode\":\"markers\",\"x\":[2],\"y\":[2],\"type\":\"scatter\"},{\"marker\":{\"color\":\"orange\"},\"mode\":\"markers\",\"x\":[18],\"y\":[18],\"type\":\"scatter\"},{\"marker\":{\"color\":\"orange\"},\"mode\":\"markers\",\"x\":[3],\"y\":[15],\"type\":\"scatter\"}],\"layout\":{\"title\":{\"text\":\"Simulation frame 25\"}}},{\"data\":[{\"marker\":{\"color\":\"green\"},\"mode\":\"markers\",\"x\":[0],\"y\":[2],\"type\":\"scatter\"},{\"marker\":{\"color\":\"green\"},\"mode\":\"markers\",\"x\":[-2],\"y\":[6],\"type\":\"scatter\"},{\"marker\":{\"color\":\"blue\"},\"mode\":\"markers\",\"x\":[4],\"y\":[12],\"type\":\"scatter\"},{\"marker\":{\"color\":\"green\"},\"mode\":\"markers\",\"x\":[3],\"y\":[6],\"type\":\"scatter\"},{\"marker\":{\"color\":\"blue\"},\"mode\":\"markers\",\"x\":[4],\"y\":[12],\"type\":\"scatter\"},{\"marker\":{\"color\":\"blue\"},\"mode\":\"markers\",\"x\":[7],\"y\":[6],\"type\":\"scatter\"},{\"marker\":{\"color\":\"blue\"},\"mode\":\"markers\",\"x\":[7],\"y\":[6],\"type\":\"scatter\"},{\"marker\":{\"color\":\"blue\"},\"mode\":\"markers\",\"x\":[8],\"y\":[9],\"type\":\"scatter\"},{\"marker\":{\"color\":\"blue\"},\"mode\":\"markers\",\"x\":[8],\"y\":[12],\"type\":\"scatter\"},{\"marker\":{\"color\":\"green\"},\"mode\":\"markers\",\"x\":[10],\"y\":[10],\"type\":\"scatter\"},{\"marker\":{\"color\":\"green\"},\"mode\":\"markers\",\"x\":[5],\"y\":[8],\"type\":\"scatter\"},{\"marker\":{\"color\":\"green\"},\"mode\":\"markers\",\"x\":[16],\"y\":[12],\"type\":\"scatter\"},{\"marker\":{\"color\":\"blue\"},\"mode\":\"markers\",\"x\":[8],\"y\":[9],\"type\":\"scatter\"},{\"marker\":{\"color\":\"blue\"},\"mode\":\"markers\",\"x\":[9],\"y\":[12],\"type\":\"scatter\"},{\"marker\":{\"color\":\"blue\"},\"mode\":\"markers\",\"x\":[9],\"y\":[12],\"type\":\"scatter\"},{\"marker\":{\"color\":\"blue\"},\"mode\":\"markers\",\"x\":[13],\"y\":[9],\"type\":\"scatter\"},{\"marker\":{\"color\":\"blue\"},\"mode\":\"markers\",\"x\":[12],\"y\":[6],\"type\":\"scatter\"},{\"marker\":{\"color\":\"blue\"},\"mode\":\"markers\",\"x\":[12],\"y\":[6],\"type\":\"scatter\"},{\"marker\":{\"color\":\"blue\"},\"mode\":\"markers\",\"x\":[8],\"y\":[12],\"type\":\"scatter\"},{\"marker\":{\"color\":\"green\"},\"mode\":\"markers\",\"x\":[12],\"y\":[17],\"type\":\"scatter\"},{\"marker\":{\"color\":\"blue\"},\"mode\":\"markers\",\"x\":[13],\"y\":[6],\"type\":\"scatter\"},{\"marker\":{\"color\":\"blue\"},\"mode\":\"markers\",\"x\":[13],\"y\":[6],\"type\":\"scatter\"},{\"marker\":{\"color\":\"blue\"},\"mode\":\"markers\",\"x\":[12],\"y\":[10],\"type\":\"scatter\"},{\"marker\":{\"color\":\"blue\"},\"mode\":\"markers\",\"x\":[12],\"y\":[10],\"type\":\"scatter\"},{\"marker\":{\"color\":\"blue\"},\"mode\":\"markers\",\"x\":[13],\"y\":[9],\"type\":\"scatter\"},{\"marker\":{\"color\":\"orange\"},\"mode\":\"markers\",\"x\":[2],\"y\":[2],\"type\":\"scatter\"},{\"marker\":{\"color\":\"orange\"},\"mode\":\"markers\",\"x\":[18],\"y\":[18],\"type\":\"scatter\"},{\"marker\":{\"color\":\"orange\"},\"mode\":\"markers\",\"x\":[3],\"y\":[15],\"type\":\"scatter\"}],\"layout\":{\"title\":{\"text\":\"Simulation frame 26\"}}},{\"data\":[{\"marker\":{\"color\":\"green\"},\"mode\":\"markers\",\"x\":[-1],\"y\":[2],\"type\":\"scatter\"},{\"marker\":{\"color\":\"green\"},\"mode\":\"markers\",\"x\":[-3],\"y\":[6],\"type\":\"scatter\"},{\"marker\":{\"color\":\"blue\"},\"mode\":\"markers\",\"x\":[4],\"y\":[12],\"type\":\"scatter\"},{\"marker\":{\"color\":\"green\"},\"mode\":\"markers\",\"x\":[3],\"y\":[6],\"type\":\"scatter\"},{\"marker\":{\"color\":\"blue\"},\"mode\":\"markers\",\"x\":[4],\"y\":[12],\"type\":\"scatter\"},{\"marker\":{\"color\":\"blue\"},\"mode\":\"markers\",\"x\":[7],\"y\":[6],\"type\":\"scatter\"},{\"marker\":{\"color\":\"blue\"},\"mode\":\"markers\",\"x\":[7],\"y\":[6],\"type\":\"scatter\"},{\"marker\":{\"color\":\"blue\"},\"mode\":\"markers\",\"x\":[8],\"y\":[9],\"type\":\"scatter\"},{\"marker\":{\"color\":\"blue\"},\"mode\":\"markers\",\"x\":[8],\"y\":[12],\"type\":\"scatter\"},{\"marker\":{\"color\":\"green\"},\"mode\":\"markers\",\"x\":[10],\"y\":[9],\"type\":\"scatter\"},{\"marker\":{\"color\":\"green\"},\"mode\":\"markers\",\"x\":[6],\"y\":[8],\"type\":\"scatter\"},{\"marker\":{\"color\":\"green\"},\"mode\":\"markers\",\"x\":[15],\"y\":[12],\"type\":\"scatter\"},{\"marker\":{\"color\":\"blue\"},\"mode\":\"markers\",\"x\":[8],\"y\":[9],\"type\":\"scatter\"},{\"marker\":{\"color\":\"blue\"},\"mode\":\"markers\",\"x\":[9],\"y\":[12],\"type\":\"scatter\"},{\"marker\":{\"color\":\"blue\"},\"mode\":\"markers\",\"x\":[9],\"y\":[12],\"type\":\"scatter\"},{\"marker\":{\"color\":\"blue\"},\"mode\":\"markers\",\"x\":[13],\"y\":[9],\"type\":\"scatter\"},{\"marker\":{\"color\":\"blue\"},\"mode\":\"markers\",\"x\":[12],\"y\":[6],\"type\":\"scatter\"},{\"marker\":{\"color\":\"blue\"},\"mode\":\"markers\",\"x\":[12],\"y\":[6],\"type\":\"scatter\"},{\"marker\":{\"color\":\"blue\"},\"mode\":\"markers\",\"x\":[8],\"y\":[12],\"type\":\"scatter\"},{\"marker\":{\"color\":\"green\"},\"mode\":\"markers\",\"x\":[13],\"y\":[17],\"type\":\"scatter\"},{\"marker\":{\"color\":\"blue\"},\"mode\":\"markers\",\"x\":[13],\"y\":[6],\"type\":\"scatter\"},{\"marker\":{\"color\":\"blue\"},\"mode\":\"markers\",\"x\":[13],\"y\":[6],\"type\":\"scatter\"},{\"marker\":{\"color\":\"blue\"},\"mode\":\"markers\",\"x\":[12],\"y\":[10],\"type\":\"scatter\"},{\"marker\":{\"color\":\"blue\"},\"mode\":\"markers\",\"x\":[12],\"y\":[10],\"type\":\"scatter\"},{\"marker\":{\"color\":\"blue\"},\"mode\":\"markers\",\"x\":[13],\"y\":[9],\"type\":\"scatter\"},{\"marker\":{\"color\":\"orange\"},\"mode\":\"markers\",\"x\":[2],\"y\":[2],\"type\":\"scatter\"},{\"marker\":{\"color\":\"orange\"},\"mode\":\"markers\",\"x\":[18],\"y\":[18],\"type\":\"scatter\"},{\"marker\":{\"color\":\"orange\"},\"mode\":\"markers\",\"x\":[3],\"y\":[15],\"type\":\"scatter\"}],\"layout\":{\"title\":{\"text\":\"Simulation frame 27\"}}},{\"data\":[{\"marker\":{\"color\":\"green\"},\"mode\":\"markers\",\"x\":[-1],\"y\":[1],\"type\":\"scatter\"},{\"marker\":{\"color\":\"green\"},\"mode\":\"markers\",\"x\":[-2],\"y\":[6],\"type\":\"scatter\"},{\"marker\":{\"color\":\"blue\"},\"mode\":\"markers\",\"x\":[4],\"y\":[12],\"type\":\"scatter\"},{\"marker\":{\"color\":\"green\"},\"mode\":\"markers\",\"x\":[4],\"y\":[6],\"type\":\"scatter\"},{\"marker\":{\"color\":\"blue\"},\"mode\":\"markers\",\"x\":[4],\"y\":[12],\"type\":\"scatter\"},{\"marker\":{\"color\":\"blue\"},\"mode\":\"markers\",\"x\":[7],\"y\":[6],\"type\":\"scatter\"},{\"marker\":{\"color\":\"blue\"},\"mode\":\"markers\",\"x\":[7],\"y\":[6],\"type\":\"scatter\"},{\"marker\":{\"color\":\"blue\"},\"mode\":\"markers\",\"x\":[8],\"y\":[9],\"type\":\"scatter\"},{\"marker\":{\"color\":\"blue\"},\"mode\":\"markers\",\"x\":[8],\"y\":[12],\"type\":\"scatter\"},{\"marker\":{\"color\":\"green\"},\"mode\":\"markers\",\"x\":[10],\"y\":[10],\"type\":\"scatter\"},{\"marker\":{\"color\":\"green\"},\"mode\":\"markers\",\"x\":[5],\"y\":[8],\"type\":\"scatter\"},{\"marker\":{\"color\":\"green\"},\"mode\":\"markers\",\"x\":[15],\"y\":[11],\"type\":\"scatter\"},{\"marker\":{\"color\":\"blue\"},\"mode\":\"markers\",\"x\":[8],\"y\":[9],\"type\":\"scatter\"},{\"marker\":{\"color\":\"blue\"},\"mode\":\"markers\",\"x\":[9],\"y\":[12],\"type\":\"scatter\"},{\"marker\":{\"color\":\"blue\"},\"mode\":\"markers\",\"x\":[9],\"y\":[12],\"type\":\"scatter\"},{\"marker\":{\"color\":\"blue\"},\"mode\":\"markers\",\"x\":[13],\"y\":[9],\"type\":\"scatter\"},{\"marker\":{\"color\":\"blue\"},\"mode\":\"markers\",\"x\":[12],\"y\":[6],\"type\":\"scatter\"},{\"marker\":{\"color\":\"blue\"},\"mode\":\"markers\",\"x\":[12],\"y\":[6],\"type\":\"scatter\"},{\"marker\":{\"color\":\"blue\"},\"mode\":\"markers\",\"x\":[8],\"y\":[12],\"type\":\"scatter\"},{\"marker\":{\"color\":\"green\"},\"mode\":\"markers\",\"x\":[12],\"y\":[17],\"type\":\"scatter\"},{\"marker\":{\"color\":\"blue\"},\"mode\":\"markers\",\"x\":[13],\"y\":[6],\"type\":\"scatter\"},{\"marker\":{\"color\":\"blue\"},\"mode\":\"markers\",\"x\":[13],\"y\":[6],\"type\":\"scatter\"},{\"marker\":{\"color\":\"blue\"},\"mode\":\"markers\",\"x\":[12],\"y\":[10],\"type\":\"scatter\"},{\"marker\":{\"color\":\"blue\"},\"mode\":\"markers\",\"x\":[12],\"y\":[10],\"type\":\"scatter\"},{\"marker\":{\"color\":\"blue\"},\"mode\":\"markers\",\"x\":[13],\"y\":[9],\"type\":\"scatter\"},{\"marker\":{\"color\":\"orange\"},\"mode\":\"markers\",\"x\":[2],\"y\":[2],\"type\":\"scatter\"},{\"marker\":{\"color\":\"orange\"},\"mode\":\"markers\",\"x\":[18],\"y\":[18],\"type\":\"scatter\"},{\"marker\":{\"color\":\"orange\"},\"mode\":\"markers\",\"x\":[3],\"y\":[15],\"type\":\"scatter\"}],\"layout\":{\"title\":{\"text\":\"Simulation frame 28\"}}},{\"data\":[{\"marker\":{\"color\":\"green\"},\"mode\":\"markers\",\"x\":[-1],\"y\":[0],\"type\":\"scatter\"},{\"marker\":{\"color\":\"green\"},\"mode\":\"markers\",\"x\":[-1],\"y\":[6],\"type\":\"scatter\"},{\"marker\":{\"color\":\"blue\"},\"mode\":\"markers\",\"x\":[4],\"y\":[12],\"type\":\"scatter\"},{\"marker\":{\"color\":\"green\"},\"mode\":\"markers\",\"x\":[4],\"y\":[5],\"type\":\"scatter\"},{\"marker\":{\"color\":\"blue\"},\"mode\":\"markers\",\"x\":[4],\"y\":[12],\"type\":\"scatter\"},{\"marker\":{\"color\":\"blue\"},\"mode\":\"markers\",\"x\":[7],\"y\":[6],\"type\":\"scatter\"},{\"marker\":{\"color\":\"blue\"},\"mode\":\"markers\",\"x\":[7],\"y\":[6],\"type\":\"scatter\"},{\"marker\":{\"color\":\"blue\"},\"mode\":\"markers\",\"x\":[8],\"y\":[9],\"type\":\"scatter\"},{\"marker\":{\"color\":\"blue\"},\"mode\":\"markers\",\"x\":[8],\"y\":[12],\"type\":\"scatter\"},{\"marker\":{\"color\":\"green\"},\"mode\":\"markers\",\"x\":[9],\"y\":[10],\"type\":\"scatter\"},{\"marker\":{\"color\":\"green\"},\"mode\":\"markers\",\"x\":[5],\"y\":[9],\"type\":\"scatter\"},{\"marker\":{\"color\":\"green\"},\"mode\":\"markers\",\"x\":[15],\"y\":[12],\"type\":\"scatter\"},{\"marker\":{\"color\":\"blue\"},\"mode\":\"markers\",\"x\":[8],\"y\":[9],\"type\":\"scatter\"},{\"marker\":{\"color\":\"blue\"},\"mode\":\"markers\",\"x\":[9],\"y\":[12],\"type\":\"scatter\"},{\"marker\":{\"color\":\"blue\"},\"mode\":\"markers\",\"x\":[9],\"y\":[12],\"type\":\"scatter\"},{\"marker\":{\"color\":\"blue\"},\"mode\":\"markers\",\"x\":[13],\"y\":[9],\"type\":\"scatter\"},{\"marker\":{\"color\":\"blue\"},\"mode\":\"markers\",\"x\":[12],\"y\":[6],\"type\":\"scatter\"},{\"marker\":{\"color\":\"blue\"},\"mode\":\"markers\",\"x\":[12],\"y\":[6],\"type\":\"scatter\"},{\"marker\":{\"color\":\"blue\"},\"mode\":\"markers\",\"x\":[8],\"y\":[12],\"type\":\"scatter\"},{\"marker\":{\"color\":\"green\"},\"mode\":\"markers\",\"x\":[12],\"y\":[18],\"type\":\"scatter\"},{\"marker\":{\"color\":\"blue\"},\"mode\":\"markers\",\"x\":[13],\"y\":[6],\"type\":\"scatter\"},{\"marker\":{\"color\":\"blue\"},\"mode\":\"markers\",\"x\":[13],\"y\":[6],\"type\":\"scatter\"},{\"marker\":{\"color\":\"blue\"},\"mode\":\"markers\",\"x\":[12],\"y\":[10],\"type\":\"scatter\"},{\"marker\":{\"color\":\"blue\"},\"mode\":\"markers\",\"x\":[12],\"y\":[10],\"type\":\"scatter\"},{\"marker\":{\"color\":\"blue\"},\"mode\":\"markers\",\"x\":[13],\"y\":[9],\"type\":\"scatter\"},{\"marker\":{\"color\":\"orange\"},\"mode\":\"markers\",\"x\":[2],\"y\":[2],\"type\":\"scatter\"},{\"marker\":{\"color\":\"orange\"},\"mode\":\"markers\",\"x\":[18],\"y\":[18],\"type\":\"scatter\"},{\"marker\":{\"color\":\"orange\"},\"mode\":\"markers\",\"x\":[3],\"y\":[15],\"type\":\"scatter\"}],\"layout\":{\"title\":{\"text\":\"Simulation frame 29\"}}},{\"data\":[{\"marker\":{\"color\":\"green\"},\"mode\":\"markers\",\"x\":[-1],\"y\":[-1],\"type\":\"scatter\"},{\"marker\":{\"color\":\"green\"},\"mode\":\"markers\",\"x\":[-1],\"y\":[5],\"type\":\"scatter\"},{\"marker\":{\"color\":\"blue\"},\"mode\":\"markers\",\"x\":[4],\"y\":[12],\"type\":\"scatter\"},{\"marker\":{\"color\":\"green\"},\"mode\":\"markers\",\"x\":[4],\"y\":[6],\"type\":\"scatter\"},{\"marker\":{\"color\":\"blue\"},\"mode\":\"markers\",\"x\":[4],\"y\":[12],\"type\":\"scatter\"},{\"marker\":{\"color\":\"blue\"},\"mode\":\"markers\",\"x\":[7],\"y\":[6],\"type\":\"scatter\"},{\"marker\":{\"color\":\"blue\"},\"mode\":\"markers\",\"x\":[7],\"y\":[6],\"type\":\"scatter\"},{\"marker\":{\"color\":\"blue\"},\"mode\":\"markers\",\"x\":[8],\"y\":[9],\"type\":\"scatter\"},{\"marker\":{\"color\":\"blue\"},\"mode\":\"markers\",\"x\":[8],\"y\":[12],\"type\":\"scatter\"},{\"marker\":{\"color\":\"green\"},\"mode\":\"markers\",\"x\":[8],\"y\":[10],\"type\":\"scatter\"},{\"marker\":{\"color\":\"green\"},\"mode\":\"markers\",\"x\":[5],\"y\":[9],\"type\":\"scatter\"},{\"marker\":{\"color\":\"green\"},\"mode\":\"markers\",\"x\":[15],\"y\":[12],\"type\":\"scatter\"},{\"marker\":{\"color\":\"blue\"},\"mode\":\"markers\",\"x\":[8],\"y\":[9],\"type\":\"scatter\"},{\"marker\":{\"color\":\"blue\"},\"mode\":\"markers\",\"x\":[9],\"y\":[12],\"type\":\"scatter\"},{\"marker\":{\"color\":\"blue\"},\"mode\":\"markers\",\"x\":[9],\"y\":[12],\"type\":\"scatter\"},{\"marker\":{\"color\":\"blue\"},\"mode\":\"markers\",\"x\":[13],\"y\":[9],\"type\":\"scatter\"},{\"marker\":{\"color\":\"blue\"},\"mode\":\"markers\",\"x\":[12],\"y\":[6],\"type\":\"scatter\"},{\"marker\":{\"color\":\"blue\"},\"mode\":\"markers\",\"x\":[12],\"y\":[6],\"type\":\"scatter\"},{\"marker\":{\"color\":\"blue\"},\"mode\":\"markers\",\"x\":[8],\"y\":[12],\"type\":\"scatter\"},{\"marker\":{\"color\":\"green\"},\"mode\":\"markers\",\"x\":[12],\"y\":[19],\"type\":\"scatter\"},{\"marker\":{\"color\":\"blue\"},\"mode\":\"markers\",\"x\":[13],\"y\":[6],\"type\":\"scatter\"},{\"marker\":{\"color\":\"blue\"},\"mode\":\"markers\",\"x\":[13],\"y\":[6],\"type\":\"scatter\"},{\"marker\":{\"color\":\"blue\"},\"mode\":\"markers\",\"x\":[12],\"y\":[10],\"type\":\"scatter\"},{\"marker\":{\"color\":\"blue\"},\"mode\":\"markers\",\"x\":[12],\"y\":[10],\"type\":\"scatter\"},{\"marker\":{\"color\":\"blue\"},\"mode\":\"markers\",\"x\":[13],\"y\":[9],\"type\":\"scatter\"},{\"marker\":{\"color\":\"orange\"},\"mode\":\"markers\",\"x\":[2],\"y\":[2],\"type\":\"scatter\"},{\"marker\":{\"color\":\"orange\"},\"mode\":\"markers\",\"x\":[18],\"y\":[18],\"type\":\"scatter\"},{\"marker\":{\"color\":\"orange\"},\"mode\":\"markers\",\"x\":[3],\"y\":[15],\"type\":\"scatter\"}],\"layout\":{\"title\":{\"text\":\"Simulation frame 30\"}}},{\"data\":[{\"marker\":{\"color\":\"green\"},\"mode\":\"markers\",\"x\":[-2],\"y\":[-1],\"type\":\"scatter\"},{\"marker\":{\"color\":\"green\"},\"mode\":\"markers\",\"x\":[-1],\"y\":[6],\"type\":\"scatter\"},{\"marker\":{\"color\":\"blue\"},\"mode\":\"markers\",\"x\":[4],\"y\":[12],\"type\":\"scatter\"},{\"marker\":{\"color\":\"green\"},\"mode\":\"markers\",\"x\":[4],\"y\":[6],\"type\":\"scatter\"},{\"marker\":{\"color\":\"blue\"},\"mode\":\"markers\",\"x\":[4],\"y\":[12],\"type\":\"scatter\"},{\"marker\":{\"color\":\"blue\"},\"mode\":\"markers\",\"x\":[7],\"y\":[6],\"type\":\"scatter\"},{\"marker\":{\"color\":\"blue\"},\"mode\":\"markers\",\"x\":[7],\"y\":[6],\"type\":\"scatter\"},{\"marker\":{\"color\":\"blue\"},\"mode\":\"markers\",\"x\":[8],\"y\":[9],\"type\":\"scatter\"},{\"marker\":{\"color\":\"blue\"},\"mode\":\"markers\",\"x\":[8],\"y\":[12],\"type\":\"scatter\"},{\"marker\":{\"color\":\"green\"},\"mode\":\"markers\",\"x\":[8],\"y\":[9],\"type\":\"scatter\"},{\"marker\":{\"color\":\"green\"},\"mode\":\"markers\",\"x\":[5],\"y\":[10],\"type\":\"scatter\"},{\"marker\":{\"color\":\"green\"},\"mode\":\"markers\",\"x\":[14],\"y\":[12],\"type\":\"scatter\"},{\"marker\":{\"color\":\"blue\"},\"mode\":\"markers\",\"x\":[8],\"y\":[9],\"type\":\"scatter\"},{\"marker\":{\"color\":\"blue\"},\"mode\":\"markers\",\"x\":[9],\"y\":[12],\"type\":\"scatter\"},{\"marker\":{\"color\":\"blue\"},\"mode\":\"markers\",\"x\":[9],\"y\":[12],\"type\":\"scatter\"},{\"marker\":{\"color\":\"blue\"},\"mode\":\"markers\",\"x\":[13],\"y\":[9],\"type\":\"scatter\"},{\"marker\":{\"color\":\"blue\"},\"mode\":\"markers\",\"x\":[12],\"y\":[6],\"type\":\"scatter\"},{\"marker\":{\"color\":\"blue\"},\"mode\":\"markers\",\"x\":[12],\"y\":[6],\"type\":\"scatter\"},{\"marker\":{\"color\":\"blue\"},\"mode\":\"markers\",\"x\":[8],\"y\":[12],\"type\":\"scatter\"},{\"marker\":{\"color\":\"green\"},\"mode\":\"markers\",\"x\":[11],\"y\":[19],\"type\":\"scatter\"},{\"marker\":{\"color\":\"blue\"},\"mode\":\"markers\",\"x\":[13],\"y\":[6],\"type\":\"scatter\"},{\"marker\":{\"color\":\"blue\"},\"mode\":\"markers\",\"x\":[13],\"y\":[6],\"type\":\"scatter\"},{\"marker\":{\"color\":\"blue\"},\"mode\":\"markers\",\"x\":[12],\"y\":[10],\"type\":\"scatter\"},{\"marker\":{\"color\":\"blue\"},\"mode\":\"markers\",\"x\":[12],\"y\":[10],\"type\":\"scatter\"},{\"marker\":{\"color\":\"blue\"},\"mode\":\"markers\",\"x\":[13],\"y\":[9],\"type\":\"scatter\"},{\"marker\":{\"color\":\"orange\"},\"mode\":\"markers\",\"x\":[2],\"y\":[2],\"type\":\"scatter\"},{\"marker\":{\"color\":\"orange\"},\"mode\":\"markers\",\"x\":[18],\"y\":[18],\"type\":\"scatter\"},{\"marker\":{\"color\":\"orange\"},\"mode\":\"markers\",\"x\":[3],\"y\":[15],\"type\":\"scatter\"}],\"layout\":{\"title\":{\"text\":\"Simulation frame 31\"}}},{\"data\":[{\"marker\":{\"color\":\"green\"},\"mode\":\"markers\",\"x\":[-3],\"y\":[-1],\"type\":\"scatter\"},{\"marker\":{\"color\":\"green\"},\"mode\":\"markers\",\"x\":[-1],\"y\":[7],\"type\":\"scatter\"},{\"marker\":{\"color\":\"blue\"},\"mode\":\"markers\",\"x\":[4],\"y\":[12],\"type\":\"scatter\"},{\"marker\":{\"color\":\"green\"},\"mode\":\"markers\",\"x\":[5],\"y\":[6],\"type\":\"scatter\"},{\"marker\":{\"color\":\"blue\"},\"mode\":\"markers\",\"x\":[4],\"y\":[12],\"type\":\"scatter\"},{\"marker\":{\"color\":\"blue\"},\"mode\":\"markers\",\"x\":[7],\"y\":[6],\"type\":\"scatter\"},{\"marker\":{\"color\":\"blue\"},\"mode\":\"markers\",\"x\":[7],\"y\":[6],\"type\":\"scatter\"},{\"marker\":{\"color\":\"blue\"},\"mode\":\"markers\",\"x\":[8],\"y\":[9],\"type\":\"scatter\"},{\"marker\":{\"color\":\"blue\"},\"mode\":\"markers\",\"x\":[8],\"y\":[12],\"type\":\"scatter\"},{\"marker\":{\"color\":\"green\"},\"mode\":\"markers\",\"x\":[9],\"y\":[9],\"type\":\"scatter\"},{\"marker\":{\"color\":\"green\"},\"mode\":\"markers\",\"x\":[6],\"y\":[10],\"type\":\"scatter\"},{\"marker\":{\"color\":\"green\"},\"mode\":\"markers\",\"x\":[14],\"y\":[13],\"type\":\"scatter\"},{\"marker\":{\"color\":\"blue\"},\"mode\":\"markers\",\"x\":[8],\"y\":[9],\"type\":\"scatter\"},{\"marker\":{\"color\":\"blue\"},\"mode\":\"markers\",\"x\":[9],\"y\":[12],\"type\":\"scatter\"},{\"marker\":{\"color\":\"blue\"},\"mode\":\"markers\",\"x\":[9],\"y\":[12],\"type\":\"scatter\"},{\"marker\":{\"color\":\"blue\"},\"mode\":\"markers\",\"x\":[13],\"y\":[9],\"type\":\"scatter\"},{\"marker\":{\"color\":\"blue\"},\"mode\":\"markers\",\"x\":[12],\"y\":[6],\"type\":\"scatter\"},{\"marker\":{\"color\":\"blue\"},\"mode\":\"markers\",\"x\":[12],\"y\":[6],\"type\":\"scatter\"},{\"marker\":{\"color\":\"blue\"},\"mode\":\"markers\",\"x\":[8],\"y\":[12],\"type\":\"scatter\"},{\"marker\":{\"color\":\"green\"},\"mode\":\"markers\",\"x\":[12],\"y\":[19],\"type\":\"scatter\"},{\"marker\":{\"color\":\"blue\"},\"mode\":\"markers\",\"x\":[13],\"y\":[6],\"type\":\"scatter\"},{\"marker\":{\"color\":\"blue\"},\"mode\":\"markers\",\"x\":[13],\"y\":[6],\"type\":\"scatter\"},{\"marker\":{\"color\":\"blue\"},\"mode\":\"markers\",\"x\":[12],\"y\":[10],\"type\":\"scatter\"},{\"marker\":{\"color\":\"blue\"},\"mode\":\"markers\",\"x\":[12],\"y\":[10],\"type\":\"scatter\"},{\"marker\":{\"color\":\"blue\"},\"mode\":\"markers\",\"x\":[13],\"y\":[9],\"type\":\"scatter\"},{\"marker\":{\"color\":\"orange\"},\"mode\":\"markers\",\"x\":[2],\"y\":[2],\"type\":\"scatter\"},{\"marker\":{\"color\":\"orange\"},\"mode\":\"markers\",\"x\":[18],\"y\":[18],\"type\":\"scatter\"},{\"marker\":{\"color\":\"orange\"},\"mode\":\"markers\",\"x\":[3],\"y\":[15],\"type\":\"scatter\"}],\"layout\":{\"title\":{\"text\":\"Simulation frame 32\"}}},{\"data\":[{\"marker\":{\"color\":\"green\"},\"mode\":\"markers\",\"x\":[-3],\"y\":[0],\"type\":\"scatter\"},{\"marker\":{\"color\":\"green\"},\"mode\":\"markers\",\"x\":[-1],\"y\":[7],\"type\":\"scatter\"},{\"marker\":{\"color\":\"blue\"},\"mode\":\"markers\",\"x\":[4],\"y\":[12],\"type\":\"scatter\"},{\"marker\":{\"color\":\"green\"},\"mode\":\"markers\",\"x\":[5],\"y\":[5],\"type\":\"scatter\"},{\"marker\":{\"color\":\"blue\"},\"mode\":\"markers\",\"x\":[4],\"y\":[12],\"type\":\"scatter\"},{\"marker\":{\"color\":\"blue\"},\"mode\":\"markers\",\"x\":[7],\"y\":[6],\"type\":\"scatter\"},{\"marker\":{\"color\":\"blue\"},\"mode\":\"markers\",\"x\":[7],\"y\":[6],\"type\":\"scatter\"},{\"marker\":{\"color\":\"blue\"},\"mode\":\"markers\",\"x\":[8],\"y\":[9],\"type\":\"scatter\"},{\"marker\":{\"color\":\"blue\"},\"mode\":\"markers\",\"x\":[8],\"y\":[12],\"type\":\"scatter\"},{\"marker\":{\"color\":\"green\"},\"mode\":\"markers\",\"x\":[10],\"y\":[9],\"type\":\"scatter\"},{\"marker\":{\"color\":\"green\"},\"mode\":\"markers\",\"x\":[5],\"y\":[10],\"type\":\"scatter\"},{\"marker\":{\"color\":\"green\"},\"mode\":\"markers\",\"x\":[13],\"y\":[13],\"type\":\"scatter\"},{\"marker\":{\"color\":\"blue\"},\"mode\":\"markers\",\"x\":[8],\"y\":[9],\"type\":\"scatter\"},{\"marker\":{\"color\":\"blue\"},\"mode\":\"markers\",\"x\":[9],\"y\":[12],\"type\":\"scatter\"},{\"marker\":{\"color\":\"blue\"},\"mode\":\"markers\",\"x\":[9],\"y\":[12],\"type\":\"scatter\"},{\"marker\":{\"color\":\"blue\"},\"mode\":\"markers\",\"x\":[13],\"y\":[9],\"type\":\"scatter\"},{\"marker\":{\"color\":\"blue\"},\"mode\":\"markers\",\"x\":[12],\"y\":[6],\"type\":\"scatter\"},{\"marker\":{\"color\":\"blue\"},\"mode\":\"markers\",\"x\":[12],\"y\":[6],\"type\":\"scatter\"},{\"marker\":{\"color\":\"blue\"},\"mode\":\"markers\",\"x\":[8],\"y\":[12],\"type\":\"scatter\"},{\"marker\":{\"color\":\"green\"},\"mode\":\"markers\",\"x\":[12],\"y\":[20],\"type\":\"scatter\"},{\"marker\":{\"color\":\"blue\"},\"mode\":\"markers\",\"x\":[13],\"y\":[6],\"type\":\"scatter\"},{\"marker\":{\"color\":\"blue\"},\"mode\":\"markers\",\"x\":[13],\"y\":[6],\"type\":\"scatter\"},{\"marker\":{\"color\":\"blue\"},\"mode\":\"markers\",\"x\":[12],\"y\":[10],\"type\":\"scatter\"},{\"marker\":{\"color\":\"blue\"},\"mode\":\"markers\",\"x\":[12],\"y\":[10],\"type\":\"scatter\"},{\"marker\":{\"color\":\"blue\"},\"mode\":\"markers\",\"x\":[13],\"y\":[9],\"type\":\"scatter\"},{\"marker\":{\"color\":\"orange\"},\"mode\":\"markers\",\"x\":[2],\"y\":[2],\"type\":\"scatter\"},{\"marker\":{\"color\":\"orange\"},\"mode\":\"markers\",\"x\":[18],\"y\":[18],\"type\":\"scatter\"},{\"marker\":{\"color\":\"orange\"},\"mode\":\"markers\",\"x\":[3],\"y\":[15],\"type\":\"scatter\"}],\"layout\":{\"title\":{\"text\":\"Simulation frame 33\"}}},{\"data\":[{\"marker\":{\"color\":\"green\"},\"mode\":\"markers\",\"x\":[-3],\"y\":[0],\"type\":\"scatter\"},{\"marker\":{\"color\":\"green\"},\"mode\":\"markers\",\"x\":[-2],\"y\":[7],\"type\":\"scatter\"},{\"marker\":{\"color\":\"blue\"},\"mode\":\"markers\",\"x\":[4],\"y\":[12],\"type\":\"scatter\"},{\"marker\":{\"color\":\"green\"},\"mode\":\"markers\",\"x\":[4],\"y\":[5],\"type\":\"scatter\"},{\"marker\":{\"color\":\"blue\"},\"mode\":\"markers\",\"x\":[4],\"y\":[12],\"type\":\"scatter\"},{\"marker\":{\"color\":\"blue\"},\"mode\":\"markers\",\"x\":[7],\"y\":[6],\"type\":\"scatter\"},{\"marker\":{\"color\":\"blue\"},\"mode\":\"markers\",\"x\":[7],\"y\":[6],\"type\":\"scatter\"},{\"marker\":{\"color\":\"blue\"},\"mode\":\"markers\",\"x\":[8],\"y\":[9],\"type\":\"scatter\"},{\"marker\":{\"color\":\"blue\"},\"mode\":\"markers\",\"x\":[8],\"y\":[12],\"type\":\"scatter\"},{\"marker\":{\"color\":\"green\"},\"mode\":\"markers\",\"x\":[10],\"y\":[8],\"type\":\"scatter\"},{\"marker\":{\"color\":\"green\"},\"mode\":\"markers\",\"x\":[4],\"y\":[10],\"type\":\"scatter\"},{\"marker\":{\"color\":\"green\"},\"mode\":\"markers\",\"x\":[12],\"y\":[13],\"type\":\"scatter\"},{\"marker\":{\"color\":\"blue\"},\"mode\":\"markers\",\"x\":[8],\"y\":[9],\"type\":\"scatter\"},{\"marker\":{\"color\":\"blue\"},\"mode\":\"markers\",\"x\":[9],\"y\":[12],\"type\":\"scatter\"},{\"marker\":{\"color\":\"blue\"},\"mode\":\"markers\",\"x\":[9],\"y\":[12],\"type\":\"scatter\"},{\"marker\":{\"color\":\"blue\"},\"mode\":\"markers\",\"x\":[13],\"y\":[9],\"type\":\"scatter\"},{\"marker\":{\"color\":\"blue\"},\"mode\":\"markers\",\"x\":[12],\"y\":[6],\"type\":\"scatter\"},{\"marker\":{\"color\":\"blue\"},\"mode\":\"markers\",\"x\":[12],\"y\":[6],\"type\":\"scatter\"},{\"marker\":{\"color\":\"blue\"},\"mode\":\"markers\",\"x\":[8],\"y\":[12],\"type\":\"scatter\"},{\"marker\":{\"color\":\"green\"},\"mode\":\"markers\",\"x\":[12],\"y\":[21],\"type\":\"scatter\"},{\"marker\":{\"color\":\"blue\"},\"mode\":\"markers\",\"x\":[13],\"y\":[6],\"type\":\"scatter\"},{\"marker\":{\"color\":\"blue\"},\"mode\":\"markers\",\"x\":[13],\"y\":[6],\"type\":\"scatter\"},{\"marker\":{\"color\":\"blue\"},\"mode\":\"markers\",\"x\":[12],\"y\":[10],\"type\":\"scatter\"},{\"marker\":{\"color\":\"blue\"},\"mode\":\"markers\",\"x\":[12],\"y\":[10],\"type\":\"scatter\"},{\"marker\":{\"color\":\"blue\"},\"mode\":\"markers\",\"x\":[13],\"y\":[9],\"type\":\"scatter\"},{\"marker\":{\"color\":\"orange\"},\"mode\":\"markers\",\"x\":[2],\"y\":[2],\"type\":\"scatter\"},{\"marker\":{\"color\":\"orange\"},\"mode\":\"markers\",\"x\":[18],\"y\":[18],\"type\":\"scatter\"},{\"marker\":{\"color\":\"orange\"},\"mode\":\"markers\",\"x\":[3],\"y\":[15],\"type\":\"scatter\"}],\"layout\":{\"title\":{\"text\":\"Simulation frame 34\"}}},{\"data\":[{\"marker\":{\"color\":\"green\"},\"mode\":\"markers\",\"x\":[-3],\"y\":[-1],\"type\":\"scatter\"},{\"marker\":{\"color\":\"green\"},\"mode\":\"markers\",\"x\":[-3],\"y\":[7],\"type\":\"scatter\"},{\"marker\":{\"color\":\"blue\"},\"mode\":\"markers\",\"x\":[4],\"y\":[12],\"type\":\"scatter\"},{\"marker\":{\"color\":\"green\"},\"mode\":\"markers\",\"x\":[4],\"y\":[5],\"type\":\"scatter\"},{\"marker\":{\"color\":\"blue\"},\"mode\":\"markers\",\"x\":[4],\"y\":[12],\"type\":\"scatter\"},{\"marker\":{\"color\":\"blue\"},\"mode\":\"markers\",\"x\":[7],\"y\":[6],\"type\":\"scatter\"},{\"marker\":{\"color\":\"blue\"},\"mode\":\"markers\",\"x\":[7],\"y\":[6],\"type\":\"scatter\"},{\"marker\":{\"color\":\"blue\"},\"mode\":\"markers\",\"x\":[8],\"y\":[9],\"type\":\"scatter\"},{\"marker\":{\"color\":\"blue\"},\"mode\":\"markers\",\"x\":[8],\"y\":[12],\"type\":\"scatter\"},{\"marker\":{\"color\":\"green\"},\"mode\":\"markers\",\"x\":[10],\"y\":[9],\"type\":\"scatter\"},{\"marker\":{\"color\":\"green\"},\"mode\":\"markers\",\"x\":[4],\"y\":[9],\"type\":\"scatter\"},{\"marker\":{\"color\":\"green\"},\"mode\":\"markers\",\"x\":[12],\"y\":[13],\"type\":\"scatter\"},{\"marker\":{\"color\":\"blue\"},\"mode\":\"markers\",\"x\":[8],\"y\":[9],\"type\":\"scatter\"},{\"marker\":{\"color\":\"blue\"},\"mode\":\"markers\",\"x\":[9],\"y\":[12],\"type\":\"scatter\"},{\"marker\":{\"color\":\"blue\"},\"mode\":\"markers\",\"x\":[9],\"y\":[12],\"type\":\"scatter\"},{\"marker\":{\"color\":\"blue\"},\"mode\":\"markers\",\"x\":[13],\"y\":[9],\"type\":\"scatter\"},{\"marker\":{\"color\":\"blue\"},\"mode\":\"markers\",\"x\":[12],\"y\":[6],\"type\":\"scatter\"},{\"marker\":{\"color\":\"blue\"},\"mode\":\"markers\",\"x\":[12],\"y\":[6],\"type\":\"scatter\"},{\"marker\":{\"color\":\"blue\"},\"mode\":\"markers\",\"x\":[8],\"y\":[12],\"type\":\"scatter\"},{\"marker\":{\"color\":\"green\"},\"mode\":\"markers\",\"x\":[12],\"y\":[21],\"type\":\"scatter\"},{\"marker\":{\"color\":\"blue\"},\"mode\":\"markers\",\"x\":[13],\"y\":[6],\"type\":\"scatter\"},{\"marker\":{\"color\":\"blue\"},\"mode\":\"markers\",\"x\":[13],\"y\":[6],\"type\":\"scatter\"},{\"marker\":{\"color\":\"blue\"},\"mode\":\"markers\",\"x\":[12],\"y\":[10],\"type\":\"scatter\"},{\"marker\":{\"color\":\"blue\"},\"mode\":\"markers\",\"x\":[12],\"y\":[10],\"type\":\"scatter\"},{\"marker\":{\"color\":\"blue\"},\"mode\":\"markers\",\"x\":[13],\"y\":[9],\"type\":\"scatter\"},{\"marker\":{\"color\":\"orange\"},\"mode\":\"markers\",\"x\":[2],\"y\":[2],\"type\":\"scatter\"},{\"marker\":{\"color\":\"orange\"},\"mode\":\"markers\",\"x\":[18],\"y\":[18],\"type\":\"scatter\"},{\"marker\":{\"color\":\"orange\"},\"mode\":\"markers\",\"x\":[3],\"y\":[15],\"type\":\"scatter\"}],\"layout\":{\"title\":{\"text\":\"Simulation frame 35\"}}},{\"data\":[{\"marker\":{\"color\":\"green\"},\"mode\":\"markers\",\"x\":[-4],\"y\":[-1],\"type\":\"scatter\"},{\"marker\":{\"color\":\"green\"},\"mode\":\"markers\",\"x\":[-3],\"y\":[6],\"type\":\"scatter\"},{\"marker\":{\"color\":\"blue\"},\"mode\":\"markers\",\"x\":[4],\"y\":[12],\"type\":\"scatter\"},{\"marker\":{\"color\":\"green\"},\"mode\":\"markers\",\"x\":[5],\"y\":[5],\"type\":\"scatter\"},{\"marker\":{\"color\":\"blue\"},\"mode\":\"markers\",\"x\":[4],\"y\":[12],\"type\":\"scatter\"},{\"marker\":{\"color\":\"blue\"},\"mode\":\"markers\",\"x\":[7],\"y\":[6],\"type\":\"scatter\"},{\"marker\":{\"color\":\"blue\"},\"mode\":\"markers\",\"x\":[7],\"y\":[6],\"type\":\"scatter\"},{\"marker\":{\"color\":\"blue\"},\"mode\":\"markers\",\"x\":[8],\"y\":[9],\"type\":\"scatter\"},{\"marker\":{\"color\":\"blue\"},\"mode\":\"markers\",\"x\":[8],\"y\":[12],\"type\":\"scatter\"},{\"marker\":{\"color\":\"green\"},\"mode\":\"markers\",\"x\":[10],\"y\":[8],\"type\":\"scatter\"},{\"marker\":{\"color\":\"green\"},\"mode\":\"markers\",\"x\":[3],\"y\":[9],\"type\":\"scatter\"},{\"marker\":{\"color\":\"green\"},\"mode\":\"markers\",\"x\":[12],\"y\":[13],\"type\":\"scatter\"},{\"marker\":{\"color\":\"blue\"},\"mode\":\"markers\",\"x\":[8],\"y\":[9],\"type\":\"scatter\"},{\"marker\":{\"color\":\"blue\"},\"mode\":\"markers\",\"x\":[9],\"y\":[12],\"type\":\"scatter\"},{\"marker\":{\"color\":\"blue\"},\"mode\":\"markers\",\"x\":[9],\"y\":[12],\"type\":\"scatter\"},{\"marker\":{\"color\":\"blue\"},\"mode\":\"markers\",\"x\":[13],\"y\":[9],\"type\":\"scatter\"},{\"marker\":{\"color\":\"blue\"},\"mode\":\"markers\",\"x\":[12],\"y\":[6],\"type\":\"scatter\"},{\"marker\":{\"color\":\"blue\"},\"mode\":\"markers\",\"x\":[12],\"y\":[6],\"type\":\"scatter\"},{\"marker\":{\"color\":\"blue\"},\"mode\":\"markers\",\"x\":[8],\"y\":[12],\"type\":\"scatter\"},{\"marker\":{\"color\":\"green\"},\"mode\":\"markers\",\"x\":[11],\"y\":[21],\"type\":\"scatter\"},{\"marker\":{\"color\":\"blue\"},\"mode\":\"markers\",\"x\":[13],\"y\":[6],\"type\":\"scatter\"},{\"marker\":{\"color\":\"blue\"},\"mode\":\"markers\",\"x\":[13],\"y\":[6],\"type\":\"scatter\"},{\"marker\":{\"color\":\"blue\"},\"mode\":\"markers\",\"x\":[12],\"y\":[10],\"type\":\"scatter\"},{\"marker\":{\"color\":\"blue\"},\"mode\":\"markers\",\"x\":[12],\"y\":[10],\"type\":\"scatter\"},{\"marker\":{\"color\":\"blue\"},\"mode\":\"markers\",\"x\":[13],\"y\":[9],\"type\":\"scatter\"},{\"marker\":{\"color\":\"orange\"},\"mode\":\"markers\",\"x\":[2],\"y\":[2],\"type\":\"scatter\"},{\"marker\":{\"color\":\"orange\"},\"mode\":\"markers\",\"x\":[18],\"y\":[18],\"type\":\"scatter\"},{\"marker\":{\"color\":\"orange\"},\"mode\":\"markers\",\"x\":[3],\"y\":[15],\"type\":\"scatter\"}],\"layout\":{\"title\":{\"text\":\"Simulation frame 36\"}}},{\"data\":[{\"marker\":{\"color\":\"green\"},\"mode\":\"markers\",\"x\":[-5],\"y\":[-1],\"type\":\"scatter\"},{\"marker\":{\"color\":\"green\"},\"mode\":\"markers\",\"x\":[-3],\"y\":[5],\"type\":\"scatter\"},{\"marker\":{\"color\":\"blue\"},\"mode\":\"markers\",\"x\":[4],\"y\":[12],\"type\":\"scatter\"},{\"marker\":{\"color\":\"green\"},\"mode\":\"markers\",\"x\":[4],\"y\":[5],\"type\":\"scatter\"},{\"marker\":{\"color\":\"blue\"},\"mode\":\"markers\",\"x\":[4],\"y\":[12],\"type\":\"scatter\"},{\"marker\":{\"color\":\"blue\"},\"mode\":\"markers\",\"x\":[7],\"y\":[6],\"type\":\"scatter\"},{\"marker\":{\"color\":\"blue\"},\"mode\":\"markers\",\"x\":[7],\"y\":[6],\"type\":\"scatter\"},{\"marker\":{\"color\":\"blue\"},\"mode\":\"markers\",\"x\":[8],\"y\":[9],\"type\":\"scatter\"},{\"marker\":{\"color\":\"blue\"},\"mode\":\"markers\",\"x\":[8],\"y\":[12],\"type\":\"scatter\"},{\"marker\":{\"color\":\"green\"},\"mode\":\"markers\",\"x\":[10],\"y\":[7],\"type\":\"scatter\"},{\"marker\":{\"color\":\"green\"},\"mode\":\"markers\",\"x\":[4],\"y\":[9],\"type\":\"scatter\"},{\"marker\":{\"color\":\"green\"},\"mode\":\"markers\",\"x\":[12],\"y\":[14],\"type\":\"scatter\"},{\"marker\":{\"color\":\"blue\"},\"mode\":\"markers\",\"x\":[8],\"y\":[9],\"type\":\"scatter\"},{\"marker\":{\"color\":\"blue\"},\"mode\":\"markers\",\"x\":[9],\"y\":[12],\"type\":\"scatter\"},{\"marker\":{\"color\":\"blue\"},\"mode\":\"markers\",\"x\":[9],\"y\":[12],\"type\":\"scatter\"},{\"marker\":{\"color\":\"blue\"},\"mode\":\"markers\",\"x\":[13],\"y\":[9],\"type\":\"scatter\"},{\"marker\":{\"color\":\"blue\"},\"mode\":\"markers\",\"x\":[12],\"y\":[6],\"type\":\"scatter\"},{\"marker\":{\"color\":\"blue\"},\"mode\":\"markers\",\"x\":[12],\"y\":[6],\"type\":\"scatter\"},{\"marker\":{\"color\":\"blue\"},\"mode\":\"markers\",\"x\":[8],\"y\":[12],\"type\":\"scatter\"},{\"marker\":{\"color\":\"green\"},\"mode\":\"markers\",\"x\":[11],\"y\":[20],\"type\":\"scatter\"},{\"marker\":{\"color\":\"blue\"},\"mode\":\"markers\",\"x\":[13],\"y\":[6],\"type\":\"scatter\"},{\"marker\":{\"color\":\"blue\"},\"mode\":\"markers\",\"x\":[13],\"y\":[6],\"type\":\"scatter\"},{\"marker\":{\"color\":\"blue\"},\"mode\":\"markers\",\"x\":[12],\"y\":[10],\"type\":\"scatter\"},{\"marker\":{\"color\":\"blue\"},\"mode\":\"markers\",\"x\":[12],\"y\":[10],\"type\":\"scatter\"},{\"marker\":{\"color\":\"blue\"},\"mode\":\"markers\",\"x\":[13],\"y\":[9],\"type\":\"scatter\"},{\"marker\":{\"color\":\"orange\"},\"mode\":\"markers\",\"x\":[2],\"y\":[2],\"type\":\"scatter\"},{\"marker\":{\"color\":\"orange\"},\"mode\":\"markers\",\"x\":[18],\"y\":[18],\"type\":\"scatter\"},{\"marker\":{\"color\":\"orange\"},\"mode\":\"markers\",\"x\":[3],\"y\":[15],\"type\":\"scatter\"}],\"layout\":{\"title\":{\"text\":\"Simulation frame 37\"}}},{\"data\":[{\"marker\":{\"color\":\"green\"},\"mode\":\"markers\",\"x\":[-5],\"y\":[-2],\"type\":\"scatter\"},{\"marker\":{\"color\":\"green\"},\"mode\":\"markers\",\"x\":[-2],\"y\":[5],\"type\":\"scatter\"},{\"marker\":{\"color\":\"blue\"},\"mode\":\"markers\",\"x\":[4],\"y\":[12],\"type\":\"scatter\"},{\"marker\":{\"color\":\"green\"},\"mode\":\"markers\",\"x\":[4],\"y\":[4],\"type\":\"scatter\"},{\"marker\":{\"color\":\"blue\"},\"mode\":\"markers\",\"x\":[4],\"y\":[12],\"type\":\"scatter\"},{\"marker\":{\"color\":\"blue\"},\"mode\":\"markers\",\"x\":[7],\"y\":[6],\"type\":\"scatter\"},{\"marker\":{\"color\":\"blue\"},\"mode\":\"markers\",\"x\":[7],\"y\":[6],\"type\":\"scatter\"},{\"marker\":{\"color\":\"blue\"},\"mode\":\"markers\",\"x\":[8],\"y\":[9],\"type\":\"scatter\"},{\"marker\":{\"color\":\"blue\"},\"mode\":\"markers\",\"x\":[8],\"y\":[12],\"type\":\"scatter\"},{\"marker\":{\"color\":\"green\"},\"mode\":\"markers\",\"x\":[10],\"y\":[7],\"type\":\"scatter\"},{\"marker\":{\"color\":\"green\"},\"mode\":\"markers\",\"x\":[3],\"y\":[9],\"type\":\"scatter\"},{\"marker\":{\"color\":\"green\"},\"mode\":\"markers\",\"x\":[13],\"y\":[14],\"type\":\"scatter\"},{\"marker\":{\"color\":\"blue\"},\"mode\":\"markers\",\"x\":[8],\"y\":[9],\"type\":\"scatter\"},{\"marker\":{\"color\":\"blue\"},\"mode\":\"markers\",\"x\":[9],\"y\":[12],\"type\":\"scatter\"},{\"marker\":{\"color\":\"blue\"},\"mode\":\"markers\",\"x\":[9],\"y\":[12],\"type\":\"scatter\"},{\"marker\":{\"color\":\"blue\"},\"mode\":\"markers\",\"x\":[13],\"y\":[9],\"type\":\"scatter\"},{\"marker\":{\"color\":\"blue\"},\"mode\":\"markers\",\"x\":[12],\"y\":[6],\"type\":\"scatter\"},{\"marker\":{\"color\":\"blue\"},\"mode\":\"markers\",\"x\":[12],\"y\":[6],\"type\":\"scatter\"},{\"marker\":{\"color\":\"blue\"},\"mode\":\"markers\",\"x\":[8],\"y\":[12],\"type\":\"scatter\"},{\"marker\":{\"color\":\"green\"},\"mode\":\"markers\",\"x\":[11],\"y\":[19],\"type\":\"scatter\"},{\"marker\":{\"color\":\"blue\"},\"mode\":\"markers\",\"x\":[13],\"y\":[6],\"type\":\"scatter\"},{\"marker\":{\"color\":\"blue\"},\"mode\":\"markers\",\"x\":[13],\"y\":[6],\"type\":\"scatter\"},{\"marker\":{\"color\":\"blue\"},\"mode\":\"markers\",\"x\":[12],\"y\":[10],\"type\":\"scatter\"},{\"marker\":{\"color\":\"blue\"},\"mode\":\"markers\",\"x\":[12],\"y\":[10],\"type\":\"scatter\"},{\"marker\":{\"color\":\"blue\"},\"mode\":\"markers\",\"x\":[13],\"y\":[9],\"type\":\"scatter\"},{\"marker\":{\"color\":\"orange\"},\"mode\":\"markers\",\"x\":[2],\"y\":[2],\"type\":\"scatter\"},{\"marker\":{\"color\":\"orange\"},\"mode\":\"markers\",\"x\":[18],\"y\":[18],\"type\":\"scatter\"},{\"marker\":{\"color\":\"orange\"},\"mode\":\"markers\",\"x\":[3],\"y\":[15],\"type\":\"scatter\"}],\"layout\":{\"title\":{\"text\":\"Simulation frame 38\"}}},{\"data\":[{\"marker\":{\"color\":\"green\"},\"mode\":\"markers\",\"x\":[-6],\"y\":[-2],\"type\":\"scatter\"},{\"marker\":{\"color\":\"green\"},\"mode\":\"markers\",\"x\":[-2],\"y\":[4],\"type\":\"scatter\"},{\"marker\":{\"color\":\"blue\"},\"mode\":\"markers\",\"x\":[4],\"y\":[12],\"type\":\"scatter\"},{\"marker\":{\"color\":\"green\"},\"mode\":\"markers\",\"x\":[4],\"y\":[3],\"type\":\"scatter\"},{\"marker\":{\"color\":\"blue\"},\"mode\":\"markers\",\"x\":[4],\"y\":[12],\"type\":\"scatter\"},{\"marker\":{\"color\":\"blue\"},\"mode\":\"markers\",\"x\":[7],\"y\":[6],\"type\":\"scatter\"},{\"marker\":{\"color\":\"blue\"},\"mode\":\"markers\",\"x\":[7],\"y\":[6],\"type\":\"scatter\"},{\"marker\":{\"color\":\"blue\"},\"mode\":\"markers\",\"x\":[8],\"y\":[9],\"type\":\"scatter\"},{\"marker\":{\"color\":\"blue\"},\"mode\":\"markers\",\"x\":[8],\"y\":[12],\"type\":\"scatter\"},{\"marker\":{\"color\":\"green\"},\"mode\":\"markers\",\"x\":[11],\"y\":[7],\"type\":\"scatter\"},{\"marker\":{\"color\":\"green\"},\"mode\":\"markers\",\"x\":[3],\"y\":[10],\"type\":\"scatter\"},{\"marker\":{\"color\":\"green\"},\"mode\":\"markers\",\"x\":[12],\"y\":[14],\"type\":\"scatter\"},{\"marker\":{\"color\":\"blue\"},\"mode\":\"markers\",\"x\":[8],\"y\":[9],\"type\":\"scatter\"},{\"marker\":{\"color\":\"blue\"},\"mode\":\"markers\",\"x\":[9],\"y\":[12],\"type\":\"scatter\"},{\"marker\":{\"color\":\"blue\"},\"mode\":\"markers\",\"x\":[9],\"y\":[12],\"type\":\"scatter\"},{\"marker\":{\"color\":\"blue\"},\"mode\":\"markers\",\"x\":[13],\"y\":[9],\"type\":\"scatter\"},{\"marker\":{\"color\":\"blue\"},\"mode\":\"markers\",\"x\":[12],\"y\":[6],\"type\":\"scatter\"},{\"marker\":{\"color\":\"blue\"},\"mode\":\"markers\",\"x\":[12],\"y\":[6],\"type\":\"scatter\"},{\"marker\":{\"color\":\"blue\"},\"mode\":\"markers\",\"x\":[8],\"y\":[12],\"type\":\"scatter\"},{\"marker\":{\"color\":\"green\"},\"mode\":\"markers\",\"x\":[11],\"y\":[19],\"type\":\"scatter\"},{\"marker\":{\"color\":\"blue\"},\"mode\":\"markers\",\"x\":[13],\"y\":[6],\"type\":\"scatter\"},{\"marker\":{\"color\":\"blue\"},\"mode\":\"markers\",\"x\":[13],\"y\":[6],\"type\":\"scatter\"},{\"marker\":{\"color\":\"blue\"},\"mode\":\"markers\",\"x\":[12],\"y\":[10],\"type\":\"scatter\"},{\"marker\":{\"color\":\"blue\"},\"mode\":\"markers\",\"x\":[12],\"y\":[10],\"type\":\"scatter\"},{\"marker\":{\"color\":\"blue\"},\"mode\":\"markers\",\"x\":[13],\"y\":[9],\"type\":\"scatter\"},{\"marker\":{\"color\":\"orange\"},\"mode\":\"markers\",\"x\":[2],\"y\":[2],\"type\":\"scatter\"},{\"marker\":{\"color\":\"orange\"},\"mode\":\"markers\",\"x\":[18],\"y\":[18],\"type\":\"scatter\"},{\"marker\":{\"color\":\"orange\"},\"mode\":\"markers\",\"x\":[3],\"y\":[15],\"type\":\"scatter\"}],\"layout\":{\"title\":{\"text\":\"Simulation frame 39\"}}},{\"data\":[{\"marker\":{\"color\":\"green\"},\"mode\":\"markers\",\"x\":[-6],\"y\":[-2],\"type\":\"scatter\"},{\"marker\":{\"color\":\"green\"},\"mode\":\"markers\",\"x\":[-2],\"y\":[5],\"type\":\"scatter\"},{\"marker\":{\"color\":\"blue\"},\"mode\":\"markers\",\"x\":[4],\"y\":[12],\"type\":\"scatter\"},{\"marker\":{\"color\":\"green\"},\"mode\":\"markers\",\"x\":[4],\"y\":[2],\"type\":\"scatter\"},{\"marker\":{\"color\":\"blue\"},\"mode\":\"markers\",\"x\":[4],\"y\":[12],\"type\":\"scatter\"},{\"marker\":{\"color\":\"blue\"},\"mode\":\"markers\",\"x\":[7],\"y\":[6],\"type\":\"scatter\"},{\"marker\":{\"color\":\"blue\"},\"mode\":\"markers\",\"x\":[7],\"y\":[6],\"type\":\"scatter\"},{\"marker\":{\"color\":\"blue\"},\"mode\":\"markers\",\"x\":[8],\"y\":[9],\"type\":\"scatter\"},{\"marker\":{\"color\":\"blue\"},\"mode\":\"markers\",\"x\":[8],\"y\":[12],\"type\":\"scatter\"},{\"marker\":{\"color\":\"green\"},\"mode\":\"markers\",\"x\":[11],\"y\":[8],\"type\":\"scatter\"},{\"marker\":{\"color\":\"green\"},\"mode\":\"markers\",\"x\":[3],\"y\":[9],\"type\":\"scatter\"},{\"marker\":{\"color\":\"green\"},\"mode\":\"markers\",\"x\":[12],\"y\":[14],\"type\":\"scatter\"},{\"marker\":{\"color\":\"blue\"},\"mode\":\"markers\",\"x\":[8],\"y\":[9],\"type\":\"scatter\"},{\"marker\":{\"color\":\"blue\"},\"mode\":\"markers\",\"x\":[9],\"y\":[12],\"type\":\"scatter\"},{\"marker\":{\"color\":\"blue\"},\"mode\":\"markers\",\"x\":[9],\"y\":[12],\"type\":\"scatter\"},{\"marker\":{\"color\":\"blue\"},\"mode\":\"markers\",\"x\":[13],\"y\":[9],\"type\":\"scatter\"},{\"marker\":{\"color\":\"blue\"},\"mode\":\"markers\",\"x\":[12],\"y\":[6],\"type\":\"scatter\"},{\"marker\":{\"color\":\"blue\"},\"mode\":\"markers\",\"x\":[12],\"y\":[6],\"type\":\"scatter\"},{\"marker\":{\"color\":\"blue\"},\"mode\":\"markers\",\"x\":[8],\"y\":[12],\"type\":\"scatter\"},{\"marker\":{\"color\":\"green\"},\"mode\":\"markers\",\"x\":[11],\"y\":[19],\"type\":\"scatter\"},{\"marker\":{\"color\":\"blue\"},\"mode\":\"markers\",\"x\":[13],\"y\":[6],\"type\":\"scatter\"},{\"marker\":{\"color\":\"blue\"},\"mode\":\"markers\",\"x\":[13],\"y\":[6],\"type\":\"scatter\"},{\"marker\":{\"color\":\"blue\"},\"mode\":\"markers\",\"x\":[12],\"y\":[10],\"type\":\"scatter\"},{\"marker\":{\"color\":\"blue\"},\"mode\":\"markers\",\"x\":[12],\"y\":[10],\"type\":\"scatter\"},{\"marker\":{\"color\":\"blue\"},\"mode\":\"markers\",\"x\":[13],\"y\":[9],\"type\":\"scatter\"},{\"marker\":{\"color\":\"orange\"},\"mode\":\"markers\",\"x\":[2],\"y\":[2],\"type\":\"scatter\"},{\"marker\":{\"color\":\"orange\"},\"mode\":\"markers\",\"x\":[18],\"y\":[18],\"type\":\"scatter\"},{\"marker\":{\"color\":\"orange\"},\"mode\":\"markers\",\"x\":[3],\"y\":[15],\"type\":\"scatter\"}],\"layout\":{\"title\":{\"text\":\"Simulation frame 40\"}}},{\"data\":[{\"marker\":{\"color\":\"green\"},\"mode\":\"markers\",\"x\":[-7],\"y\":[-2],\"type\":\"scatter\"},{\"marker\":{\"color\":\"green\"},\"mode\":\"markers\",\"x\":[-3],\"y\":[5],\"type\":\"scatter\"},{\"marker\":{\"color\":\"blue\"},\"mode\":\"markers\",\"x\":[4],\"y\":[12],\"type\":\"scatter\"},{\"marker\":{\"color\":\"green\"},\"mode\":\"markers\",\"x\":[4],\"y\":[2],\"type\":\"scatter\"},{\"marker\":{\"color\":\"blue\"},\"mode\":\"markers\",\"x\":[4],\"y\":[12],\"type\":\"scatter\"},{\"marker\":{\"color\":\"blue\"},\"mode\":\"markers\",\"x\":[7],\"y\":[6],\"type\":\"scatter\"},{\"marker\":{\"color\":\"blue\"},\"mode\":\"markers\",\"x\":[7],\"y\":[6],\"type\":\"scatter\"},{\"marker\":{\"color\":\"blue\"},\"mode\":\"markers\",\"x\":[8],\"y\":[9],\"type\":\"scatter\"},{\"marker\":{\"color\":\"blue\"},\"mode\":\"markers\",\"x\":[8],\"y\":[12],\"type\":\"scatter\"},{\"marker\":{\"color\":\"green\"},\"mode\":\"markers\",\"x\":[11],\"y\":[7],\"type\":\"scatter\"},{\"marker\":{\"color\":\"green\"},\"mode\":\"markers\",\"x\":[2],\"y\":[9],\"type\":\"scatter\"},{\"marker\":{\"color\":\"green\"},\"mode\":\"markers\",\"x\":[12],\"y\":[13],\"type\":\"scatter\"},{\"marker\":{\"color\":\"blue\"},\"mode\":\"markers\",\"x\":[8],\"y\":[9],\"type\":\"scatter\"},{\"marker\":{\"color\":\"blue\"},\"mode\":\"markers\",\"x\":[9],\"y\":[12],\"type\":\"scatter\"},{\"marker\":{\"color\":\"blue\"},\"mode\":\"markers\",\"x\":[9],\"y\":[12],\"type\":\"scatter\"},{\"marker\":{\"color\":\"blue\"},\"mode\":\"markers\",\"x\":[13],\"y\":[9],\"type\":\"scatter\"},{\"marker\":{\"color\":\"blue\"},\"mode\":\"markers\",\"x\":[12],\"y\":[6],\"type\":\"scatter\"},{\"marker\":{\"color\":\"blue\"},\"mode\":\"markers\",\"x\":[12],\"y\":[6],\"type\":\"scatter\"},{\"marker\":{\"color\":\"blue\"},\"mode\":\"markers\",\"x\":[8],\"y\":[12],\"type\":\"scatter\"},{\"marker\":{\"color\":\"green\"},\"mode\":\"markers\",\"x\":[11],\"y\":[18],\"type\":\"scatter\"},{\"marker\":{\"color\":\"blue\"},\"mode\":\"markers\",\"x\":[13],\"y\":[6],\"type\":\"scatter\"},{\"marker\":{\"color\":\"blue\"},\"mode\":\"markers\",\"x\":[13],\"y\":[6],\"type\":\"scatter\"},{\"marker\":{\"color\":\"blue\"},\"mode\":\"markers\",\"x\":[12],\"y\":[10],\"type\":\"scatter\"},{\"marker\":{\"color\":\"blue\"},\"mode\":\"markers\",\"x\":[12],\"y\":[10],\"type\":\"scatter\"},{\"marker\":{\"color\":\"blue\"},\"mode\":\"markers\",\"x\":[13],\"y\":[9],\"type\":\"scatter\"},{\"marker\":{\"color\":\"orange\"},\"mode\":\"markers\",\"x\":[2],\"y\":[2],\"type\":\"scatter\"},{\"marker\":{\"color\":\"orange\"},\"mode\":\"markers\",\"x\":[18],\"y\":[18],\"type\":\"scatter\"},{\"marker\":{\"color\":\"orange\"},\"mode\":\"markers\",\"x\":[3],\"y\":[15],\"type\":\"scatter\"}],\"layout\":{\"title\":{\"text\":\"Simulation frame 41\"}}},{\"data\":[{\"marker\":{\"color\":\"green\"},\"mode\":\"markers\",\"x\":[-7],\"y\":[-2],\"type\":\"scatter\"},{\"marker\":{\"color\":\"green\"},\"mode\":\"markers\",\"x\":[-3],\"y\":[5],\"type\":\"scatter\"},{\"marker\":{\"color\":\"blue\"},\"mode\":\"markers\",\"x\":[4],\"y\":[12],\"type\":\"scatter\"},{\"marker\":{\"color\":\"green\"},\"mode\":\"markers\",\"x\":[4],\"y\":[1],\"type\":\"scatter\"},{\"marker\":{\"color\":\"blue\"},\"mode\":\"markers\",\"x\":[4],\"y\":[12],\"type\":\"scatter\"},{\"marker\":{\"color\":\"blue\"},\"mode\":\"markers\",\"x\":[7],\"y\":[6],\"type\":\"scatter\"},{\"marker\":{\"color\":\"blue\"},\"mode\":\"markers\",\"x\":[7],\"y\":[6],\"type\":\"scatter\"},{\"marker\":{\"color\":\"blue\"},\"mode\":\"markers\",\"x\":[8],\"y\":[9],\"type\":\"scatter\"},{\"marker\":{\"color\":\"blue\"},\"mode\":\"markers\",\"x\":[8],\"y\":[12],\"type\":\"scatter\"},{\"marker\":{\"color\":\"green\"},\"mode\":\"markers\",\"x\":[10],\"y\":[7],\"type\":\"scatter\"},{\"marker\":{\"color\":\"green\"},\"mode\":\"markers\",\"x\":[2],\"y\":[9],\"type\":\"scatter\"},{\"marker\":{\"color\":\"green\"},\"mode\":\"markers\",\"x\":[12],\"y\":[12],\"type\":\"scatter\"},{\"marker\":{\"color\":\"blue\"},\"mode\":\"markers\",\"x\":[8],\"y\":[9],\"type\":\"scatter\"},{\"marker\":{\"color\":\"blue\"},\"mode\":\"markers\",\"x\":[9],\"y\":[12],\"type\":\"scatter\"},{\"marker\":{\"color\":\"blue\"},\"mode\":\"markers\",\"x\":[9],\"y\":[12],\"type\":\"scatter\"},{\"marker\":{\"color\":\"blue\"},\"mode\":\"markers\",\"x\":[13],\"y\":[9],\"type\":\"scatter\"},{\"marker\":{\"color\":\"blue\"},\"mode\":\"markers\",\"x\":[12],\"y\":[6],\"type\":\"scatter\"},{\"marker\":{\"color\":\"blue\"},\"mode\":\"markers\",\"x\":[12],\"y\":[6],\"type\":\"scatter\"},{\"marker\":{\"color\":\"blue\"},\"mode\":\"markers\",\"x\":[8],\"y\":[12],\"type\":\"scatter\"},{\"marker\":{\"color\":\"green\"},\"mode\":\"markers\",\"x\":[12],\"y\":[18],\"type\":\"scatter\"},{\"marker\":{\"color\":\"blue\"},\"mode\":\"markers\",\"x\":[13],\"y\":[6],\"type\":\"scatter\"},{\"marker\":{\"color\":\"blue\"},\"mode\":\"markers\",\"x\":[13],\"y\":[6],\"type\":\"scatter\"},{\"marker\":{\"color\":\"blue\"},\"mode\":\"markers\",\"x\":[12],\"y\":[10],\"type\":\"scatter\"},{\"marker\":{\"color\":\"blue\"},\"mode\":\"markers\",\"x\":[12],\"y\":[10],\"type\":\"scatter\"},{\"marker\":{\"color\":\"blue\"},\"mode\":\"markers\",\"x\":[13],\"y\":[9],\"type\":\"scatter\"},{\"marker\":{\"color\":\"orange\"},\"mode\":\"markers\",\"x\":[2],\"y\":[2],\"type\":\"scatter\"},{\"marker\":{\"color\":\"orange\"},\"mode\":\"markers\",\"x\":[18],\"y\":[18],\"type\":\"scatter\"},{\"marker\":{\"color\":\"orange\"},\"mode\":\"markers\",\"x\":[3],\"y\":[15],\"type\":\"scatter\"}],\"layout\":{\"title\":{\"text\":\"Simulation frame 42\"}}},{\"data\":[{\"marker\":{\"color\":\"green\"},\"mode\":\"markers\",\"x\":[-6],\"y\":[-2],\"type\":\"scatter\"},{\"marker\":{\"color\":\"green\"},\"mode\":\"markers\",\"x\":[-2],\"y\":[5],\"type\":\"scatter\"},{\"marker\":{\"color\":\"blue\"},\"mode\":\"markers\",\"x\":[4],\"y\":[12],\"type\":\"scatter\"},{\"marker\":{\"color\":\"green\"},\"mode\":\"markers\",\"x\":[4],\"y\":[1],\"type\":\"scatter\"},{\"marker\":{\"color\":\"blue\"},\"mode\":\"markers\",\"x\":[4],\"y\":[12],\"type\":\"scatter\"},{\"marker\":{\"color\":\"blue\"},\"mode\":\"markers\",\"x\":[7],\"y\":[6],\"type\":\"scatter\"},{\"marker\":{\"color\":\"blue\"},\"mode\":\"markers\",\"x\":[7],\"y\":[6],\"type\":\"scatter\"},{\"marker\":{\"color\":\"blue\"},\"mode\":\"markers\",\"x\":[8],\"y\":[9],\"type\":\"scatter\"},{\"marker\":{\"color\":\"blue\"},\"mode\":\"markers\",\"x\":[8],\"y\":[12],\"type\":\"scatter\"},{\"marker\":{\"color\":\"green\"},\"mode\":\"markers\",\"x\":[9],\"y\":[7],\"type\":\"scatter\"},{\"marker\":{\"color\":\"green\"},\"mode\":\"markers\",\"x\":[1],\"y\":[9],\"type\":\"scatter\"},{\"marker\":{\"color\":\"green\"},\"mode\":\"markers\",\"x\":[12],\"y\":[12],\"type\":\"scatter\"},{\"marker\":{\"color\":\"blue\"},\"mode\":\"markers\",\"x\":[8],\"y\":[9],\"type\":\"scatter\"},{\"marker\":{\"color\":\"blue\"},\"mode\":\"markers\",\"x\":[9],\"y\":[12],\"type\":\"scatter\"},{\"marker\":{\"color\":\"blue\"},\"mode\":\"markers\",\"x\":[9],\"y\":[12],\"type\":\"scatter\"},{\"marker\":{\"color\":\"blue\"},\"mode\":\"markers\",\"x\":[13],\"y\":[9],\"type\":\"scatter\"},{\"marker\":{\"color\":\"blue\"},\"mode\":\"markers\",\"x\":[12],\"y\":[6],\"type\":\"scatter\"},{\"marker\":{\"color\":\"blue\"},\"mode\":\"markers\",\"x\":[12],\"y\":[6],\"type\":\"scatter\"},{\"marker\":{\"color\":\"blue\"},\"mode\":\"markers\",\"x\":[8],\"y\":[12],\"type\":\"scatter\"},{\"marker\":{\"color\":\"green\"},\"mode\":\"markers\",\"x\":[12],\"y\":[17],\"type\":\"scatter\"},{\"marker\":{\"color\":\"blue\"},\"mode\":\"markers\",\"x\":[13],\"y\":[6],\"type\":\"scatter\"},{\"marker\":{\"color\":\"blue\"},\"mode\":\"markers\",\"x\":[13],\"y\":[6],\"type\":\"scatter\"},{\"marker\":{\"color\":\"blue\"},\"mode\":\"markers\",\"x\":[12],\"y\":[10],\"type\":\"scatter\"},{\"marker\":{\"color\":\"blue\"},\"mode\":\"markers\",\"x\":[12],\"y\":[10],\"type\":\"scatter\"},{\"marker\":{\"color\":\"blue\"},\"mode\":\"markers\",\"x\":[13],\"y\":[9],\"type\":\"scatter\"},{\"marker\":{\"color\":\"orange\"},\"mode\":\"markers\",\"x\":[2],\"y\":[2],\"type\":\"scatter\"},{\"marker\":{\"color\":\"orange\"},\"mode\":\"markers\",\"x\":[18],\"y\":[18],\"type\":\"scatter\"},{\"marker\":{\"color\":\"orange\"},\"mode\":\"markers\",\"x\":[3],\"y\":[15],\"type\":\"scatter\"}],\"layout\":{\"title\":{\"text\":\"Simulation frame 43\"}}},{\"data\":[{\"marker\":{\"color\":\"green\"},\"mode\":\"markers\",\"x\":[-5],\"y\":[-2],\"type\":\"scatter\"},{\"marker\":{\"color\":\"green\"},\"mode\":\"markers\",\"x\":[-2],\"y\":[4],\"type\":\"scatter\"},{\"marker\":{\"color\":\"blue\"},\"mode\":\"markers\",\"x\":[4],\"y\":[12],\"type\":\"scatter\"},{\"marker\":{\"color\":\"green\"},\"mode\":\"markers\",\"x\":[4],\"y\":[2],\"type\":\"scatter\"},{\"marker\":{\"color\":\"blue\"},\"mode\":\"markers\",\"x\":[4],\"y\":[12],\"type\":\"scatter\"},{\"marker\":{\"color\":\"blue\"},\"mode\":\"markers\",\"x\":[7],\"y\":[6],\"type\":\"scatter\"},{\"marker\":{\"color\":\"blue\"},\"mode\":\"markers\",\"x\":[7],\"y\":[6],\"type\":\"scatter\"},{\"marker\":{\"color\":\"blue\"},\"mode\":\"markers\",\"x\":[8],\"y\":[9],\"type\":\"scatter\"},{\"marker\":{\"color\":\"blue\"},\"mode\":\"markers\",\"x\":[8],\"y\":[12],\"type\":\"scatter\"},{\"marker\":{\"color\":\"green\"},\"mode\":\"markers\",\"x\":[8],\"y\":[7],\"type\":\"scatter\"},{\"marker\":{\"color\":\"green\"},\"mode\":\"markers\",\"x\":[1],\"y\":[9],\"type\":\"scatter\"},{\"marker\":{\"color\":\"green\"},\"mode\":\"markers\",\"x\":[11],\"y\":[12],\"type\":\"scatter\"},{\"marker\":{\"color\":\"blue\"},\"mode\":\"markers\",\"x\":[8],\"y\":[9],\"type\":\"scatter\"},{\"marker\":{\"color\":\"blue\"},\"mode\":\"markers\",\"x\":[9],\"y\":[12],\"type\":\"scatter\"},{\"marker\":{\"color\":\"blue\"},\"mode\":\"markers\",\"x\":[9],\"y\":[12],\"type\":\"scatter\"},{\"marker\":{\"color\":\"blue\"},\"mode\":\"markers\",\"x\":[13],\"y\":[9],\"type\":\"scatter\"},{\"marker\":{\"color\":\"blue\"},\"mode\":\"markers\",\"x\":[12],\"y\":[6],\"type\":\"scatter\"},{\"marker\":{\"color\":\"blue\"},\"mode\":\"markers\",\"x\":[12],\"y\":[6],\"type\":\"scatter\"},{\"marker\":{\"color\":\"blue\"},\"mode\":\"markers\",\"x\":[8],\"y\":[12],\"type\":\"scatter\"},{\"marker\":{\"color\":\"green\"},\"mode\":\"markers\",\"x\":[11],\"y\":[17],\"type\":\"scatter\"},{\"marker\":{\"color\":\"blue\"},\"mode\":\"markers\",\"x\":[13],\"y\":[6],\"type\":\"scatter\"},{\"marker\":{\"color\":\"blue\"},\"mode\":\"markers\",\"x\":[13],\"y\":[6],\"type\":\"scatter\"},{\"marker\":{\"color\":\"blue\"},\"mode\":\"markers\",\"x\":[12],\"y\":[10],\"type\":\"scatter\"},{\"marker\":{\"color\":\"blue\"},\"mode\":\"markers\",\"x\":[12],\"y\":[10],\"type\":\"scatter\"},{\"marker\":{\"color\":\"blue\"},\"mode\":\"markers\",\"x\":[13],\"y\":[9],\"type\":\"scatter\"},{\"marker\":{\"color\":\"orange\"},\"mode\":\"markers\",\"x\":[2],\"y\":[2],\"type\":\"scatter\"},{\"marker\":{\"color\":\"orange\"},\"mode\":\"markers\",\"x\":[18],\"y\":[18],\"type\":\"scatter\"},{\"marker\":{\"color\":\"orange\"},\"mode\":\"markers\",\"x\":[3],\"y\":[15],\"type\":\"scatter\"}],\"layout\":{\"title\":{\"text\":\"Simulation frame 44\"}}},{\"data\":[{\"marker\":{\"color\":\"green\"},\"mode\":\"markers\",\"x\":[-4],\"y\":[-2],\"type\":\"scatter\"},{\"marker\":{\"color\":\"green\"},\"mode\":\"markers\",\"x\":[-2],\"y\":[4],\"type\":\"scatter\"},{\"marker\":{\"color\":\"blue\"},\"mode\":\"markers\",\"x\":[4],\"y\":[12],\"type\":\"scatter\"},{\"marker\":{\"color\":\"green\"},\"mode\":\"markers\",\"x\":[4],\"y\":[2],\"type\":\"scatter\"},{\"marker\":{\"color\":\"blue\"},\"mode\":\"markers\",\"x\":[4],\"y\":[12],\"type\":\"scatter\"},{\"marker\":{\"color\":\"blue\"},\"mode\":\"markers\",\"x\":[7],\"y\":[6],\"type\":\"scatter\"},{\"marker\":{\"color\":\"blue\"},\"mode\":\"markers\",\"x\":[7],\"y\":[6],\"type\":\"scatter\"},{\"marker\":{\"color\":\"blue\"},\"mode\":\"markers\",\"x\":[8],\"y\":[9],\"type\":\"scatter\"},{\"marker\":{\"color\":\"blue\"},\"mode\":\"markers\",\"x\":[8],\"y\":[12],\"type\":\"scatter\"},{\"marker\":{\"color\":\"green\"},\"mode\":\"markers\",\"x\":[9],\"y\":[7],\"type\":\"scatter\"},{\"marker\":{\"color\":\"green\"},\"mode\":\"markers\",\"x\":[1],\"y\":[9],\"type\":\"scatter\"},{\"marker\":{\"color\":\"green\"},\"mode\":\"markers\",\"x\":[11],\"y\":[13],\"type\":\"scatter\"},{\"marker\":{\"color\":\"blue\"},\"mode\":\"markers\",\"x\":[8],\"y\":[9],\"type\":\"scatter\"},{\"marker\":{\"color\":\"blue\"},\"mode\":\"markers\",\"x\":[9],\"y\":[12],\"type\":\"scatter\"},{\"marker\":{\"color\":\"blue\"},\"mode\":\"markers\",\"x\":[9],\"y\":[12],\"type\":\"scatter\"},{\"marker\":{\"color\":\"blue\"},\"mode\":\"markers\",\"x\":[13],\"y\":[9],\"type\":\"scatter\"},{\"marker\":{\"color\":\"blue\"},\"mode\":\"markers\",\"x\":[12],\"y\":[6],\"type\":\"scatter\"},{\"marker\":{\"color\":\"blue\"},\"mode\":\"markers\",\"x\":[12],\"y\":[6],\"type\":\"scatter\"},{\"marker\":{\"color\":\"blue\"},\"mode\":\"markers\",\"x\":[8],\"y\":[12],\"type\":\"scatter\"},{\"marker\":{\"color\":\"green\"},\"mode\":\"markers\",\"x\":[11],\"y\":[18],\"type\":\"scatter\"},{\"marker\":{\"color\":\"blue\"},\"mode\":\"markers\",\"x\":[13],\"y\":[6],\"type\":\"scatter\"},{\"marker\":{\"color\":\"blue\"},\"mode\":\"markers\",\"x\":[13],\"y\":[6],\"type\":\"scatter\"},{\"marker\":{\"color\":\"blue\"},\"mode\":\"markers\",\"x\":[12],\"y\":[10],\"type\":\"scatter\"},{\"marker\":{\"color\":\"blue\"},\"mode\":\"markers\",\"x\":[12],\"y\":[10],\"type\":\"scatter\"},{\"marker\":{\"color\":\"blue\"},\"mode\":\"markers\",\"x\":[13],\"y\":[9],\"type\":\"scatter\"},{\"marker\":{\"color\":\"orange\"},\"mode\":\"markers\",\"x\":[2],\"y\":[2],\"type\":\"scatter\"},{\"marker\":{\"color\":\"orange\"},\"mode\":\"markers\",\"x\":[18],\"y\":[18],\"type\":\"scatter\"},{\"marker\":{\"color\":\"orange\"},\"mode\":\"markers\",\"x\":[3],\"y\":[15],\"type\":\"scatter\"}],\"layout\":{\"title\":{\"text\":\"Simulation frame 45\"}}},{\"data\":[{\"marker\":{\"color\":\"green\"},\"mode\":\"markers\",\"x\":[-5],\"y\":[-2],\"type\":\"scatter\"},{\"marker\":{\"color\":\"green\"},\"mode\":\"markers\",\"x\":[-3],\"y\":[4],\"type\":\"scatter\"},{\"marker\":{\"color\":\"blue\"},\"mode\":\"markers\",\"x\":[4],\"y\":[12],\"type\":\"scatter\"},{\"marker\":{\"color\":\"green\"},\"mode\":\"markers\",\"x\":[4],\"y\":[1],\"type\":\"scatter\"},{\"marker\":{\"color\":\"blue\"},\"mode\":\"markers\",\"x\":[4],\"y\":[12],\"type\":\"scatter\"},{\"marker\":{\"color\":\"blue\"},\"mode\":\"markers\",\"x\":[7],\"y\":[6],\"type\":\"scatter\"},{\"marker\":{\"color\":\"blue\"},\"mode\":\"markers\",\"x\":[7],\"y\":[6],\"type\":\"scatter\"},{\"marker\":{\"color\":\"blue\"},\"mode\":\"markers\",\"x\":[8],\"y\":[9],\"type\":\"scatter\"},{\"marker\":{\"color\":\"blue\"},\"mode\":\"markers\",\"x\":[8],\"y\":[12],\"type\":\"scatter\"},{\"marker\":{\"color\":\"green\"},\"mode\":\"markers\",\"x\":[9],\"y\":[6],\"type\":\"scatter\"},{\"marker\":{\"color\":\"green\"},\"mode\":\"markers\",\"x\":[2],\"y\":[9],\"type\":\"scatter\"},{\"marker\":{\"color\":\"green\"},\"mode\":\"markers\",\"x\":[11],\"y\":[13],\"type\":\"scatter\"},{\"marker\":{\"color\":\"blue\"},\"mode\":\"markers\",\"x\":[8],\"y\":[9],\"type\":\"scatter\"},{\"marker\":{\"color\":\"blue\"},\"mode\":\"markers\",\"x\":[9],\"y\":[12],\"type\":\"scatter\"},{\"marker\":{\"color\":\"blue\"},\"mode\":\"markers\",\"x\":[9],\"y\":[12],\"type\":\"scatter\"},{\"marker\":{\"color\":\"blue\"},\"mode\":\"markers\",\"x\":[13],\"y\":[9],\"type\":\"scatter\"},{\"marker\":{\"color\":\"blue\"},\"mode\":\"markers\",\"x\":[12],\"y\":[6],\"type\":\"scatter\"},{\"marker\":{\"color\":\"blue\"},\"mode\":\"markers\",\"x\":[12],\"y\":[6],\"type\":\"scatter\"},{\"marker\":{\"color\":\"blue\"},\"mode\":\"markers\",\"x\":[8],\"y\":[12],\"type\":\"scatter\"},{\"marker\":{\"color\":\"green\"},\"mode\":\"markers\",\"x\":[11],\"y\":[18],\"type\":\"scatter\"},{\"marker\":{\"color\":\"blue\"},\"mode\":\"markers\",\"x\":[13],\"y\":[6],\"type\":\"scatter\"},{\"marker\":{\"color\":\"blue\"},\"mode\":\"markers\",\"x\":[13],\"y\":[6],\"type\":\"scatter\"},{\"marker\":{\"color\":\"blue\"},\"mode\":\"markers\",\"x\":[12],\"y\":[10],\"type\":\"scatter\"},{\"marker\":{\"color\":\"blue\"},\"mode\":\"markers\",\"x\":[12],\"y\":[10],\"type\":\"scatter\"},{\"marker\":{\"color\":\"blue\"},\"mode\":\"markers\",\"x\":[13],\"y\":[9],\"type\":\"scatter\"},{\"marker\":{\"color\":\"orange\"},\"mode\":\"markers\",\"x\":[2],\"y\":[2],\"type\":\"scatter\"},{\"marker\":{\"color\":\"orange\"},\"mode\":\"markers\",\"x\":[18],\"y\":[18],\"type\":\"scatter\"},{\"marker\":{\"color\":\"orange\"},\"mode\":\"markers\",\"x\":[3],\"y\":[15],\"type\":\"scatter\"}],\"layout\":{\"title\":{\"text\":\"Simulation frame 46\"}}},{\"data\":[{\"marker\":{\"color\":\"green\"},\"mode\":\"markers\",\"x\":[-4],\"y\":[-2],\"type\":\"scatter\"},{\"marker\":{\"color\":\"green\"},\"mode\":\"markers\",\"x\":[-4],\"y\":[4],\"type\":\"scatter\"},{\"marker\":{\"color\":\"blue\"},\"mode\":\"markers\",\"x\":[4],\"y\":[12],\"type\":\"scatter\"},{\"marker\":{\"color\":\"green\"},\"mode\":\"markers\",\"x\":[4],\"y\":[2],\"type\":\"scatter\"},{\"marker\":{\"color\":\"blue\"},\"mode\":\"markers\",\"x\":[4],\"y\":[12],\"type\":\"scatter\"},{\"marker\":{\"color\":\"blue\"},\"mode\":\"markers\",\"x\":[7],\"y\":[6],\"type\":\"scatter\"},{\"marker\":{\"color\":\"blue\"},\"mode\":\"markers\",\"x\":[7],\"y\":[6],\"type\":\"scatter\"},{\"marker\":{\"color\":\"blue\"},\"mode\":\"markers\",\"x\":[8],\"y\":[9],\"type\":\"scatter\"},{\"marker\":{\"color\":\"blue\"},\"mode\":\"markers\",\"x\":[8],\"y\":[12],\"type\":\"scatter\"},{\"marker\":{\"color\":\"green\"},\"mode\":\"markers\",\"x\":[9],\"y\":[7],\"type\":\"scatter\"},{\"marker\":{\"color\":\"green\"},\"mode\":\"markers\",\"x\":[3],\"y\":[9],\"type\":\"scatter\"},{\"marker\":{\"color\":\"green\"},\"mode\":\"markers\",\"x\":[12],\"y\":[13],\"type\":\"scatter\"},{\"marker\":{\"color\":\"blue\"},\"mode\":\"markers\",\"x\":[8],\"y\":[9],\"type\":\"scatter\"},{\"marker\":{\"color\":\"blue\"},\"mode\":\"markers\",\"x\":[9],\"y\":[12],\"type\":\"scatter\"},{\"marker\":{\"color\":\"blue\"},\"mode\":\"markers\",\"x\":[9],\"y\":[12],\"type\":\"scatter\"},{\"marker\":{\"color\":\"blue\"},\"mode\":\"markers\",\"x\":[13],\"y\":[9],\"type\":\"scatter\"},{\"marker\":{\"color\":\"blue\"},\"mode\":\"markers\",\"x\":[12],\"y\":[6],\"type\":\"scatter\"},{\"marker\":{\"color\":\"blue\"},\"mode\":\"markers\",\"x\":[12],\"y\":[6],\"type\":\"scatter\"},{\"marker\":{\"color\":\"blue\"},\"mode\":\"markers\",\"x\":[8],\"y\":[12],\"type\":\"scatter\"},{\"marker\":{\"color\":\"green\"},\"mode\":\"markers\",\"x\":[12],\"y\":[18],\"type\":\"scatter\"},{\"marker\":{\"color\":\"blue\"},\"mode\":\"markers\",\"x\":[13],\"y\":[6],\"type\":\"scatter\"},{\"marker\":{\"color\":\"blue\"},\"mode\":\"markers\",\"x\":[13],\"y\":[6],\"type\":\"scatter\"},{\"marker\":{\"color\":\"blue\"},\"mode\":\"markers\",\"x\":[12],\"y\":[10],\"type\":\"scatter\"},{\"marker\":{\"color\":\"blue\"},\"mode\":\"markers\",\"x\":[12],\"y\":[10],\"type\":\"scatter\"},{\"marker\":{\"color\":\"blue\"},\"mode\":\"markers\",\"x\":[13],\"y\":[9],\"type\":\"scatter\"},{\"marker\":{\"color\":\"orange\"},\"mode\":\"markers\",\"x\":[2],\"y\":[2],\"type\":\"scatter\"},{\"marker\":{\"color\":\"orange\"},\"mode\":\"markers\",\"x\":[18],\"y\":[18],\"type\":\"scatter\"},{\"marker\":{\"color\":\"orange\"},\"mode\":\"markers\",\"x\":[3],\"y\":[15],\"type\":\"scatter\"}],\"layout\":{\"title\":{\"text\":\"Simulation frame 47\"}}},{\"data\":[{\"marker\":{\"color\":\"green\"},\"mode\":\"markers\",\"x\":[-3],\"y\":[-2],\"type\":\"scatter\"},{\"marker\":{\"color\":\"green\"},\"mode\":\"markers\",\"x\":[-4],\"y\":[5],\"type\":\"scatter\"},{\"marker\":{\"color\":\"blue\"},\"mode\":\"markers\",\"x\":[4],\"y\":[12],\"type\":\"scatter\"},{\"marker\":{\"color\":\"green\"},\"mode\":\"markers\",\"x\":[3],\"y\":[2],\"type\":\"scatter\"},{\"marker\":{\"color\":\"blue\"},\"mode\":\"markers\",\"x\":[4],\"y\":[12],\"type\":\"scatter\"},{\"marker\":{\"color\":\"blue\"},\"mode\":\"markers\",\"x\":[7],\"y\":[6],\"type\":\"scatter\"},{\"marker\":{\"color\":\"blue\"},\"mode\":\"markers\",\"x\":[7],\"y\":[6],\"type\":\"scatter\"},{\"marker\":{\"color\":\"blue\"},\"mode\":\"markers\",\"x\":[8],\"y\":[9],\"type\":\"scatter\"},{\"marker\":{\"color\":\"blue\"},\"mode\":\"markers\",\"x\":[8],\"y\":[12],\"type\":\"scatter\"},{\"marker\":{\"color\":\"green\"},\"mode\":\"markers\",\"x\":[10],\"y\":[7],\"type\":\"scatter\"},{\"marker\":{\"color\":\"green\"},\"mode\":\"markers\",\"x\":[3],\"y\":[9],\"type\":\"scatter\"},{\"marker\":{\"color\":\"green\"},\"mode\":\"markers\",\"x\":[12],\"y\":[13],\"type\":\"scatter\"},{\"marker\":{\"color\":\"blue\"},\"mode\":\"markers\",\"x\":[8],\"y\":[9],\"type\":\"scatter\"},{\"marker\":{\"color\":\"blue\"},\"mode\":\"markers\",\"x\":[9],\"y\":[12],\"type\":\"scatter\"},{\"marker\":{\"color\":\"blue\"},\"mode\":\"markers\",\"x\":[9],\"y\":[12],\"type\":\"scatter\"},{\"marker\":{\"color\":\"blue\"},\"mode\":\"markers\",\"x\":[13],\"y\":[9],\"type\":\"scatter\"},{\"marker\":{\"color\":\"blue\"},\"mode\":\"markers\",\"x\":[12],\"y\":[6],\"type\":\"scatter\"},{\"marker\":{\"color\":\"blue\"},\"mode\":\"markers\",\"x\":[12],\"y\":[6],\"type\":\"scatter\"},{\"marker\":{\"color\":\"blue\"},\"mode\":\"markers\",\"x\":[8],\"y\":[12],\"type\":\"scatter\"},{\"marker\":{\"color\":\"green\"},\"mode\":\"markers\",\"x\":[12],\"y\":[18],\"type\":\"scatter\"},{\"marker\":{\"color\":\"blue\"},\"mode\":\"markers\",\"x\":[13],\"y\":[6],\"type\":\"scatter\"},{\"marker\":{\"color\":\"blue\"},\"mode\":\"markers\",\"x\":[13],\"y\":[6],\"type\":\"scatter\"},{\"marker\":{\"color\":\"blue\"},\"mode\":\"markers\",\"x\":[12],\"y\":[10],\"type\":\"scatter\"},{\"marker\":{\"color\":\"blue\"},\"mode\":\"markers\",\"x\":[12],\"y\":[10],\"type\":\"scatter\"},{\"marker\":{\"color\":\"blue\"},\"mode\":\"markers\",\"x\":[13],\"y\":[9],\"type\":\"scatter\"},{\"marker\":{\"color\":\"orange\"},\"mode\":\"markers\",\"x\":[2],\"y\":[2],\"type\":\"scatter\"},{\"marker\":{\"color\":\"orange\"},\"mode\":\"markers\",\"x\":[18],\"y\":[18],\"type\":\"scatter\"},{\"marker\":{\"color\":\"orange\"},\"mode\":\"markers\",\"x\":[3],\"y\":[15],\"type\":\"scatter\"}],\"layout\":{\"title\":{\"text\":\"Simulation frame 48\"}}},{\"data\":[{\"marker\":{\"color\":\"green\"},\"mode\":\"markers\",\"x\":[-2],\"y\":[-2],\"type\":\"scatter\"},{\"marker\":{\"color\":\"green\"},\"mode\":\"markers\",\"x\":[-4],\"y\":[5],\"type\":\"scatter\"},{\"marker\":{\"color\":\"blue\"},\"mode\":\"markers\",\"x\":[4],\"y\":[12],\"type\":\"scatter\"},{\"marker\":{\"color\":\"green\"},\"mode\":\"markers\",\"x\":[3],\"y\":[2],\"type\":\"scatter\"},{\"marker\":{\"color\":\"blue\"},\"mode\":\"markers\",\"x\":[4],\"y\":[12],\"type\":\"scatter\"},{\"marker\":{\"color\":\"blue\"},\"mode\":\"markers\",\"x\":[7],\"y\":[6],\"type\":\"scatter\"},{\"marker\":{\"color\":\"blue\"},\"mode\":\"markers\",\"x\":[7],\"y\":[6],\"type\":\"scatter\"},{\"marker\":{\"color\":\"blue\"},\"mode\":\"markers\",\"x\":[8],\"y\":[9],\"type\":\"scatter\"},{\"marker\":{\"color\":\"blue\"},\"mode\":\"markers\",\"x\":[8],\"y\":[12],\"type\":\"scatter\"},{\"marker\":{\"color\":\"green\"},\"mode\":\"markers\",\"x\":[10],\"y\":[7],\"type\":\"scatter\"},{\"marker\":{\"color\":\"green\"},\"mode\":\"markers\",\"x\":[3],\"y\":[9],\"type\":\"scatter\"},{\"marker\":{\"color\":\"green\"},\"mode\":\"markers\",\"x\":[13],\"y\":[13],\"type\":\"scatter\"},{\"marker\":{\"color\":\"blue\"},\"mode\":\"markers\",\"x\":[8],\"y\":[9],\"type\":\"scatter\"},{\"marker\":{\"color\":\"blue\"},\"mode\":\"markers\",\"x\":[9],\"y\":[12],\"type\":\"scatter\"},{\"marker\":{\"color\":\"blue\"},\"mode\":\"markers\",\"x\":[9],\"y\":[12],\"type\":\"scatter\"},{\"marker\":{\"color\":\"blue\"},\"mode\":\"markers\",\"x\":[13],\"y\":[9],\"type\":\"scatter\"},{\"marker\":{\"color\":\"blue\"},\"mode\":\"markers\",\"x\":[12],\"y\":[6],\"type\":\"scatter\"},{\"marker\":{\"color\":\"blue\"},\"mode\":\"markers\",\"x\":[12],\"y\":[6],\"type\":\"scatter\"},{\"marker\":{\"color\":\"blue\"},\"mode\":\"markers\",\"x\":[8],\"y\":[12],\"type\":\"scatter\"},{\"marker\":{\"color\":\"green\"},\"mode\":\"markers\",\"x\":[13],\"y\":[18],\"type\":\"scatter\"},{\"marker\":{\"color\":\"blue\"},\"mode\":\"markers\",\"x\":[13],\"y\":[6],\"type\":\"scatter\"},{\"marker\":{\"color\":\"blue\"},\"mode\":\"markers\",\"x\":[13],\"y\":[6],\"type\":\"scatter\"},{\"marker\":{\"color\":\"blue\"},\"mode\":\"markers\",\"x\":[12],\"y\":[10],\"type\":\"scatter\"},{\"marker\":{\"color\":\"blue\"},\"mode\":\"markers\",\"x\":[12],\"y\":[10],\"type\":\"scatter\"},{\"marker\":{\"color\":\"blue\"},\"mode\":\"markers\",\"x\":[13],\"y\":[9],\"type\":\"scatter\"},{\"marker\":{\"color\":\"orange\"},\"mode\":\"markers\",\"x\":[2],\"y\":[2],\"type\":\"scatter\"},{\"marker\":{\"color\":\"orange\"},\"mode\":\"markers\",\"x\":[18],\"y\":[18],\"type\":\"scatter\"},{\"marker\":{\"color\":\"orange\"},\"mode\":\"markers\",\"x\":[3],\"y\":[15],\"type\":\"scatter\"}],\"layout\":{\"title\":{\"text\":\"Simulation frame 49\"}}}]);\n                        }).then(function(){\n                            \nvar gd = document.getElementById('d25f662d-f624-4de7-8718-24b6963dfae6');\nvar x = new MutationObserver(function (mutations, observer) {{\n        var display = window.getComputedStyle(gd).display;\n        if (!display || display === 'none') {{\n            console.log([gd, 'removed!']);\n            Plotly.purge(gd);\n            observer.disconnect();\n        }}\n}});\n\n// Listen for the removal of the full notebook cells\nvar notebookContainer = gd.closest('#notebook-container');\nif (notebookContainer) {{\n    x.observe(notebookContainer, {childList: true});\n}}\n\n// Listen for the clearing of the current output cell\nvar outputEl = gd.closest('.output');\nif (outputEl) {{\n    x.observe(outputEl, {childList: true});\n}}\n\n                        })                };                });            </script>        </div>"
     },
     "metadata": {},
     "output_type": "display_data"
    }
   ],
   "source": [
    "\n",
    "if __name__ == \"__main__\":\n",
    "\n",
    "    simulate()\n"
   ],
   "metadata": {
    "collapsed": false,
    "pycharm": {
     "name": "#%%\n"
    }
   }
  },
  {
   "cell_type": "markdown",
   "id": "22ffcd76-0241-4dbb-9ac0-fdbf34632058",
   "metadata": {},
   "source": [
    "# Task: add \"pops\" to the code\n",
    "* When bubbles collide, a \"pop\" should occur - one colour change should indicate the \"pop\" and on the next frame the bubble should be stationary and a different colour.\n",
    "* Rocks should not \"pop\"\n",
    "* The test is to see how you refactor the code to handle a new requirement.\n",
    "* If there's anything you don't like about the current code - feel free to make any improvements you see fit!"
   ]
  },
  {
   "cell_type": "code",
   "execution_count": 12,
   "id": "a2760beb-b0f9-4981-ba3b-2f9402e20ca2",
   "metadata": {},
   "outputs": [],
   "source": []
  }
 ],
 "metadata": {
  "interpreter": {
   "hash": "aee8b7b246df8f9039afb4144a1f6fd8d2ca17a180786b69acc140d282b71a49"
  },
  "kernelspec": {
   "display_name": "Python 3.10.0 64-bit",
   "language": "python",
   "name": "python3"
  },
  "language_info": {
   "codemirror_mode": {
    "name": "ipython",
    "version": 3
   },
   "file_extension": ".py",
   "mimetype": "text/x-python",
   "name": "python",
   "nbconvert_exporter": "python",
   "pygments_lexer": "ipython3",
   "version": "3.10.0"
  }
 },
 "nbformat": 4,
 "nbformat_minor": 5
}